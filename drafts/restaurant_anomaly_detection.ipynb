{
 "cells": [
  {
   "cell_type": "code",
   "execution_count": 1,
   "id": "ba3e7270",
   "metadata": {},
   "outputs": [],
   "source": [
    "# import opendatasets as od\n",
    "# import os\n",
    "import pandas as pd\n",
    "import numpy as np\n",
    "import copy\n",
    "import itertools\n"
   ]
  },
  {
   "cell_type": "code",
   "execution_count": null,
   "id": "ba70362b",
   "metadata": {},
   "outputs": [],
   "source": []
  },
  {
   "cell_type": "code",
   "execution_count": null,
   "id": "a2f82382",
   "metadata": {},
   "outputs": [],
   "source": []
  },
  {
   "cell_type": "code",
   "execution_count": null,
   "id": "6e0c8b97",
   "metadata": {},
   "outputs": [],
   "source": []
  },
  {
   "cell_type": "code",
   "execution_count": 10,
   "id": "a0bc4ff2",
   "metadata": {},
   "outputs": [
    {
     "data": {
      "text/html": [
       "<div>\n",
       "<style scoped>\n",
       "    .dataframe tbody tr th:only-of-type {\n",
       "        vertical-align: middle;\n",
       "    }\n",
       "\n",
       "    .dataframe tbody tr th {\n",
       "        vertical-align: top;\n",
       "    }\n",
       "\n",
       "    .dataframe thead th {\n",
       "        text-align: right;\n",
       "    }\n",
       "</style>\n",
       "<table border=\"1\" class=\"dataframe\">\n",
       "  <thead>\n",
       "    <tr style=\"text-align: right;\">\n",
       "      <th></th>\n",
       "      <th>restaurant_link</th>\n",
       "      <th>country</th>\n",
       "      <th>region</th>\n",
       "      <th>province</th>\n",
       "      <th>city</th>\n",
       "      <th>avg_rating</th>\n",
       "      <th>total_reviews_count</th>\n",
       "      <th>price_level</th>\n",
       "      <th>price_min</th>\n",
       "      <th>price_max</th>\n",
       "    </tr>\n",
       "  </thead>\n",
       "  <tbody>\n",
       "    <tr>\n",
       "      <th>0</th>\n",
       "      <td>g10001637-d10002227</td>\n",
       "      <td>France</td>\n",
       "      <td>Nouvelle-Aquitaine</td>\n",
       "      <td>Haute-Vienne</td>\n",
       "      <td>Saint-Jouvent</td>\n",
       "      <td>4.0</td>\n",
       "      <td>36.0</td>\n",
       "      <td>€</td>\n",
       "      <td>14.0</td>\n",
       "      <td>29.0</td>\n",
       "    </tr>\n",
       "    <tr>\n",
       "      <th>1</th>\n",
       "      <td>g10001637-d14975787</td>\n",
       "      <td>France</td>\n",
       "      <td>Nouvelle-Aquitaine</td>\n",
       "      <td>Haute-Vienne</td>\n",
       "      <td>Saint-Jouvent</td>\n",
       "      <td>4.0</td>\n",
       "      <td>5.0</td>\n",
       "      <td>€</td>\n",
       "      <td>8.0</td>\n",
       "      <td>17.0</td>\n",
       "    </tr>\n",
       "    <tr>\n",
       "      <th>2</th>\n",
       "      <td>g10002858-d4586832</td>\n",
       "      <td>France</td>\n",
       "      <td>Centre-Val de Loire</td>\n",
       "      <td>Berry</td>\n",
       "      <td>Rivarennes</td>\n",
       "      <td>5.0</td>\n",
       "      <td>13.0</td>\n",
       "      <td>€</td>\n",
       "      <td>10.0</td>\n",
       "      <td>35.0</td>\n",
       "    </tr>\n",
       "    <tr>\n",
       "      <th>3</th>\n",
       "      <td>g10002986-d3510044</td>\n",
       "      <td>France</td>\n",
       "      <td>Nouvelle-Aquitaine</td>\n",
       "      <td>Correze</td>\n",
       "      <td>Lacelle</td>\n",
       "      <td>4.0</td>\n",
       "      <td>34.0</td>\n",
       "      <td>€</td>\n",
       "      <td>12.0</td>\n",
       "      <td>26.0</td>\n",
       "    </tr>\n",
       "    <tr>\n",
       "      <th>4</th>\n",
       "      <td>g10022428-d9767191</td>\n",
       "      <td>France</td>\n",
       "      <td>Occitanie</td>\n",
       "      <td>Aveyron</td>\n",
       "      <td>Saint-Laurent-de-Levezou</td>\n",
       "      <td>4.5</td>\n",
       "      <td>11.0</td>\n",
       "      <td>€€-€€€</td>\n",
       "      <td>12.0</td>\n",
       "      <td>30.0</td>\n",
       "    </tr>\n",
       "  </tbody>\n",
       "</table>\n",
       "</div>"
      ],
      "text/plain": [
       "       restaurant_link country               region      province  \\\n",
       "0  g10001637-d10002227  France   Nouvelle-Aquitaine  Haute-Vienne   \n",
       "1  g10001637-d14975787  France   Nouvelle-Aquitaine  Haute-Vienne   \n",
       "2   g10002858-d4586832  France  Centre-Val de Loire         Berry   \n",
       "3   g10002986-d3510044  France   Nouvelle-Aquitaine       Correze   \n",
       "4   g10022428-d9767191  France            Occitanie       Aveyron   \n",
       "\n",
       "                       city  avg_rating  total_reviews_count price_level  \\\n",
       "0             Saint-Jouvent         4.0                 36.0           €   \n",
       "1             Saint-Jouvent         4.0                  5.0           €   \n",
       "2                Rivarennes         5.0                 13.0           €   \n",
       "3                   Lacelle         4.0                 34.0           €   \n",
       "4  Saint-Laurent-de-Levezou         4.5                 11.0      €€-€€€   \n",
       "\n",
       "   price_min  price_max  \n",
       "0       14.0       29.0  \n",
       "1        8.0       17.0  \n",
       "2       10.0       35.0  \n",
       "3       12.0       26.0  \n",
       "4       12.0       30.0  "
      ]
     },
     "execution_count": 10,
     "metadata": {},
     "output_type": "execute_result"
    }
   ],
   "source": [
    "base_rest_df = pd.read_csv('../restaurant_price_base.csv', sep=';')\n",
    "base_rest_df.head()"
   ]
  },
  {
   "cell_type": "code",
   "execution_count": 11,
   "id": "db082074",
   "metadata": {},
   "outputs": [
    {
     "data": {
      "text/plain": [
       "(304327, 10)"
      ]
     },
     "execution_count": 11,
     "metadata": {},
     "output_type": "execute_result"
    }
   ],
   "source": [
    "base_rest_df.shape"
   ]
  },
  {
   "cell_type": "code",
   "execution_count": 12,
   "id": "8936a734",
   "metadata": {},
   "outputs": [
    {
     "data": {
      "text/plain": [
       "Index(['restaurant_link', 'country', 'region', 'province', 'city',\n",
       "       'avg_rating', 'total_reviews_count', 'price_level', 'price_min',\n",
       "       'price_max'],\n",
       "      dtype='object')"
      ]
     },
     "execution_count": 12,
     "metadata": {},
     "output_type": "execute_result"
    }
   ],
   "source": [
    "base_rest_df.columns"
   ]
  },
  {
   "cell_type": "code",
   "execution_count": null,
   "id": "9a604ef7",
   "metadata": {},
   "outputs": [],
   "source": []
  },
  {
   "cell_type": "code",
   "execution_count": 14,
   "id": "a4533638",
   "metadata": {},
   "outputs": [
    {
     "data": {
      "text/html": [
       "<div>\n",
       "<style scoped>\n",
       "    .dataframe tbody tr th:only-of-type {\n",
       "        vertical-align: middle;\n",
       "    }\n",
       "\n",
       "    .dataframe tbody tr th {\n",
       "        vertical-align: top;\n",
       "    }\n",
       "\n",
       "    .dataframe thead th {\n",
       "        text-align: right;\n",
       "    }\n",
       "</style>\n",
       "<table border=\"1\" class=\"dataframe\">\n",
       "  <thead>\n",
       "    <tr style=\"text-align: right;\">\n",
       "      <th></th>\n",
       "      <th>restaurant_link</th>\n",
       "      <th>country</th>\n",
       "      <th>region</th>\n",
       "      <th>province</th>\n",
       "      <th>city</th>\n",
       "      <th>price_level</th>\n",
       "      <th>avg_rating</th>\n",
       "      <th>total_reviews_count</th>\n",
       "      <th>price_min</th>\n",
       "      <th>price_max</th>\n",
       "    </tr>\n",
       "  </thead>\n",
       "  <tbody>\n",
       "    <tr>\n",
       "      <th>0</th>\n",
       "      <td>g10001637-d10002227</td>\n",
       "      <td>France</td>\n",
       "      <td>Nouvelle-Aquitaine</td>\n",
       "      <td>Haute-Vienne</td>\n",
       "      <td>Saint-Jouvent</td>\n",
       "      <td>€</td>\n",
       "      <td>4.0</td>\n",
       "      <td>36.0</td>\n",
       "      <td>14.0</td>\n",
       "      <td>29.0</td>\n",
       "    </tr>\n",
       "    <tr>\n",
       "      <th>1</th>\n",
       "      <td>g10001637-d14975787</td>\n",
       "      <td>France</td>\n",
       "      <td>Nouvelle-Aquitaine</td>\n",
       "      <td>Haute-Vienne</td>\n",
       "      <td>Saint-Jouvent</td>\n",
       "      <td>€</td>\n",
       "      <td>4.0</td>\n",
       "      <td>5.0</td>\n",
       "      <td>8.0</td>\n",
       "      <td>17.0</td>\n",
       "    </tr>\n",
       "    <tr>\n",
       "      <th>2</th>\n",
       "      <td>g10002858-d4586832</td>\n",
       "      <td>France</td>\n",
       "      <td>Centre-Val de Loire</td>\n",
       "      <td>Berry</td>\n",
       "      <td>Rivarennes</td>\n",
       "      <td>€</td>\n",
       "      <td>5.0</td>\n",
       "      <td>13.0</td>\n",
       "      <td>10.0</td>\n",
       "      <td>35.0</td>\n",
       "    </tr>\n",
       "    <tr>\n",
       "      <th>3</th>\n",
       "      <td>g10002986-d3510044</td>\n",
       "      <td>France</td>\n",
       "      <td>Nouvelle-Aquitaine</td>\n",
       "      <td>Correze</td>\n",
       "      <td>Lacelle</td>\n",
       "      <td>€</td>\n",
       "      <td>4.0</td>\n",
       "      <td>34.0</td>\n",
       "      <td>12.0</td>\n",
       "      <td>26.0</td>\n",
       "    </tr>\n",
       "    <tr>\n",
       "      <th>4</th>\n",
       "      <td>g10022428-d9767191</td>\n",
       "      <td>France</td>\n",
       "      <td>Occitanie</td>\n",
       "      <td>Aveyron</td>\n",
       "      <td>Saint-Laurent-de-Levezou</td>\n",
       "      <td>€€-€€€</td>\n",
       "      <td>4.5</td>\n",
       "      <td>11.0</td>\n",
       "      <td>12.0</td>\n",
       "      <td>30.0</td>\n",
       "    </tr>\n",
       "  </tbody>\n",
       "</table>\n",
       "</div>"
      ],
      "text/plain": [
       "       restaurant_link country               region      province  \\\n",
       "0  g10001637-d10002227  France   Nouvelle-Aquitaine  Haute-Vienne   \n",
       "1  g10001637-d14975787  France   Nouvelle-Aquitaine  Haute-Vienne   \n",
       "2   g10002858-d4586832  France  Centre-Val de Loire         Berry   \n",
       "3   g10002986-d3510044  France   Nouvelle-Aquitaine       Correze   \n",
       "4   g10022428-d9767191  France            Occitanie       Aveyron   \n",
       "\n",
       "                       city price_level  avg_rating  total_reviews_count  \\\n",
       "0             Saint-Jouvent           €         4.0                 36.0   \n",
       "1             Saint-Jouvent           €         4.0                  5.0   \n",
       "2                Rivarennes           €         5.0                 13.0   \n",
       "3                   Lacelle           €         4.0                 34.0   \n",
       "4  Saint-Laurent-de-Levezou      €€-€€€         4.5                 11.0   \n",
       "\n",
       "   price_min  price_max  \n",
       "0       14.0       29.0  \n",
       "1        8.0       17.0  \n",
       "2       10.0       35.0  \n",
       "3       12.0       26.0  \n",
       "4       12.0       30.0  "
      ]
     },
     "execution_count": 14,
     "metadata": {},
     "output_type": "execute_result"
    }
   ],
   "source": [
    "price_df = base_rest_df[['restaurant_link', 'country', 'region', 'province', 'city', \n",
    "                         'price_level', \n",
    "                         'avg_rating', 'total_reviews_count', \n",
    "                         'price_min', 'price_max']] #[base_rest_df['price_min'].notna()]\n",
    "\n",
    "price_df.head()"
   ]
  },
  {
   "cell_type": "code",
   "execution_count": 15,
   "id": "c7d56e72",
   "metadata": {},
   "outputs": [
    {
     "data": {
      "text/plain": [
       "(304327, 10)"
      ]
     },
     "execution_count": 15,
     "metadata": {},
     "output_type": "execute_result"
    }
   ],
   "source": [
    "price_df.shape"
   ]
  },
  {
   "cell_type": "code",
   "execution_count": 20,
   "id": "30302521",
   "metadata": {},
   "outputs": [],
   "source": [
    "price_df_short = price_df[['price_min', 'price_max']]"
   ]
  },
  {
   "cell_type": "code",
   "execution_count": null,
   "id": "fcbeb8f9",
   "metadata": {},
   "outputs": [],
   "source": []
  },
  {
   "cell_type": "code",
   "execution_count": 17,
   "id": "99463c54",
   "metadata": {},
   "outputs": [],
   "source": [
    "from pyod.models.iforest import IForest"
   ]
  },
  {
   "cell_type": "code",
   "execution_count": 21,
   "id": "5b0ec740",
   "metadata": {},
   "outputs": [
    {
     "name": "stderr",
     "output_type": "stream",
     "text": [
      "/opt/homebrew/lib/python3.11/site-packages/sklearn/utils/deprecation.py:86: FutureWarning: Function fit_predict is deprecated\n",
      "  warnings.warn(msg, category=FutureWarning)\n"
     ]
    },
    {
     "name": "stdout",
     "output_type": "stream",
     "text": [
      "[0 0 0 ... 0 0 0]\n"
     ]
    }
   ],
   "source": [
    "iforest = IForest()\n",
    "\n",
    "labels = iforest.fit_predict(price_df_short)\n",
    "print(labels)"
   ]
  },
  {
   "cell_type": "code",
   "execution_count": 23,
   "id": "e21f0358",
   "metadata": {},
   "outputs": [
    {
     "name": "stdout",
     "output_type": "stream",
     "text": [
      "(30429, 2)\n"
     ]
    }
   ],
   "source": [
    "outliers = price_df_short[labels == 1]\n",
    "print(outliers.shape)"
   ]
  },
  {
   "cell_type": "code",
   "execution_count": null,
   "id": "45101150",
   "metadata": {},
   "outputs": [],
   "source": []
  },
  {
   "cell_type": "code",
   "execution_count": null,
   "id": "97ff79cf",
   "metadata": {},
   "outputs": [],
   "source": []
  },
  {
   "cell_type": "code",
   "execution_count": null,
   "id": "bcaf852a",
   "metadata": {},
   "outputs": [],
   "source": []
  },
  {
   "cell_type": "markdown",
   "id": "8e8750e2",
   "metadata": {},
   "source": [
    "## Hyperparameter tuning"
   ]
  },
  {
   "cell_type": "code",
   "execution_count": 28,
   "id": "3dca9dd9",
   "metadata": {},
   "outputs": [],
   "source": [
    "from itertools import product\n",
    "\n",
    "from sklearn.linear_model import LinearRegression\n",
    "from sklearn.model_selection import train_test_split\n",
    "from sklearn.metrics import mean_squared_error"
   ]
  },
  {
   "cell_type": "code",
   "execution_count": 27,
   "id": "4f1286a9",
   "metadata": {},
   "outputs": [],
   "source": [
    "def evaluate_outlier_classifier(model, data):\n",
    "    # Get labels\n",
    "    labels = model.fit_predict(data)\n",
    "    # Return inliers\n",
    "    return data[labels == 0]\n",
    "\n",
    "def evaluate_regressor(inliers):\n",
    "    X = inliers.drop(\"sales\", axis=1)\n",
    "    y = inliers[['sales']]\n",
    "    X_train, X_test, y_train, y_test = train_test_split(X, y, random_state=10)\n",
    "    lr = LinearRegression()\n",
    "    lr.fit(X_train, y_train)\n",
    "    preds = lr.predict(X_test)\n",
    "    rmse = mean_squared_error(y_test, preds, squared=False)\n",
    "    return round(rmse, 3)"
   ]
  },
  {
   "cell_type": "code",
   "execution_count": 25,
   "id": "90257998",
   "metadata": {},
   "outputs": [],
   "source": [
    "contaminations = [0.05, 0.1, 0.2, 0.3]\n",
    "estimators = [100, 200, 300]\n",
    "max_samples = [0.6, 0.8, 1]\n",
    "max_features = [1]\n",
    "\n",
    "scores = dict()"
   ]
  },
  {
   "cell_type": "code",
   "execution_count": 26,
   "id": "dc3b9f2a",
   "metadata": {},
   "outputs": [
    {
     "ename": "NameError",
     "evalue": "name 'evaluate_outlier_classifier' is not defined",
     "output_type": "error",
     "traceback": [
      "\u001b[0;31m---------------------------------------------------------------------------\u001b[0m",
      "\u001b[0;31mNameError\u001b[0m                                 Traceback (most recent call last)",
      "Cell \u001b[0;32mIn[26], line 5\u001b[0m\n\u001b[1;32m      3\u001b[0m iforest \u001b[38;5;241m=\u001b[39m IForest(contamination\u001b[38;5;241m=\u001b[39mc, n_estimators\u001b[38;5;241m=\u001b[39me, max_samples\u001b[38;5;241m=\u001b[39ms, max_features\u001b[38;5;241m=\u001b[39mf)\n\u001b[1;32m      4\u001b[0m \u001b[38;5;66;03m# Get the inliers with the current IForest\u001b[39;00m\n\u001b[0;32m----> 5\u001b[0m inliers \u001b[38;5;241m=\u001b[39m \u001b[43mevaluate_outlier_classifier\u001b[49m(iforest, price_df_short)\n\u001b[1;32m      6\u001b[0m \u001b[38;5;66;03m# Calculate and store RMSE into scores\u001b[39;00m\n\u001b[1;32m      7\u001b[0m scores[(c, e, s, f)] \u001b[38;5;241m=\u001b[39m evaluate_regressor(inliers)\n",
      "\u001b[0;31mNameError\u001b[0m: name 'evaluate_outlier_classifier' is not defined"
     ]
    }
   ],
   "source": [
    "for c, e, s, f in product(contaminations, estimators, max_samples, max_features):\n",
    "    # Instantiate an IForest\n",
    "    iforest = IForest(contamination=c, n_estimators=e, max_samples=s, max_features=f)\n",
    "    # Get the inliers with the current IForest\n",
    "    inliers = evaluate_outlier_classifier(iforest, price_df_short)\n",
    "    # Calculate and store RMSE into scores\n",
    "    scores[(c, e, s, f)] = evaluate_regressor(inliers)"
   ]
  },
  {
   "cell_type": "code",
   "execution_count": null,
   "id": "b6a02931",
   "metadata": {},
   "outputs": [],
   "source": [
    " # Faster compuation with n_jobs=-1\n",
    "iforest = IForest(n_estimators=1000, n_jobs=-1)\n",
    "iforest.fit(big_mart)"
   ]
  },
  {
   "cell_type": "code",
   "execution_count": null,
   "id": "ba93911c",
   "metadata": {},
   "outputs": [],
   "source": []
  },
  {
   "cell_type": "code",
   "execution_count": null,
   "id": "507afd50",
   "metadata": {},
   "outputs": [],
   "source": [
    "iforest = IForest(contamination=0.05)"
   ]
  },
  {
   "cell_type": "code",
   "execution_count": null,
   "id": "97289c1a",
   "metadata": {},
   "outputs": [],
   "source": [
    "iforest = IForest(n_estimators=1000)\n",
    "iforest.fit(airbnb_df)"
   ]
  },
  {
   "cell_type": "code",
   "execution_count": null,
   "id": "6c7bd65d",
   "metadata": {},
   "outputs": [],
   "source": [
    "iforest = IForest(n_estimators=200, max_samples=0.6, max_features=0.9)\n",
    "iforest.fit(airbnb_df)"
   ]
  },
  {
   "cell_type": "code",
   "execution_count": null,
   "id": "18210fad",
   "metadata": {},
   "outputs": [],
   "source": [
    "iforest = IForest(contamination=0.05, max_features=0.5, random_state=1)\n",
    "iforest = iforest.fit(airbnb_df)\n",
    "labels = iforest.labels_\n",
    "print(labels)"
   ]
  },
  {
   "cell_type": "code",
   "execution_count": null,
   "id": "cf0112de",
   "metadata": {},
   "outputs": [],
   "source": []
  },
  {
   "cell_type": "code",
   "execution_count": null,
   "id": "4e9f5146",
   "metadata": {},
   "outputs": [],
   "source": []
  }
 ],
 "metadata": {
  "kernelspec": {
   "display_name": "Python 3 (ipykernel)",
   "language": "python",
   "name": "python3"
  },
  "language_info": {
   "codemirror_mode": {
    "name": "ipython",
    "version": 3
   },
   "file_extension": ".py",
   "mimetype": "text/x-python",
   "name": "python",
   "nbconvert_exporter": "python",
   "pygments_lexer": "ipython3",
   "version": "3.11.1"
  }
 },
 "nbformat": 4,
 "nbformat_minor": 5
}
