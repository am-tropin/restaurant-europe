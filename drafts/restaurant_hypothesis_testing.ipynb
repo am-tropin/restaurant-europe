{
 "cells": [
  {
   "cell_type": "code",
   "execution_count": 3,
   "id": "49d145ab",
   "metadata": {},
   "outputs": [],
   "source": []
  },
  {
   "cell_type": "markdown",
   "id": "15ed9468",
   "metadata": {},
   "source": [
    "## Table of Contents\n",
    "\n",
    "* [1. Exploratory Data Analysis](#eda)\n",
    "    * [1.1. Opening the base dataset](#base)\n",
    "    * [1.2. Data Evaluation](#evaluation)\n",
    "        * [1.2.1. Selecting the country: Italy](#country)\n",
    "\n",
    "* [2. Hypothesis Testing](#hypothesis)\n",
    "\n"
   ]
  },
  {
   "cell_type": "markdown",
   "id": "135e64fd",
   "metadata": {},
   "source": [
    "<a id=\"eda\"></a>\n",
    "\n",
    "# 1. EDA"
   ]
  },
  {
   "cell_type": "code",
   "execution_count": 70,
   "id": "86fa27b9",
   "metadata": {},
   "outputs": [],
   "source": [
    "# import opendatasets as od\n",
    "# import os\n",
    "import pandas as pd\n",
    "import numpy as np\n",
    "import copy\n",
    "import itertools\n"
   ]
  },
  {
   "cell_type": "markdown",
   "id": "599ff92a",
   "metadata": {},
   "source": [
    "<a id=\"base\"></a>\n",
    "\n",
    "## 1.1. Opening the base dataset"
   ]
  },
  {
   "cell_type": "code",
   "execution_count": 18,
   "id": "5bf08d4d",
   "metadata": {},
   "outputs": [
    {
     "name": "stderr",
     "output_type": "stream",
     "text": [
      "/var/folders/zh/mnvg84rj3_7413ycjzpn5y8r0000gp/T/ipykernel_75787/699545002.py:1: DtypeWarning: Columns (14,16,18,19,20,21,22,23,24,25,26,27,28) have mixed types. Specify dtype option on import or set low_memory=False.\n",
      "  base_rest_df = pd.read_csv('../restaurant_base.csv', sep=';')\n"
     ]
    }
   ],
   "source": [
    "base_rest_df = pd.read_csv('../restaurant_base.csv', sep=';')\n"
   ]
  },
  {
   "cell_type": "code",
   "execution_count": 19,
   "id": "977115b8",
   "metadata": {},
   "outputs": [
    {
     "data": {
      "text/plain": [
       "(198446, 40)"
      ]
     },
     "execution_count": 19,
     "metadata": {},
     "output_type": "execute_result"
    }
   ],
   "source": [
    "base_rest_df.shape"
   ]
  },
  {
   "cell_type": "code",
   "execution_count": 20,
   "id": "5f2f2c33",
   "metadata": {},
   "outputs": [
    {
     "data": {
      "text/html": [
       "<div>\n",
       "<style scoped>\n",
       "    .dataframe tbody tr th:only-of-type {\n",
       "        vertical-align: middle;\n",
       "    }\n",
       "\n",
       "    .dataframe tbody tr th {\n",
       "        vertical-align: top;\n",
       "    }\n",
       "\n",
       "    .dataframe thead th {\n",
       "        text-align: right;\n",
       "    }\n",
       "</style>\n",
       "<table border=\"1\" class=\"dataframe\">\n",
       "  <thead>\n",
       "    <tr style=\"text-align: right;\">\n",
       "      <th></th>\n",
       "      <th>restaurant_link</th>\n",
       "      <th>country</th>\n",
       "      <th>region</th>\n",
       "      <th>province</th>\n",
       "      <th>city</th>\n",
       "      <th>latitude</th>\n",
       "      <th>longitude</th>\n",
       "      <th>price_level</th>\n",
       "      <th>cuisines</th>\n",
       "      <th>features</th>\n",
       "      <th>...</th>\n",
       "      <th>meals_Lunch</th>\n",
       "      <th>meals_Breakfast</th>\n",
       "      <th>meals_Drinks</th>\n",
       "      <th>meals_Brunch</th>\n",
       "      <th>meals_After-hours</th>\n",
       "      <th>special_diets_Vegetarian Friendly</th>\n",
       "      <th>special_diets_Gluten Free Options</th>\n",
       "      <th>special_diets_Vegan Options</th>\n",
       "      <th>special_diets_Halal</th>\n",
       "      <th>special_diets_Kosher</th>\n",
       "    </tr>\n",
       "  </thead>\n",
       "  <tbody>\n",
       "    <tr>\n",
       "      <th>0</th>\n",
       "      <td>g10001637-d10002227</td>\n",
       "      <td>France</td>\n",
       "      <td>Nouvelle-Aquitaine</td>\n",
       "      <td>Haute-Vienne</td>\n",
       "      <td>Saint-Jouvent</td>\n",
       "      <td>45.961674</td>\n",
       "      <td>1.169131</td>\n",
       "      <td>€</td>\n",
       "      <td>French</td>\n",
       "      <td>Reservations, Seating, Wheelchair Accessible, ...</td>\n",
       "      <td>...</td>\n",
       "      <td>1</td>\n",
       "      <td>0</td>\n",
       "      <td>0</td>\n",
       "      <td>0</td>\n",
       "      <td>0</td>\n",
       "      <td>0</td>\n",
       "      <td>0</td>\n",
       "      <td>0</td>\n",
       "      <td>0</td>\n",
       "      <td>0</td>\n",
       "    </tr>\n",
       "    <tr>\n",
       "      <th>1</th>\n",
       "      <td>g10002858-d4586832</td>\n",
       "      <td>France</td>\n",
       "      <td>Centre-Val de Loire</td>\n",
       "      <td>Berry</td>\n",
       "      <td>Rivarennes</td>\n",
       "      <td>46.635895</td>\n",
       "      <td>1.386133</td>\n",
       "      <td>€</td>\n",
       "      <td>French, European</td>\n",
       "      <td>Reservations, Seating, Table Service, Wheelcha...</td>\n",
       "      <td>...</td>\n",
       "      <td>1</td>\n",
       "      <td>0</td>\n",
       "      <td>1</td>\n",
       "      <td>0</td>\n",
       "      <td>0</td>\n",
       "      <td>0</td>\n",
       "      <td>0</td>\n",
       "      <td>0</td>\n",
       "      <td>0</td>\n",
       "      <td>0</td>\n",
       "    </tr>\n",
       "    <tr>\n",
       "      <th>2</th>\n",
       "      <td>g10002986-d3510044</td>\n",
       "      <td>France</td>\n",
       "      <td>Nouvelle-Aquitaine</td>\n",
       "      <td>Correze</td>\n",
       "      <td>Lacelle</td>\n",
       "      <td>45.642610</td>\n",
       "      <td>1.824460</td>\n",
       "      <td>€</td>\n",
       "      <td>French</td>\n",
       "      <td>Reservations, Seating, Serves Alcohol, Table S...</td>\n",
       "      <td>...</td>\n",
       "      <td>1</td>\n",
       "      <td>0</td>\n",
       "      <td>0</td>\n",
       "      <td>0</td>\n",
       "      <td>0</td>\n",
       "      <td>0</td>\n",
       "      <td>0</td>\n",
       "      <td>0</td>\n",
       "      <td>0</td>\n",
       "      <td>0</td>\n",
       "    </tr>\n",
       "    <tr>\n",
       "      <th>3</th>\n",
       "      <td>g10022428-d9767191</td>\n",
       "      <td>France</td>\n",
       "      <td>Occitanie</td>\n",
       "      <td>Aveyron</td>\n",
       "      <td>Saint-Laurent-de-Levezou</td>\n",
       "      <td>44.208860</td>\n",
       "      <td>2.960470</td>\n",
       "      <td>€€-€€€</td>\n",
       "      <td>French</td>\n",
       "      <td>Reservations, Seating, Wheelchair Accessible, ...</td>\n",
       "      <td>...</td>\n",
       "      <td>1</td>\n",
       "      <td>0</td>\n",
       "      <td>0</td>\n",
       "      <td>0</td>\n",
       "      <td>0</td>\n",
       "      <td>0</td>\n",
       "      <td>0</td>\n",
       "      <td>0</td>\n",
       "      <td>0</td>\n",
       "      <td>0</td>\n",
       "    </tr>\n",
       "    <tr>\n",
       "      <th>4</th>\n",
       "      <td>g10055971-d10040330</td>\n",
       "      <td>France</td>\n",
       "      <td>Auvergne-Rhone-Alpes</td>\n",
       "      <td>Ain</td>\n",
       "      <td>Journans</td>\n",
       "      <td>46.144340</td>\n",
       "      <td>5.331200</td>\n",
       "      <td>€€-€€€</td>\n",
       "      <td>French</td>\n",
       "      <td>Reservations, Seating, Table Service, Serves A...</td>\n",
       "      <td>...</td>\n",
       "      <td>1</td>\n",
       "      <td>0</td>\n",
       "      <td>0</td>\n",
       "      <td>0</td>\n",
       "      <td>0</td>\n",
       "      <td>0</td>\n",
       "      <td>0</td>\n",
       "      <td>0</td>\n",
       "      <td>0</td>\n",
       "      <td>0</td>\n",
       "    </tr>\n",
       "  </tbody>\n",
       "</table>\n",
       "<p>5 rows × 40 columns</p>\n",
       "</div>"
      ],
      "text/plain": [
       "       restaurant_link country                region      province  \\\n",
       "0  g10001637-d10002227  France    Nouvelle-Aquitaine  Haute-Vienne   \n",
       "1   g10002858-d4586832  France   Centre-Val de Loire         Berry   \n",
       "2   g10002986-d3510044  France    Nouvelle-Aquitaine       Correze   \n",
       "3   g10022428-d9767191  France             Occitanie       Aveyron   \n",
       "4  g10055971-d10040330  France  Auvergne-Rhone-Alpes           Ain   \n",
       "\n",
       "                       city   latitude  longitude price_level  \\\n",
       "0             Saint-Jouvent  45.961674   1.169131           €   \n",
       "1                Rivarennes  46.635895   1.386133           €   \n",
       "2                   Lacelle  45.642610   1.824460           €   \n",
       "3  Saint-Laurent-de-Levezou  44.208860   2.960470      €€-€€€   \n",
       "4                  Journans  46.144340   5.331200      €€-€€€   \n",
       "\n",
       "           cuisines                                           features  ...  \\\n",
       "0            French  Reservations, Seating, Wheelchair Accessible, ...  ...   \n",
       "1  French, European  Reservations, Seating, Table Service, Wheelcha...  ...   \n",
       "2            French  Reservations, Seating, Serves Alcohol, Table S...  ...   \n",
       "3            French  Reservations, Seating, Wheelchair Accessible, ...  ...   \n",
       "4            French  Reservations, Seating, Table Service, Serves A...  ...   \n",
       "\n",
       "   meals_Lunch  meals_Breakfast  meals_Drinks  meals_Brunch meals_After-hours  \\\n",
       "0            1                0             0             0                 0   \n",
       "1            1                0             1             0                 0   \n",
       "2            1                0             0             0                 0   \n",
       "3            1                0             0             0                 0   \n",
       "4            1                0             0             0                 0   \n",
       "\n",
       "   special_diets_Vegetarian Friendly special_diets_Gluten Free Options  \\\n",
       "0                                  0                                 0   \n",
       "1                                  0                                 0   \n",
       "2                                  0                                 0   \n",
       "3                                  0                                 0   \n",
       "4                                  0                                 0   \n",
       "\n",
       "   special_diets_Vegan Options special_diets_Halal special_diets_Kosher  \n",
       "0                            0                   0                    0  \n",
       "1                            0                   0                    0  \n",
       "2                            0                   0                    0  \n",
       "3                            0                   0                    0  \n",
       "4                            0                   0                    0  \n",
       "\n",
       "[5 rows x 40 columns]"
      ]
     },
     "execution_count": 20,
     "metadata": {},
     "output_type": "execute_result"
    }
   ],
   "source": [
    "base_rest_df.head()"
   ]
  },
  {
   "cell_type": "code",
   "execution_count": 21,
   "id": "031bb192",
   "metadata": {},
   "outputs": [
    {
     "data": {
      "text/plain": [
       "Index(['restaurant_link', 'country', 'region', 'province', 'city', 'latitude',\n",
       "       'longitude', 'price_level', 'cuisines', 'features', 'avg_rating',\n",
       "       'total_reviews_count', 'price_min', 'price_max', 'min_open_dttm',\n",
       "       'min_open_sec', 'max_close_dttm', 'max_close_sec', 'break_flg',\n",
       "       'max_break_hours', 'max_no_weekend_hours', 'max_weekend_hours',\n",
       "       'open_mon_hours', 'open_tue_hours', 'open_wed_hours', 'open_thu_hours',\n",
       "       'open_fri_hours', 'open_sat_hours', 'open_sun_hours', 'meals_Dinner',\n",
       "       'meals_Lunch', 'meals_Breakfast', 'meals_Drinks', 'meals_Brunch',\n",
       "       'meals_After-hours', 'special_diets_Vegetarian Friendly',\n",
       "       'special_diets_Gluten Free Options', 'special_diets_Vegan Options',\n",
       "       'special_diets_Halal', 'special_diets_Kosher'],\n",
       "      dtype='object')"
      ]
     },
     "execution_count": 21,
     "metadata": {},
     "output_type": "execute_result"
    }
   ],
   "source": [
    "base_rest_df.columns"
   ]
  },
  {
   "cell_type": "markdown",
   "id": "c2bc14bf",
   "metadata": {},
   "source": [
    "<a id=\"evaluation\"></a>\n",
    "\n",
    "## 1.2. Data Evaluation"
   ]
  },
  {
   "cell_type": "code",
   "execution_count": 29,
   "id": "6791330a",
   "metadata": {},
   "outputs": [],
   "source": [
    "drop_columns = [\n",
    "#     'restaurant_link', \n",
    "#     'country', \n",
    "    'region', 'province', 'city', \n",
    "    'latitude', 'longitude', \n",
    "    \n",
    "#     'price_level', 'cuisines', 'features', \n",
    "#     'avg_rating', 'total_reviews_count', \n",
    "    'price_min', 'price_max', \n",
    "    \n",
    "    'min_open_dttm',\n",
    "       'min_open_sec', 'max_close_dttm', 'max_close_sec', 'break_flg',\n",
    "       'max_break_hours', 'max_no_weekend_hours', 'max_weekend_hours',\n",
    "       'open_mon_hours', 'open_tue_hours', 'open_wed_hours', 'open_thu_hours',\n",
    "       'open_fri_hours', 'open_sat_hours', 'open_sun_hours', \n",
    "    \n",
    "#     'meals_Dinner',\n",
    "#        'meals_Lunch', 'meals_Breakfast', 'meals_Drinks', 'meals_Brunch',\n",
    "#        'meals_After-hours', 'special_diets_Vegetarian Friendly',\n",
    "#        'special_diets_Gluten Free Options', 'special_diets_Vegan Options',\n",
    "#        'special_diets_Halal', 'special_diets_Kosher'\n",
    "]"
   ]
  },
  {
   "cell_type": "code",
   "execution_count": 37,
   "id": "9cd3ce33",
   "metadata": {},
   "outputs": [
    {
     "name": "stdout",
     "output_type": "stream",
     "text": [
      "(198446, 18)\n"
     ]
    }
   ],
   "source": [
    "base_rest_df2 = base_rest_df.drop(drop_columns, axis=1)\n",
    "print(base_rest_df2.shape)"
   ]
  },
  {
   "cell_type": "code",
   "execution_count": null,
   "id": "f0906c25",
   "metadata": {},
   "outputs": [],
   "source": []
  },
  {
   "cell_type": "code",
   "execution_count": 147,
   "id": "9e64980a",
   "metadata": {},
   "outputs": [
    {
     "data": {
      "text/html": [
       "<div>\n",
       "<style scoped>\n",
       "    .dataframe tbody tr th:only-of-type {\n",
       "        vertical-align: middle;\n",
       "    }\n",
       "\n",
       "    .dataframe tbody tr th {\n",
       "        vertical-align: top;\n",
       "    }\n",
       "\n",
       "    .dataframe thead th {\n",
       "        text-align: right;\n",
       "    }\n",
       "</style>\n",
       "<table border=\"1\" class=\"dataframe\">\n",
       "  <thead>\n",
       "    <tr style=\"text-align: right;\">\n",
       "      <th></th>\n",
       "      <th>restaurant_link</th>\n",
       "      <th>country</th>\n",
       "      <th>price_level</th>\n",
       "      <th>cuisines</th>\n",
       "      <th>features</th>\n",
       "      <th>avg_rating</th>\n",
       "      <th>total_reviews_count</th>\n",
       "      <th>meals_Dinner</th>\n",
       "      <th>meals_Lunch</th>\n",
       "      <th>meals_Breakfast</th>\n",
       "      <th>...</th>\n",
       "      <th>cuisines_Mediterranean</th>\n",
       "      <th>cuisines_Bar</th>\n",
       "      <th>cuisines_Spanish</th>\n",
       "      <th>cuisines_Cafe</th>\n",
       "      <th>cuisines_Pub</th>\n",
       "      <th>cuisines_Seafood</th>\n",
       "      <th>cuisines_Pizza</th>\n",
       "      <th>cuisines_British</th>\n",
       "      <th>cuisines_Fast food</th>\n",
       "      <th>cuisines_Asian</th>\n",
       "    </tr>\n",
       "  </thead>\n",
       "  <tbody>\n",
       "    <tr>\n",
       "      <th>0</th>\n",
       "      <td>g10001637-d10002227</td>\n",
       "      <td>France</td>\n",
       "      <td>€</td>\n",
       "      <td>French</td>\n",
       "      <td>Reservations, Seating, Wheelchair Accessible, ...</td>\n",
       "      <td>4.0</td>\n",
       "      <td>36.0</td>\n",
       "      <td>1</td>\n",
       "      <td>1</td>\n",
       "      <td>0</td>\n",
       "      <td>...</td>\n",
       "      <td>0</td>\n",
       "      <td>0</td>\n",
       "      <td>0</td>\n",
       "      <td>0</td>\n",
       "      <td>0</td>\n",
       "      <td>0</td>\n",
       "      <td>0</td>\n",
       "      <td>0</td>\n",
       "      <td>0</td>\n",
       "      <td>0</td>\n",
       "    </tr>\n",
       "    <tr>\n",
       "      <th>1</th>\n",
       "      <td>g10002858-d4586832</td>\n",
       "      <td>France</td>\n",
       "      <td>€</td>\n",
       "      <td>French, European</td>\n",
       "      <td>Reservations, Seating, Table Service, Wheelcha...</td>\n",
       "      <td>5.0</td>\n",
       "      <td>13.0</td>\n",
       "      <td>1</td>\n",
       "      <td>1</td>\n",
       "      <td>0</td>\n",
       "      <td>...</td>\n",
       "      <td>0</td>\n",
       "      <td>0</td>\n",
       "      <td>0</td>\n",
       "      <td>0</td>\n",
       "      <td>0</td>\n",
       "      <td>0</td>\n",
       "      <td>0</td>\n",
       "      <td>0</td>\n",
       "      <td>0</td>\n",
       "      <td>0</td>\n",
       "    </tr>\n",
       "    <tr>\n",
       "      <th>2</th>\n",
       "      <td>g10002986-d3510044</td>\n",
       "      <td>France</td>\n",
       "      <td>€</td>\n",
       "      <td>French</td>\n",
       "      <td>Reservations, Seating, Serves Alcohol, Table S...</td>\n",
       "      <td>4.0</td>\n",
       "      <td>34.0</td>\n",
       "      <td>1</td>\n",
       "      <td>1</td>\n",
       "      <td>0</td>\n",
       "      <td>...</td>\n",
       "      <td>0</td>\n",
       "      <td>0</td>\n",
       "      <td>0</td>\n",
       "      <td>0</td>\n",
       "      <td>0</td>\n",
       "      <td>0</td>\n",
       "      <td>0</td>\n",
       "      <td>0</td>\n",
       "      <td>0</td>\n",
       "      <td>0</td>\n",
       "    </tr>\n",
       "    <tr>\n",
       "      <th>3</th>\n",
       "      <td>g10022428-d9767191</td>\n",
       "      <td>France</td>\n",
       "      <td>€€-€€€</td>\n",
       "      <td>French</td>\n",
       "      <td>Reservations, Seating, Wheelchair Accessible, ...</td>\n",
       "      <td>4.5</td>\n",
       "      <td>11.0</td>\n",
       "      <td>1</td>\n",
       "      <td>1</td>\n",
       "      <td>0</td>\n",
       "      <td>...</td>\n",
       "      <td>0</td>\n",
       "      <td>0</td>\n",
       "      <td>0</td>\n",
       "      <td>0</td>\n",
       "      <td>0</td>\n",
       "      <td>0</td>\n",
       "      <td>0</td>\n",
       "      <td>0</td>\n",
       "      <td>0</td>\n",
       "      <td>0</td>\n",
       "    </tr>\n",
       "    <tr>\n",
       "      <th>4</th>\n",
       "      <td>g10055971-d10040330</td>\n",
       "      <td>France</td>\n",
       "      <td>€€-€€€</td>\n",
       "      <td>French</td>\n",
       "      <td>Reservations, Seating, Table Service, Serves A...</td>\n",
       "      <td>4.0</td>\n",
       "      <td>36.0</td>\n",
       "      <td>1</td>\n",
       "      <td>1</td>\n",
       "      <td>0</td>\n",
       "      <td>...</td>\n",
       "      <td>0</td>\n",
       "      <td>0</td>\n",
       "      <td>0</td>\n",
       "      <td>0</td>\n",
       "      <td>0</td>\n",
       "      <td>0</td>\n",
       "      <td>0</td>\n",
       "      <td>0</td>\n",
       "      <td>0</td>\n",
       "      <td>0</td>\n",
       "    </tr>\n",
       "  </tbody>\n",
       "</table>\n",
       "<p>5 rows × 31 columns</p>\n",
       "</div>"
      ],
      "text/plain": [
       "       restaurant_link country price_level          cuisines  \\\n",
       "0  g10001637-d10002227  France           €            French   \n",
       "1   g10002858-d4586832  France           €  French, European   \n",
       "2   g10002986-d3510044  France           €            French   \n",
       "3   g10022428-d9767191  France      €€-€€€            French   \n",
       "4  g10055971-d10040330  France      €€-€€€            French   \n",
       "\n",
       "                                            features  avg_rating  \\\n",
       "0  Reservations, Seating, Wheelchair Accessible, ...         4.0   \n",
       "1  Reservations, Seating, Table Service, Wheelcha...         5.0   \n",
       "2  Reservations, Seating, Serves Alcohol, Table S...         4.0   \n",
       "3  Reservations, Seating, Wheelchair Accessible, ...         4.5   \n",
       "4  Reservations, Seating, Table Service, Serves A...         4.0   \n",
       "\n",
       "   total_reviews_count  meals_Dinner  meals_Lunch  meals_Breakfast  ...  \\\n",
       "0                 36.0             1            1                0  ...   \n",
       "1                 13.0             1            1                0  ...   \n",
       "2                 34.0             1            1                0  ...   \n",
       "3                 11.0             1            1                0  ...   \n",
       "4                 36.0             1            1                0  ...   \n",
       "\n",
       "   cuisines_Mediterranean  cuisines_Bar  cuisines_Spanish  cuisines_Cafe  \\\n",
       "0                       0             0                 0              0   \n",
       "1                       0             0                 0              0   \n",
       "2                       0             0                 0              0   \n",
       "3                       0             0                 0              0   \n",
       "4                       0             0                 0              0   \n",
       "\n",
       "   cuisines_Pub  cuisines_Seafood  cuisines_Pizza  cuisines_British  \\\n",
       "0             0                 0               0                 0   \n",
       "1             0                 0               0                 0   \n",
       "2             0                 0               0                 0   \n",
       "3             0                 0               0                 0   \n",
       "4             0                 0               0                 0   \n",
       "\n",
       "   cuisines_Fast food  cuisines_Asian  \n",
       "0                   0               0  \n",
       "1                   0               0  \n",
       "2                   0               0  \n",
       "3                   0               0  \n",
       "4                   0               0  \n",
       "\n",
       "[5 rows x 31 columns]"
      ]
     },
     "execution_count": 147,
     "metadata": {},
     "output_type": "execute_result"
    }
   ],
   "source": [
    "base_rest_df2.head()"
   ]
  },
  {
   "cell_type": "code",
   "execution_count": 150,
   "id": "b83a40e7",
   "metadata": {},
   "outputs": [],
   "source": [
    "# base_rest_df2 = base_rest_df2.drop(['features_cnt'], axis=1)"
   ]
  },
  {
   "cell_type": "code",
   "execution_count": 230,
   "id": "0b6b6d5b",
   "metadata": {},
   "outputs": [
    {
     "data": {
      "text/html": [
       "<div>\n",
       "<style scoped>\n",
       "    .dataframe tbody tr th:only-of-type {\n",
       "        vertical-align: middle;\n",
       "    }\n",
       "\n",
       "    .dataframe tbody tr th {\n",
       "        vertical-align: top;\n",
       "    }\n",
       "\n",
       "    .dataframe thead th {\n",
       "        text-align: right;\n",
       "    }\n",
       "</style>\n",
       "<table border=\"1\" class=\"dataframe\">\n",
       "  <thead>\n",
       "    <tr style=\"text-align: right;\">\n",
       "      <th></th>\n",
       "      <th>restaurant_link</th>\n",
       "      <th>country</th>\n",
       "      <th>price_level</th>\n",
       "      <th>cuisines</th>\n",
       "      <th>features</th>\n",
       "      <th>avg_rating</th>\n",
       "      <th>total_reviews_count</th>\n",
       "      <th>meals_Dinner</th>\n",
       "      <th>meals_Lunch</th>\n",
       "      <th>meals_Breakfast</th>\n",
       "      <th>...</th>\n",
       "      <th>cuisines_Seafood</th>\n",
       "      <th>cuisines_Pizza</th>\n",
       "      <th>cuisines_British</th>\n",
       "      <th>cuisines_Fast food</th>\n",
       "      <th>cuisines_Asian</th>\n",
       "      <th>cuisines_cnt</th>\n",
       "      <th>meals_cnt</th>\n",
       "      <th>special_diets_cnt</th>\n",
       "      <th>price_level_Cheap Eats</th>\n",
       "      <th>price_level_cnt</th>\n",
       "    </tr>\n",
       "  </thead>\n",
       "  <tbody>\n",
       "    <tr>\n",
       "      <th>0</th>\n",
       "      <td>g10001637-d10002227</td>\n",
       "      <td>France</td>\n",
       "      <td>€</td>\n",
       "      <td>French</td>\n",
       "      <td>Reservations, Seating, Wheelchair Accessible, ...</td>\n",
       "      <td>4.0</td>\n",
       "      <td>36.0</td>\n",
       "      <td>1</td>\n",
       "      <td>1</td>\n",
       "      <td>0</td>\n",
       "      <td>...</td>\n",
       "      <td>0</td>\n",
       "      <td>0</td>\n",
       "      <td>0</td>\n",
       "      <td>0</td>\n",
       "      <td>0</td>\n",
       "      <td>1</td>\n",
       "      <td>7</td>\n",
       "      <td>6</td>\n",
       "      <td>1</td>\n",
       "      <td>1</td>\n",
       "    </tr>\n",
       "    <tr>\n",
       "      <th>1</th>\n",
       "      <td>g10002858-d4586832</td>\n",
       "      <td>France</td>\n",
       "      <td>€</td>\n",
       "      <td>French, European</td>\n",
       "      <td>Reservations, Seating, Table Service, Wheelcha...</td>\n",
       "      <td>5.0</td>\n",
       "      <td>13.0</td>\n",
       "      <td>1</td>\n",
       "      <td>1</td>\n",
       "      <td>0</td>\n",
       "      <td>...</td>\n",
       "      <td>0</td>\n",
       "      <td>0</td>\n",
       "      <td>0</td>\n",
       "      <td>0</td>\n",
       "      <td>0</td>\n",
       "      <td>2</td>\n",
       "      <td>7</td>\n",
       "      <td>6</td>\n",
       "      <td>1</td>\n",
       "      <td>1</td>\n",
       "    </tr>\n",
       "    <tr>\n",
       "      <th>2</th>\n",
       "      <td>g10002986-d3510044</td>\n",
       "      <td>France</td>\n",
       "      <td>€</td>\n",
       "      <td>French</td>\n",
       "      <td>Reservations, Seating, Serves Alcohol, Table S...</td>\n",
       "      <td>4.0</td>\n",
       "      <td>34.0</td>\n",
       "      <td>1</td>\n",
       "      <td>1</td>\n",
       "      <td>0</td>\n",
       "      <td>...</td>\n",
       "      <td>0</td>\n",
       "      <td>0</td>\n",
       "      <td>0</td>\n",
       "      <td>0</td>\n",
       "      <td>0</td>\n",
       "      <td>1</td>\n",
       "      <td>7</td>\n",
       "      <td>6</td>\n",
       "      <td>1</td>\n",
       "      <td>1</td>\n",
       "    </tr>\n",
       "    <tr>\n",
       "      <th>3</th>\n",
       "      <td>g10022428-d9767191</td>\n",
       "      <td>France</td>\n",
       "      <td>€€-€€€</td>\n",
       "      <td>French</td>\n",
       "      <td>Reservations, Seating, Wheelchair Accessible, ...</td>\n",
       "      <td>4.5</td>\n",
       "      <td>11.0</td>\n",
       "      <td>1</td>\n",
       "      <td>1</td>\n",
       "      <td>0</td>\n",
       "      <td>...</td>\n",
       "      <td>0</td>\n",
       "      <td>0</td>\n",
       "      <td>0</td>\n",
       "      <td>0</td>\n",
       "      <td>0</td>\n",
       "      <td>1</td>\n",
       "      <td>7</td>\n",
       "      <td>6</td>\n",
       "      <td>0</td>\n",
       "      <td>1</td>\n",
       "    </tr>\n",
       "    <tr>\n",
       "      <th>4</th>\n",
       "      <td>g10055971-d10040330</td>\n",
       "      <td>France</td>\n",
       "      <td>€€-€€€</td>\n",
       "      <td>French</td>\n",
       "      <td>Reservations, Seating, Table Service, Serves A...</td>\n",
       "      <td>4.0</td>\n",
       "      <td>36.0</td>\n",
       "      <td>1</td>\n",
       "      <td>1</td>\n",
       "      <td>0</td>\n",
       "      <td>...</td>\n",
       "      <td>0</td>\n",
       "      <td>0</td>\n",
       "      <td>0</td>\n",
       "      <td>0</td>\n",
       "      <td>0</td>\n",
       "      <td>1</td>\n",
       "      <td>7</td>\n",
       "      <td>6</td>\n",
       "      <td>0</td>\n",
       "      <td>1</td>\n",
       "    </tr>\n",
       "    <tr>\n",
       "      <th>...</th>\n",
       "      <td>...</td>\n",
       "      <td>...</td>\n",
       "      <td>...</td>\n",
       "      <td>...</td>\n",
       "      <td>...</td>\n",
       "      <td>...</td>\n",
       "      <td>...</td>\n",
       "      <td>...</td>\n",
       "      <td>...</td>\n",
       "      <td>...</td>\n",
       "      <td>...</td>\n",
       "      <td>...</td>\n",
       "      <td>...</td>\n",
       "      <td>...</td>\n",
       "      <td>...</td>\n",
       "      <td>...</td>\n",
       "      <td>...</td>\n",
       "      <td>...</td>\n",
       "      <td>...</td>\n",
       "      <td>...</td>\n",
       "      <td>...</td>\n",
       "    </tr>\n",
       "    <tr>\n",
       "      <th>198441</th>\n",
       "      <td>g946541-d6957229</td>\n",
       "      <td>Romania</td>\n",
       "      <td>€€-€€€</td>\n",
       "      <td>Seafood, European, Mediterranean, Romanian</td>\n",
       "      <td>Reservations, Outdoor Seating, Seating, Serves...</td>\n",
       "      <td>4.0</td>\n",
       "      <td>55.0</td>\n",
       "      <td>1</td>\n",
       "      <td>1</td>\n",
       "      <td>0</td>\n",
       "      <td>...</td>\n",
       "      <td>1</td>\n",
       "      <td>0</td>\n",
       "      <td>0</td>\n",
       "      <td>0</td>\n",
       "      <td>0</td>\n",
       "      <td>4</td>\n",
       "      <td>7</td>\n",
       "      <td>6</td>\n",
       "      <td>0</td>\n",
       "      <td>1</td>\n",
       "    </tr>\n",
       "    <tr>\n",
       "      <th>198442</th>\n",
       "      <td>g946541-d8075038</td>\n",
       "      <td>Romania</td>\n",
       "      <td>€</td>\n",
       "      <td>International, European, Romanian, Central Eur...</td>\n",
       "      <td>Reservations, Takeout, Television, Full Bar, A...</td>\n",
       "      <td>3.5</td>\n",
       "      <td>28.0</td>\n",
       "      <td>1</td>\n",
       "      <td>1</td>\n",
       "      <td>1</td>\n",
       "      <td>...</td>\n",
       "      <td>0</td>\n",
       "      <td>0</td>\n",
       "      <td>0</td>\n",
       "      <td>0</td>\n",
       "      <td>0</td>\n",
       "      <td>4</td>\n",
       "      <td>7</td>\n",
       "      <td>6</td>\n",
       "      <td>1</td>\n",
       "      <td>1</td>\n",
       "    </tr>\n",
       "    <tr>\n",
       "      <th>198443</th>\n",
       "      <td>g946543-d4308046</td>\n",
       "      <td>Romania</td>\n",
       "      <td>€€-€€€</td>\n",
       "      <td>Pizza, Italian</td>\n",
       "      <td>Delivery, Takeout, Outdoor Seating, Seating, W...</td>\n",
       "      <td>4.0</td>\n",
       "      <td>26.0</td>\n",
       "      <td>1</td>\n",
       "      <td>1</td>\n",
       "      <td>0</td>\n",
       "      <td>...</td>\n",
       "      <td>0</td>\n",
       "      <td>1</td>\n",
       "      <td>0</td>\n",
       "      <td>0</td>\n",
       "      <td>0</td>\n",
       "      <td>2</td>\n",
       "      <td>7</td>\n",
       "      <td>6</td>\n",
       "      <td>0</td>\n",
       "      <td>1</td>\n",
       "    </tr>\n",
       "    <tr>\n",
       "      <th>198444</th>\n",
       "      <td>g946544-d8490226</td>\n",
       "      <td>Romania</td>\n",
       "      <td>€€-€€€</td>\n",
       "      <td>Fast food, European</td>\n",
       "      <td>Seating</td>\n",
       "      <td>3.5</td>\n",
       "      <td>21.0</td>\n",
       "      <td>0</td>\n",
       "      <td>1</td>\n",
       "      <td>0</td>\n",
       "      <td>...</td>\n",
       "      <td>0</td>\n",
       "      <td>0</td>\n",
       "      <td>0</td>\n",
       "      <td>1</td>\n",
       "      <td>0</td>\n",
       "      <td>2</td>\n",
       "      <td>7</td>\n",
       "      <td>6</td>\n",
       "      <td>0</td>\n",
       "      <td>1</td>\n",
       "    </tr>\n",
       "    <tr>\n",
       "      <th>198445</th>\n",
       "      <td>g946544-d8749966</td>\n",
       "      <td>Romania</td>\n",
       "      <td>€€-€€€</td>\n",
       "      <td>Eastern European, Romanian</td>\n",
       "      <td>Reservations, Wheelchair Accessible, Outdoor S...</td>\n",
       "      <td>4.0</td>\n",
       "      <td>22.0</td>\n",
       "      <td>1</td>\n",
       "      <td>1</td>\n",
       "      <td>0</td>\n",
       "      <td>...</td>\n",
       "      <td>0</td>\n",
       "      <td>0</td>\n",
       "      <td>0</td>\n",
       "      <td>0</td>\n",
       "      <td>0</td>\n",
       "      <td>2</td>\n",
       "      <td>7</td>\n",
       "      <td>6</td>\n",
       "      <td>0</td>\n",
       "      <td>1</td>\n",
       "    </tr>\n",
       "  </tbody>\n",
       "</table>\n",
       "<p>198446 rows × 36 columns</p>\n",
       "</div>"
      ],
      "text/plain": [
       "            restaurant_link  country price_level  \\\n",
       "0       g10001637-d10002227   France           €   \n",
       "1        g10002858-d4586832   France           €   \n",
       "2        g10002986-d3510044   France           €   \n",
       "3        g10022428-d9767191   France      €€-€€€   \n",
       "4       g10055971-d10040330   France      €€-€€€   \n",
       "...                     ...      ...         ...   \n",
       "198441     g946541-d6957229  Romania      €€-€€€   \n",
       "198442     g946541-d8075038  Romania           €   \n",
       "198443     g946543-d4308046  Romania      €€-€€€   \n",
       "198444     g946544-d8490226  Romania      €€-€€€   \n",
       "198445     g946544-d8749966  Romania      €€-€€€   \n",
       "\n",
       "                                                 cuisines  \\\n",
       "0                                                  French   \n",
       "1                                        French, European   \n",
       "2                                                  French   \n",
       "3                                                  French   \n",
       "4                                                  French   \n",
       "...                                                   ...   \n",
       "198441         Seafood, European, Mediterranean, Romanian   \n",
       "198442  International, European, Romanian, Central Eur...   \n",
       "198443                                     Pizza, Italian   \n",
       "198444                                Fast food, European   \n",
       "198445                         Eastern European, Romanian   \n",
       "\n",
       "                                                 features  avg_rating  \\\n",
       "0       Reservations, Seating, Wheelchair Accessible, ...         4.0   \n",
       "1       Reservations, Seating, Table Service, Wheelcha...         5.0   \n",
       "2       Reservations, Seating, Serves Alcohol, Table S...         4.0   \n",
       "3       Reservations, Seating, Wheelchair Accessible, ...         4.5   \n",
       "4       Reservations, Seating, Table Service, Serves A...         4.0   \n",
       "...                                                   ...         ...   \n",
       "198441  Reservations, Outdoor Seating, Seating, Serves...         4.0   \n",
       "198442  Reservations, Takeout, Television, Full Bar, A...         3.5   \n",
       "198443  Delivery, Takeout, Outdoor Seating, Seating, W...         4.0   \n",
       "198444                                            Seating         3.5   \n",
       "198445  Reservations, Wheelchair Accessible, Outdoor S...         4.0   \n",
       "\n",
       "        total_reviews_count  meals_Dinner  meals_Lunch  meals_Breakfast  ...  \\\n",
       "0                      36.0             1            1                0  ...   \n",
       "1                      13.0             1            1                0  ...   \n",
       "2                      34.0             1            1                0  ...   \n",
       "3                      11.0             1            1                0  ...   \n",
       "4                      36.0             1            1                0  ...   \n",
       "...                     ...           ...          ...              ...  ...   \n",
       "198441                 55.0             1            1                0  ...   \n",
       "198442                 28.0             1            1                1  ...   \n",
       "198443                 26.0             1            1                0  ...   \n",
       "198444                 21.0             0            1                0  ...   \n",
       "198445                 22.0             1            1                0  ...   \n",
       "\n",
       "        cuisines_Seafood  cuisines_Pizza  cuisines_British  \\\n",
       "0                      0               0                 0   \n",
       "1                      0               0                 0   \n",
       "2                      0               0                 0   \n",
       "3                      0               0                 0   \n",
       "4                      0               0                 0   \n",
       "...                  ...             ...               ...   \n",
       "198441                 1               0                 0   \n",
       "198442                 0               0                 0   \n",
       "198443                 0               1                 0   \n",
       "198444                 0               0                 0   \n",
       "198445                 0               0                 0   \n",
       "\n",
       "        cuisines_Fast food  cuisines_Asian  cuisines_cnt  meals_cnt  \\\n",
       "0                        0               0             1          7   \n",
       "1                        0               0             2          7   \n",
       "2                        0               0             1          7   \n",
       "3                        0               0             1          7   \n",
       "4                        0               0             1          7   \n",
       "...                    ...             ...           ...        ...   \n",
       "198441                   0               0             4          7   \n",
       "198442                   0               0             4          7   \n",
       "198443                   0               0             2          7   \n",
       "198444                   1               0             2          7   \n",
       "198445                   0               0             2          7   \n",
       "\n",
       "        special_diets_cnt  price_level_Cheap Eats  price_level_cnt  \n",
       "0                       6                       1                1  \n",
       "1                       6                       1                1  \n",
       "2                       6                       1                1  \n",
       "3                       6                       0                1  \n",
       "4                       6                       0                1  \n",
       "...                   ...                     ...              ...  \n",
       "198441                  6                       0                1  \n",
       "198442                  6                       1                1  \n",
       "198443                  6                       0                1  \n",
       "198444                  6                       0                1  \n",
       "198445                  6                       0                1  \n",
       "\n",
       "[198446 rows x 36 columns]"
      ]
     },
     "execution_count": 230,
     "metadata": {},
     "output_type": "execute_result"
    }
   ],
   "source": [
    "base_rest_df2['cuisines_cnt'] = base_rest_df2['cuisines'].apply(lambda x: 1+x.count(','))\n",
    "base_rest_df2['meals_cnt'] = len([col for col in base_rest_df2.columns if 'meals_' in col])\n",
    "base_rest_df2['special_diets_cnt'] = len([col for col in base_rest_df2.columns if 'special_diets_' in col])\n",
    "\n",
    "base_rest_df2['price_level_Cheap Eats'] = base_rest_df2['price_level'].apply(lambda x: 1 if str(x) == '€' else 0)\n",
    "base_rest_df2['price_level_cnt'] = 1\n",
    "\n",
    "base_rest_df2"
   ]
  },
  {
   "cell_type": "code",
   "execution_count": null,
   "id": "70ffc23e",
   "metadata": {},
   "outputs": [],
   "source": []
  },
  {
   "cell_type": "code",
   "execution_count": 31,
   "id": "86ef378f",
   "metadata": {},
   "outputs": [
    {
     "data": {
      "text/plain": [
       "country\n",
       "France             44523\n",
       "Italy              38738\n",
       "United Kingdom     35535\n",
       "Spain              30631\n",
       "Germany            10259\n",
       "Portugal            8318\n",
       "Belgium             5824\n",
       "Greece              5073\n",
       "The Netherlands     3499\n",
       "Ireland             2198\n",
       "Czech Republic      2014\n",
       "Austria             1995\n",
       "Poland              1857\n",
       "Croatia             1679\n",
       "Sweden              1330\n",
       "Denmark             1264\n",
       "Romania             1123\n",
       "Hungary              885\n",
       "Finland              648\n",
       "Bulgaria             536\n",
       "Slovakia             517\n",
       "dtype: int64"
      ]
     },
     "execution_count": 31,
     "metadata": {},
     "output_type": "execute_result"
    }
   ],
   "source": [
    "base_rest_df2.groupby('country').size().sort_values(ascending=False)"
   ]
  },
  {
   "cell_type": "code",
   "execution_count": null,
   "id": "ccda7696",
   "metadata": {},
   "outputs": [],
   "source": []
  },
  {
   "cell_type": "code",
   "execution_count": 131,
   "id": "c1934345",
   "metadata": {},
   "outputs": [],
   "source": [
    "# rating of values in the column\n",
    "\n",
    "def rating_of_column_values(df, column, separator=', '):\n",
    "    df2 = df[list(df)]\n",
    "    df2['column_2'] = df2[column].str.split(separator)\n",
    "    tags_list = list(set().union(*df2['column_2'].dropna()))\n",
    "\n",
    "    tags_list_2 = []\n",
    "    for tag in tags_list:\n",
    "        tags_list_2.append([tag, df2['column_2'].dropna().map(set([tag]).issubset).fillna(False).value_counts()[True]])\n",
    "\n",
    "    tags_list_2 = sorted(tags_list_2, key=lambda x: x[1], reverse=True)\n",
    "    df2 = df2.drop(['column_2'], axis=1)\n",
    "    return tags_list_2\n",
    "\n",
    "# dummies without not popular options of feature columns\n",
    "\n",
    "def features_to_flags(df, feature_col_list, threshold):\n",
    "    for col in feature_col_list:\n",
    "        top_tags = [f[0] for f in rating_of_column_values(df, col, separator=', ') if f[1] >= threshold * len(df)]\n",
    "        for t in top_tags:\n",
    "            df.loc[:, col + '_' + t] = df[col].apply(lambda x: 1 if t in str(x) else 0)\n",
    "        df = df.drop(col, axis=1)\n",
    "    return df\n"
   ]
  },
  {
   "cell_type": "code",
   "execution_count": null,
   "id": "53cc3cc9",
   "metadata": {},
   "outputs": [],
   "source": []
  },
  {
   "cell_type": "code",
   "execution_count": null,
   "id": "5d5e03f1",
   "metadata": {},
   "outputs": [],
   "source": []
  },
  {
   "cell_type": "markdown",
   "id": "5f61134c",
   "metadata": {},
   "source": [
    "<a id=\"country\"></a>\n",
    "\n",
    "### 1.2.1. Selecting the country: Italy"
   ]
  },
  {
   "cell_type": "code",
   "execution_count": 45,
   "id": "0e818419",
   "metadata": {},
   "outputs": [
    {
     "name": "stderr",
     "output_type": "stream",
     "text": [
      "/var/folders/zh/mnvg84rj3_7413ycjzpn5y8r0000gp/T/ipykernel_75787/334375949.py:22: SettingWithCopyWarning: \n",
      "A value is trying to be set on a copy of a slice from a DataFrame.\n",
      "Try using .loc[row_indexer,col_indexer] = value instead\n",
      "\n",
      "See the caveats in the documentation: https://pandas.pydata.org/pandas-docs/stable/user_guide/indexing.html#returning-a-view-versus-a-copy\n",
      "  df[col + '_' + t] = df[col].apply(lambda x: 1 if t in str(x) else 0)\n",
      "/var/folders/zh/mnvg84rj3_7413ycjzpn5y8r0000gp/T/ipykernel_75787/334375949.py:22: SettingWithCopyWarning: \n",
      "A value is trying to be set on a copy of a slice from a DataFrame.\n",
      "Try using .loc[row_indexer,col_indexer] = value instead\n",
      "\n",
      "See the caveats in the documentation: https://pandas.pydata.org/pandas-docs/stable/user_guide/indexing.html#returning-a-view-versus-a-copy\n",
      "  df[col + '_' + t] = df[col].apply(lambda x: 1 if t in str(x) else 0)\n"
     ]
    },
    {
     "data": {
      "text/plain": [
       "Index(['restaurant_link', 'country', 'price_level', 'avg_rating',\n",
       "       'total_reviews_count', 'meals_Dinner', 'meals_Lunch', 'meals_Breakfast',\n",
       "       'meals_Drinks', 'meals_Brunch', 'meals_After-hours',\n",
       "       'special_diets_Vegetarian Friendly',\n",
       "       'special_diets_Gluten Free Options', 'special_diets_Vegan Options',\n",
       "       'special_diets_Halal', 'special_diets_Kosher', 'cuisines_European',\n",
       "       'cuisines_Italian', 'cuisines_French', 'cuisines_Mediterranean',\n",
       "       'cuisines_Bar', 'cuisines_Spanish', 'cuisines_Cafe', 'cuisines_Pub',\n",
       "       'cuisines_Seafood', 'cuisines_Pizza', 'cuisines_British',\n",
       "       'cuisines_Fast food', 'cuisines_Asian', 'cuisines_Barbecue',\n",
       "       'features_Seating', 'features_Reservations', 'features_Table Service',\n",
       "       'features_Wheelchair Accessible', 'features_Serves Alcohol',\n",
       "       'features_Takeout', 'features_Outdoor Seating',\n",
       "       'features_Highchairs Available', 'features_Accepts Credit Cards',\n",
       "       'features_Full Bar', 'features_Parking Available', 'features_Free Wifi',\n",
       "       'features_Wine and Beer', 'features_Television',\n",
       "       'features_Free off-street parking', 'features_Street Parking',\n",
       "       'features_Delivery', 'features_Accepts Visa'],\n",
       "      dtype='object')"
      ]
     },
     "execution_count": 45,
     "metadata": {},
     "output_type": "execute_result"
    }
   ],
   "source": [
    "italy_df = base_rest_df2[base_rest_df2['country'] == 'Italy']\n",
    "italy_df2 = features_to_flags(italy_df, ['cuisines', 'features'], 0.05)\n",
    "\n",
    "italy_df2.columns"
   ]
  },
  {
   "cell_type": "code",
   "execution_count": null,
   "id": "eb5f44c6",
   "metadata": {},
   "outputs": [],
   "source": []
  },
  {
   "cell_type": "code",
   "execution_count": 58,
   "id": "e318f429",
   "metadata": {},
   "outputs": [],
   "source": []
  },
  {
   "cell_type": "code",
   "execution_count": 92,
   "id": "34755158",
   "metadata": {},
   "outputs": [],
   "source": [
    "# STRONG CORRELATIONS BETWEEN FEATURES\n",
    "\n",
    "def top_correlations_between_features(country_df, prefixes, threshold):\n",
    "    features_list = [col for col in country_df.columns if any([pre in col for pre in prefixes])]\n",
    "\n",
    "    corr_pairs = [(col, country_df[col[0]].corr(country_df[col[1]]))\n",
    "         for col in itertools.product(*[features_list, features_list])\n",
    "             if col[0] < col[1] and np.abs(country_df[col[0]].corr(country_df[col[1]])) > threshold\n",
    "    ]\n",
    "\n",
    "    corr_pairs = sorted(corr_pairs, key=lambda x: np.abs(x[1]), reverse=True)\n",
    "\n",
    "    for p in corr_pairs:\n",
    "        print(\"{0:.3f}\\t{1}\".format(p[1], p[0]))\n",
    "        \n",
    "    return corr_pairs    "
   ]
  },
  {
   "cell_type": "code",
   "execution_count": 93,
   "id": "d9afe59a",
   "metadata": {},
   "outputs": [
    {
     "name": "stdout",
     "output_type": "stream",
     "text": [
      "0.832\t('special_diets_Gluten Free Options', 'special_diets_Vegetarian Friendly')\n",
      "0.796\t('special_diets_Vegan Options', 'special_diets_Vegetarian Friendly')\n",
      "0.768\t('special_diets_Gluten Free Options', 'special_diets_Vegan Options')\n",
      "0.584\t('cuisines_Bar', 'cuisines_Barbecue')\n",
      "0.566\t('features_Free off-street parking', 'features_Parking Available')\n",
      "0.560\t('features_Seating', 'features_Table Service')\n",
      "0.559\t('features_Free Wifi', 'features_Wine and Beer')\n",
      "0.541\t('cuisines_Cafe', 'meals_Breakfast')\n",
      "0.505\t('cuisines_Bar', 'cuisines_Pub')\n",
      "0.492\t('cuisines_Mediterranean', 'cuisines_Seafood')\n",
      "0.475\t('features_Street Parking', 'features_Wine and Beer')\n",
      "-0.469\t('cuisines_Cafe', 'features_Reservations')\n",
      "0.462\t('features_Free off-street parking', 'features_Wine and Beer')\n",
      "0.439\t('features_Accepts Visa', 'features_Free Wifi')\n",
      "0.437\t('features_Reservations', 'meals_Dinner')\n",
      "-0.433\t('cuisines_Cafe', 'meals_Dinner')\n",
      "0.425\t('features_Accepts Visa', 'features_Wine and Beer')\n",
      "0.418\t('features_Reservations', 'features_Table Service')\n",
      "0.410\t('features_Accepts Credit Cards', 'features_Wine and Beer')\n",
      "-0.407\t('features_Reservations', 'meals_Breakfast')\n",
      "0.405\t('features_Full Bar', 'features_Wine and Beer')\n",
      "0.404\t('features_Accepts Credit Cards', 'features_Free Wifi')\n",
      "0.404\t('features_Free Wifi', 'features_Full Bar')\n"
     ]
    }
   ],
   "source": [
    "italy_corr_pairs = top_correlations_between_features(\n",
    "    italy_df2, \n",
    "    ['meals_', 'special_diets_', 'cuisines_', 'features_'], \n",
    "    0.4\n",
    ")"
   ]
  },
  {
   "cell_type": "code",
   "execution_count": null,
   "id": "29433fee",
   "metadata": {},
   "outputs": [],
   "source": []
  },
  {
   "cell_type": "code",
   "execution_count": 112,
   "id": "9bc0a01a",
   "metadata": {},
   "outputs": [],
   "source": [
    "def correlations_between_1_and_set_features(country_df, feature, prefixes, threshold):\n",
    "    features_list = [col for col in country_df.columns if any([pre in col for pre in prefixes])]\n",
    "\n",
    "    country_df_threshold = country_df[country_df['total_reviews_count'] > threshold]\n",
    "\n",
    "    corr_pairs = [(col, country_df_threshold[feature].corr(country_df_threshold[col]))\n",
    "             for col in features_list\n",
    "    ]\n",
    "\n",
    "    corr_pairs = sorted(corr_pairs, key=lambda x: np.abs(x[1]), reverse=True)\n",
    "\n",
    "    for p in corr_pairs:\n",
    "        print(\"{0:.3f}\\t{1}\".format(p[1], p[0]))\n",
    "    \n",
    "    return corr_pairs\n",
    "\n"
   ]
  },
  {
   "cell_type": "code",
   "execution_count": 113,
   "id": "90a888ee",
   "metadata": {},
   "outputs": [
    {
     "name": "stdout",
     "output_type": "stream",
     "text": [
      "-0.193\tcuisines_Pizza\n",
      "-0.155\tfeatures_Seating\n",
      "0.154\tmeals_Brunch\n",
      "-0.149\tmeals_After-hours\n",
      "0.128\tmeals_Dinner\n",
      "-0.116\tfeatures_Serves Alcohol\n",
      "0.110\tspecial_diets_Gluten Free Options\n",
      "0.109\tmeals_Breakfast\n",
      "0.102\tspecial_diets_Vegetarian Friendly\n",
      "0.101\tspecial_diets_Vegan Options\n",
      "-0.087\tfeatures_Table Service\n",
      "0.086\tfeatures_Free Wifi\n",
      "-0.085\tcuisines_Seafood\n",
      "-0.084\tfeatures_Outdoor Seating\n",
      "0.083\tfeatures_Street Parking\n",
      "0.083\tfeatures_Wine and Beer\n",
      "0.081\tmeals_Lunch\n",
      "-0.078\tcuisines_Asian\n",
      "0.055\tfeatures_Accepts Visa\n",
      "0.052\tcuisines_Italian\n",
      "0.049\tfeatures_Free off-street parking\n",
      "0.048\tfeatures_Accepts Credit Cards\n",
      "0.037\tcuisines_Bar\n",
      "0.033\tfeatures_Parking Available\n",
      "-0.028\tfeatures_Full Bar\n",
      "0.026\tfeatures_Delivery\n",
      "-0.025\tfeatures_Highchairs Available\n",
      "-0.023\tfeatures_Television\n",
      "0.022\tfeatures_Reservations\n",
      "0.018\tcuisines_French\n",
      "0.016\tcuisines_Barbecue\n",
      "0.015\tcuisines_British\n",
      "0.014\tcuisines_European\n",
      "0.010\tmeals_Drinks\n",
      "0.010\tspecial_diets_Halal\n",
      "-0.008\tcuisines_Spanish\n",
      "0.008\tcuisines_Cafe\n",
      "0.007\tcuisines_Pub\n",
      "0.006\tcuisines_Mediterranean\n",
      "-0.004\tcuisines_Fast food\n",
      "0.002\tfeatures_Takeout\n",
      "-0.002\tspecial_diets_Kosher\n",
      "0.002\tfeatures_Wheelchair Accessible\n"
     ]
    }
   ],
   "source": [
    "italy_avg_rating_corr_pairs = correlations_between_1_and_set_features(\n",
    "    italy_df2, \n",
    "    'avg_rating', \n",
    "    ['meals_', 'special_diets_', 'cuisines_', 'features_'], \n",
    "    10\n",
    ")\n"
   ]
  },
  {
   "cell_type": "markdown",
   "id": "66b3bf79",
   "metadata": {},
   "source": [
    "**????**\n",
    "\n",
    "**IDEA**: To divide df into 2 parts (0/1 for some feature) and check correlation between 'avg_rating' and every another feature\n",
    "\n",
    "<!-- **CONCLUSION**:  -->\n",
    "\n",
    "<!-- 'avg_rating' doesn't have strong correlation with any feature,  -->\n",
    "\n",
    "<!-- so we can research the dependencies between 'avg_rating' and other features -->"
   ]
  },
  {
   "cell_type": "code",
   "execution_count": 99,
   "id": "c77f6e97",
   "metadata": {},
   "outputs": [
    {
     "name": "stdout",
     "output_type": "stream",
     "text": [
      "nan\tcuisines_Pizza\n",
      "-0.152\tfeatures_Seating\n",
      "0.149\tmeals_Dinner\n",
      "0.134\tmeals_Brunch\n",
      "-0.126\tmeals_After-hours\n",
      "0.109\tspecial_diets_Gluten Free Options\n",
      "-0.109\tcuisines_Asian\n",
      "0.104\tspecial_diets_Vegetarian Friendly\n",
      "0.099\tspecial_diets_Vegan Options\n",
      "0.096\tcuisines_Italian\n",
      "-0.091\tfeatures_Serves Alcohol\n",
      "0.085\tfeatures_Free Wifi\n",
      "0.082\tfeatures_Wine and Beer\n",
      "0.081\tfeatures_Street Parking\n",
      "-0.078\tfeatures_Outdoor Seating\n",
      "0.071\tmeals_Breakfast\n",
      "0.066\tfeatures_Reservations\n",
      "0.066\tmeals_Lunch\n",
      "0.059\tfeatures_Accepts Visa\n",
      "0.054\tfeatures_Accepts Credit Cards\n",
      "0.053\tfeatures_Takeout\n",
      "-0.052\tfeatures_Table Service\n",
      "0.051\tfeatures_Delivery\n",
      "0.050\tfeatures_Free off-street parking\n",
      "0.049\tcuisines_Mediterranean\n",
      "-0.046\tcuisines_Seafood\n",
      "-0.041\tfeatures_Full Bar\n",
      "-0.035\tcuisines_Cafe\n",
      "0.032\tfeatures_Parking Available\n",
      "-0.029\tcuisines_Fast food\n",
      "0.020\tcuisines_European\n",
      "0.016\tcuisines_French\n",
      "-0.015\tcuisines_Pub\n",
      "0.014\tcuisines_British\n",
      "-0.013\tcuisines_Spanish\n",
      "-0.011\tmeals_Drinks\n",
      "0.011\tcuisines_Bar\n",
      "0.010\tspecial_diets_Halal\n",
      "0.010\tcuisines_Barbecue\n",
      "-0.008\tfeatures_Wheelchair Accessible\n",
      "-0.006\tfeatures_Highchairs Available\n",
      "-0.005\tfeatures_Television\n",
      "-0.004\tspecial_diets_Kosher\n"
     ]
    }
   ],
   "source": [
    "kk0 = correlations_between_1_and_set_features(\n",
    "    italy_df2[italy_df2['cuisines_Pizza'] == 0], \n",
    "    'avg_rating', \n",
    "    ['meals_', 'special_diets_', 'cuisines_', 'features_'], \n",
    "    10\n",
    ")"
   ]
  },
  {
   "cell_type": "code",
   "execution_count": 100,
   "id": "6bea657d",
   "metadata": {},
   "outputs": [
    {
     "name": "stdout",
     "output_type": "stream",
     "text": [
      "0.284\tmeals_Dinner\n",
      "-0.197\tmeals_After-hours\n",
      "0.168\tmeals_Brunch\n",
      "nan\tspecial_diets_Halal\n",
      "nan\tspecial_diets_Kosher\n",
      "nan\tcuisines_Pizza\n",
      "nan\tcuisines_British\n",
      "-0.217\tfeatures_Table Service\n",
      "-0.209\tfeatures_Seating\n",
      "-0.207\tfeatures_Serves Alcohol\n",
      "-0.130\tcuisines_Seafood\n",
      "0.127\tspecial_diets_Vegan Options\n",
      "-0.117\tfeatures_Outdoor Seating\n",
      "0.117\tspecial_diets_Gluten Free Options\n",
      "0.107\tspecial_diets_Vegetarian Friendly\n",
      "0.105\tmeals_Breakfast\n",
      "0.102\tmeals_Lunch\n",
      "0.100\tfeatures_Street Parking\n",
      "0.096\tfeatures_Wine and Beer\n",
      "0.087\tfeatures_Free Wifi\n",
      "0.069\tcuisines_Fast food\n",
      "0.062\tfeatures_Free off-street parking\n",
      "-0.057\tcuisines_Mediterranean\n",
      "0.050\tfeatures_Accepts Visa\n",
      "0.049\tfeatures_Takeout\n",
      "0.044\tcuisines_Cafe\n",
      "0.043\tfeatures_Delivery\n",
      "-0.042\tfeatures_Highchairs Available\n",
      "0.041\tmeals_Drinks\n",
      "0.035\tfeatures_Parking Available\n",
      "0.031\tcuisines_Bar\n",
      "0.025\tfeatures_Wheelchair Accessible\n",
      "0.025\tcuisines_Pub\n",
      "0.021\tcuisines_Italian\n",
      "0.019\tcuisines_Barbecue\n",
      "0.017\tfeatures_Accepts Credit Cards\n",
      "0.016\tcuisines_French\n",
      "-0.014\tfeatures_Television\n",
      "-0.011\tcuisines_Asian\n",
      "-0.009\tcuisines_European\n",
      "0.007\tcuisines_Spanish\n",
      "-0.005\tfeatures_Reservations\n",
      "-0.004\tfeatures_Full Bar\n"
     ]
    }
   ],
   "source": [
    "kk1 = correlations_between_1_and_set_features(\n",
    "    italy_df2[italy_df2['cuisines_Pizza'] == 1], \n",
    "    'avg_rating', \n",
    "    ['meals_', 'special_diets_', 'cuisines_', 'features_'], \n",
    "    10\n",
    ")\n"
   ]
  },
  {
   "cell_type": "code",
   "execution_count": null,
   "id": "9da1e6d3",
   "metadata": {},
   "outputs": [],
   "source": []
  },
  {
   "cell_type": "code",
   "execution_count": null,
   "id": "110cda6c",
   "metadata": {},
   "outputs": [],
   "source": []
  },
  {
   "cell_type": "code",
   "execution_count": null,
   "id": "c3fa1e11",
   "metadata": {},
   "outputs": [],
   "source": []
  },
  {
   "cell_type": "code",
   "execution_count": null,
   "id": "b26e6416",
   "metadata": {},
   "outputs": [],
   "source": []
  },
  {
   "cell_type": "code",
   "execution_count": 84,
   "id": "1c84e34a",
   "metadata": {},
   "outputs": [
    {
     "data": {
      "text/plain": [
       "<bound method DataFrame.sort_index of                 0\n",
       "avg_rating       \n",
       "1.0            12\n",
       "1.5            37\n",
       "2.0           167\n",
       "2.5           726\n",
       "3.0          3067\n",
       "3.5          9068\n",
       "4.0         14288\n",
       "4.5          9352\n",
       "5.0          1823>"
      ]
     },
     "execution_count": 84,
     "metadata": {},
     "output_type": "execute_result"
    }
   ],
   "source": [
    "it_aggr = pd.DataFrame(italy_df2.groupby(['avg_rating']).size()).sort_index\n",
    "it_aggr"
   ]
  },
  {
   "cell_type": "code",
   "execution_count": null,
   "id": "f67c067f",
   "metadata": {},
   "outputs": [],
   "source": []
  },
  {
   "cell_type": "markdown",
   "id": "7e7ee572",
   "metadata": {},
   "source": [
    "## Bivariative visualizations"
   ]
  },
  {
   "cell_type": "code",
   "execution_count": 233,
   "id": "90eafa76",
   "metadata": {},
   "outputs": [],
   "source": [
    "import plotly.graph_objects as go"
   ]
  },
  {
   "cell_type": "code",
   "execution_count": 290,
   "id": "9eff9f24",
   "metadata": {},
   "outputs": [],
   "source": [
    "columns_dict = {}\n",
    "for col_type in ['cuisines', 'meals', 'special_diets', 'features']:\n",
    "    columns_dict[col_type] = [col for col in italy_df2.columns if col_type+'_' in col and '_cnt' not in col]\n",
    "    \n",
    "all_columns = list(set().union(*[val for val in columns_dict.values()]))\n",
    "\n",
    "df_corr = italy_df2[all_columns].corr(method='pearson')"
   ]
  },
  {
   "cell_type": "code",
   "execution_count": 297,
   "id": "c29503b9",
   "metadata": {},
   "outputs": [],
   "source": [
    "# cuisines_columns = [col for col in italy_df2.columns if 'cuisines_' in col]\n",
    "# meals_columns = [col for col in italy_df2.columns if 'meals_' in col]\n",
    "# special_diets_columns = [col for col in italy_df2.columns if 'special_diets_' in col]\n",
    "# features_columns = [col for col in italy_df2.columns if 'features_' in col]\n",
    "\n",
    "# fig = go.Figure(go.Heatmap(\n",
    "#         z=df_corr.values.tolist(),\n",
    "#         x=cuisines_columns, #  df_corr.columns\n",
    "#         y=cuisines_columns,\n",
    "#         colorscale='rdylgn', \n",
    "#         zmin=-1, zmax=1))\n",
    "# fig.show()"
   ]
  },
  {
   "cell_type": "code",
   "execution_count": 296,
   "id": "05818755",
   "metadata": {},
   "outputs": [
    {
     "data": {
      "application/vnd.plotly.v1+json": {
       "config": {
        "plotlyServerURL": "https://plot.ly"
       },
       "data": [
        {
         "colorscale": [
          [
           0,
           "rgb(165,0,38)"
          ],
          [
           0.1,
           "rgb(215,48,39)"
          ],
          [
           0.2,
           "rgb(244,109,67)"
          ],
          [
           0.3,
           "rgb(253,174,97)"
          ],
          [
           0.4,
           "rgb(254,224,139)"
          ],
          [
           0.5,
           "rgb(255,255,191)"
          ],
          [
           0.6,
           "rgb(217,239,139)"
          ],
          [
           0.7,
           "rgb(166,217,106)"
          ],
          [
           0.8,
           "rgb(102,189,99)"
          ],
          [
           0.9,
           "rgb(26,152,80)"
          ],
          [
           1,
           "rgb(0,104,55)"
          ]
         ],
         "type": "heatmap",
         "x": [
          "cuisines_European",
          "cuisines_Italian",
          "cuisines_French",
          "cuisines_Mediterranean",
          "cuisines_Bar",
          "cuisines_Spanish",
          "cuisines_Cafe",
          "cuisines_Pub",
          "cuisines_Seafood",
          "cuisines_Pizza",
          "cuisines_British",
          "cuisines_Fast food",
          "cuisines_Asian",
          "cuisines_Barbecue"
         ],
         "y": [
          "cuisines_European",
          "cuisines_Italian",
          "cuisines_French",
          "cuisines_Mediterranean",
          "cuisines_Bar",
          "cuisines_Spanish",
          "cuisines_Cafe",
          "cuisines_Pub",
          "cuisines_Seafood",
          "cuisines_Pizza",
          "cuisines_British",
          "cuisines_Fast food",
          "cuisines_Asian",
          "cuisines_Barbecue"
         ],
         "z": [
          [
           1,
           0.02635735254436221,
           0.01033799461150643,
           0.12539757277284522,
           0.02026493118411455,
           0.03935352737496801,
           -0.04347715550554017,
           0.019445033697000784,
           0.060153314371716574,
           -0.004679579148861261,
           0.0019754924624657195,
           -0.009407117788107024,
           -0.0329155738428306,
           -0.0022717119199715703
          ],
          [
           0.02635735254436221,
           1,
           0.002986407890388293,
           0.1910483070028573,
           -0.08684977183816439,
           -0.04252595910421098,
           -0.315049252151282,
           -0.1222172662373057,
           0.09134803660631109,
           0.14370799193140976,
           -0.015302259343190783,
           -0.14385790999859904,
           -0.3750486985794981,
           0.025838621199221774
          ],
          [
           0.01033799461150643,
           0.002986407890388293,
           1,
           -0.0139807543407817,
           -0.0012602820769188892,
           0.06294547619552694,
           0.01501701128520022,
           -0.005728951414602807,
           -0.013785396056806558,
           -0.018536812804046166,
           0.061340083627472605,
           -0.004709073699370711,
           -0.006666080270971882,
           -0.0063464562592875
          ],
          [
           0.12539757277284522,
           0.1910483070028573,
           -0.0139807543407817,
           1,
           -0.03870226268571392,
           0.010633755543837485,
           -0.16329002290612193,
           -0.11560147572545643,
           0.4915246503962869,
           0.08014215893457734,
           -0.011224942156298984,
           -0.056184802978610345,
           -0.09036162131186043,
           0.060042009015372225
          ],
          [
           0.02026493118411455,
           -0.08684977183816439,
           -0.0012602820769188892,
           -0.03870226268571392,
           1,
           0.010756496562133882,
           0.13205212391847462,
           0.5051117139205213,
           -0.1623815641036064,
           -0.11745733419553878,
           0.018327730295269618,
           0.017754848911087463,
           -0.0710999791879275,
           0.5843101692153989
          ],
          [
           0.03935352737496801,
           -0.04252595910421098,
           0.06294547619552694,
           0.010633755543837485,
           0.010756496562133882,
           1,
           -0.01396404851999065,
           0.007432632828521836,
           0.003475816090450468,
           -0.009501010271224276,
           -0.0014961645643075277,
           0.020772801310635598,
           -0.00803868325958143,
           0.008924215084442797
          ],
          [
           -0.04347715550554017,
           -0.315049252151282,
           0.01501701128520022,
           -0.16329002290612193,
           0.13205212391847462,
           -0.01396404851999065,
           1,
           0.14989855467500404,
           -0.18644995790295432,
           -0.17006855376888258,
           -0.004004269500025232,
           -0.025804084690490503,
           -0.06057435870377474,
           -0.10129818955516065
          ],
          [
           0.019445033697000784,
           -0.1222172662373057,
           -0.005728951414602807,
           -0.11560147572545643,
           0.5051117139205213,
           0.007432632828521836,
           0.14989855467500404,
           1,
           -0.1377570745895663,
           -0.07956702638375288,
           0.044880257360660654,
           0.05397375067109649,
           -0.048107203649875335,
           0.030597053936819572
          ],
          [
           0.060153314371716574,
           0.09134803660631109,
           -0.013785396056806558,
           0.4915246503962869,
           -0.1623815641036064,
           0.003475816090450468,
           -0.18644995790295432,
           -0.1377570745895663,
           1,
           0.09560535837330861,
           -0.012002302333446577,
           -0.07655777795206684,
           0.12148607465498522,
           -0.0605299228093387
          ],
          [
           -0.004679579148861261,
           0.14370799193140976,
           -0.018536812804046166,
           0.08014215893457734,
           -0.11745733419553878,
           -0.009501010271224276,
           -0.17006855376888258,
           -0.07956702638375288,
           0.09560535837330861,
           1,
           -0.014153215406366946,
           -0.027496054811167302,
           -0.07648797495336154,
           -0.027773886544905615
          ],
          [
           0.0019754924624657195,
           -0.015302259343190783,
           0.061340083627472605,
           -0.011224942156298984,
           0.018327730295269618,
           -0.0014961645643075277,
           -0.004004269500025232,
           0.044880257360660654,
           -0.012002302333446577,
           -0.014153215406366946,
           1,
           0.002866339536608207,
           -0.004997751343036793,
           -0.0018797511368592564
          ],
          [
           -0.009407117788107024,
           -0.14385790999859904,
           -0.004709073699370711,
           -0.056184802978610345,
           0.017754848911087463,
           0.020772801310635598,
           -0.025804084690490503,
           0.05397375067109649,
           -0.07655777795206684,
           -0.027496054811167302,
           0.002866339536608207,
           1,
           -0.017123620824630675,
           0.0019931703611654897
          ],
          [
           -0.0329155738428306,
           -0.3750486985794981,
           -0.006666080270971882,
           -0.09036162131186043,
           -0.0710999791879275,
           -0.00803868325958143,
           -0.06057435870377474,
           -0.048107203649875335,
           0.12148607465498522,
           -0.07648797495336154,
           -0.004997751343036793,
           -0.017123620824630675,
           1,
           -0.0391672626794743
          ],
          [
           -0.0022717119199715703,
           0.025838621199221774,
           -0.0063464562592875,
           0.060042009015372225,
           0.5843101692153989,
           0.008924215084442797,
           -0.10129818955516065,
           0.030597053936819572,
           -0.0605299228093387,
           -0.027773886544905615,
           -0.0018797511368592564,
           0.0019931703611654897,
           -0.0391672626794743,
           1
          ]
         ],
         "zmax": 1,
         "zmin": -1
        }
       ],
       "layout": {
        "template": {
         "data": {
          "bar": [
           {
            "error_x": {
             "color": "#2a3f5f"
            },
            "error_y": {
             "color": "#2a3f5f"
            },
            "marker": {
             "line": {
              "color": "#E5ECF6",
              "width": 0.5
             },
             "pattern": {
              "fillmode": "overlay",
              "size": 10,
              "solidity": 0.2
             }
            },
            "type": "bar"
           }
          ],
          "barpolar": [
           {
            "marker": {
             "line": {
              "color": "#E5ECF6",
              "width": 0.5
             },
             "pattern": {
              "fillmode": "overlay",
              "size": 10,
              "solidity": 0.2
             }
            },
            "type": "barpolar"
           }
          ],
          "carpet": [
           {
            "aaxis": {
             "endlinecolor": "#2a3f5f",
             "gridcolor": "white",
             "linecolor": "white",
             "minorgridcolor": "white",
             "startlinecolor": "#2a3f5f"
            },
            "baxis": {
             "endlinecolor": "#2a3f5f",
             "gridcolor": "white",
             "linecolor": "white",
             "minorgridcolor": "white",
             "startlinecolor": "#2a3f5f"
            },
            "type": "carpet"
           }
          ],
          "choropleth": [
           {
            "colorbar": {
             "outlinewidth": 0,
             "ticks": ""
            },
            "type": "choropleth"
           }
          ],
          "contour": [
           {
            "colorbar": {
             "outlinewidth": 0,
             "ticks": ""
            },
            "colorscale": [
             [
              0,
              "#0d0887"
             ],
             [
              0.1111111111111111,
              "#46039f"
             ],
             [
              0.2222222222222222,
              "#7201a8"
             ],
             [
              0.3333333333333333,
              "#9c179e"
             ],
             [
              0.4444444444444444,
              "#bd3786"
             ],
             [
              0.5555555555555556,
              "#d8576b"
             ],
             [
              0.6666666666666666,
              "#ed7953"
             ],
             [
              0.7777777777777778,
              "#fb9f3a"
             ],
             [
              0.8888888888888888,
              "#fdca26"
             ],
             [
              1,
              "#f0f921"
             ]
            ],
            "type": "contour"
           }
          ],
          "contourcarpet": [
           {
            "colorbar": {
             "outlinewidth": 0,
             "ticks": ""
            },
            "type": "contourcarpet"
           }
          ],
          "heatmap": [
           {
            "colorbar": {
             "outlinewidth": 0,
             "ticks": ""
            },
            "colorscale": [
             [
              0,
              "#0d0887"
             ],
             [
              0.1111111111111111,
              "#46039f"
             ],
             [
              0.2222222222222222,
              "#7201a8"
             ],
             [
              0.3333333333333333,
              "#9c179e"
             ],
             [
              0.4444444444444444,
              "#bd3786"
             ],
             [
              0.5555555555555556,
              "#d8576b"
             ],
             [
              0.6666666666666666,
              "#ed7953"
             ],
             [
              0.7777777777777778,
              "#fb9f3a"
             ],
             [
              0.8888888888888888,
              "#fdca26"
             ],
             [
              1,
              "#f0f921"
             ]
            ],
            "type": "heatmap"
           }
          ],
          "heatmapgl": [
           {
            "colorbar": {
             "outlinewidth": 0,
             "ticks": ""
            },
            "colorscale": [
             [
              0,
              "#0d0887"
             ],
             [
              0.1111111111111111,
              "#46039f"
             ],
             [
              0.2222222222222222,
              "#7201a8"
             ],
             [
              0.3333333333333333,
              "#9c179e"
             ],
             [
              0.4444444444444444,
              "#bd3786"
             ],
             [
              0.5555555555555556,
              "#d8576b"
             ],
             [
              0.6666666666666666,
              "#ed7953"
             ],
             [
              0.7777777777777778,
              "#fb9f3a"
             ],
             [
              0.8888888888888888,
              "#fdca26"
             ],
             [
              1,
              "#f0f921"
             ]
            ],
            "type": "heatmapgl"
           }
          ],
          "histogram": [
           {
            "marker": {
             "pattern": {
              "fillmode": "overlay",
              "size": 10,
              "solidity": 0.2
             }
            },
            "type": "histogram"
           }
          ],
          "histogram2d": [
           {
            "colorbar": {
             "outlinewidth": 0,
             "ticks": ""
            },
            "colorscale": [
             [
              0,
              "#0d0887"
             ],
             [
              0.1111111111111111,
              "#46039f"
             ],
             [
              0.2222222222222222,
              "#7201a8"
             ],
             [
              0.3333333333333333,
              "#9c179e"
             ],
             [
              0.4444444444444444,
              "#bd3786"
             ],
             [
              0.5555555555555556,
              "#d8576b"
             ],
             [
              0.6666666666666666,
              "#ed7953"
             ],
             [
              0.7777777777777778,
              "#fb9f3a"
             ],
             [
              0.8888888888888888,
              "#fdca26"
             ],
             [
              1,
              "#f0f921"
             ]
            ],
            "type": "histogram2d"
           }
          ],
          "histogram2dcontour": [
           {
            "colorbar": {
             "outlinewidth": 0,
             "ticks": ""
            },
            "colorscale": [
             [
              0,
              "#0d0887"
             ],
             [
              0.1111111111111111,
              "#46039f"
             ],
             [
              0.2222222222222222,
              "#7201a8"
             ],
             [
              0.3333333333333333,
              "#9c179e"
             ],
             [
              0.4444444444444444,
              "#bd3786"
             ],
             [
              0.5555555555555556,
              "#d8576b"
             ],
             [
              0.6666666666666666,
              "#ed7953"
             ],
             [
              0.7777777777777778,
              "#fb9f3a"
             ],
             [
              0.8888888888888888,
              "#fdca26"
             ],
             [
              1,
              "#f0f921"
             ]
            ],
            "type": "histogram2dcontour"
           }
          ],
          "mesh3d": [
           {
            "colorbar": {
             "outlinewidth": 0,
             "ticks": ""
            },
            "type": "mesh3d"
           }
          ],
          "parcoords": [
           {
            "line": {
             "colorbar": {
              "outlinewidth": 0,
              "ticks": ""
             }
            },
            "type": "parcoords"
           }
          ],
          "pie": [
           {
            "automargin": true,
            "type": "pie"
           }
          ],
          "scatter": [
           {
            "fillpattern": {
             "fillmode": "overlay",
             "size": 10,
             "solidity": 0.2
            },
            "type": "scatter"
           }
          ],
          "scatter3d": [
           {
            "line": {
             "colorbar": {
              "outlinewidth": 0,
              "ticks": ""
             }
            },
            "marker": {
             "colorbar": {
              "outlinewidth": 0,
              "ticks": ""
             }
            },
            "type": "scatter3d"
           }
          ],
          "scattercarpet": [
           {
            "marker": {
             "colorbar": {
              "outlinewidth": 0,
              "ticks": ""
             }
            },
            "type": "scattercarpet"
           }
          ],
          "scattergeo": [
           {
            "marker": {
             "colorbar": {
              "outlinewidth": 0,
              "ticks": ""
             }
            },
            "type": "scattergeo"
           }
          ],
          "scattergl": [
           {
            "marker": {
             "colorbar": {
              "outlinewidth": 0,
              "ticks": ""
             }
            },
            "type": "scattergl"
           }
          ],
          "scattermapbox": [
           {
            "marker": {
             "colorbar": {
              "outlinewidth": 0,
              "ticks": ""
             }
            },
            "type": "scattermapbox"
           }
          ],
          "scatterpolar": [
           {
            "marker": {
             "colorbar": {
              "outlinewidth": 0,
              "ticks": ""
             }
            },
            "type": "scatterpolar"
           }
          ],
          "scatterpolargl": [
           {
            "marker": {
             "colorbar": {
              "outlinewidth": 0,
              "ticks": ""
             }
            },
            "type": "scatterpolargl"
           }
          ],
          "scatterternary": [
           {
            "marker": {
             "colorbar": {
              "outlinewidth": 0,
              "ticks": ""
             }
            },
            "type": "scatterternary"
           }
          ],
          "surface": [
           {
            "colorbar": {
             "outlinewidth": 0,
             "ticks": ""
            },
            "colorscale": [
             [
              0,
              "#0d0887"
             ],
             [
              0.1111111111111111,
              "#46039f"
             ],
             [
              0.2222222222222222,
              "#7201a8"
             ],
             [
              0.3333333333333333,
              "#9c179e"
             ],
             [
              0.4444444444444444,
              "#bd3786"
             ],
             [
              0.5555555555555556,
              "#d8576b"
             ],
             [
              0.6666666666666666,
              "#ed7953"
             ],
             [
              0.7777777777777778,
              "#fb9f3a"
             ],
             [
              0.8888888888888888,
              "#fdca26"
             ],
             [
              1,
              "#f0f921"
             ]
            ],
            "type": "surface"
           }
          ],
          "table": [
           {
            "cells": {
             "fill": {
              "color": "#EBF0F8"
             },
             "line": {
              "color": "white"
             }
            },
            "header": {
             "fill": {
              "color": "#C8D4E3"
             },
             "line": {
              "color": "white"
             }
            },
            "type": "table"
           }
          ]
         },
         "layout": {
          "annotationdefaults": {
           "arrowcolor": "#2a3f5f",
           "arrowhead": 0,
           "arrowwidth": 1
          },
          "autotypenumbers": "strict",
          "coloraxis": {
           "colorbar": {
            "outlinewidth": 0,
            "ticks": ""
           }
          },
          "colorscale": {
           "diverging": [
            [
             0,
             "#8e0152"
            ],
            [
             0.1,
             "#c51b7d"
            ],
            [
             0.2,
             "#de77ae"
            ],
            [
             0.3,
             "#f1b6da"
            ],
            [
             0.4,
             "#fde0ef"
            ],
            [
             0.5,
             "#f7f7f7"
            ],
            [
             0.6,
             "#e6f5d0"
            ],
            [
             0.7,
             "#b8e186"
            ],
            [
             0.8,
             "#7fbc41"
            ],
            [
             0.9,
             "#4d9221"
            ],
            [
             1,
             "#276419"
            ]
           ],
           "sequential": [
            [
             0,
             "#0d0887"
            ],
            [
             0.1111111111111111,
             "#46039f"
            ],
            [
             0.2222222222222222,
             "#7201a8"
            ],
            [
             0.3333333333333333,
             "#9c179e"
            ],
            [
             0.4444444444444444,
             "#bd3786"
            ],
            [
             0.5555555555555556,
             "#d8576b"
            ],
            [
             0.6666666666666666,
             "#ed7953"
            ],
            [
             0.7777777777777778,
             "#fb9f3a"
            ],
            [
             0.8888888888888888,
             "#fdca26"
            ],
            [
             1,
             "#f0f921"
            ]
           ],
           "sequentialminus": [
            [
             0,
             "#0d0887"
            ],
            [
             0.1111111111111111,
             "#46039f"
            ],
            [
             0.2222222222222222,
             "#7201a8"
            ],
            [
             0.3333333333333333,
             "#9c179e"
            ],
            [
             0.4444444444444444,
             "#bd3786"
            ],
            [
             0.5555555555555556,
             "#d8576b"
            ],
            [
             0.6666666666666666,
             "#ed7953"
            ],
            [
             0.7777777777777778,
             "#fb9f3a"
            ],
            [
             0.8888888888888888,
             "#fdca26"
            ],
            [
             1,
             "#f0f921"
            ]
           ]
          },
          "colorway": [
           "#636efa",
           "#EF553B",
           "#00cc96",
           "#ab63fa",
           "#FFA15A",
           "#19d3f3",
           "#FF6692",
           "#B6E880",
           "#FF97FF",
           "#FECB52"
          ],
          "font": {
           "color": "#2a3f5f"
          },
          "geo": {
           "bgcolor": "white",
           "lakecolor": "white",
           "landcolor": "#E5ECF6",
           "showlakes": true,
           "showland": true,
           "subunitcolor": "white"
          },
          "hoverlabel": {
           "align": "left"
          },
          "hovermode": "closest",
          "mapbox": {
           "style": "light"
          },
          "paper_bgcolor": "white",
          "plot_bgcolor": "#E5ECF6",
          "polar": {
           "angularaxis": {
            "gridcolor": "white",
            "linecolor": "white",
            "ticks": ""
           },
           "bgcolor": "#E5ECF6",
           "radialaxis": {
            "gridcolor": "white",
            "linecolor": "white",
            "ticks": ""
           }
          },
          "scene": {
           "xaxis": {
            "backgroundcolor": "#E5ECF6",
            "gridcolor": "white",
            "gridwidth": 2,
            "linecolor": "white",
            "showbackground": true,
            "ticks": "",
            "zerolinecolor": "white"
           },
           "yaxis": {
            "backgroundcolor": "#E5ECF6",
            "gridcolor": "white",
            "gridwidth": 2,
            "linecolor": "white",
            "showbackground": true,
            "ticks": "",
            "zerolinecolor": "white"
           },
           "zaxis": {
            "backgroundcolor": "#E5ECF6",
            "gridcolor": "white",
            "gridwidth": 2,
            "linecolor": "white",
            "showbackground": true,
            "ticks": "",
            "zerolinecolor": "white"
           }
          },
          "shapedefaults": {
           "line": {
            "color": "#2a3f5f"
           }
          },
          "ternary": {
           "aaxis": {
            "gridcolor": "white",
            "linecolor": "white",
            "ticks": ""
           },
           "baxis": {
            "gridcolor": "white",
            "linecolor": "white",
            "ticks": ""
           },
           "bgcolor": "#E5ECF6",
           "caxis": {
            "gridcolor": "white",
            "linecolor": "white",
            "ticks": ""
           }
          },
          "title": {
           "x": 0.05
          },
          "xaxis": {
           "automargin": true,
           "gridcolor": "white",
           "linecolor": "white",
           "ticks": "",
           "title": {
            "standoff": 15
           },
           "zerolinecolor": "white",
           "zerolinewidth": 2
          },
          "yaxis": {
           "automargin": true,
           "gridcolor": "white",
           "linecolor": "white",
           "ticks": "",
           "title": {
            "standoff": 15
           },
           "zerolinecolor": "white",
           "zerolinewidth": 2
          }
         }
        },
        "title": {
         "text": "cuisines vs cuisines"
        }
       }
      },
      "text/html": [
       "<div>                            <div id=\"e60f7566-9f18-4858-8078-102677876aac\" class=\"plotly-graph-div\" style=\"height:525px; width:100%;\"></div>            <script type=\"text/javascript\">                require([\"plotly\"], function(Plotly) {                    window.PLOTLYENV=window.PLOTLYENV || {};                                    if (document.getElementById(\"e60f7566-9f18-4858-8078-102677876aac\")) {                    Plotly.newPlot(                        \"e60f7566-9f18-4858-8078-102677876aac\",                        [{\"colorscale\":[[0.0,\"rgb(165,0,38)\"],[0.1,\"rgb(215,48,39)\"],[0.2,\"rgb(244,109,67)\"],[0.3,\"rgb(253,174,97)\"],[0.4,\"rgb(254,224,139)\"],[0.5,\"rgb(255,255,191)\"],[0.6,\"rgb(217,239,139)\"],[0.7,\"rgb(166,217,106)\"],[0.8,\"rgb(102,189,99)\"],[0.9,\"rgb(26,152,80)\"],[1.0,\"rgb(0,104,55)\"]],\"x\":[\"cuisines_European\",\"cuisines_Italian\",\"cuisines_French\",\"cuisines_Mediterranean\",\"cuisines_Bar\",\"cuisines_Spanish\",\"cuisines_Cafe\",\"cuisines_Pub\",\"cuisines_Seafood\",\"cuisines_Pizza\",\"cuisines_British\",\"cuisines_Fast food\",\"cuisines_Asian\",\"cuisines_Barbecue\"],\"y\":[\"cuisines_European\",\"cuisines_Italian\",\"cuisines_French\",\"cuisines_Mediterranean\",\"cuisines_Bar\",\"cuisines_Spanish\",\"cuisines_Cafe\",\"cuisines_Pub\",\"cuisines_Seafood\",\"cuisines_Pizza\",\"cuisines_British\",\"cuisines_Fast food\",\"cuisines_Asian\",\"cuisines_Barbecue\"],\"z\":[[1.0,0.02635735254436221,0.01033799461150643,0.12539757277284522,0.02026493118411455,0.03935352737496801,-0.04347715550554017,0.019445033697000784,0.060153314371716574,-0.004679579148861261,0.0019754924624657195,-0.009407117788107024,-0.0329155738428306,-0.0022717119199715703],[0.02635735254436221,1.0,0.002986407890388293,0.1910483070028573,-0.08684977183816439,-0.04252595910421098,-0.315049252151282,-0.1222172662373057,0.09134803660631109,0.14370799193140976,-0.015302259343190783,-0.14385790999859904,-0.3750486985794981,0.025838621199221774],[0.01033799461150643,0.002986407890388293,1.0,-0.0139807543407817,-0.0012602820769188892,0.06294547619552694,0.01501701128520022,-0.005728951414602807,-0.013785396056806558,-0.018536812804046166,0.061340083627472605,-0.004709073699370711,-0.006666080270971882,-0.0063464562592875],[0.12539757277284522,0.1910483070028573,-0.0139807543407817,1.0,-0.03870226268571392,0.010633755543837485,-0.16329002290612193,-0.11560147572545643,0.4915246503962869,0.08014215893457734,-0.011224942156298984,-0.056184802978610345,-0.09036162131186043,0.060042009015372225],[0.02026493118411455,-0.08684977183816439,-0.0012602820769188892,-0.03870226268571392,1.0,0.010756496562133882,0.13205212391847462,0.5051117139205213,-0.1623815641036064,-0.11745733419553878,0.018327730295269618,0.017754848911087463,-0.0710999791879275,0.5843101692153989],[0.03935352737496801,-0.04252595910421098,0.06294547619552694,0.010633755543837485,0.010756496562133882,1.0,-0.01396404851999065,0.007432632828521836,0.003475816090450468,-0.009501010271224276,-0.0014961645643075277,0.020772801310635598,-0.00803868325958143,0.008924215084442797],[-0.04347715550554017,-0.315049252151282,0.01501701128520022,-0.16329002290612193,0.13205212391847462,-0.01396404851999065,1.0,0.14989855467500404,-0.18644995790295432,-0.17006855376888258,-0.004004269500025232,-0.025804084690490503,-0.06057435870377474,-0.10129818955516065],[0.019445033697000784,-0.1222172662373057,-0.005728951414602807,-0.11560147572545643,0.5051117139205213,0.007432632828521836,0.14989855467500404,1.0,-0.1377570745895663,-0.07956702638375288,0.044880257360660654,0.05397375067109649,-0.048107203649875335,0.030597053936819572],[0.060153314371716574,0.09134803660631109,-0.013785396056806558,0.4915246503962869,-0.1623815641036064,0.003475816090450468,-0.18644995790295432,-0.1377570745895663,1.0,0.09560535837330861,-0.012002302333446577,-0.07655777795206684,0.12148607465498522,-0.0605299228093387],[-0.004679579148861261,0.14370799193140976,-0.018536812804046166,0.08014215893457734,-0.11745733419553878,-0.009501010271224276,-0.17006855376888258,-0.07956702638375288,0.09560535837330861,1.0,-0.014153215406366946,-0.027496054811167302,-0.07648797495336154,-0.027773886544905615],[0.0019754924624657195,-0.015302259343190783,0.061340083627472605,-0.011224942156298984,0.018327730295269618,-0.0014961645643075277,-0.004004269500025232,0.044880257360660654,-0.012002302333446577,-0.014153215406366946,1.0,0.002866339536608207,-0.004997751343036793,-0.0018797511368592564],[-0.009407117788107024,-0.14385790999859904,-0.004709073699370711,-0.056184802978610345,0.017754848911087463,0.020772801310635598,-0.025804084690490503,0.05397375067109649,-0.07655777795206684,-0.027496054811167302,0.002866339536608207,1.0,-0.017123620824630675,0.0019931703611654897],[-0.0329155738428306,-0.3750486985794981,-0.006666080270971882,-0.09036162131186043,-0.0710999791879275,-0.00803868325958143,-0.06057435870377474,-0.048107203649875335,0.12148607465498522,-0.07648797495336154,-0.004997751343036793,-0.017123620824630675,1.0,-0.0391672626794743],[-0.0022717119199715703,0.025838621199221774,-0.0063464562592875,0.060042009015372225,0.5843101692153989,0.008924215084442797,-0.10129818955516065,0.030597053936819572,-0.0605299228093387,-0.027773886544905615,-0.0018797511368592564,0.0019931703611654897,-0.0391672626794743,1.0]],\"zmax\":1,\"zmin\":-1,\"type\":\"heatmap\"}],                        {\"title\":{\"text\":\"cuisines vs cuisines\"},\"template\":{\"data\":{\"histogram2dcontour\":[{\"type\":\"histogram2dcontour\",\"colorbar\":{\"outlinewidth\":0,\"ticks\":\"\"},\"colorscale\":[[0.0,\"#0d0887\"],[0.1111111111111111,\"#46039f\"],[0.2222222222222222,\"#7201a8\"],[0.3333333333333333,\"#9c179e\"],[0.4444444444444444,\"#bd3786\"],[0.5555555555555556,\"#d8576b\"],[0.6666666666666666,\"#ed7953\"],[0.7777777777777778,\"#fb9f3a\"],[0.8888888888888888,\"#fdca26\"],[1.0,\"#f0f921\"]]}],\"choropleth\":[{\"type\":\"choropleth\",\"colorbar\":{\"outlinewidth\":0,\"ticks\":\"\"}}],\"histogram2d\":[{\"type\":\"histogram2d\",\"colorbar\":{\"outlinewidth\":0,\"ticks\":\"\"},\"colorscale\":[[0.0,\"#0d0887\"],[0.1111111111111111,\"#46039f\"],[0.2222222222222222,\"#7201a8\"],[0.3333333333333333,\"#9c179e\"],[0.4444444444444444,\"#bd3786\"],[0.5555555555555556,\"#d8576b\"],[0.6666666666666666,\"#ed7953\"],[0.7777777777777778,\"#fb9f3a\"],[0.8888888888888888,\"#fdca26\"],[1.0,\"#f0f921\"]]}],\"heatmap\":[{\"type\":\"heatmap\",\"colorbar\":{\"outlinewidth\":0,\"ticks\":\"\"},\"colorscale\":[[0.0,\"#0d0887\"],[0.1111111111111111,\"#46039f\"],[0.2222222222222222,\"#7201a8\"],[0.3333333333333333,\"#9c179e\"],[0.4444444444444444,\"#bd3786\"],[0.5555555555555556,\"#d8576b\"],[0.6666666666666666,\"#ed7953\"],[0.7777777777777778,\"#fb9f3a\"],[0.8888888888888888,\"#fdca26\"],[1.0,\"#f0f921\"]]}],\"heatmapgl\":[{\"type\":\"heatmapgl\",\"colorbar\":{\"outlinewidth\":0,\"ticks\":\"\"},\"colorscale\":[[0.0,\"#0d0887\"],[0.1111111111111111,\"#46039f\"],[0.2222222222222222,\"#7201a8\"],[0.3333333333333333,\"#9c179e\"],[0.4444444444444444,\"#bd3786\"],[0.5555555555555556,\"#d8576b\"],[0.6666666666666666,\"#ed7953\"],[0.7777777777777778,\"#fb9f3a\"],[0.8888888888888888,\"#fdca26\"],[1.0,\"#f0f921\"]]}],\"contourcarpet\":[{\"type\":\"contourcarpet\",\"colorbar\":{\"outlinewidth\":0,\"ticks\":\"\"}}],\"contour\":[{\"type\":\"contour\",\"colorbar\":{\"outlinewidth\":0,\"ticks\":\"\"},\"colorscale\":[[0.0,\"#0d0887\"],[0.1111111111111111,\"#46039f\"],[0.2222222222222222,\"#7201a8\"],[0.3333333333333333,\"#9c179e\"],[0.4444444444444444,\"#bd3786\"],[0.5555555555555556,\"#d8576b\"],[0.6666666666666666,\"#ed7953\"],[0.7777777777777778,\"#fb9f3a\"],[0.8888888888888888,\"#fdca26\"],[1.0,\"#f0f921\"]]}],\"surface\":[{\"type\":\"surface\",\"colorbar\":{\"outlinewidth\":0,\"ticks\":\"\"},\"colorscale\":[[0.0,\"#0d0887\"],[0.1111111111111111,\"#46039f\"],[0.2222222222222222,\"#7201a8\"],[0.3333333333333333,\"#9c179e\"],[0.4444444444444444,\"#bd3786\"],[0.5555555555555556,\"#d8576b\"],[0.6666666666666666,\"#ed7953\"],[0.7777777777777778,\"#fb9f3a\"],[0.8888888888888888,\"#fdca26\"],[1.0,\"#f0f921\"]]}],\"mesh3d\":[{\"type\":\"mesh3d\",\"colorbar\":{\"outlinewidth\":0,\"ticks\":\"\"}}],\"scatter\":[{\"fillpattern\":{\"fillmode\":\"overlay\",\"size\":10,\"solidity\":0.2},\"type\":\"scatter\"}],\"parcoords\":[{\"type\":\"parcoords\",\"line\":{\"colorbar\":{\"outlinewidth\":0,\"ticks\":\"\"}}}],\"scatterpolargl\":[{\"type\":\"scatterpolargl\",\"marker\":{\"colorbar\":{\"outlinewidth\":0,\"ticks\":\"\"}}}],\"bar\":[{\"error_x\":{\"color\":\"#2a3f5f\"},\"error_y\":{\"color\":\"#2a3f5f\"},\"marker\":{\"line\":{\"color\":\"#E5ECF6\",\"width\":0.5},\"pattern\":{\"fillmode\":\"overlay\",\"size\":10,\"solidity\":0.2}},\"type\":\"bar\"}],\"scattergeo\":[{\"type\":\"scattergeo\",\"marker\":{\"colorbar\":{\"outlinewidth\":0,\"ticks\":\"\"}}}],\"scatterpolar\":[{\"type\":\"scatterpolar\",\"marker\":{\"colorbar\":{\"outlinewidth\":0,\"ticks\":\"\"}}}],\"histogram\":[{\"marker\":{\"pattern\":{\"fillmode\":\"overlay\",\"size\":10,\"solidity\":0.2}},\"type\":\"histogram\"}],\"scattergl\":[{\"type\":\"scattergl\",\"marker\":{\"colorbar\":{\"outlinewidth\":0,\"ticks\":\"\"}}}],\"scatter3d\":[{\"type\":\"scatter3d\",\"line\":{\"colorbar\":{\"outlinewidth\":0,\"ticks\":\"\"}},\"marker\":{\"colorbar\":{\"outlinewidth\":0,\"ticks\":\"\"}}}],\"scattermapbox\":[{\"type\":\"scattermapbox\",\"marker\":{\"colorbar\":{\"outlinewidth\":0,\"ticks\":\"\"}}}],\"scatterternary\":[{\"type\":\"scatterternary\",\"marker\":{\"colorbar\":{\"outlinewidth\":0,\"ticks\":\"\"}}}],\"scattercarpet\":[{\"type\":\"scattercarpet\",\"marker\":{\"colorbar\":{\"outlinewidth\":0,\"ticks\":\"\"}}}],\"carpet\":[{\"aaxis\":{\"endlinecolor\":\"#2a3f5f\",\"gridcolor\":\"white\",\"linecolor\":\"white\",\"minorgridcolor\":\"white\",\"startlinecolor\":\"#2a3f5f\"},\"baxis\":{\"endlinecolor\":\"#2a3f5f\",\"gridcolor\":\"white\",\"linecolor\":\"white\",\"minorgridcolor\":\"white\",\"startlinecolor\":\"#2a3f5f\"},\"type\":\"carpet\"}],\"table\":[{\"cells\":{\"fill\":{\"color\":\"#EBF0F8\"},\"line\":{\"color\":\"white\"}},\"header\":{\"fill\":{\"color\":\"#C8D4E3\"},\"line\":{\"color\":\"white\"}},\"type\":\"table\"}],\"barpolar\":[{\"marker\":{\"line\":{\"color\":\"#E5ECF6\",\"width\":0.5},\"pattern\":{\"fillmode\":\"overlay\",\"size\":10,\"solidity\":0.2}},\"type\":\"barpolar\"}],\"pie\":[{\"automargin\":true,\"type\":\"pie\"}]},\"layout\":{\"autotypenumbers\":\"strict\",\"colorway\":[\"#636efa\",\"#EF553B\",\"#00cc96\",\"#ab63fa\",\"#FFA15A\",\"#19d3f3\",\"#FF6692\",\"#B6E880\",\"#FF97FF\",\"#FECB52\"],\"font\":{\"color\":\"#2a3f5f\"},\"hovermode\":\"closest\",\"hoverlabel\":{\"align\":\"left\"},\"paper_bgcolor\":\"white\",\"plot_bgcolor\":\"#E5ECF6\",\"polar\":{\"bgcolor\":\"#E5ECF6\",\"angularaxis\":{\"gridcolor\":\"white\",\"linecolor\":\"white\",\"ticks\":\"\"},\"radialaxis\":{\"gridcolor\":\"white\",\"linecolor\":\"white\",\"ticks\":\"\"}},\"ternary\":{\"bgcolor\":\"#E5ECF6\",\"aaxis\":{\"gridcolor\":\"white\",\"linecolor\":\"white\",\"ticks\":\"\"},\"baxis\":{\"gridcolor\":\"white\",\"linecolor\":\"white\",\"ticks\":\"\"},\"caxis\":{\"gridcolor\":\"white\",\"linecolor\":\"white\",\"ticks\":\"\"}},\"coloraxis\":{\"colorbar\":{\"outlinewidth\":0,\"ticks\":\"\"}},\"colorscale\":{\"sequential\":[[0.0,\"#0d0887\"],[0.1111111111111111,\"#46039f\"],[0.2222222222222222,\"#7201a8\"],[0.3333333333333333,\"#9c179e\"],[0.4444444444444444,\"#bd3786\"],[0.5555555555555556,\"#d8576b\"],[0.6666666666666666,\"#ed7953\"],[0.7777777777777778,\"#fb9f3a\"],[0.8888888888888888,\"#fdca26\"],[1.0,\"#f0f921\"]],\"sequentialminus\":[[0.0,\"#0d0887\"],[0.1111111111111111,\"#46039f\"],[0.2222222222222222,\"#7201a8\"],[0.3333333333333333,\"#9c179e\"],[0.4444444444444444,\"#bd3786\"],[0.5555555555555556,\"#d8576b\"],[0.6666666666666666,\"#ed7953\"],[0.7777777777777778,\"#fb9f3a\"],[0.8888888888888888,\"#fdca26\"],[1.0,\"#f0f921\"]],\"diverging\":[[0,\"#8e0152\"],[0.1,\"#c51b7d\"],[0.2,\"#de77ae\"],[0.3,\"#f1b6da\"],[0.4,\"#fde0ef\"],[0.5,\"#f7f7f7\"],[0.6,\"#e6f5d0\"],[0.7,\"#b8e186\"],[0.8,\"#7fbc41\"],[0.9,\"#4d9221\"],[1,\"#276419\"]]},\"xaxis\":{\"gridcolor\":\"white\",\"linecolor\":\"white\",\"ticks\":\"\",\"title\":{\"standoff\":15},\"zerolinecolor\":\"white\",\"automargin\":true,\"zerolinewidth\":2},\"yaxis\":{\"gridcolor\":\"white\",\"linecolor\":\"white\",\"ticks\":\"\",\"title\":{\"standoff\":15},\"zerolinecolor\":\"white\",\"automargin\":true,\"zerolinewidth\":2},\"scene\":{\"xaxis\":{\"backgroundcolor\":\"#E5ECF6\",\"gridcolor\":\"white\",\"linecolor\":\"white\",\"showbackground\":true,\"ticks\":\"\",\"zerolinecolor\":\"white\",\"gridwidth\":2},\"yaxis\":{\"backgroundcolor\":\"#E5ECF6\",\"gridcolor\":\"white\",\"linecolor\":\"white\",\"showbackground\":true,\"ticks\":\"\",\"zerolinecolor\":\"white\",\"gridwidth\":2},\"zaxis\":{\"backgroundcolor\":\"#E5ECF6\",\"gridcolor\":\"white\",\"linecolor\":\"white\",\"showbackground\":true,\"ticks\":\"\",\"zerolinecolor\":\"white\",\"gridwidth\":2}},\"shapedefaults\":{\"line\":{\"color\":\"#2a3f5f\"}},\"annotationdefaults\":{\"arrowcolor\":\"#2a3f5f\",\"arrowhead\":0,\"arrowwidth\":1},\"geo\":{\"bgcolor\":\"white\",\"landcolor\":\"#E5ECF6\",\"subunitcolor\":\"white\",\"showland\":true,\"showlakes\":true,\"lakecolor\":\"white\"},\"title\":{\"x\":0.05},\"mapbox\":{\"style\":\"light\"}}}},                        {\"responsive\": true}                    ).then(function(){\n",
       "                            \n",
       "var gd = document.getElementById('e60f7566-9f18-4858-8078-102677876aac');\n",
       "var x = new MutationObserver(function (mutations, observer) {{\n",
       "        var display = window.getComputedStyle(gd).display;\n",
       "        if (!display || display === 'none') {{\n",
       "            console.log([gd, 'removed!']);\n",
       "            Plotly.purge(gd);\n",
       "            observer.disconnect();\n",
       "        }}\n",
       "}});\n",
       "\n",
       "// Listen for the removal of the full notebook cells\n",
       "var notebookContainer = gd.closest('#notebook-container');\n",
       "if (notebookContainer) {{\n",
       "    x.observe(notebookContainer, {childList: true});\n",
       "}}\n",
       "\n",
       "// Listen for the clearing of the current output cell\n",
       "var outputEl = gd.closest('.output');\n",
       "if (outputEl) {{\n",
       "    x.observe(outputEl, {childList: true});\n",
       "}}\n",
       "\n",
       "                        })                };                });            </script>        </div>"
      ]
     },
     "metadata": {},
     "output_type": "display_data"
    },
    {
     "data": {
      "application/vnd.plotly.v1+json": {
       "config": {
        "plotlyServerURL": "https://plot.ly"
       },
       "data": [
        {
         "colorscale": [
          [
           0,
           "rgb(165,0,38)"
          ],
          [
           0.1,
           "rgb(215,48,39)"
          ],
          [
           0.2,
           "rgb(244,109,67)"
          ],
          [
           0.3,
           "rgb(253,174,97)"
          ],
          [
           0.4,
           "rgb(254,224,139)"
          ],
          [
           0.5,
           "rgb(255,255,191)"
          ],
          [
           0.6,
           "rgb(217,239,139)"
          ],
          [
           0.7,
           "rgb(166,217,106)"
          ],
          [
           0.8,
           "rgb(102,189,99)"
          ],
          [
           0.9,
           "rgb(26,152,80)"
          ],
          [
           1,
           "rgb(0,104,55)"
          ]
         ],
         "type": "heatmap",
         "x": [
          "meals_Dinner",
          "meals_Lunch",
          "meals_Breakfast",
          "meals_Drinks",
          "meals_Brunch",
          "meals_After-hours"
         ],
         "y": [
          "cuisines_European",
          "cuisines_Italian",
          "cuisines_French",
          "cuisines_Mediterranean",
          "cuisines_Bar",
          "cuisines_Spanish",
          "cuisines_Cafe",
          "cuisines_Pub",
          "cuisines_Seafood",
          "cuisines_Pizza",
          "cuisines_British",
          "cuisines_Fast food",
          "cuisines_Asian",
          "cuisines_Barbecue"
         ],
         "z": [
          [
           0.03922783667032007,
           0.04669385755885915,
           -0.040442097621504365,
           0.04963939414091904,
           0.030931401342111253,
           0.10969162041289134
          ],
          [
           0.1858787339464666,
           0.178078450322129,
           -0.1792437881653462,
           -0.04828336284240628,
           -0.008606740271199035,
           0.001172876403688019
          ],
          [
           -0.021011557996070414,
           -0.013980083371516757,
           0.04453594688583556,
           0.009227376068473084,
           0.005289950825483074,
           -0.0012486492818487825
          ],
          [
           0.18419744719751135,
           0.1791058058346035,
           -0.19003769600164636,
           -0.01297029277510678,
           -0.06161264451809087,
           0.15023332657357133
          ],
          [
           -0.04858684676306467,
           -0.10090356748483205,
           0.06500492135012488,
           0.1998257167740645,
           0.0822170258010534,
           0.1181484511206376
          ],
          [
           0.015693080725420416,
           -0.009607733884091453,
           -0.009473673042605312,
           0.024620965100965262,
           -0.0011187687079291587,
           0.023381118077250643
          ],
          [
           -0.4325670639425792,
           -0.2597902117356196,
           0.5414835142241493,
           0.13639482910036557,
           0.20886208288716843,
           -0.05237309512511214
          ],
          [
           -0.08288586211111192,
           -0.17050399285272605,
           0.11727289885615842,
           0.20205531835874344,
           0.0975525732234619,
           0.11298783834728235
          ],
          [
           0.17337346090976297,
           0.1678857494773273,
           -0.21355366441394405,
           -0.06889025547050591,
           -0.1158415392643075,
           0.11227602915881943
          ],
          [
           0.18173237192533634,
           -0.04540017303208375,
           -0.18638974941246883,
           -0.056303246551718575,
           -0.09860358087400396,
           0.037983784015900135
          ],
          [
           -0.00909948828173314,
           -0.019439511827043687,
           0.005376481168718347,
           0.031791086791926576,
           -0.005667905092177812,
           0.02253688434545465
          ],
          [
           0.0024345424398792737,
           0.0001174764299863337,
           -0.012122018597982821,
           0.04979115172968942,
           0.0640211109657188,
           0.017301843753042025
          ],
          [
           0.05715772221691176,
           0.05914391947889921,
           -0.08843362986229443,
           -0.04215602756364677,
           -0.05342912117511887,
           0.008296280801539406
          ],
          [
           0.12474178279051744,
           0.03134240049033077,
           -0.13254257246735116,
           -0.030289088733960856,
           -0.0706358757198231,
           0.06327911607442337
          ]
         ],
         "zmax": 1,
         "zmin": -1
        }
       ],
       "layout": {
        "template": {
         "data": {
          "bar": [
           {
            "error_x": {
             "color": "#2a3f5f"
            },
            "error_y": {
             "color": "#2a3f5f"
            },
            "marker": {
             "line": {
              "color": "#E5ECF6",
              "width": 0.5
             },
             "pattern": {
              "fillmode": "overlay",
              "size": 10,
              "solidity": 0.2
             }
            },
            "type": "bar"
           }
          ],
          "barpolar": [
           {
            "marker": {
             "line": {
              "color": "#E5ECF6",
              "width": 0.5
             },
             "pattern": {
              "fillmode": "overlay",
              "size": 10,
              "solidity": 0.2
             }
            },
            "type": "barpolar"
           }
          ],
          "carpet": [
           {
            "aaxis": {
             "endlinecolor": "#2a3f5f",
             "gridcolor": "white",
             "linecolor": "white",
             "minorgridcolor": "white",
             "startlinecolor": "#2a3f5f"
            },
            "baxis": {
             "endlinecolor": "#2a3f5f",
             "gridcolor": "white",
             "linecolor": "white",
             "minorgridcolor": "white",
             "startlinecolor": "#2a3f5f"
            },
            "type": "carpet"
           }
          ],
          "choropleth": [
           {
            "colorbar": {
             "outlinewidth": 0,
             "ticks": ""
            },
            "type": "choropleth"
           }
          ],
          "contour": [
           {
            "colorbar": {
             "outlinewidth": 0,
             "ticks": ""
            },
            "colorscale": [
             [
              0,
              "#0d0887"
             ],
             [
              0.1111111111111111,
              "#46039f"
             ],
             [
              0.2222222222222222,
              "#7201a8"
             ],
             [
              0.3333333333333333,
              "#9c179e"
             ],
             [
              0.4444444444444444,
              "#bd3786"
             ],
             [
              0.5555555555555556,
              "#d8576b"
             ],
             [
              0.6666666666666666,
              "#ed7953"
             ],
             [
              0.7777777777777778,
              "#fb9f3a"
             ],
             [
              0.8888888888888888,
              "#fdca26"
             ],
             [
              1,
              "#f0f921"
             ]
            ],
            "type": "contour"
           }
          ],
          "contourcarpet": [
           {
            "colorbar": {
             "outlinewidth": 0,
             "ticks": ""
            },
            "type": "contourcarpet"
           }
          ],
          "heatmap": [
           {
            "colorbar": {
             "outlinewidth": 0,
             "ticks": ""
            },
            "colorscale": [
             [
              0,
              "#0d0887"
             ],
             [
              0.1111111111111111,
              "#46039f"
             ],
             [
              0.2222222222222222,
              "#7201a8"
             ],
             [
              0.3333333333333333,
              "#9c179e"
             ],
             [
              0.4444444444444444,
              "#bd3786"
             ],
             [
              0.5555555555555556,
              "#d8576b"
             ],
             [
              0.6666666666666666,
              "#ed7953"
             ],
             [
              0.7777777777777778,
              "#fb9f3a"
             ],
             [
              0.8888888888888888,
              "#fdca26"
             ],
             [
              1,
              "#f0f921"
             ]
            ],
            "type": "heatmap"
           }
          ],
          "heatmapgl": [
           {
            "colorbar": {
             "outlinewidth": 0,
             "ticks": ""
            },
            "colorscale": [
             [
              0,
              "#0d0887"
             ],
             [
              0.1111111111111111,
              "#46039f"
             ],
             [
              0.2222222222222222,
              "#7201a8"
             ],
             [
              0.3333333333333333,
              "#9c179e"
             ],
             [
              0.4444444444444444,
              "#bd3786"
             ],
             [
              0.5555555555555556,
              "#d8576b"
             ],
             [
              0.6666666666666666,
              "#ed7953"
             ],
             [
              0.7777777777777778,
              "#fb9f3a"
             ],
             [
              0.8888888888888888,
              "#fdca26"
             ],
             [
              1,
              "#f0f921"
             ]
            ],
            "type": "heatmapgl"
           }
          ],
          "histogram": [
           {
            "marker": {
             "pattern": {
              "fillmode": "overlay",
              "size": 10,
              "solidity": 0.2
             }
            },
            "type": "histogram"
           }
          ],
          "histogram2d": [
           {
            "colorbar": {
             "outlinewidth": 0,
             "ticks": ""
            },
            "colorscale": [
             [
              0,
              "#0d0887"
             ],
             [
              0.1111111111111111,
              "#46039f"
             ],
             [
              0.2222222222222222,
              "#7201a8"
             ],
             [
              0.3333333333333333,
              "#9c179e"
             ],
             [
              0.4444444444444444,
              "#bd3786"
             ],
             [
              0.5555555555555556,
              "#d8576b"
             ],
             [
              0.6666666666666666,
              "#ed7953"
             ],
             [
              0.7777777777777778,
              "#fb9f3a"
             ],
             [
              0.8888888888888888,
              "#fdca26"
             ],
             [
              1,
              "#f0f921"
             ]
            ],
            "type": "histogram2d"
           }
          ],
          "histogram2dcontour": [
           {
            "colorbar": {
             "outlinewidth": 0,
             "ticks": ""
            },
            "colorscale": [
             [
              0,
              "#0d0887"
             ],
             [
              0.1111111111111111,
              "#46039f"
             ],
             [
              0.2222222222222222,
              "#7201a8"
             ],
             [
              0.3333333333333333,
              "#9c179e"
             ],
             [
              0.4444444444444444,
              "#bd3786"
             ],
             [
              0.5555555555555556,
              "#d8576b"
             ],
             [
              0.6666666666666666,
              "#ed7953"
             ],
             [
              0.7777777777777778,
              "#fb9f3a"
             ],
             [
              0.8888888888888888,
              "#fdca26"
             ],
             [
              1,
              "#f0f921"
             ]
            ],
            "type": "histogram2dcontour"
           }
          ],
          "mesh3d": [
           {
            "colorbar": {
             "outlinewidth": 0,
             "ticks": ""
            },
            "type": "mesh3d"
           }
          ],
          "parcoords": [
           {
            "line": {
             "colorbar": {
              "outlinewidth": 0,
              "ticks": ""
             }
            },
            "type": "parcoords"
           }
          ],
          "pie": [
           {
            "automargin": true,
            "type": "pie"
           }
          ],
          "scatter": [
           {
            "fillpattern": {
             "fillmode": "overlay",
             "size": 10,
             "solidity": 0.2
            },
            "type": "scatter"
           }
          ],
          "scatter3d": [
           {
            "line": {
             "colorbar": {
              "outlinewidth": 0,
              "ticks": ""
             }
            },
            "marker": {
             "colorbar": {
              "outlinewidth": 0,
              "ticks": ""
             }
            },
            "type": "scatter3d"
           }
          ],
          "scattercarpet": [
           {
            "marker": {
             "colorbar": {
              "outlinewidth": 0,
              "ticks": ""
             }
            },
            "type": "scattercarpet"
           }
          ],
          "scattergeo": [
           {
            "marker": {
             "colorbar": {
              "outlinewidth": 0,
              "ticks": ""
             }
            },
            "type": "scattergeo"
           }
          ],
          "scattergl": [
           {
            "marker": {
             "colorbar": {
              "outlinewidth": 0,
              "ticks": ""
             }
            },
            "type": "scattergl"
           }
          ],
          "scattermapbox": [
           {
            "marker": {
             "colorbar": {
              "outlinewidth": 0,
              "ticks": ""
             }
            },
            "type": "scattermapbox"
           }
          ],
          "scatterpolar": [
           {
            "marker": {
             "colorbar": {
              "outlinewidth": 0,
              "ticks": ""
             }
            },
            "type": "scatterpolar"
           }
          ],
          "scatterpolargl": [
           {
            "marker": {
             "colorbar": {
              "outlinewidth": 0,
              "ticks": ""
             }
            },
            "type": "scatterpolargl"
           }
          ],
          "scatterternary": [
           {
            "marker": {
             "colorbar": {
              "outlinewidth": 0,
              "ticks": ""
             }
            },
            "type": "scatterternary"
           }
          ],
          "surface": [
           {
            "colorbar": {
             "outlinewidth": 0,
             "ticks": ""
            },
            "colorscale": [
             [
              0,
              "#0d0887"
             ],
             [
              0.1111111111111111,
              "#46039f"
             ],
             [
              0.2222222222222222,
              "#7201a8"
             ],
             [
              0.3333333333333333,
              "#9c179e"
             ],
             [
              0.4444444444444444,
              "#bd3786"
             ],
             [
              0.5555555555555556,
              "#d8576b"
             ],
             [
              0.6666666666666666,
              "#ed7953"
             ],
             [
              0.7777777777777778,
              "#fb9f3a"
             ],
             [
              0.8888888888888888,
              "#fdca26"
             ],
             [
              1,
              "#f0f921"
             ]
            ],
            "type": "surface"
           }
          ],
          "table": [
           {
            "cells": {
             "fill": {
              "color": "#EBF0F8"
             },
             "line": {
              "color": "white"
             }
            },
            "header": {
             "fill": {
              "color": "#C8D4E3"
             },
             "line": {
              "color": "white"
             }
            },
            "type": "table"
           }
          ]
         },
         "layout": {
          "annotationdefaults": {
           "arrowcolor": "#2a3f5f",
           "arrowhead": 0,
           "arrowwidth": 1
          },
          "autotypenumbers": "strict",
          "coloraxis": {
           "colorbar": {
            "outlinewidth": 0,
            "ticks": ""
           }
          },
          "colorscale": {
           "diverging": [
            [
             0,
             "#8e0152"
            ],
            [
             0.1,
             "#c51b7d"
            ],
            [
             0.2,
             "#de77ae"
            ],
            [
             0.3,
             "#f1b6da"
            ],
            [
             0.4,
             "#fde0ef"
            ],
            [
             0.5,
             "#f7f7f7"
            ],
            [
             0.6,
             "#e6f5d0"
            ],
            [
             0.7,
             "#b8e186"
            ],
            [
             0.8,
             "#7fbc41"
            ],
            [
             0.9,
             "#4d9221"
            ],
            [
             1,
             "#276419"
            ]
           ],
           "sequential": [
            [
             0,
             "#0d0887"
            ],
            [
             0.1111111111111111,
             "#46039f"
            ],
            [
             0.2222222222222222,
             "#7201a8"
            ],
            [
             0.3333333333333333,
             "#9c179e"
            ],
            [
             0.4444444444444444,
             "#bd3786"
            ],
            [
             0.5555555555555556,
             "#d8576b"
            ],
            [
             0.6666666666666666,
             "#ed7953"
            ],
            [
             0.7777777777777778,
             "#fb9f3a"
            ],
            [
             0.8888888888888888,
             "#fdca26"
            ],
            [
             1,
             "#f0f921"
            ]
           ],
           "sequentialminus": [
            [
             0,
             "#0d0887"
            ],
            [
             0.1111111111111111,
             "#46039f"
            ],
            [
             0.2222222222222222,
             "#7201a8"
            ],
            [
             0.3333333333333333,
             "#9c179e"
            ],
            [
             0.4444444444444444,
             "#bd3786"
            ],
            [
             0.5555555555555556,
             "#d8576b"
            ],
            [
             0.6666666666666666,
             "#ed7953"
            ],
            [
             0.7777777777777778,
             "#fb9f3a"
            ],
            [
             0.8888888888888888,
             "#fdca26"
            ],
            [
             1,
             "#f0f921"
            ]
           ]
          },
          "colorway": [
           "#636efa",
           "#EF553B",
           "#00cc96",
           "#ab63fa",
           "#FFA15A",
           "#19d3f3",
           "#FF6692",
           "#B6E880",
           "#FF97FF",
           "#FECB52"
          ],
          "font": {
           "color": "#2a3f5f"
          },
          "geo": {
           "bgcolor": "white",
           "lakecolor": "white",
           "landcolor": "#E5ECF6",
           "showlakes": true,
           "showland": true,
           "subunitcolor": "white"
          },
          "hoverlabel": {
           "align": "left"
          },
          "hovermode": "closest",
          "mapbox": {
           "style": "light"
          },
          "paper_bgcolor": "white",
          "plot_bgcolor": "#E5ECF6",
          "polar": {
           "angularaxis": {
            "gridcolor": "white",
            "linecolor": "white",
            "ticks": ""
           },
           "bgcolor": "#E5ECF6",
           "radialaxis": {
            "gridcolor": "white",
            "linecolor": "white",
            "ticks": ""
           }
          },
          "scene": {
           "xaxis": {
            "backgroundcolor": "#E5ECF6",
            "gridcolor": "white",
            "gridwidth": 2,
            "linecolor": "white",
            "showbackground": true,
            "ticks": "",
            "zerolinecolor": "white"
           },
           "yaxis": {
            "backgroundcolor": "#E5ECF6",
            "gridcolor": "white",
            "gridwidth": 2,
            "linecolor": "white",
            "showbackground": true,
            "ticks": "",
            "zerolinecolor": "white"
           },
           "zaxis": {
            "backgroundcolor": "#E5ECF6",
            "gridcolor": "white",
            "gridwidth": 2,
            "linecolor": "white",
            "showbackground": true,
            "ticks": "",
            "zerolinecolor": "white"
           }
          },
          "shapedefaults": {
           "line": {
            "color": "#2a3f5f"
           }
          },
          "ternary": {
           "aaxis": {
            "gridcolor": "white",
            "linecolor": "white",
            "ticks": ""
           },
           "baxis": {
            "gridcolor": "white",
            "linecolor": "white",
            "ticks": ""
           },
           "bgcolor": "#E5ECF6",
           "caxis": {
            "gridcolor": "white",
            "linecolor": "white",
            "ticks": ""
           }
          },
          "title": {
           "x": 0.05
          },
          "xaxis": {
           "automargin": true,
           "gridcolor": "white",
           "linecolor": "white",
           "ticks": "",
           "title": {
            "standoff": 15
           },
           "zerolinecolor": "white",
           "zerolinewidth": 2
          },
          "yaxis": {
           "automargin": true,
           "gridcolor": "white",
           "linecolor": "white",
           "ticks": "",
           "title": {
            "standoff": 15
           },
           "zerolinecolor": "white",
           "zerolinewidth": 2
          }
         }
        },
        "title": {
         "text": "cuisines vs meals"
        }
       }
      },
      "text/html": [
       "<div>                            <div id=\"c5586957-221b-498e-9024-f48500c15184\" class=\"plotly-graph-div\" style=\"height:525px; width:100%;\"></div>            <script type=\"text/javascript\">                require([\"plotly\"], function(Plotly) {                    window.PLOTLYENV=window.PLOTLYENV || {};                                    if (document.getElementById(\"c5586957-221b-498e-9024-f48500c15184\")) {                    Plotly.newPlot(                        \"c5586957-221b-498e-9024-f48500c15184\",                        [{\"colorscale\":[[0.0,\"rgb(165,0,38)\"],[0.1,\"rgb(215,48,39)\"],[0.2,\"rgb(244,109,67)\"],[0.3,\"rgb(253,174,97)\"],[0.4,\"rgb(254,224,139)\"],[0.5,\"rgb(255,255,191)\"],[0.6,\"rgb(217,239,139)\"],[0.7,\"rgb(166,217,106)\"],[0.8,\"rgb(102,189,99)\"],[0.9,\"rgb(26,152,80)\"],[1.0,\"rgb(0,104,55)\"]],\"x\":[\"meals_Dinner\",\"meals_Lunch\",\"meals_Breakfast\",\"meals_Drinks\",\"meals_Brunch\",\"meals_After-hours\"],\"y\":[\"cuisines_European\",\"cuisines_Italian\",\"cuisines_French\",\"cuisines_Mediterranean\",\"cuisines_Bar\",\"cuisines_Spanish\",\"cuisines_Cafe\",\"cuisines_Pub\",\"cuisines_Seafood\",\"cuisines_Pizza\",\"cuisines_British\",\"cuisines_Fast food\",\"cuisines_Asian\",\"cuisines_Barbecue\"],\"z\":[[0.03922783667032007,0.04669385755885915,-0.040442097621504365,0.04963939414091904,0.030931401342111253,0.10969162041289134],[0.1858787339464666,0.178078450322129,-0.1792437881653462,-0.04828336284240628,-0.008606740271199035,0.001172876403688019],[-0.021011557996070414,-0.013980083371516757,0.04453594688583556,0.009227376068473084,0.005289950825483074,-0.0012486492818487825],[0.18419744719751135,0.1791058058346035,-0.19003769600164636,-0.01297029277510678,-0.06161264451809087,0.15023332657357133],[-0.04858684676306467,-0.10090356748483205,0.06500492135012488,0.1998257167740645,0.0822170258010534,0.1181484511206376],[0.015693080725420416,-0.009607733884091453,-0.009473673042605312,0.024620965100965262,-0.0011187687079291587,0.023381118077250643],[-0.4325670639425792,-0.2597902117356196,0.5414835142241493,0.13639482910036557,0.20886208288716843,-0.05237309512511214],[-0.08288586211111192,-0.17050399285272605,0.11727289885615842,0.20205531835874344,0.0975525732234619,0.11298783834728235],[0.17337346090976297,0.1678857494773273,-0.21355366441394405,-0.06889025547050591,-0.1158415392643075,0.11227602915881943],[0.18173237192533634,-0.04540017303208375,-0.18638974941246883,-0.056303246551718575,-0.09860358087400396,0.037983784015900135],[-0.00909948828173314,-0.019439511827043687,0.005376481168718347,0.031791086791926576,-0.005667905092177812,0.02253688434545465],[0.0024345424398792737,0.0001174764299863337,-0.012122018597982821,0.04979115172968942,0.0640211109657188,0.017301843753042025],[0.05715772221691176,0.05914391947889921,-0.08843362986229443,-0.04215602756364677,-0.05342912117511887,0.008296280801539406],[0.12474178279051744,0.03134240049033077,-0.13254257246735116,-0.030289088733960856,-0.0706358757198231,0.06327911607442337]],\"zmax\":1,\"zmin\":-1,\"type\":\"heatmap\"}],                        {\"title\":{\"text\":\"cuisines vs meals\"},\"template\":{\"data\":{\"histogram2dcontour\":[{\"type\":\"histogram2dcontour\",\"colorbar\":{\"outlinewidth\":0,\"ticks\":\"\"},\"colorscale\":[[0.0,\"#0d0887\"],[0.1111111111111111,\"#46039f\"],[0.2222222222222222,\"#7201a8\"],[0.3333333333333333,\"#9c179e\"],[0.4444444444444444,\"#bd3786\"],[0.5555555555555556,\"#d8576b\"],[0.6666666666666666,\"#ed7953\"],[0.7777777777777778,\"#fb9f3a\"],[0.8888888888888888,\"#fdca26\"],[1.0,\"#f0f921\"]]}],\"choropleth\":[{\"type\":\"choropleth\",\"colorbar\":{\"outlinewidth\":0,\"ticks\":\"\"}}],\"histogram2d\":[{\"type\":\"histogram2d\",\"colorbar\":{\"outlinewidth\":0,\"ticks\":\"\"},\"colorscale\":[[0.0,\"#0d0887\"],[0.1111111111111111,\"#46039f\"],[0.2222222222222222,\"#7201a8\"],[0.3333333333333333,\"#9c179e\"],[0.4444444444444444,\"#bd3786\"],[0.5555555555555556,\"#d8576b\"],[0.6666666666666666,\"#ed7953\"],[0.7777777777777778,\"#fb9f3a\"],[0.8888888888888888,\"#fdca26\"],[1.0,\"#f0f921\"]]}],\"heatmap\":[{\"type\":\"heatmap\",\"colorbar\":{\"outlinewidth\":0,\"ticks\":\"\"},\"colorscale\":[[0.0,\"#0d0887\"],[0.1111111111111111,\"#46039f\"],[0.2222222222222222,\"#7201a8\"],[0.3333333333333333,\"#9c179e\"],[0.4444444444444444,\"#bd3786\"],[0.5555555555555556,\"#d8576b\"],[0.6666666666666666,\"#ed7953\"],[0.7777777777777778,\"#fb9f3a\"],[0.8888888888888888,\"#fdca26\"],[1.0,\"#f0f921\"]]}],\"heatmapgl\":[{\"type\":\"heatmapgl\",\"colorbar\":{\"outlinewidth\":0,\"ticks\":\"\"},\"colorscale\":[[0.0,\"#0d0887\"],[0.1111111111111111,\"#46039f\"],[0.2222222222222222,\"#7201a8\"],[0.3333333333333333,\"#9c179e\"],[0.4444444444444444,\"#bd3786\"],[0.5555555555555556,\"#d8576b\"],[0.6666666666666666,\"#ed7953\"],[0.7777777777777778,\"#fb9f3a\"],[0.8888888888888888,\"#fdca26\"],[1.0,\"#f0f921\"]]}],\"contourcarpet\":[{\"type\":\"contourcarpet\",\"colorbar\":{\"outlinewidth\":0,\"ticks\":\"\"}}],\"contour\":[{\"type\":\"contour\",\"colorbar\":{\"outlinewidth\":0,\"ticks\":\"\"},\"colorscale\":[[0.0,\"#0d0887\"],[0.1111111111111111,\"#46039f\"],[0.2222222222222222,\"#7201a8\"],[0.3333333333333333,\"#9c179e\"],[0.4444444444444444,\"#bd3786\"],[0.5555555555555556,\"#d8576b\"],[0.6666666666666666,\"#ed7953\"],[0.7777777777777778,\"#fb9f3a\"],[0.8888888888888888,\"#fdca26\"],[1.0,\"#f0f921\"]]}],\"surface\":[{\"type\":\"surface\",\"colorbar\":{\"outlinewidth\":0,\"ticks\":\"\"},\"colorscale\":[[0.0,\"#0d0887\"],[0.1111111111111111,\"#46039f\"],[0.2222222222222222,\"#7201a8\"],[0.3333333333333333,\"#9c179e\"],[0.4444444444444444,\"#bd3786\"],[0.5555555555555556,\"#d8576b\"],[0.6666666666666666,\"#ed7953\"],[0.7777777777777778,\"#fb9f3a\"],[0.8888888888888888,\"#fdca26\"],[1.0,\"#f0f921\"]]}],\"mesh3d\":[{\"type\":\"mesh3d\",\"colorbar\":{\"outlinewidth\":0,\"ticks\":\"\"}}],\"scatter\":[{\"fillpattern\":{\"fillmode\":\"overlay\",\"size\":10,\"solidity\":0.2},\"type\":\"scatter\"}],\"parcoords\":[{\"type\":\"parcoords\",\"line\":{\"colorbar\":{\"outlinewidth\":0,\"ticks\":\"\"}}}],\"scatterpolargl\":[{\"type\":\"scatterpolargl\",\"marker\":{\"colorbar\":{\"outlinewidth\":0,\"ticks\":\"\"}}}],\"bar\":[{\"error_x\":{\"color\":\"#2a3f5f\"},\"error_y\":{\"color\":\"#2a3f5f\"},\"marker\":{\"line\":{\"color\":\"#E5ECF6\",\"width\":0.5},\"pattern\":{\"fillmode\":\"overlay\",\"size\":10,\"solidity\":0.2}},\"type\":\"bar\"}],\"scattergeo\":[{\"type\":\"scattergeo\",\"marker\":{\"colorbar\":{\"outlinewidth\":0,\"ticks\":\"\"}}}],\"scatterpolar\":[{\"type\":\"scatterpolar\",\"marker\":{\"colorbar\":{\"outlinewidth\":0,\"ticks\":\"\"}}}],\"histogram\":[{\"marker\":{\"pattern\":{\"fillmode\":\"overlay\",\"size\":10,\"solidity\":0.2}},\"type\":\"histogram\"}],\"scattergl\":[{\"type\":\"scattergl\",\"marker\":{\"colorbar\":{\"outlinewidth\":0,\"ticks\":\"\"}}}],\"scatter3d\":[{\"type\":\"scatter3d\",\"line\":{\"colorbar\":{\"outlinewidth\":0,\"ticks\":\"\"}},\"marker\":{\"colorbar\":{\"outlinewidth\":0,\"ticks\":\"\"}}}],\"scattermapbox\":[{\"type\":\"scattermapbox\",\"marker\":{\"colorbar\":{\"outlinewidth\":0,\"ticks\":\"\"}}}],\"scatterternary\":[{\"type\":\"scatterternary\",\"marker\":{\"colorbar\":{\"outlinewidth\":0,\"ticks\":\"\"}}}],\"scattercarpet\":[{\"type\":\"scattercarpet\",\"marker\":{\"colorbar\":{\"outlinewidth\":0,\"ticks\":\"\"}}}],\"carpet\":[{\"aaxis\":{\"endlinecolor\":\"#2a3f5f\",\"gridcolor\":\"white\",\"linecolor\":\"white\",\"minorgridcolor\":\"white\",\"startlinecolor\":\"#2a3f5f\"},\"baxis\":{\"endlinecolor\":\"#2a3f5f\",\"gridcolor\":\"white\",\"linecolor\":\"white\",\"minorgridcolor\":\"white\",\"startlinecolor\":\"#2a3f5f\"},\"type\":\"carpet\"}],\"table\":[{\"cells\":{\"fill\":{\"color\":\"#EBF0F8\"},\"line\":{\"color\":\"white\"}},\"header\":{\"fill\":{\"color\":\"#C8D4E3\"},\"line\":{\"color\":\"white\"}},\"type\":\"table\"}],\"barpolar\":[{\"marker\":{\"line\":{\"color\":\"#E5ECF6\",\"width\":0.5},\"pattern\":{\"fillmode\":\"overlay\",\"size\":10,\"solidity\":0.2}},\"type\":\"barpolar\"}],\"pie\":[{\"automargin\":true,\"type\":\"pie\"}]},\"layout\":{\"autotypenumbers\":\"strict\",\"colorway\":[\"#636efa\",\"#EF553B\",\"#00cc96\",\"#ab63fa\",\"#FFA15A\",\"#19d3f3\",\"#FF6692\",\"#B6E880\",\"#FF97FF\",\"#FECB52\"],\"font\":{\"color\":\"#2a3f5f\"},\"hovermode\":\"closest\",\"hoverlabel\":{\"align\":\"left\"},\"paper_bgcolor\":\"white\",\"plot_bgcolor\":\"#E5ECF6\",\"polar\":{\"bgcolor\":\"#E5ECF6\",\"angularaxis\":{\"gridcolor\":\"white\",\"linecolor\":\"white\",\"ticks\":\"\"},\"radialaxis\":{\"gridcolor\":\"white\",\"linecolor\":\"white\",\"ticks\":\"\"}},\"ternary\":{\"bgcolor\":\"#E5ECF6\",\"aaxis\":{\"gridcolor\":\"white\",\"linecolor\":\"white\",\"ticks\":\"\"},\"baxis\":{\"gridcolor\":\"white\",\"linecolor\":\"white\",\"ticks\":\"\"},\"caxis\":{\"gridcolor\":\"white\",\"linecolor\":\"white\",\"ticks\":\"\"}},\"coloraxis\":{\"colorbar\":{\"outlinewidth\":0,\"ticks\":\"\"}},\"colorscale\":{\"sequential\":[[0.0,\"#0d0887\"],[0.1111111111111111,\"#46039f\"],[0.2222222222222222,\"#7201a8\"],[0.3333333333333333,\"#9c179e\"],[0.4444444444444444,\"#bd3786\"],[0.5555555555555556,\"#d8576b\"],[0.6666666666666666,\"#ed7953\"],[0.7777777777777778,\"#fb9f3a\"],[0.8888888888888888,\"#fdca26\"],[1.0,\"#f0f921\"]],\"sequentialminus\":[[0.0,\"#0d0887\"],[0.1111111111111111,\"#46039f\"],[0.2222222222222222,\"#7201a8\"],[0.3333333333333333,\"#9c179e\"],[0.4444444444444444,\"#bd3786\"],[0.5555555555555556,\"#d8576b\"],[0.6666666666666666,\"#ed7953\"],[0.7777777777777778,\"#fb9f3a\"],[0.8888888888888888,\"#fdca26\"],[1.0,\"#f0f921\"]],\"diverging\":[[0,\"#8e0152\"],[0.1,\"#c51b7d\"],[0.2,\"#de77ae\"],[0.3,\"#f1b6da\"],[0.4,\"#fde0ef\"],[0.5,\"#f7f7f7\"],[0.6,\"#e6f5d0\"],[0.7,\"#b8e186\"],[0.8,\"#7fbc41\"],[0.9,\"#4d9221\"],[1,\"#276419\"]]},\"xaxis\":{\"gridcolor\":\"white\",\"linecolor\":\"white\",\"ticks\":\"\",\"title\":{\"standoff\":15},\"zerolinecolor\":\"white\",\"automargin\":true,\"zerolinewidth\":2},\"yaxis\":{\"gridcolor\":\"white\",\"linecolor\":\"white\",\"ticks\":\"\",\"title\":{\"standoff\":15},\"zerolinecolor\":\"white\",\"automargin\":true,\"zerolinewidth\":2},\"scene\":{\"xaxis\":{\"backgroundcolor\":\"#E5ECF6\",\"gridcolor\":\"white\",\"linecolor\":\"white\",\"showbackground\":true,\"ticks\":\"\",\"zerolinecolor\":\"white\",\"gridwidth\":2},\"yaxis\":{\"backgroundcolor\":\"#E5ECF6\",\"gridcolor\":\"white\",\"linecolor\":\"white\",\"showbackground\":true,\"ticks\":\"\",\"zerolinecolor\":\"white\",\"gridwidth\":2},\"zaxis\":{\"backgroundcolor\":\"#E5ECF6\",\"gridcolor\":\"white\",\"linecolor\":\"white\",\"showbackground\":true,\"ticks\":\"\",\"zerolinecolor\":\"white\",\"gridwidth\":2}},\"shapedefaults\":{\"line\":{\"color\":\"#2a3f5f\"}},\"annotationdefaults\":{\"arrowcolor\":\"#2a3f5f\",\"arrowhead\":0,\"arrowwidth\":1},\"geo\":{\"bgcolor\":\"white\",\"landcolor\":\"#E5ECF6\",\"subunitcolor\":\"white\",\"showland\":true,\"showlakes\":true,\"lakecolor\":\"white\"},\"title\":{\"x\":0.05},\"mapbox\":{\"style\":\"light\"}}}},                        {\"responsive\": true}                    ).then(function(){\n",
       "                            \n",
       "var gd = document.getElementById('c5586957-221b-498e-9024-f48500c15184');\n",
       "var x = new MutationObserver(function (mutations, observer) {{\n",
       "        var display = window.getComputedStyle(gd).display;\n",
       "        if (!display || display === 'none') {{\n",
       "            console.log([gd, 'removed!']);\n",
       "            Plotly.purge(gd);\n",
       "            observer.disconnect();\n",
       "        }}\n",
       "}});\n",
       "\n",
       "// Listen for the removal of the full notebook cells\n",
       "var notebookContainer = gd.closest('#notebook-container');\n",
       "if (notebookContainer) {{\n",
       "    x.observe(notebookContainer, {childList: true});\n",
       "}}\n",
       "\n",
       "// Listen for the clearing of the current output cell\n",
       "var outputEl = gd.closest('.output');\n",
       "if (outputEl) {{\n",
       "    x.observe(outputEl, {childList: true});\n",
       "}}\n",
       "\n",
       "                        })                };                });            </script>        </div>"
      ]
     },
     "metadata": {},
     "output_type": "display_data"
    },
    {
     "data": {
      "application/vnd.plotly.v1+json": {
       "config": {
        "plotlyServerURL": "https://plot.ly"
       },
       "data": [
        {
         "colorscale": [
          [
           0,
           "rgb(165,0,38)"
          ],
          [
           0.1,
           "rgb(215,48,39)"
          ],
          [
           0.2,
           "rgb(244,109,67)"
          ],
          [
           0.3,
           "rgb(253,174,97)"
          ],
          [
           0.4,
           "rgb(254,224,139)"
          ],
          [
           0.5,
           "rgb(255,255,191)"
          ],
          [
           0.6,
           "rgb(217,239,139)"
          ],
          [
           0.7,
           "rgb(166,217,106)"
          ],
          [
           0.8,
           "rgb(102,189,99)"
          ],
          [
           0.9,
           "rgb(26,152,80)"
          ],
          [
           1,
           "rgb(0,104,55)"
          ]
         ],
         "type": "heatmap",
         "x": [
          "special_diets_Vegetarian Friendly",
          "special_diets_Gluten Free Options",
          "special_diets_Vegan Options",
          "special_diets_Halal",
          "special_diets_Kosher"
         ],
         "y": [
          "cuisines_European",
          "cuisines_Italian",
          "cuisines_French",
          "cuisines_Mediterranean",
          "cuisines_Bar",
          "cuisines_Spanish",
          "cuisines_Cafe",
          "cuisines_Pub",
          "cuisines_Seafood",
          "cuisines_Pizza",
          "cuisines_British",
          "cuisines_Fast food",
          "cuisines_Asian",
          "cuisines_Barbecue"
         ],
         "z": [
          [
           0.33077975821655187,
           0.3144736498519616,
           0.30328474059425214,
           -0.0018538886137245325,
           0.008872236841211616
          ],
          [
           0.04523550322400493,
           0.040542908311720784,
           0.036355731780377314,
           -0.013732365752684795,
           -0.002184558536317366
          ],
          [
           -0.00356771736571218,
           -0.0021647519532801236,
           -0.0012795470494310376,
           -0.00035800516122984393,
           -0.0004621946081422223
          ],
          [
           0.223130943686195,
           0.20943678340970037,
           0.18413783270676592,
           0.0019076588030662567,
           0.004234695193630804
          ],
          [
           -0.022450031686252,
           -0.0249509139559597,
           -0.028388392526245036,
           -0.004177281343001422,
           -0.005392986254153085
          ],
          [
           0.0034768911949950593,
           0.0027510712699831074,
           0.004280681751724169,
           -0.00043172148840662193,
           -0.0005573644342869468
          ],
          [
           -0.04014994367875492,
           -0.046229609530574804,
           -0.034630377421653154,
           -0.003357519428969021,
           -0.0043346508510417395
          ],
          [
           -0.03353673304911273,
           -0.03648618279849272,
           -0.029559245859751997,
           -0.0027072743937010414,
           -0.003495166447410047
          ],
          [
           0.09994069727427628,
           0.11444837708953985,
           0.08200582474591395,
           0.002456897833069324,
           -0.005999829041899031
          ],
          [
           0.003514651890125518,
           -0.009907082663516543,
           0.014351102075636911,
           -0.0046740547166407315,
           -0.006034334479346186
          ],
          [
           -0.005434265288606225,
           -0.004754307647960503,
           -0.004360545919772829,
           -0.00026840672518478885,
           -0.00034652053826084335
          ],
          [
           -0.015620438564713806,
           -0.015692311080319463,
           -0.010864862429504438,
           0.029076307648454584,
           0.009688100440541449
          ],
          [
           -0.014210439514811896,
           -0.012789059085455065,
           -0.009574013856304511,
           -0.0014421118505106609,
           -0.0018618064593100144
          ],
          [
           -0.034327224871959106,
           -0.023475567146829517,
           -0.03536136452702089,
           -0.0024408279683894737,
           -0.0031511767107404555
          ]
         ],
         "zmax": 1,
         "zmin": -1
        }
       ],
       "layout": {
        "template": {
         "data": {
          "bar": [
           {
            "error_x": {
             "color": "#2a3f5f"
            },
            "error_y": {
             "color": "#2a3f5f"
            },
            "marker": {
             "line": {
              "color": "#E5ECF6",
              "width": 0.5
             },
             "pattern": {
              "fillmode": "overlay",
              "size": 10,
              "solidity": 0.2
             }
            },
            "type": "bar"
           }
          ],
          "barpolar": [
           {
            "marker": {
             "line": {
              "color": "#E5ECF6",
              "width": 0.5
             },
             "pattern": {
              "fillmode": "overlay",
              "size": 10,
              "solidity": 0.2
             }
            },
            "type": "barpolar"
           }
          ],
          "carpet": [
           {
            "aaxis": {
             "endlinecolor": "#2a3f5f",
             "gridcolor": "white",
             "linecolor": "white",
             "minorgridcolor": "white",
             "startlinecolor": "#2a3f5f"
            },
            "baxis": {
             "endlinecolor": "#2a3f5f",
             "gridcolor": "white",
             "linecolor": "white",
             "minorgridcolor": "white",
             "startlinecolor": "#2a3f5f"
            },
            "type": "carpet"
           }
          ],
          "choropleth": [
           {
            "colorbar": {
             "outlinewidth": 0,
             "ticks": ""
            },
            "type": "choropleth"
           }
          ],
          "contour": [
           {
            "colorbar": {
             "outlinewidth": 0,
             "ticks": ""
            },
            "colorscale": [
             [
              0,
              "#0d0887"
             ],
             [
              0.1111111111111111,
              "#46039f"
             ],
             [
              0.2222222222222222,
              "#7201a8"
             ],
             [
              0.3333333333333333,
              "#9c179e"
             ],
             [
              0.4444444444444444,
              "#bd3786"
             ],
             [
              0.5555555555555556,
              "#d8576b"
             ],
             [
              0.6666666666666666,
              "#ed7953"
             ],
             [
              0.7777777777777778,
              "#fb9f3a"
             ],
             [
              0.8888888888888888,
              "#fdca26"
             ],
             [
              1,
              "#f0f921"
             ]
            ],
            "type": "contour"
           }
          ],
          "contourcarpet": [
           {
            "colorbar": {
             "outlinewidth": 0,
             "ticks": ""
            },
            "type": "contourcarpet"
           }
          ],
          "heatmap": [
           {
            "colorbar": {
             "outlinewidth": 0,
             "ticks": ""
            },
            "colorscale": [
             [
              0,
              "#0d0887"
             ],
             [
              0.1111111111111111,
              "#46039f"
             ],
             [
              0.2222222222222222,
              "#7201a8"
             ],
             [
              0.3333333333333333,
              "#9c179e"
             ],
             [
              0.4444444444444444,
              "#bd3786"
             ],
             [
              0.5555555555555556,
              "#d8576b"
             ],
             [
              0.6666666666666666,
              "#ed7953"
             ],
             [
              0.7777777777777778,
              "#fb9f3a"
             ],
             [
              0.8888888888888888,
              "#fdca26"
             ],
             [
              1,
              "#f0f921"
             ]
            ],
            "type": "heatmap"
           }
          ],
          "heatmapgl": [
           {
            "colorbar": {
             "outlinewidth": 0,
             "ticks": ""
            },
            "colorscale": [
             [
              0,
              "#0d0887"
             ],
             [
              0.1111111111111111,
              "#46039f"
             ],
             [
              0.2222222222222222,
              "#7201a8"
             ],
             [
              0.3333333333333333,
              "#9c179e"
             ],
             [
              0.4444444444444444,
              "#bd3786"
             ],
             [
              0.5555555555555556,
              "#d8576b"
             ],
             [
              0.6666666666666666,
              "#ed7953"
             ],
             [
              0.7777777777777778,
              "#fb9f3a"
             ],
             [
              0.8888888888888888,
              "#fdca26"
             ],
             [
              1,
              "#f0f921"
             ]
            ],
            "type": "heatmapgl"
           }
          ],
          "histogram": [
           {
            "marker": {
             "pattern": {
              "fillmode": "overlay",
              "size": 10,
              "solidity": 0.2
             }
            },
            "type": "histogram"
           }
          ],
          "histogram2d": [
           {
            "colorbar": {
             "outlinewidth": 0,
             "ticks": ""
            },
            "colorscale": [
             [
              0,
              "#0d0887"
             ],
             [
              0.1111111111111111,
              "#46039f"
             ],
             [
              0.2222222222222222,
              "#7201a8"
             ],
             [
              0.3333333333333333,
              "#9c179e"
             ],
             [
              0.4444444444444444,
              "#bd3786"
             ],
             [
              0.5555555555555556,
              "#d8576b"
             ],
             [
              0.6666666666666666,
              "#ed7953"
             ],
             [
              0.7777777777777778,
              "#fb9f3a"
             ],
             [
              0.8888888888888888,
              "#fdca26"
             ],
             [
              1,
              "#f0f921"
             ]
            ],
            "type": "histogram2d"
           }
          ],
          "histogram2dcontour": [
           {
            "colorbar": {
             "outlinewidth": 0,
             "ticks": ""
            },
            "colorscale": [
             [
              0,
              "#0d0887"
             ],
             [
              0.1111111111111111,
              "#46039f"
             ],
             [
              0.2222222222222222,
              "#7201a8"
             ],
             [
              0.3333333333333333,
              "#9c179e"
             ],
             [
              0.4444444444444444,
              "#bd3786"
             ],
             [
              0.5555555555555556,
              "#d8576b"
             ],
             [
              0.6666666666666666,
              "#ed7953"
             ],
             [
              0.7777777777777778,
              "#fb9f3a"
             ],
             [
              0.8888888888888888,
              "#fdca26"
             ],
             [
              1,
              "#f0f921"
             ]
            ],
            "type": "histogram2dcontour"
           }
          ],
          "mesh3d": [
           {
            "colorbar": {
             "outlinewidth": 0,
             "ticks": ""
            },
            "type": "mesh3d"
           }
          ],
          "parcoords": [
           {
            "line": {
             "colorbar": {
              "outlinewidth": 0,
              "ticks": ""
             }
            },
            "type": "parcoords"
           }
          ],
          "pie": [
           {
            "automargin": true,
            "type": "pie"
           }
          ],
          "scatter": [
           {
            "fillpattern": {
             "fillmode": "overlay",
             "size": 10,
             "solidity": 0.2
            },
            "type": "scatter"
           }
          ],
          "scatter3d": [
           {
            "line": {
             "colorbar": {
              "outlinewidth": 0,
              "ticks": ""
             }
            },
            "marker": {
             "colorbar": {
              "outlinewidth": 0,
              "ticks": ""
             }
            },
            "type": "scatter3d"
           }
          ],
          "scattercarpet": [
           {
            "marker": {
             "colorbar": {
              "outlinewidth": 0,
              "ticks": ""
             }
            },
            "type": "scattercarpet"
           }
          ],
          "scattergeo": [
           {
            "marker": {
             "colorbar": {
              "outlinewidth": 0,
              "ticks": ""
             }
            },
            "type": "scattergeo"
           }
          ],
          "scattergl": [
           {
            "marker": {
             "colorbar": {
              "outlinewidth": 0,
              "ticks": ""
             }
            },
            "type": "scattergl"
           }
          ],
          "scattermapbox": [
           {
            "marker": {
             "colorbar": {
              "outlinewidth": 0,
              "ticks": ""
             }
            },
            "type": "scattermapbox"
           }
          ],
          "scatterpolar": [
           {
            "marker": {
             "colorbar": {
              "outlinewidth": 0,
              "ticks": ""
             }
            },
            "type": "scatterpolar"
           }
          ],
          "scatterpolargl": [
           {
            "marker": {
             "colorbar": {
              "outlinewidth": 0,
              "ticks": ""
             }
            },
            "type": "scatterpolargl"
           }
          ],
          "scatterternary": [
           {
            "marker": {
             "colorbar": {
              "outlinewidth": 0,
              "ticks": ""
             }
            },
            "type": "scatterternary"
           }
          ],
          "surface": [
           {
            "colorbar": {
             "outlinewidth": 0,
             "ticks": ""
            },
            "colorscale": [
             [
              0,
              "#0d0887"
             ],
             [
              0.1111111111111111,
              "#46039f"
             ],
             [
              0.2222222222222222,
              "#7201a8"
             ],
             [
              0.3333333333333333,
              "#9c179e"
             ],
             [
              0.4444444444444444,
              "#bd3786"
             ],
             [
              0.5555555555555556,
              "#d8576b"
             ],
             [
              0.6666666666666666,
              "#ed7953"
             ],
             [
              0.7777777777777778,
              "#fb9f3a"
             ],
             [
              0.8888888888888888,
              "#fdca26"
             ],
             [
              1,
              "#f0f921"
             ]
            ],
            "type": "surface"
           }
          ],
          "table": [
           {
            "cells": {
             "fill": {
              "color": "#EBF0F8"
             },
             "line": {
              "color": "white"
             }
            },
            "header": {
             "fill": {
              "color": "#C8D4E3"
             },
             "line": {
              "color": "white"
             }
            },
            "type": "table"
           }
          ]
         },
         "layout": {
          "annotationdefaults": {
           "arrowcolor": "#2a3f5f",
           "arrowhead": 0,
           "arrowwidth": 1
          },
          "autotypenumbers": "strict",
          "coloraxis": {
           "colorbar": {
            "outlinewidth": 0,
            "ticks": ""
           }
          },
          "colorscale": {
           "diverging": [
            [
             0,
             "#8e0152"
            ],
            [
             0.1,
             "#c51b7d"
            ],
            [
             0.2,
             "#de77ae"
            ],
            [
             0.3,
             "#f1b6da"
            ],
            [
             0.4,
             "#fde0ef"
            ],
            [
             0.5,
             "#f7f7f7"
            ],
            [
             0.6,
             "#e6f5d0"
            ],
            [
             0.7,
             "#b8e186"
            ],
            [
             0.8,
             "#7fbc41"
            ],
            [
             0.9,
             "#4d9221"
            ],
            [
             1,
             "#276419"
            ]
           ],
           "sequential": [
            [
             0,
             "#0d0887"
            ],
            [
             0.1111111111111111,
             "#46039f"
            ],
            [
             0.2222222222222222,
             "#7201a8"
            ],
            [
             0.3333333333333333,
             "#9c179e"
            ],
            [
             0.4444444444444444,
             "#bd3786"
            ],
            [
             0.5555555555555556,
             "#d8576b"
            ],
            [
             0.6666666666666666,
             "#ed7953"
            ],
            [
             0.7777777777777778,
             "#fb9f3a"
            ],
            [
             0.8888888888888888,
             "#fdca26"
            ],
            [
             1,
             "#f0f921"
            ]
           ],
           "sequentialminus": [
            [
             0,
             "#0d0887"
            ],
            [
             0.1111111111111111,
             "#46039f"
            ],
            [
             0.2222222222222222,
             "#7201a8"
            ],
            [
             0.3333333333333333,
             "#9c179e"
            ],
            [
             0.4444444444444444,
             "#bd3786"
            ],
            [
             0.5555555555555556,
             "#d8576b"
            ],
            [
             0.6666666666666666,
             "#ed7953"
            ],
            [
             0.7777777777777778,
             "#fb9f3a"
            ],
            [
             0.8888888888888888,
             "#fdca26"
            ],
            [
             1,
             "#f0f921"
            ]
           ]
          },
          "colorway": [
           "#636efa",
           "#EF553B",
           "#00cc96",
           "#ab63fa",
           "#FFA15A",
           "#19d3f3",
           "#FF6692",
           "#B6E880",
           "#FF97FF",
           "#FECB52"
          ],
          "font": {
           "color": "#2a3f5f"
          },
          "geo": {
           "bgcolor": "white",
           "lakecolor": "white",
           "landcolor": "#E5ECF6",
           "showlakes": true,
           "showland": true,
           "subunitcolor": "white"
          },
          "hoverlabel": {
           "align": "left"
          },
          "hovermode": "closest",
          "mapbox": {
           "style": "light"
          },
          "paper_bgcolor": "white",
          "plot_bgcolor": "#E5ECF6",
          "polar": {
           "angularaxis": {
            "gridcolor": "white",
            "linecolor": "white",
            "ticks": ""
           },
           "bgcolor": "#E5ECF6",
           "radialaxis": {
            "gridcolor": "white",
            "linecolor": "white",
            "ticks": ""
           }
          },
          "scene": {
           "xaxis": {
            "backgroundcolor": "#E5ECF6",
            "gridcolor": "white",
            "gridwidth": 2,
            "linecolor": "white",
            "showbackground": true,
            "ticks": "",
            "zerolinecolor": "white"
           },
           "yaxis": {
            "backgroundcolor": "#E5ECF6",
            "gridcolor": "white",
            "gridwidth": 2,
            "linecolor": "white",
            "showbackground": true,
            "ticks": "",
            "zerolinecolor": "white"
           },
           "zaxis": {
            "backgroundcolor": "#E5ECF6",
            "gridcolor": "white",
            "gridwidth": 2,
            "linecolor": "white",
            "showbackground": true,
            "ticks": "",
            "zerolinecolor": "white"
           }
          },
          "shapedefaults": {
           "line": {
            "color": "#2a3f5f"
           }
          },
          "ternary": {
           "aaxis": {
            "gridcolor": "white",
            "linecolor": "white",
            "ticks": ""
           },
           "baxis": {
            "gridcolor": "white",
            "linecolor": "white",
            "ticks": ""
           },
           "bgcolor": "#E5ECF6",
           "caxis": {
            "gridcolor": "white",
            "linecolor": "white",
            "ticks": ""
           }
          },
          "title": {
           "x": 0.05
          },
          "xaxis": {
           "automargin": true,
           "gridcolor": "white",
           "linecolor": "white",
           "ticks": "",
           "title": {
            "standoff": 15
           },
           "zerolinecolor": "white",
           "zerolinewidth": 2
          },
          "yaxis": {
           "automargin": true,
           "gridcolor": "white",
           "linecolor": "white",
           "ticks": "",
           "title": {
            "standoff": 15
           },
           "zerolinecolor": "white",
           "zerolinewidth": 2
          }
         }
        },
        "title": {
         "text": "cuisines vs special_diets"
        }
       }
      },
      "text/html": [
       "<div>                            <div id=\"6c40df25-efab-40cf-9718-1ca1ded8e4df\" class=\"plotly-graph-div\" style=\"height:525px; width:100%;\"></div>            <script type=\"text/javascript\">                require([\"plotly\"], function(Plotly) {                    window.PLOTLYENV=window.PLOTLYENV || {};                                    if (document.getElementById(\"6c40df25-efab-40cf-9718-1ca1ded8e4df\")) {                    Plotly.newPlot(                        \"6c40df25-efab-40cf-9718-1ca1ded8e4df\",                        [{\"colorscale\":[[0.0,\"rgb(165,0,38)\"],[0.1,\"rgb(215,48,39)\"],[0.2,\"rgb(244,109,67)\"],[0.3,\"rgb(253,174,97)\"],[0.4,\"rgb(254,224,139)\"],[0.5,\"rgb(255,255,191)\"],[0.6,\"rgb(217,239,139)\"],[0.7,\"rgb(166,217,106)\"],[0.8,\"rgb(102,189,99)\"],[0.9,\"rgb(26,152,80)\"],[1.0,\"rgb(0,104,55)\"]],\"x\":[\"special_diets_Vegetarian Friendly\",\"special_diets_Gluten Free Options\",\"special_diets_Vegan Options\",\"special_diets_Halal\",\"special_diets_Kosher\"],\"y\":[\"cuisines_European\",\"cuisines_Italian\",\"cuisines_French\",\"cuisines_Mediterranean\",\"cuisines_Bar\",\"cuisines_Spanish\",\"cuisines_Cafe\",\"cuisines_Pub\",\"cuisines_Seafood\",\"cuisines_Pizza\",\"cuisines_British\",\"cuisines_Fast food\",\"cuisines_Asian\",\"cuisines_Barbecue\"],\"z\":[[0.33077975821655187,0.3144736498519616,0.30328474059425214,-0.0018538886137245325,0.008872236841211616],[0.04523550322400493,0.040542908311720784,0.036355731780377314,-0.013732365752684795,-0.002184558536317366],[-0.00356771736571218,-0.0021647519532801236,-0.0012795470494310376,-0.00035800516122984393,-0.0004621946081422223],[0.223130943686195,0.20943678340970037,0.18413783270676592,0.0019076588030662567,0.004234695193630804],[-0.022450031686252,-0.0249509139559597,-0.028388392526245036,-0.004177281343001422,-0.005392986254153085],[0.0034768911949950593,0.0027510712699831074,0.004280681751724169,-0.00043172148840662193,-0.0005573644342869468],[-0.04014994367875492,-0.046229609530574804,-0.034630377421653154,-0.003357519428969021,-0.0043346508510417395],[-0.03353673304911273,-0.03648618279849272,-0.029559245859751997,-0.0027072743937010414,-0.003495166447410047],[0.09994069727427628,0.11444837708953985,0.08200582474591395,0.002456897833069324,-0.005999829041899031],[0.003514651890125518,-0.009907082663516543,0.014351102075636911,-0.0046740547166407315,-0.006034334479346186],[-0.005434265288606225,-0.004754307647960503,-0.004360545919772829,-0.00026840672518478885,-0.00034652053826084335],[-0.015620438564713806,-0.015692311080319463,-0.010864862429504438,0.029076307648454584,0.009688100440541449],[-0.014210439514811896,-0.012789059085455065,-0.009574013856304511,-0.0014421118505106609,-0.0018618064593100144],[-0.034327224871959106,-0.023475567146829517,-0.03536136452702089,-0.0024408279683894737,-0.0031511767107404555]],\"zmax\":1,\"zmin\":-1,\"type\":\"heatmap\"}],                        {\"title\":{\"text\":\"cuisines vs special_diets\"},\"template\":{\"data\":{\"histogram2dcontour\":[{\"type\":\"histogram2dcontour\",\"colorbar\":{\"outlinewidth\":0,\"ticks\":\"\"},\"colorscale\":[[0.0,\"#0d0887\"],[0.1111111111111111,\"#46039f\"],[0.2222222222222222,\"#7201a8\"],[0.3333333333333333,\"#9c179e\"],[0.4444444444444444,\"#bd3786\"],[0.5555555555555556,\"#d8576b\"],[0.6666666666666666,\"#ed7953\"],[0.7777777777777778,\"#fb9f3a\"],[0.8888888888888888,\"#fdca26\"],[1.0,\"#f0f921\"]]}],\"choropleth\":[{\"type\":\"choropleth\",\"colorbar\":{\"outlinewidth\":0,\"ticks\":\"\"}}],\"histogram2d\":[{\"type\":\"histogram2d\",\"colorbar\":{\"outlinewidth\":0,\"ticks\":\"\"},\"colorscale\":[[0.0,\"#0d0887\"],[0.1111111111111111,\"#46039f\"],[0.2222222222222222,\"#7201a8\"],[0.3333333333333333,\"#9c179e\"],[0.4444444444444444,\"#bd3786\"],[0.5555555555555556,\"#d8576b\"],[0.6666666666666666,\"#ed7953\"],[0.7777777777777778,\"#fb9f3a\"],[0.8888888888888888,\"#fdca26\"],[1.0,\"#f0f921\"]]}],\"heatmap\":[{\"type\":\"heatmap\",\"colorbar\":{\"outlinewidth\":0,\"ticks\":\"\"},\"colorscale\":[[0.0,\"#0d0887\"],[0.1111111111111111,\"#46039f\"],[0.2222222222222222,\"#7201a8\"],[0.3333333333333333,\"#9c179e\"],[0.4444444444444444,\"#bd3786\"],[0.5555555555555556,\"#d8576b\"],[0.6666666666666666,\"#ed7953\"],[0.7777777777777778,\"#fb9f3a\"],[0.8888888888888888,\"#fdca26\"],[1.0,\"#f0f921\"]]}],\"heatmapgl\":[{\"type\":\"heatmapgl\",\"colorbar\":{\"outlinewidth\":0,\"ticks\":\"\"},\"colorscale\":[[0.0,\"#0d0887\"],[0.1111111111111111,\"#46039f\"],[0.2222222222222222,\"#7201a8\"],[0.3333333333333333,\"#9c179e\"],[0.4444444444444444,\"#bd3786\"],[0.5555555555555556,\"#d8576b\"],[0.6666666666666666,\"#ed7953\"],[0.7777777777777778,\"#fb9f3a\"],[0.8888888888888888,\"#fdca26\"],[1.0,\"#f0f921\"]]}],\"contourcarpet\":[{\"type\":\"contourcarpet\",\"colorbar\":{\"outlinewidth\":0,\"ticks\":\"\"}}],\"contour\":[{\"type\":\"contour\",\"colorbar\":{\"outlinewidth\":0,\"ticks\":\"\"},\"colorscale\":[[0.0,\"#0d0887\"],[0.1111111111111111,\"#46039f\"],[0.2222222222222222,\"#7201a8\"],[0.3333333333333333,\"#9c179e\"],[0.4444444444444444,\"#bd3786\"],[0.5555555555555556,\"#d8576b\"],[0.6666666666666666,\"#ed7953\"],[0.7777777777777778,\"#fb9f3a\"],[0.8888888888888888,\"#fdca26\"],[1.0,\"#f0f921\"]]}],\"surface\":[{\"type\":\"surface\",\"colorbar\":{\"outlinewidth\":0,\"ticks\":\"\"},\"colorscale\":[[0.0,\"#0d0887\"],[0.1111111111111111,\"#46039f\"],[0.2222222222222222,\"#7201a8\"],[0.3333333333333333,\"#9c179e\"],[0.4444444444444444,\"#bd3786\"],[0.5555555555555556,\"#d8576b\"],[0.6666666666666666,\"#ed7953\"],[0.7777777777777778,\"#fb9f3a\"],[0.8888888888888888,\"#fdca26\"],[1.0,\"#f0f921\"]]}],\"mesh3d\":[{\"type\":\"mesh3d\",\"colorbar\":{\"outlinewidth\":0,\"ticks\":\"\"}}],\"scatter\":[{\"fillpattern\":{\"fillmode\":\"overlay\",\"size\":10,\"solidity\":0.2},\"type\":\"scatter\"}],\"parcoords\":[{\"type\":\"parcoords\",\"line\":{\"colorbar\":{\"outlinewidth\":0,\"ticks\":\"\"}}}],\"scatterpolargl\":[{\"type\":\"scatterpolargl\",\"marker\":{\"colorbar\":{\"outlinewidth\":0,\"ticks\":\"\"}}}],\"bar\":[{\"error_x\":{\"color\":\"#2a3f5f\"},\"error_y\":{\"color\":\"#2a3f5f\"},\"marker\":{\"line\":{\"color\":\"#E5ECF6\",\"width\":0.5},\"pattern\":{\"fillmode\":\"overlay\",\"size\":10,\"solidity\":0.2}},\"type\":\"bar\"}],\"scattergeo\":[{\"type\":\"scattergeo\",\"marker\":{\"colorbar\":{\"outlinewidth\":0,\"ticks\":\"\"}}}],\"scatterpolar\":[{\"type\":\"scatterpolar\",\"marker\":{\"colorbar\":{\"outlinewidth\":0,\"ticks\":\"\"}}}],\"histogram\":[{\"marker\":{\"pattern\":{\"fillmode\":\"overlay\",\"size\":10,\"solidity\":0.2}},\"type\":\"histogram\"}],\"scattergl\":[{\"type\":\"scattergl\",\"marker\":{\"colorbar\":{\"outlinewidth\":0,\"ticks\":\"\"}}}],\"scatter3d\":[{\"type\":\"scatter3d\",\"line\":{\"colorbar\":{\"outlinewidth\":0,\"ticks\":\"\"}},\"marker\":{\"colorbar\":{\"outlinewidth\":0,\"ticks\":\"\"}}}],\"scattermapbox\":[{\"type\":\"scattermapbox\",\"marker\":{\"colorbar\":{\"outlinewidth\":0,\"ticks\":\"\"}}}],\"scatterternary\":[{\"type\":\"scatterternary\",\"marker\":{\"colorbar\":{\"outlinewidth\":0,\"ticks\":\"\"}}}],\"scattercarpet\":[{\"type\":\"scattercarpet\",\"marker\":{\"colorbar\":{\"outlinewidth\":0,\"ticks\":\"\"}}}],\"carpet\":[{\"aaxis\":{\"endlinecolor\":\"#2a3f5f\",\"gridcolor\":\"white\",\"linecolor\":\"white\",\"minorgridcolor\":\"white\",\"startlinecolor\":\"#2a3f5f\"},\"baxis\":{\"endlinecolor\":\"#2a3f5f\",\"gridcolor\":\"white\",\"linecolor\":\"white\",\"minorgridcolor\":\"white\",\"startlinecolor\":\"#2a3f5f\"},\"type\":\"carpet\"}],\"table\":[{\"cells\":{\"fill\":{\"color\":\"#EBF0F8\"},\"line\":{\"color\":\"white\"}},\"header\":{\"fill\":{\"color\":\"#C8D4E3\"},\"line\":{\"color\":\"white\"}},\"type\":\"table\"}],\"barpolar\":[{\"marker\":{\"line\":{\"color\":\"#E5ECF6\",\"width\":0.5},\"pattern\":{\"fillmode\":\"overlay\",\"size\":10,\"solidity\":0.2}},\"type\":\"barpolar\"}],\"pie\":[{\"automargin\":true,\"type\":\"pie\"}]},\"layout\":{\"autotypenumbers\":\"strict\",\"colorway\":[\"#636efa\",\"#EF553B\",\"#00cc96\",\"#ab63fa\",\"#FFA15A\",\"#19d3f3\",\"#FF6692\",\"#B6E880\",\"#FF97FF\",\"#FECB52\"],\"font\":{\"color\":\"#2a3f5f\"},\"hovermode\":\"closest\",\"hoverlabel\":{\"align\":\"left\"},\"paper_bgcolor\":\"white\",\"plot_bgcolor\":\"#E5ECF6\",\"polar\":{\"bgcolor\":\"#E5ECF6\",\"angularaxis\":{\"gridcolor\":\"white\",\"linecolor\":\"white\",\"ticks\":\"\"},\"radialaxis\":{\"gridcolor\":\"white\",\"linecolor\":\"white\",\"ticks\":\"\"}},\"ternary\":{\"bgcolor\":\"#E5ECF6\",\"aaxis\":{\"gridcolor\":\"white\",\"linecolor\":\"white\",\"ticks\":\"\"},\"baxis\":{\"gridcolor\":\"white\",\"linecolor\":\"white\",\"ticks\":\"\"},\"caxis\":{\"gridcolor\":\"white\",\"linecolor\":\"white\",\"ticks\":\"\"}},\"coloraxis\":{\"colorbar\":{\"outlinewidth\":0,\"ticks\":\"\"}},\"colorscale\":{\"sequential\":[[0.0,\"#0d0887\"],[0.1111111111111111,\"#46039f\"],[0.2222222222222222,\"#7201a8\"],[0.3333333333333333,\"#9c179e\"],[0.4444444444444444,\"#bd3786\"],[0.5555555555555556,\"#d8576b\"],[0.6666666666666666,\"#ed7953\"],[0.7777777777777778,\"#fb9f3a\"],[0.8888888888888888,\"#fdca26\"],[1.0,\"#f0f921\"]],\"sequentialminus\":[[0.0,\"#0d0887\"],[0.1111111111111111,\"#46039f\"],[0.2222222222222222,\"#7201a8\"],[0.3333333333333333,\"#9c179e\"],[0.4444444444444444,\"#bd3786\"],[0.5555555555555556,\"#d8576b\"],[0.6666666666666666,\"#ed7953\"],[0.7777777777777778,\"#fb9f3a\"],[0.8888888888888888,\"#fdca26\"],[1.0,\"#f0f921\"]],\"diverging\":[[0,\"#8e0152\"],[0.1,\"#c51b7d\"],[0.2,\"#de77ae\"],[0.3,\"#f1b6da\"],[0.4,\"#fde0ef\"],[0.5,\"#f7f7f7\"],[0.6,\"#e6f5d0\"],[0.7,\"#b8e186\"],[0.8,\"#7fbc41\"],[0.9,\"#4d9221\"],[1,\"#276419\"]]},\"xaxis\":{\"gridcolor\":\"white\",\"linecolor\":\"white\",\"ticks\":\"\",\"title\":{\"standoff\":15},\"zerolinecolor\":\"white\",\"automargin\":true,\"zerolinewidth\":2},\"yaxis\":{\"gridcolor\":\"white\",\"linecolor\":\"white\",\"ticks\":\"\",\"title\":{\"standoff\":15},\"zerolinecolor\":\"white\",\"automargin\":true,\"zerolinewidth\":2},\"scene\":{\"xaxis\":{\"backgroundcolor\":\"#E5ECF6\",\"gridcolor\":\"white\",\"linecolor\":\"white\",\"showbackground\":true,\"ticks\":\"\",\"zerolinecolor\":\"white\",\"gridwidth\":2},\"yaxis\":{\"backgroundcolor\":\"#E5ECF6\",\"gridcolor\":\"white\",\"linecolor\":\"white\",\"showbackground\":true,\"ticks\":\"\",\"zerolinecolor\":\"white\",\"gridwidth\":2},\"zaxis\":{\"backgroundcolor\":\"#E5ECF6\",\"gridcolor\":\"white\",\"linecolor\":\"white\",\"showbackground\":true,\"ticks\":\"\",\"zerolinecolor\":\"white\",\"gridwidth\":2}},\"shapedefaults\":{\"line\":{\"color\":\"#2a3f5f\"}},\"annotationdefaults\":{\"arrowcolor\":\"#2a3f5f\",\"arrowhead\":0,\"arrowwidth\":1},\"geo\":{\"bgcolor\":\"white\",\"landcolor\":\"#E5ECF6\",\"subunitcolor\":\"white\",\"showland\":true,\"showlakes\":true,\"lakecolor\":\"white\"},\"title\":{\"x\":0.05},\"mapbox\":{\"style\":\"light\"}}}},                        {\"responsive\": true}                    ).then(function(){\n",
       "                            \n",
       "var gd = document.getElementById('6c40df25-efab-40cf-9718-1ca1ded8e4df');\n",
       "var x = new MutationObserver(function (mutations, observer) {{\n",
       "        var display = window.getComputedStyle(gd).display;\n",
       "        if (!display || display === 'none') {{\n",
       "            console.log([gd, 'removed!']);\n",
       "            Plotly.purge(gd);\n",
       "            observer.disconnect();\n",
       "        }}\n",
       "}});\n",
       "\n",
       "// Listen for the removal of the full notebook cells\n",
       "var notebookContainer = gd.closest('#notebook-container');\n",
       "if (notebookContainer) {{\n",
       "    x.observe(notebookContainer, {childList: true});\n",
       "}}\n",
       "\n",
       "// Listen for the clearing of the current output cell\n",
       "var outputEl = gd.closest('.output');\n",
       "if (outputEl) {{\n",
       "    x.observe(outputEl, {childList: true});\n",
       "}}\n",
       "\n",
       "                        })                };                });            </script>        </div>"
      ]
     },
     "metadata": {},
     "output_type": "display_data"
    },
    {
     "data": {
      "application/vnd.plotly.v1+json": {
       "config": {
        "plotlyServerURL": "https://plot.ly"
       },
       "data": [
        {
         "colorscale": [
          [
           0,
           "rgb(165,0,38)"
          ],
          [
           0.1,
           "rgb(215,48,39)"
          ],
          [
           0.2,
           "rgb(244,109,67)"
          ],
          [
           0.3,
           "rgb(253,174,97)"
          ],
          [
           0.4,
           "rgb(254,224,139)"
          ],
          [
           0.5,
           "rgb(255,255,191)"
          ],
          [
           0.6,
           "rgb(217,239,139)"
          ],
          [
           0.7,
           "rgb(166,217,106)"
          ],
          [
           0.8,
           "rgb(102,189,99)"
          ],
          [
           0.9,
           "rgb(26,152,80)"
          ],
          [
           1,
           "rgb(0,104,55)"
          ]
         ],
         "type": "heatmap",
         "x": [
          "features_Seating",
          "features_Reservations",
          "features_Table Service",
          "features_Wheelchair Accessible",
          "features_Serves Alcohol",
          "features_Takeout",
          "features_Outdoor Seating",
          "features_Highchairs Available",
          "features_Accepts Credit Cards",
          "features_Full Bar",
          "features_Parking Available",
          "features_Free Wifi",
          "features_Wine and Beer",
          "features_Television",
          "features_Free off-street parking",
          "features_Street Parking",
          "features_Delivery",
          "features_Accepts Visa"
         ],
         "y": [
          "cuisines_European",
          "cuisines_Italian",
          "cuisines_French",
          "cuisines_Mediterranean",
          "cuisines_Bar",
          "cuisines_Spanish",
          "cuisines_Cafe",
          "cuisines_Pub",
          "cuisines_Seafood",
          "cuisines_Pizza",
          "cuisines_British",
          "cuisines_Fast food",
          "cuisines_Asian",
          "cuisines_Barbecue"
         ],
         "z": [
          [
           0.06050083176081202,
           0.03758656921642156,
           0.07431105831418418,
           0.013476941097386428,
           0.11415193585767819,
           -0.04810534472783317,
           0.14464700192355462,
           0.1210140310459058,
           0.13265559089680792,
           0.15453453465144737,
           0.024439032704268154,
           0.14640056052211922,
           0.06656097279821666,
           0.034315034492313094,
           -0.005904952622069493,
           0.003328702194231196,
           -0.01932064882264705,
           0.10793944477784058
          ],
          [
           0.11823780319943838,
           0.29824283454449796,
           0.2142754639660606,
           0.021293388731740335,
           0.13242590787996839,
           -0.16616141209284638,
           0.07607560557365327,
           0.12918016517170025,
           0.0466458590809579,
           0.002539976060582069,
           0.034908897532576616,
           0.007700073393439247,
           0.02105780511838989,
           0.005623948043177888,
           0.014703426087059154,
           -0.004994382532185565,
           -0.07962298312117735,
           0.00989750785744673
          ],
          [
           -0.02121345110756374,
           0.0035443218097833996,
           -0.030794492829513853,
           -0.011608738338742161,
           -0.014966232765654642,
           0.009451714842532877,
           0.00018060886546519844,
           -0.016144500773306675,
           0.011203858259394852,
           0.009256925593299582,
           0.016357978764060668,
           0.023874260464883234,
           0.018186596657915947,
           0.001346098015500275,
           0.018919241119173626,
           0.024935839525081285,
           0.00675953370855588,
           0.016421649977698086
          ],
          [
           0.14478470484385655,
           0.2052556220389354,
           0.1925070829097868,
           0.010789345312649114,
           0.24224244663457117,
           -0.07143317373040087,
           0.2176065826518424,
           0.2723602172978782,
           0.23328264562957693,
           0.07728361187964991,
           0.042509662190713726,
           0.1010466339545159,
           0.06360342297771433,
           0.04130963476285814,
           0.013767423742015096,
           0.005715622628066549,
           -0.052385218227718654,
           0.08592777616135233
          ],
          [
           0.10627229880793251,
           -0.05906123402984641,
           0.07456081272899763,
           0.0070851422192065305,
           0.13167106976734783,
           -0.057764461699463164,
           0.10720950916867596,
           0.0008007171075309421,
           0.06747775992836429,
           0.16634088690763238,
           0.0590732223599963,
           0.08155700280376033,
           0.0913534929890455,
           0.1375300888269391,
           0.04578838375347762,
           0.052029672828797405,
           -0.01989270650260567,
           0.03575619293780804
          ],
          [
           0.008928421254523816,
           0.008158303385800677,
           0.0017755513270769979,
           -0.008608845288940096,
           0.012885028722455071,
           0.002763249453893606,
           0.0017703422247434906,
           0.004759782211075072,
           0.015384295581361312,
           0.015066832125228195,
           0.0031465128152224652,
           0.01810310782355942,
           0.020531230301248087,
           0.013502081024593899,
           0.0051857180296459365,
           0.01462690975316093,
           -0.0004049587300214605,
           0.02200425299495824
          ],
          [
           -0.09493827082586737,
           -0.46917985431162246,
           -0.1872673259224678,
           0.07021629091642836,
           -0.14032046048590113,
           0.12059990718552498,
           0.02255620806927478,
           -0.1635797658116267,
           -0.040672439244823,
           0.13823511403638825,
           -0.030263686013417494,
           0.025360566969203555,
           0.028662167363564122,
           -0.004279390295136097,
           0.0035377351066297018,
           0.04752545650055497,
           0.009825717588197216,
           -0.004641372876918549
          ],
          [
           0.05406032914573403,
           -0.09997928337856678,
           0.009594536458695247,
           -0.0053837159690831625,
           0.03868982584495196,
           -0.018730748969946504,
           0.05044404322464343,
           -0.08586834649399223,
           0.0020897829281778945,
           0.14583149102432127,
           0.012620489971953778,
           0.07385608642476431,
           0.08584407305132248,
           0.13512184373853525,
           0.04056027662162936,
           0.06708531972177302,
           0.008257113940765257,
           0.014428537232229702
          ],
          [
           0.14796512028790487,
           0.2253758409269542,
           0.19984783387366536,
           0.01716492123363683,
           0.2057948137158224,
           -0.02447696392633687,
           0.1354671201410304,
           0.200654329221593,
           0.13941928579766552,
           0.008998985894862714,
           0.005803996074798346,
           0.030370814658486612,
           0.005611637048595573,
           -0.000920039772033775,
           -0.008975779980122379,
           -0.02421537781752751,
           -0.050209467164213685,
           0.04454801658924134
          ],
          [
           -0.0516478790163247,
           0.15726753411116334,
           -0.016747144559973674,
           -0.022143130850820356,
           -0.0005592071848703726,
           0.2320985328952145,
           -0.010217786790911983,
           0.052324537657582784,
           -0.017535705900091396,
           -0.03908898144135992,
           -0.0034686794312841166,
           -0.011936848083811078,
           0.0029756883518689044,
           0.07536249051613844,
           0.011758875484896944,
           0.00645037044595807,
           0.10183352394014167,
           0.0009892856318427332
          ],
          [
           -0.016705865606044683,
           -0.00322178380929483,
           -0.021913908935456753,
           -0.012963730750680984,
           -0.00013298269974039366,
           0.007537214602792425,
           0.004822038241012546,
           -0.009364081111947623,
           0.013403515117960577,
           0.013780073971667951,
           -0.0025154263336581283,
           0.03427945999242078,
           0.012400401337643398,
           0.03490334983237274,
           -0.0006653321551815319,
           0.010371016128380149,
           0.011072836702719748,
           0.012072093315741904
          ],
          [
           -0.10392688311593684,
           -0.18558520341739462,
           -0.250839463006786,
           0.008808057894188332,
           -0.07800397800248021,
           0.1668514386035538,
           -0.015292092551833893,
           -0.058930400509298944,
           0.011148334727719117,
           -0.02641364635502969,
           0.012141787985192517,
           0.04142757285915656,
           0.0469121969820862,
           0.024659373839062033,
           0.024031255761383513,
           0.06056627504640659,
           0.10456747233685845,
           -0.0006524106767511084
          ],
          [
           0.02510060604235255,
           0.06261556015636496,
           0.017509738597945187,
           -0.06734400682130087,
           -0.0006421186554050818,
           0.10931024110635681,
           -0.08190442256867438,
           -0.027757842046985542,
           0.0035131162202207324,
           -0.05728854994947249,
           -0.026187018524968634,
           -0.029951061818858944,
           -0.03419521968179198,
           -0.030241896412013646,
           -0.022721910332202205,
           -0.0272327335223142,
           0.08722688026931598,
           -0.027179291852451555
          ],
          [
           0.08887193885571046,
           0.11383615762479256,
           0.11014881602206794,
           0.017370596085338634,
           0.12266283691985881,
           -0.043251226235225135,
           0.051281672136109735,
           0.13822469561166778,
           0.07345428005926123,
           -0.0056069933552635055,
           0.09077905502996317,
           0.004029189218674272,
           0.007297643686330076,
           0.09728417495278166,
           0.02888995776858626,
           6.084073832109118e-05,
           -0.022735347793339338,
           0.009820151256724549
          ]
         ],
         "zmax": 1,
         "zmin": -1
        }
       ],
       "layout": {
        "template": {
         "data": {
          "bar": [
           {
            "error_x": {
             "color": "#2a3f5f"
            },
            "error_y": {
             "color": "#2a3f5f"
            },
            "marker": {
             "line": {
              "color": "#E5ECF6",
              "width": 0.5
             },
             "pattern": {
              "fillmode": "overlay",
              "size": 10,
              "solidity": 0.2
             }
            },
            "type": "bar"
           }
          ],
          "barpolar": [
           {
            "marker": {
             "line": {
              "color": "#E5ECF6",
              "width": 0.5
             },
             "pattern": {
              "fillmode": "overlay",
              "size": 10,
              "solidity": 0.2
             }
            },
            "type": "barpolar"
           }
          ],
          "carpet": [
           {
            "aaxis": {
             "endlinecolor": "#2a3f5f",
             "gridcolor": "white",
             "linecolor": "white",
             "minorgridcolor": "white",
             "startlinecolor": "#2a3f5f"
            },
            "baxis": {
             "endlinecolor": "#2a3f5f",
             "gridcolor": "white",
             "linecolor": "white",
             "minorgridcolor": "white",
             "startlinecolor": "#2a3f5f"
            },
            "type": "carpet"
           }
          ],
          "choropleth": [
           {
            "colorbar": {
             "outlinewidth": 0,
             "ticks": ""
            },
            "type": "choropleth"
           }
          ],
          "contour": [
           {
            "colorbar": {
             "outlinewidth": 0,
             "ticks": ""
            },
            "colorscale": [
             [
              0,
              "#0d0887"
             ],
             [
              0.1111111111111111,
              "#46039f"
             ],
             [
              0.2222222222222222,
              "#7201a8"
             ],
             [
              0.3333333333333333,
              "#9c179e"
             ],
             [
              0.4444444444444444,
              "#bd3786"
             ],
             [
              0.5555555555555556,
              "#d8576b"
             ],
             [
              0.6666666666666666,
              "#ed7953"
             ],
             [
              0.7777777777777778,
              "#fb9f3a"
             ],
             [
              0.8888888888888888,
              "#fdca26"
             ],
             [
              1,
              "#f0f921"
             ]
            ],
            "type": "contour"
           }
          ],
          "contourcarpet": [
           {
            "colorbar": {
             "outlinewidth": 0,
             "ticks": ""
            },
            "type": "contourcarpet"
           }
          ],
          "heatmap": [
           {
            "colorbar": {
             "outlinewidth": 0,
             "ticks": ""
            },
            "colorscale": [
             [
              0,
              "#0d0887"
             ],
             [
              0.1111111111111111,
              "#46039f"
             ],
             [
              0.2222222222222222,
              "#7201a8"
             ],
             [
              0.3333333333333333,
              "#9c179e"
             ],
             [
              0.4444444444444444,
              "#bd3786"
             ],
             [
              0.5555555555555556,
              "#d8576b"
             ],
             [
              0.6666666666666666,
              "#ed7953"
             ],
             [
              0.7777777777777778,
              "#fb9f3a"
             ],
             [
              0.8888888888888888,
              "#fdca26"
             ],
             [
              1,
              "#f0f921"
             ]
            ],
            "type": "heatmap"
           }
          ],
          "heatmapgl": [
           {
            "colorbar": {
             "outlinewidth": 0,
             "ticks": ""
            },
            "colorscale": [
             [
              0,
              "#0d0887"
             ],
             [
              0.1111111111111111,
              "#46039f"
             ],
             [
              0.2222222222222222,
              "#7201a8"
             ],
             [
              0.3333333333333333,
              "#9c179e"
             ],
             [
              0.4444444444444444,
              "#bd3786"
             ],
             [
              0.5555555555555556,
              "#d8576b"
             ],
             [
              0.6666666666666666,
              "#ed7953"
             ],
             [
              0.7777777777777778,
              "#fb9f3a"
             ],
             [
              0.8888888888888888,
              "#fdca26"
             ],
             [
              1,
              "#f0f921"
             ]
            ],
            "type": "heatmapgl"
           }
          ],
          "histogram": [
           {
            "marker": {
             "pattern": {
              "fillmode": "overlay",
              "size": 10,
              "solidity": 0.2
             }
            },
            "type": "histogram"
           }
          ],
          "histogram2d": [
           {
            "colorbar": {
             "outlinewidth": 0,
             "ticks": ""
            },
            "colorscale": [
             [
              0,
              "#0d0887"
             ],
             [
              0.1111111111111111,
              "#46039f"
             ],
             [
              0.2222222222222222,
              "#7201a8"
             ],
             [
              0.3333333333333333,
              "#9c179e"
             ],
             [
              0.4444444444444444,
              "#bd3786"
             ],
             [
              0.5555555555555556,
              "#d8576b"
             ],
             [
              0.6666666666666666,
              "#ed7953"
             ],
             [
              0.7777777777777778,
              "#fb9f3a"
             ],
             [
              0.8888888888888888,
              "#fdca26"
             ],
             [
              1,
              "#f0f921"
             ]
            ],
            "type": "histogram2d"
           }
          ],
          "histogram2dcontour": [
           {
            "colorbar": {
             "outlinewidth": 0,
             "ticks": ""
            },
            "colorscale": [
             [
              0,
              "#0d0887"
             ],
             [
              0.1111111111111111,
              "#46039f"
             ],
             [
              0.2222222222222222,
              "#7201a8"
             ],
             [
              0.3333333333333333,
              "#9c179e"
             ],
             [
              0.4444444444444444,
              "#bd3786"
             ],
             [
              0.5555555555555556,
              "#d8576b"
             ],
             [
              0.6666666666666666,
              "#ed7953"
             ],
             [
              0.7777777777777778,
              "#fb9f3a"
             ],
             [
              0.8888888888888888,
              "#fdca26"
             ],
             [
              1,
              "#f0f921"
             ]
            ],
            "type": "histogram2dcontour"
           }
          ],
          "mesh3d": [
           {
            "colorbar": {
             "outlinewidth": 0,
             "ticks": ""
            },
            "type": "mesh3d"
           }
          ],
          "parcoords": [
           {
            "line": {
             "colorbar": {
              "outlinewidth": 0,
              "ticks": ""
             }
            },
            "type": "parcoords"
           }
          ],
          "pie": [
           {
            "automargin": true,
            "type": "pie"
           }
          ],
          "scatter": [
           {
            "fillpattern": {
             "fillmode": "overlay",
             "size": 10,
             "solidity": 0.2
            },
            "type": "scatter"
           }
          ],
          "scatter3d": [
           {
            "line": {
             "colorbar": {
              "outlinewidth": 0,
              "ticks": ""
             }
            },
            "marker": {
             "colorbar": {
              "outlinewidth": 0,
              "ticks": ""
             }
            },
            "type": "scatter3d"
           }
          ],
          "scattercarpet": [
           {
            "marker": {
             "colorbar": {
              "outlinewidth": 0,
              "ticks": ""
             }
            },
            "type": "scattercarpet"
           }
          ],
          "scattergeo": [
           {
            "marker": {
             "colorbar": {
              "outlinewidth": 0,
              "ticks": ""
             }
            },
            "type": "scattergeo"
           }
          ],
          "scattergl": [
           {
            "marker": {
             "colorbar": {
              "outlinewidth": 0,
              "ticks": ""
             }
            },
            "type": "scattergl"
           }
          ],
          "scattermapbox": [
           {
            "marker": {
             "colorbar": {
              "outlinewidth": 0,
              "ticks": ""
             }
            },
            "type": "scattermapbox"
           }
          ],
          "scatterpolar": [
           {
            "marker": {
             "colorbar": {
              "outlinewidth": 0,
              "ticks": ""
             }
            },
            "type": "scatterpolar"
           }
          ],
          "scatterpolargl": [
           {
            "marker": {
             "colorbar": {
              "outlinewidth": 0,
              "ticks": ""
             }
            },
            "type": "scatterpolargl"
           }
          ],
          "scatterternary": [
           {
            "marker": {
             "colorbar": {
              "outlinewidth": 0,
              "ticks": ""
             }
            },
            "type": "scatterternary"
           }
          ],
          "surface": [
           {
            "colorbar": {
             "outlinewidth": 0,
             "ticks": ""
            },
            "colorscale": [
             [
              0,
              "#0d0887"
             ],
             [
              0.1111111111111111,
              "#46039f"
             ],
             [
              0.2222222222222222,
              "#7201a8"
             ],
             [
              0.3333333333333333,
              "#9c179e"
             ],
             [
              0.4444444444444444,
              "#bd3786"
             ],
             [
              0.5555555555555556,
              "#d8576b"
             ],
             [
              0.6666666666666666,
              "#ed7953"
             ],
             [
              0.7777777777777778,
              "#fb9f3a"
             ],
             [
              0.8888888888888888,
              "#fdca26"
             ],
             [
              1,
              "#f0f921"
             ]
            ],
            "type": "surface"
           }
          ],
          "table": [
           {
            "cells": {
             "fill": {
              "color": "#EBF0F8"
             },
             "line": {
              "color": "white"
             }
            },
            "header": {
             "fill": {
              "color": "#C8D4E3"
             },
             "line": {
              "color": "white"
             }
            },
            "type": "table"
           }
          ]
         },
         "layout": {
          "annotationdefaults": {
           "arrowcolor": "#2a3f5f",
           "arrowhead": 0,
           "arrowwidth": 1
          },
          "autotypenumbers": "strict",
          "coloraxis": {
           "colorbar": {
            "outlinewidth": 0,
            "ticks": ""
           }
          },
          "colorscale": {
           "diverging": [
            [
             0,
             "#8e0152"
            ],
            [
             0.1,
             "#c51b7d"
            ],
            [
             0.2,
             "#de77ae"
            ],
            [
             0.3,
             "#f1b6da"
            ],
            [
             0.4,
             "#fde0ef"
            ],
            [
             0.5,
             "#f7f7f7"
            ],
            [
             0.6,
             "#e6f5d0"
            ],
            [
             0.7,
             "#b8e186"
            ],
            [
             0.8,
             "#7fbc41"
            ],
            [
             0.9,
             "#4d9221"
            ],
            [
             1,
             "#276419"
            ]
           ],
           "sequential": [
            [
             0,
             "#0d0887"
            ],
            [
             0.1111111111111111,
             "#46039f"
            ],
            [
             0.2222222222222222,
             "#7201a8"
            ],
            [
             0.3333333333333333,
             "#9c179e"
            ],
            [
             0.4444444444444444,
             "#bd3786"
            ],
            [
             0.5555555555555556,
             "#d8576b"
            ],
            [
             0.6666666666666666,
             "#ed7953"
            ],
            [
             0.7777777777777778,
             "#fb9f3a"
            ],
            [
             0.8888888888888888,
             "#fdca26"
            ],
            [
             1,
             "#f0f921"
            ]
           ],
           "sequentialminus": [
            [
             0,
             "#0d0887"
            ],
            [
             0.1111111111111111,
             "#46039f"
            ],
            [
             0.2222222222222222,
             "#7201a8"
            ],
            [
             0.3333333333333333,
             "#9c179e"
            ],
            [
             0.4444444444444444,
             "#bd3786"
            ],
            [
             0.5555555555555556,
             "#d8576b"
            ],
            [
             0.6666666666666666,
             "#ed7953"
            ],
            [
             0.7777777777777778,
             "#fb9f3a"
            ],
            [
             0.8888888888888888,
             "#fdca26"
            ],
            [
             1,
             "#f0f921"
            ]
           ]
          },
          "colorway": [
           "#636efa",
           "#EF553B",
           "#00cc96",
           "#ab63fa",
           "#FFA15A",
           "#19d3f3",
           "#FF6692",
           "#B6E880",
           "#FF97FF",
           "#FECB52"
          ],
          "font": {
           "color": "#2a3f5f"
          },
          "geo": {
           "bgcolor": "white",
           "lakecolor": "white",
           "landcolor": "#E5ECF6",
           "showlakes": true,
           "showland": true,
           "subunitcolor": "white"
          },
          "hoverlabel": {
           "align": "left"
          },
          "hovermode": "closest",
          "mapbox": {
           "style": "light"
          },
          "paper_bgcolor": "white",
          "plot_bgcolor": "#E5ECF6",
          "polar": {
           "angularaxis": {
            "gridcolor": "white",
            "linecolor": "white",
            "ticks": ""
           },
           "bgcolor": "#E5ECF6",
           "radialaxis": {
            "gridcolor": "white",
            "linecolor": "white",
            "ticks": ""
           }
          },
          "scene": {
           "xaxis": {
            "backgroundcolor": "#E5ECF6",
            "gridcolor": "white",
            "gridwidth": 2,
            "linecolor": "white",
            "showbackground": true,
            "ticks": "",
            "zerolinecolor": "white"
           },
           "yaxis": {
            "backgroundcolor": "#E5ECF6",
            "gridcolor": "white",
            "gridwidth": 2,
            "linecolor": "white",
            "showbackground": true,
            "ticks": "",
            "zerolinecolor": "white"
           },
           "zaxis": {
            "backgroundcolor": "#E5ECF6",
            "gridcolor": "white",
            "gridwidth": 2,
            "linecolor": "white",
            "showbackground": true,
            "ticks": "",
            "zerolinecolor": "white"
           }
          },
          "shapedefaults": {
           "line": {
            "color": "#2a3f5f"
           }
          },
          "ternary": {
           "aaxis": {
            "gridcolor": "white",
            "linecolor": "white",
            "ticks": ""
           },
           "baxis": {
            "gridcolor": "white",
            "linecolor": "white",
            "ticks": ""
           },
           "bgcolor": "#E5ECF6",
           "caxis": {
            "gridcolor": "white",
            "linecolor": "white",
            "ticks": ""
           }
          },
          "title": {
           "x": 0.05
          },
          "xaxis": {
           "automargin": true,
           "gridcolor": "white",
           "linecolor": "white",
           "ticks": "",
           "title": {
            "standoff": 15
           },
           "zerolinecolor": "white",
           "zerolinewidth": 2
          },
          "yaxis": {
           "automargin": true,
           "gridcolor": "white",
           "linecolor": "white",
           "ticks": "",
           "title": {
            "standoff": 15
           },
           "zerolinecolor": "white",
           "zerolinewidth": 2
          }
         }
        },
        "title": {
         "text": "cuisines vs features"
        }
       }
      },
      "text/html": [
       "<div>                            <div id=\"a3a6859d-c651-4fb3-9082-7f6b1a36d0c4\" class=\"plotly-graph-div\" style=\"height:525px; width:100%;\"></div>            <script type=\"text/javascript\">                require([\"plotly\"], function(Plotly) {                    window.PLOTLYENV=window.PLOTLYENV || {};                                    if (document.getElementById(\"a3a6859d-c651-4fb3-9082-7f6b1a36d0c4\")) {                    Plotly.newPlot(                        \"a3a6859d-c651-4fb3-9082-7f6b1a36d0c4\",                        [{\"colorscale\":[[0.0,\"rgb(165,0,38)\"],[0.1,\"rgb(215,48,39)\"],[0.2,\"rgb(244,109,67)\"],[0.3,\"rgb(253,174,97)\"],[0.4,\"rgb(254,224,139)\"],[0.5,\"rgb(255,255,191)\"],[0.6,\"rgb(217,239,139)\"],[0.7,\"rgb(166,217,106)\"],[0.8,\"rgb(102,189,99)\"],[0.9,\"rgb(26,152,80)\"],[1.0,\"rgb(0,104,55)\"]],\"x\":[\"features_Seating\",\"features_Reservations\",\"features_Table Service\",\"features_Wheelchair Accessible\",\"features_Serves Alcohol\",\"features_Takeout\",\"features_Outdoor Seating\",\"features_Highchairs Available\",\"features_Accepts Credit Cards\",\"features_Full Bar\",\"features_Parking Available\",\"features_Free Wifi\",\"features_Wine and Beer\",\"features_Television\",\"features_Free off-street parking\",\"features_Street Parking\",\"features_Delivery\",\"features_Accepts Visa\"],\"y\":[\"cuisines_European\",\"cuisines_Italian\",\"cuisines_French\",\"cuisines_Mediterranean\",\"cuisines_Bar\",\"cuisines_Spanish\",\"cuisines_Cafe\",\"cuisines_Pub\",\"cuisines_Seafood\",\"cuisines_Pizza\",\"cuisines_British\",\"cuisines_Fast food\",\"cuisines_Asian\",\"cuisines_Barbecue\"],\"z\":[[0.06050083176081202,0.03758656921642156,0.07431105831418418,0.013476941097386428,0.11415193585767819,-0.04810534472783317,0.14464700192355462,0.1210140310459058,0.13265559089680792,0.15453453465144737,0.024439032704268154,0.14640056052211922,0.06656097279821666,0.034315034492313094,-0.005904952622069493,0.003328702194231196,-0.01932064882264705,0.10793944477784058],[0.11823780319943838,0.29824283454449796,0.2142754639660606,0.021293388731740335,0.13242590787996839,-0.16616141209284638,0.07607560557365327,0.12918016517170025,0.0466458590809579,0.002539976060582069,0.034908897532576616,0.007700073393439247,0.02105780511838989,0.005623948043177888,0.014703426087059154,-0.004994382532185565,-0.07962298312117735,0.00989750785744673],[-0.02121345110756374,0.0035443218097833996,-0.030794492829513853,-0.011608738338742161,-0.014966232765654642,0.009451714842532877,0.00018060886546519844,-0.016144500773306675,0.011203858259394852,0.009256925593299582,0.016357978764060668,0.023874260464883234,0.018186596657915947,0.001346098015500275,0.018919241119173626,0.024935839525081285,0.00675953370855588,0.016421649977698086],[0.14478470484385655,0.2052556220389354,0.1925070829097868,0.010789345312649114,0.24224244663457117,-0.07143317373040087,0.2176065826518424,0.2723602172978782,0.23328264562957693,0.07728361187964991,0.042509662190713726,0.1010466339545159,0.06360342297771433,0.04130963476285814,0.013767423742015096,0.005715622628066549,-0.052385218227718654,0.08592777616135233],[0.10627229880793251,-0.05906123402984641,0.07456081272899763,0.0070851422192065305,0.13167106976734783,-0.057764461699463164,0.10720950916867596,0.0008007171075309421,0.06747775992836429,0.16634088690763238,0.0590732223599963,0.08155700280376033,0.0913534929890455,0.1375300888269391,0.04578838375347762,0.052029672828797405,-0.01989270650260567,0.03575619293780804],[0.008928421254523816,0.008158303385800677,0.0017755513270769979,-0.008608845288940096,0.012885028722455071,0.002763249453893606,0.0017703422247434906,0.004759782211075072,0.015384295581361312,0.015066832125228195,0.0031465128152224652,0.01810310782355942,0.020531230301248087,0.013502081024593899,0.0051857180296459365,0.01462690975316093,-0.0004049587300214605,0.02200425299495824],[-0.09493827082586737,-0.46917985431162246,-0.1872673259224678,0.07021629091642836,-0.14032046048590113,0.12059990718552498,0.02255620806927478,-0.1635797658116267,-0.040672439244823,0.13823511403638825,-0.030263686013417494,0.025360566969203555,0.028662167363564122,-0.004279390295136097,0.0035377351066297018,0.04752545650055497,0.009825717588197216,-0.004641372876918549],[0.05406032914573403,-0.09997928337856678,0.009594536458695247,-0.0053837159690831625,0.03868982584495196,-0.018730748969946504,0.05044404322464343,-0.08586834649399223,0.0020897829281778945,0.14583149102432127,0.012620489971953778,0.07385608642476431,0.08584407305132248,0.13512184373853525,0.04056027662162936,0.06708531972177302,0.008257113940765257,0.014428537232229702],[0.14796512028790487,0.2253758409269542,0.19984783387366536,0.01716492123363683,0.2057948137158224,-0.02447696392633687,0.1354671201410304,0.200654329221593,0.13941928579766552,0.008998985894862714,0.005803996074798346,0.030370814658486612,0.005611637048595573,-0.000920039772033775,-0.008975779980122379,-0.02421537781752751,-0.050209467164213685,0.04454801658924134],[-0.0516478790163247,0.15726753411116334,-0.016747144559973674,-0.022143130850820356,-0.0005592071848703726,0.2320985328952145,-0.010217786790911983,0.052324537657582784,-0.017535705900091396,-0.03908898144135992,-0.0034686794312841166,-0.011936848083811078,0.0029756883518689044,0.07536249051613844,0.011758875484896944,0.00645037044595807,0.10183352394014167,0.0009892856318427332],[-0.016705865606044683,-0.00322178380929483,-0.021913908935456753,-0.012963730750680984,-0.00013298269974039366,0.007537214602792425,0.004822038241012546,-0.009364081111947623,0.013403515117960577,0.013780073971667951,-0.0025154263336581283,0.03427945999242078,0.012400401337643398,0.03490334983237274,-0.0006653321551815319,0.010371016128380149,0.011072836702719748,0.012072093315741904],[-0.10392688311593684,-0.18558520341739462,-0.250839463006786,0.008808057894188332,-0.07800397800248021,0.1668514386035538,-0.015292092551833893,-0.058930400509298944,0.011148334727719117,-0.02641364635502969,0.012141787985192517,0.04142757285915656,0.0469121969820862,0.024659373839062033,0.024031255761383513,0.06056627504640659,0.10456747233685845,-0.0006524106767511084],[0.02510060604235255,0.06261556015636496,0.017509738597945187,-0.06734400682130087,-0.0006421186554050818,0.10931024110635681,-0.08190442256867438,-0.027757842046985542,0.0035131162202207324,-0.05728854994947249,-0.026187018524968634,-0.029951061818858944,-0.03419521968179198,-0.030241896412013646,-0.022721910332202205,-0.0272327335223142,0.08722688026931598,-0.027179291852451555],[0.08887193885571046,0.11383615762479256,0.11014881602206794,0.017370596085338634,0.12266283691985881,-0.043251226235225135,0.051281672136109735,0.13822469561166778,0.07345428005926123,-0.0056069933552635055,0.09077905502996317,0.004029189218674272,0.007297643686330076,0.09728417495278166,0.02888995776858626,6.084073832109118e-05,-0.022735347793339338,0.009820151256724549]],\"zmax\":1,\"zmin\":-1,\"type\":\"heatmap\"}],                        {\"title\":{\"text\":\"cuisines vs features\"},\"template\":{\"data\":{\"histogram2dcontour\":[{\"type\":\"histogram2dcontour\",\"colorbar\":{\"outlinewidth\":0,\"ticks\":\"\"},\"colorscale\":[[0.0,\"#0d0887\"],[0.1111111111111111,\"#46039f\"],[0.2222222222222222,\"#7201a8\"],[0.3333333333333333,\"#9c179e\"],[0.4444444444444444,\"#bd3786\"],[0.5555555555555556,\"#d8576b\"],[0.6666666666666666,\"#ed7953\"],[0.7777777777777778,\"#fb9f3a\"],[0.8888888888888888,\"#fdca26\"],[1.0,\"#f0f921\"]]}],\"choropleth\":[{\"type\":\"choropleth\",\"colorbar\":{\"outlinewidth\":0,\"ticks\":\"\"}}],\"histogram2d\":[{\"type\":\"histogram2d\",\"colorbar\":{\"outlinewidth\":0,\"ticks\":\"\"},\"colorscale\":[[0.0,\"#0d0887\"],[0.1111111111111111,\"#46039f\"],[0.2222222222222222,\"#7201a8\"],[0.3333333333333333,\"#9c179e\"],[0.4444444444444444,\"#bd3786\"],[0.5555555555555556,\"#d8576b\"],[0.6666666666666666,\"#ed7953\"],[0.7777777777777778,\"#fb9f3a\"],[0.8888888888888888,\"#fdca26\"],[1.0,\"#f0f921\"]]}],\"heatmap\":[{\"type\":\"heatmap\",\"colorbar\":{\"outlinewidth\":0,\"ticks\":\"\"},\"colorscale\":[[0.0,\"#0d0887\"],[0.1111111111111111,\"#46039f\"],[0.2222222222222222,\"#7201a8\"],[0.3333333333333333,\"#9c179e\"],[0.4444444444444444,\"#bd3786\"],[0.5555555555555556,\"#d8576b\"],[0.6666666666666666,\"#ed7953\"],[0.7777777777777778,\"#fb9f3a\"],[0.8888888888888888,\"#fdca26\"],[1.0,\"#f0f921\"]]}],\"heatmapgl\":[{\"type\":\"heatmapgl\",\"colorbar\":{\"outlinewidth\":0,\"ticks\":\"\"},\"colorscale\":[[0.0,\"#0d0887\"],[0.1111111111111111,\"#46039f\"],[0.2222222222222222,\"#7201a8\"],[0.3333333333333333,\"#9c179e\"],[0.4444444444444444,\"#bd3786\"],[0.5555555555555556,\"#d8576b\"],[0.6666666666666666,\"#ed7953\"],[0.7777777777777778,\"#fb9f3a\"],[0.8888888888888888,\"#fdca26\"],[1.0,\"#f0f921\"]]}],\"contourcarpet\":[{\"type\":\"contourcarpet\",\"colorbar\":{\"outlinewidth\":0,\"ticks\":\"\"}}],\"contour\":[{\"type\":\"contour\",\"colorbar\":{\"outlinewidth\":0,\"ticks\":\"\"},\"colorscale\":[[0.0,\"#0d0887\"],[0.1111111111111111,\"#46039f\"],[0.2222222222222222,\"#7201a8\"],[0.3333333333333333,\"#9c179e\"],[0.4444444444444444,\"#bd3786\"],[0.5555555555555556,\"#d8576b\"],[0.6666666666666666,\"#ed7953\"],[0.7777777777777778,\"#fb9f3a\"],[0.8888888888888888,\"#fdca26\"],[1.0,\"#f0f921\"]]}],\"surface\":[{\"type\":\"surface\",\"colorbar\":{\"outlinewidth\":0,\"ticks\":\"\"},\"colorscale\":[[0.0,\"#0d0887\"],[0.1111111111111111,\"#46039f\"],[0.2222222222222222,\"#7201a8\"],[0.3333333333333333,\"#9c179e\"],[0.4444444444444444,\"#bd3786\"],[0.5555555555555556,\"#d8576b\"],[0.6666666666666666,\"#ed7953\"],[0.7777777777777778,\"#fb9f3a\"],[0.8888888888888888,\"#fdca26\"],[1.0,\"#f0f921\"]]}],\"mesh3d\":[{\"type\":\"mesh3d\",\"colorbar\":{\"outlinewidth\":0,\"ticks\":\"\"}}],\"scatter\":[{\"fillpattern\":{\"fillmode\":\"overlay\",\"size\":10,\"solidity\":0.2},\"type\":\"scatter\"}],\"parcoords\":[{\"type\":\"parcoords\",\"line\":{\"colorbar\":{\"outlinewidth\":0,\"ticks\":\"\"}}}],\"scatterpolargl\":[{\"type\":\"scatterpolargl\",\"marker\":{\"colorbar\":{\"outlinewidth\":0,\"ticks\":\"\"}}}],\"bar\":[{\"error_x\":{\"color\":\"#2a3f5f\"},\"error_y\":{\"color\":\"#2a3f5f\"},\"marker\":{\"line\":{\"color\":\"#E5ECF6\",\"width\":0.5},\"pattern\":{\"fillmode\":\"overlay\",\"size\":10,\"solidity\":0.2}},\"type\":\"bar\"}],\"scattergeo\":[{\"type\":\"scattergeo\",\"marker\":{\"colorbar\":{\"outlinewidth\":0,\"ticks\":\"\"}}}],\"scatterpolar\":[{\"type\":\"scatterpolar\",\"marker\":{\"colorbar\":{\"outlinewidth\":0,\"ticks\":\"\"}}}],\"histogram\":[{\"marker\":{\"pattern\":{\"fillmode\":\"overlay\",\"size\":10,\"solidity\":0.2}},\"type\":\"histogram\"}],\"scattergl\":[{\"type\":\"scattergl\",\"marker\":{\"colorbar\":{\"outlinewidth\":0,\"ticks\":\"\"}}}],\"scatter3d\":[{\"type\":\"scatter3d\",\"line\":{\"colorbar\":{\"outlinewidth\":0,\"ticks\":\"\"}},\"marker\":{\"colorbar\":{\"outlinewidth\":0,\"ticks\":\"\"}}}],\"scattermapbox\":[{\"type\":\"scattermapbox\",\"marker\":{\"colorbar\":{\"outlinewidth\":0,\"ticks\":\"\"}}}],\"scatterternary\":[{\"type\":\"scatterternary\",\"marker\":{\"colorbar\":{\"outlinewidth\":0,\"ticks\":\"\"}}}],\"scattercarpet\":[{\"type\":\"scattercarpet\",\"marker\":{\"colorbar\":{\"outlinewidth\":0,\"ticks\":\"\"}}}],\"carpet\":[{\"aaxis\":{\"endlinecolor\":\"#2a3f5f\",\"gridcolor\":\"white\",\"linecolor\":\"white\",\"minorgridcolor\":\"white\",\"startlinecolor\":\"#2a3f5f\"},\"baxis\":{\"endlinecolor\":\"#2a3f5f\",\"gridcolor\":\"white\",\"linecolor\":\"white\",\"minorgridcolor\":\"white\",\"startlinecolor\":\"#2a3f5f\"},\"type\":\"carpet\"}],\"table\":[{\"cells\":{\"fill\":{\"color\":\"#EBF0F8\"},\"line\":{\"color\":\"white\"}},\"header\":{\"fill\":{\"color\":\"#C8D4E3\"},\"line\":{\"color\":\"white\"}},\"type\":\"table\"}],\"barpolar\":[{\"marker\":{\"line\":{\"color\":\"#E5ECF6\",\"width\":0.5},\"pattern\":{\"fillmode\":\"overlay\",\"size\":10,\"solidity\":0.2}},\"type\":\"barpolar\"}],\"pie\":[{\"automargin\":true,\"type\":\"pie\"}]},\"layout\":{\"autotypenumbers\":\"strict\",\"colorway\":[\"#636efa\",\"#EF553B\",\"#00cc96\",\"#ab63fa\",\"#FFA15A\",\"#19d3f3\",\"#FF6692\",\"#B6E880\",\"#FF97FF\",\"#FECB52\"],\"font\":{\"color\":\"#2a3f5f\"},\"hovermode\":\"closest\",\"hoverlabel\":{\"align\":\"left\"},\"paper_bgcolor\":\"white\",\"plot_bgcolor\":\"#E5ECF6\",\"polar\":{\"bgcolor\":\"#E5ECF6\",\"angularaxis\":{\"gridcolor\":\"white\",\"linecolor\":\"white\",\"ticks\":\"\"},\"radialaxis\":{\"gridcolor\":\"white\",\"linecolor\":\"white\",\"ticks\":\"\"}},\"ternary\":{\"bgcolor\":\"#E5ECF6\",\"aaxis\":{\"gridcolor\":\"white\",\"linecolor\":\"white\",\"ticks\":\"\"},\"baxis\":{\"gridcolor\":\"white\",\"linecolor\":\"white\",\"ticks\":\"\"},\"caxis\":{\"gridcolor\":\"white\",\"linecolor\":\"white\",\"ticks\":\"\"}},\"coloraxis\":{\"colorbar\":{\"outlinewidth\":0,\"ticks\":\"\"}},\"colorscale\":{\"sequential\":[[0.0,\"#0d0887\"],[0.1111111111111111,\"#46039f\"],[0.2222222222222222,\"#7201a8\"],[0.3333333333333333,\"#9c179e\"],[0.4444444444444444,\"#bd3786\"],[0.5555555555555556,\"#d8576b\"],[0.6666666666666666,\"#ed7953\"],[0.7777777777777778,\"#fb9f3a\"],[0.8888888888888888,\"#fdca26\"],[1.0,\"#f0f921\"]],\"sequentialminus\":[[0.0,\"#0d0887\"],[0.1111111111111111,\"#46039f\"],[0.2222222222222222,\"#7201a8\"],[0.3333333333333333,\"#9c179e\"],[0.4444444444444444,\"#bd3786\"],[0.5555555555555556,\"#d8576b\"],[0.6666666666666666,\"#ed7953\"],[0.7777777777777778,\"#fb9f3a\"],[0.8888888888888888,\"#fdca26\"],[1.0,\"#f0f921\"]],\"diverging\":[[0,\"#8e0152\"],[0.1,\"#c51b7d\"],[0.2,\"#de77ae\"],[0.3,\"#f1b6da\"],[0.4,\"#fde0ef\"],[0.5,\"#f7f7f7\"],[0.6,\"#e6f5d0\"],[0.7,\"#b8e186\"],[0.8,\"#7fbc41\"],[0.9,\"#4d9221\"],[1,\"#276419\"]]},\"xaxis\":{\"gridcolor\":\"white\",\"linecolor\":\"white\",\"ticks\":\"\",\"title\":{\"standoff\":15},\"zerolinecolor\":\"white\",\"automargin\":true,\"zerolinewidth\":2},\"yaxis\":{\"gridcolor\":\"white\",\"linecolor\":\"white\",\"ticks\":\"\",\"title\":{\"standoff\":15},\"zerolinecolor\":\"white\",\"automargin\":true,\"zerolinewidth\":2},\"scene\":{\"xaxis\":{\"backgroundcolor\":\"#E5ECF6\",\"gridcolor\":\"white\",\"linecolor\":\"white\",\"showbackground\":true,\"ticks\":\"\",\"zerolinecolor\":\"white\",\"gridwidth\":2},\"yaxis\":{\"backgroundcolor\":\"#E5ECF6\",\"gridcolor\":\"white\",\"linecolor\":\"white\",\"showbackground\":true,\"ticks\":\"\",\"zerolinecolor\":\"white\",\"gridwidth\":2},\"zaxis\":{\"backgroundcolor\":\"#E5ECF6\",\"gridcolor\":\"white\",\"linecolor\":\"white\",\"showbackground\":true,\"ticks\":\"\",\"zerolinecolor\":\"white\",\"gridwidth\":2}},\"shapedefaults\":{\"line\":{\"color\":\"#2a3f5f\"}},\"annotationdefaults\":{\"arrowcolor\":\"#2a3f5f\",\"arrowhead\":0,\"arrowwidth\":1},\"geo\":{\"bgcolor\":\"white\",\"landcolor\":\"#E5ECF6\",\"subunitcolor\":\"white\",\"showland\":true,\"showlakes\":true,\"lakecolor\":\"white\"},\"title\":{\"x\":0.05},\"mapbox\":{\"style\":\"light\"}}}},                        {\"responsive\": true}                    ).then(function(){\n",
       "                            \n",
       "var gd = document.getElementById('a3a6859d-c651-4fb3-9082-7f6b1a36d0c4');\n",
       "var x = new MutationObserver(function (mutations, observer) {{\n",
       "        var display = window.getComputedStyle(gd).display;\n",
       "        if (!display || display === 'none') {{\n",
       "            console.log([gd, 'removed!']);\n",
       "            Plotly.purge(gd);\n",
       "            observer.disconnect();\n",
       "        }}\n",
       "}});\n",
       "\n",
       "// Listen for the removal of the full notebook cells\n",
       "var notebookContainer = gd.closest('#notebook-container');\n",
       "if (notebookContainer) {{\n",
       "    x.observe(notebookContainer, {childList: true});\n",
       "}}\n",
       "\n",
       "// Listen for the clearing of the current output cell\n",
       "var outputEl = gd.closest('.output');\n",
       "if (outputEl) {{\n",
       "    x.observe(outputEl, {childList: true});\n",
       "}}\n",
       "\n",
       "                        })                };                });            </script>        </div>"
      ]
     },
     "metadata": {},
     "output_type": "display_data"
    },
    {
     "data": {
      "application/vnd.plotly.v1+json": {
       "config": {
        "plotlyServerURL": "https://plot.ly"
       },
       "data": [
        {
         "colorscale": [
          [
           0,
           "rgb(165,0,38)"
          ],
          [
           0.1,
           "rgb(215,48,39)"
          ],
          [
           0.2,
           "rgb(244,109,67)"
          ],
          [
           0.3,
           "rgb(253,174,97)"
          ],
          [
           0.4,
           "rgb(254,224,139)"
          ],
          [
           0.5,
           "rgb(255,255,191)"
          ],
          [
           0.6,
           "rgb(217,239,139)"
          ],
          [
           0.7,
           "rgb(166,217,106)"
          ],
          [
           0.8,
           "rgb(102,189,99)"
          ],
          [
           0.9,
           "rgb(26,152,80)"
          ],
          [
           1,
           "rgb(0,104,55)"
          ]
         ],
         "type": "heatmap",
         "x": [
          "meals_Dinner",
          "meals_Lunch",
          "meals_Breakfast",
          "meals_Drinks",
          "meals_Brunch",
          "meals_After-hours"
         ],
         "y": [
          "meals_Dinner",
          "meals_Lunch",
          "meals_Breakfast",
          "meals_Drinks",
          "meals_Brunch",
          "meals_After-hours"
         ],
         "z": [
          [
           1,
           0.31368562756271745,
           -0.376434018223243,
           -0.08121002507183624,
           -0.16490929887693143,
           0.025035434318222326
          ],
          [
           0.31368562756271745,
           1,
           -0.1427012085127909,
           -0.037433403988298704,
           -0.014410570812270936,
           -0.021086641328530616
          ],
          [
           -0.376434018223243,
           -0.1427012085127909,
           1,
           0.16578993789091917,
           0.29340094513471926,
           -0.11124734224016403
          ],
          [
           -0.08121002507183624,
           -0.037433403988298704,
           0.16578993789091917,
           1,
           0.19619597847662007,
           0.1833779666000838
          ],
          [
           -0.16490929887693143,
           -0.014410570812270936,
           0.29340094513471926,
           0.19619597847662007,
           1,
           -0.016327684971666652
          ],
          [
           0.025035434318222326,
           -0.021086641328530616,
           -0.11124734224016403,
           0.1833779666000838,
           -0.016327684971666652,
           1
          ]
         ],
         "zmax": 1,
         "zmin": -1
        }
       ],
       "layout": {
        "template": {
         "data": {
          "bar": [
           {
            "error_x": {
             "color": "#2a3f5f"
            },
            "error_y": {
             "color": "#2a3f5f"
            },
            "marker": {
             "line": {
              "color": "#E5ECF6",
              "width": 0.5
             },
             "pattern": {
              "fillmode": "overlay",
              "size": 10,
              "solidity": 0.2
             }
            },
            "type": "bar"
           }
          ],
          "barpolar": [
           {
            "marker": {
             "line": {
              "color": "#E5ECF6",
              "width": 0.5
             },
             "pattern": {
              "fillmode": "overlay",
              "size": 10,
              "solidity": 0.2
             }
            },
            "type": "barpolar"
           }
          ],
          "carpet": [
           {
            "aaxis": {
             "endlinecolor": "#2a3f5f",
             "gridcolor": "white",
             "linecolor": "white",
             "minorgridcolor": "white",
             "startlinecolor": "#2a3f5f"
            },
            "baxis": {
             "endlinecolor": "#2a3f5f",
             "gridcolor": "white",
             "linecolor": "white",
             "minorgridcolor": "white",
             "startlinecolor": "#2a3f5f"
            },
            "type": "carpet"
           }
          ],
          "choropleth": [
           {
            "colorbar": {
             "outlinewidth": 0,
             "ticks": ""
            },
            "type": "choropleth"
           }
          ],
          "contour": [
           {
            "colorbar": {
             "outlinewidth": 0,
             "ticks": ""
            },
            "colorscale": [
             [
              0,
              "#0d0887"
             ],
             [
              0.1111111111111111,
              "#46039f"
             ],
             [
              0.2222222222222222,
              "#7201a8"
             ],
             [
              0.3333333333333333,
              "#9c179e"
             ],
             [
              0.4444444444444444,
              "#bd3786"
             ],
             [
              0.5555555555555556,
              "#d8576b"
             ],
             [
              0.6666666666666666,
              "#ed7953"
             ],
             [
              0.7777777777777778,
              "#fb9f3a"
             ],
             [
              0.8888888888888888,
              "#fdca26"
             ],
             [
              1,
              "#f0f921"
             ]
            ],
            "type": "contour"
           }
          ],
          "contourcarpet": [
           {
            "colorbar": {
             "outlinewidth": 0,
             "ticks": ""
            },
            "type": "contourcarpet"
           }
          ],
          "heatmap": [
           {
            "colorbar": {
             "outlinewidth": 0,
             "ticks": ""
            },
            "colorscale": [
             [
              0,
              "#0d0887"
             ],
             [
              0.1111111111111111,
              "#46039f"
             ],
             [
              0.2222222222222222,
              "#7201a8"
             ],
             [
              0.3333333333333333,
              "#9c179e"
             ],
             [
              0.4444444444444444,
              "#bd3786"
             ],
             [
              0.5555555555555556,
              "#d8576b"
             ],
             [
              0.6666666666666666,
              "#ed7953"
             ],
             [
              0.7777777777777778,
              "#fb9f3a"
             ],
             [
              0.8888888888888888,
              "#fdca26"
             ],
             [
              1,
              "#f0f921"
             ]
            ],
            "type": "heatmap"
           }
          ],
          "heatmapgl": [
           {
            "colorbar": {
             "outlinewidth": 0,
             "ticks": ""
            },
            "colorscale": [
             [
              0,
              "#0d0887"
             ],
             [
              0.1111111111111111,
              "#46039f"
             ],
             [
              0.2222222222222222,
              "#7201a8"
             ],
             [
              0.3333333333333333,
              "#9c179e"
             ],
             [
              0.4444444444444444,
              "#bd3786"
             ],
             [
              0.5555555555555556,
              "#d8576b"
             ],
             [
              0.6666666666666666,
              "#ed7953"
             ],
             [
              0.7777777777777778,
              "#fb9f3a"
             ],
             [
              0.8888888888888888,
              "#fdca26"
             ],
             [
              1,
              "#f0f921"
             ]
            ],
            "type": "heatmapgl"
           }
          ],
          "histogram": [
           {
            "marker": {
             "pattern": {
              "fillmode": "overlay",
              "size": 10,
              "solidity": 0.2
             }
            },
            "type": "histogram"
           }
          ],
          "histogram2d": [
           {
            "colorbar": {
             "outlinewidth": 0,
             "ticks": ""
            },
            "colorscale": [
             [
              0,
              "#0d0887"
             ],
             [
              0.1111111111111111,
              "#46039f"
             ],
             [
              0.2222222222222222,
              "#7201a8"
             ],
             [
              0.3333333333333333,
              "#9c179e"
             ],
             [
              0.4444444444444444,
              "#bd3786"
             ],
             [
              0.5555555555555556,
              "#d8576b"
             ],
             [
              0.6666666666666666,
              "#ed7953"
             ],
             [
              0.7777777777777778,
              "#fb9f3a"
             ],
             [
              0.8888888888888888,
              "#fdca26"
             ],
             [
              1,
              "#f0f921"
             ]
            ],
            "type": "histogram2d"
           }
          ],
          "histogram2dcontour": [
           {
            "colorbar": {
             "outlinewidth": 0,
             "ticks": ""
            },
            "colorscale": [
             [
              0,
              "#0d0887"
             ],
             [
              0.1111111111111111,
              "#46039f"
             ],
             [
              0.2222222222222222,
              "#7201a8"
             ],
             [
              0.3333333333333333,
              "#9c179e"
             ],
             [
              0.4444444444444444,
              "#bd3786"
             ],
             [
              0.5555555555555556,
              "#d8576b"
             ],
             [
              0.6666666666666666,
              "#ed7953"
             ],
             [
              0.7777777777777778,
              "#fb9f3a"
             ],
             [
              0.8888888888888888,
              "#fdca26"
             ],
             [
              1,
              "#f0f921"
             ]
            ],
            "type": "histogram2dcontour"
           }
          ],
          "mesh3d": [
           {
            "colorbar": {
             "outlinewidth": 0,
             "ticks": ""
            },
            "type": "mesh3d"
           }
          ],
          "parcoords": [
           {
            "line": {
             "colorbar": {
              "outlinewidth": 0,
              "ticks": ""
             }
            },
            "type": "parcoords"
           }
          ],
          "pie": [
           {
            "automargin": true,
            "type": "pie"
           }
          ],
          "scatter": [
           {
            "fillpattern": {
             "fillmode": "overlay",
             "size": 10,
             "solidity": 0.2
            },
            "type": "scatter"
           }
          ],
          "scatter3d": [
           {
            "line": {
             "colorbar": {
              "outlinewidth": 0,
              "ticks": ""
             }
            },
            "marker": {
             "colorbar": {
              "outlinewidth": 0,
              "ticks": ""
             }
            },
            "type": "scatter3d"
           }
          ],
          "scattercarpet": [
           {
            "marker": {
             "colorbar": {
              "outlinewidth": 0,
              "ticks": ""
             }
            },
            "type": "scattercarpet"
           }
          ],
          "scattergeo": [
           {
            "marker": {
             "colorbar": {
              "outlinewidth": 0,
              "ticks": ""
             }
            },
            "type": "scattergeo"
           }
          ],
          "scattergl": [
           {
            "marker": {
             "colorbar": {
              "outlinewidth": 0,
              "ticks": ""
             }
            },
            "type": "scattergl"
           }
          ],
          "scattermapbox": [
           {
            "marker": {
             "colorbar": {
              "outlinewidth": 0,
              "ticks": ""
             }
            },
            "type": "scattermapbox"
           }
          ],
          "scatterpolar": [
           {
            "marker": {
             "colorbar": {
              "outlinewidth": 0,
              "ticks": ""
             }
            },
            "type": "scatterpolar"
           }
          ],
          "scatterpolargl": [
           {
            "marker": {
             "colorbar": {
              "outlinewidth": 0,
              "ticks": ""
             }
            },
            "type": "scatterpolargl"
           }
          ],
          "scatterternary": [
           {
            "marker": {
             "colorbar": {
              "outlinewidth": 0,
              "ticks": ""
             }
            },
            "type": "scatterternary"
           }
          ],
          "surface": [
           {
            "colorbar": {
             "outlinewidth": 0,
             "ticks": ""
            },
            "colorscale": [
             [
              0,
              "#0d0887"
             ],
             [
              0.1111111111111111,
              "#46039f"
             ],
             [
              0.2222222222222222,
              "#7201a8"
             ],
             [
              0.3333333333333333,
              "#9c179e"
             ],
             [
              0.4444444444444444,
              "#bd3786"
             ],
             [
              0.5555555555555556,
              "#d8576b"
             ],
             [
              0.6666666666666666,
              "#ed7953"
             ],
             [
              0.7777777777777778,
              "#fb9f3a"
             ],
             [
              0.8888888888888888,
              "#fdca26"
             ],
             [
              1,
              "#f0f921"
             ]
            ],
            "type": "surface"
           }
          ],
          "table": [
           {
            "cells": {
             "fill": {
              "color": "#EBF0F8"
             },
             "line": {
              "color": "white"
             }
            },
            "header": {
             "fill": {
              "color": "#C8D4E3"
             },
             "line": {
              "color": "white"
             }
            },
            "type": "table"
           }
          ]
         },
         "layout": {
          "annotationdefaults": {
           "arrowcolor": "#2a3f5f",
           "arrowhead": 0,
           "arrowwidth": 1
          },
          "autotypenumbers": "strict",
          "coloraxis": {
           "colorbar": {
            "outlinewidth": 0,
            "ticks": ""
           }
          },
          "colorscale": {
           "diverging": [
            [
             0,
             "#8e0152"
            ],
            [
             0.1,
             "#c51b7d"
            ],
            [
             0.2,
             "#de77ae"
            ],
            [
             0.3,
             "#f1b6da"
            ],
            [
             0.4,
             "#fde0ef"
            ],
            [
             0.5,
             "#f7f7f7"
            ],
            [
             0.6,
             "#e6f5d0"
            ],
            [
             0.7,
             "#b8e186"
            ],
            [
             0.8,
             "#7fbc41"
            ],
            [
             0.9,
             "#4d9221"
            ],
            [
             1,
             "#276419"
            ]
           ],
           "sequential": [
            [
             0,
             "#0d0887"
            ],
            [
             0.1111111111111111,
             "#46039f"
            ],
            [
             0.2222222222222222,
             "#7201a8"
            ],
            [
             0.3333333333333333,
             "#9c179e"
            ],
            [
             0.4444444444444444,
             "#bd3786"
            ],
            [
             0.5555555555555556,
             "#d8576b"
            ],
            [
             0.6666666666666666,
             "#ed7953"
            ],
            [
             0.7777777777777778,
             "#fb9f3a"
            ],
            [
             0.8888888888888888,
             "#fdca26"
            ],
            [
             1,
             "#f0f921"
            ]
           ],
           "sequentialminus": [
            [
             0,
             "#0d0887"
            ],
            [
             0.1111111111111111,
             "#46039f"
            ],
            [
             0.2222222222222222,
             "#7201a8"
            ],
            [
             0.3333333333333333,
             "#9c179e"
            ],
            [
             0.4444444444444444,
             "#bd3786"
            ],
            [
             0.5555555555555556,
             "#d8576b"
            ],
            [
             0.6666666666666666,
             "#ed7953"
            ],
            [
             0.7777777777777778,
             "#fb9f3a"
            ],
            [
             0.8888888888888888,
             "#fdca26"
            ],
            [
             1,
             "#f0f921"
            ]
           ]
          },
          "colorway": [
           "#636efa",
           "#EF553B",
           "#00cc96",
           "#ab63fa",
           "#FFA15A",
           "#19d3f3",
           "#FF6692",
           "#B6E880",
           "#FF97FF",
           "#FECB52"
          ],
          "font": {
           "color": "#2a3f5f"
          },
          "geo": {
           "bgcolor": "white",
           "lakecolor": "white",
           "landcolor": "#E5ECF6",
           "showlakes": true,
           "showland": true,
           "subunitcolor": "white"
          },
          "hoverlabel": {
           "align": "left"
          },
          "hovermode": "closest",
          "mapbox": {
           "style": "light"
          },
          "paper_bgcolor": "white",
          "plot_bgcolor": "#E5ECF6",
          "polar": {
           "angularaxis": {
            "gridcolor": "white",
            "linecolor": "white",
            "ticks": ""
           },
           "bgcolor": "#E5ECF6",
           "radialaxis": {
            "gridcolor": "white",
            "linecolor": "white",
            "ticks": ""
           }
          },
          "scene": {
           "xaxis": {
            "backgroundcolor": "#E5ECF6",
            "gridcolor": "white",
            "gridwidth": 2,
            "linecolor": "white",
            "showbackground": true,
            "ticks": "",
            "zerolinecolor": "white"
           },
           "yaxis": {
            "backgroundcolor": "#E5ECF6",
            "gridcolor": "white",
            "gridwidth": 2,
            "linecolor": "white",
            "showbackground": true,
            "ticks": "",
            "zerolinecolor": "white"
           },
           "zaxis": {
            "backgroundcolor": "#E5ECF6",
            "gridcolor": "white",
            "gridwidth": 2,
            "linecolor": "white",
            "showbackground": true,
            "ticks": "",
            "zerolinecolor": "white"
           }
          },
          "shapedefaults": {
           "line": {
            "color": "#2a3f5f"
           }
          },
          "ternary": {
           "aaxis": {
            "gridcolor": "white",
            "linecolor": "white",
            "ticks": ""
           },
           "baxis": {
            "gridcolor": "white",
            "linecolor": "white",
            "ticks": ""
           },
           "bgcolor": "#E5ECF6",
           "caxis": {
            "gridcolor": "white",
            "linecolor": "white",
            "ticks": ""
           }
          },
          "title": {
           "x": 0.05
          },
          "xaxis": {
           "automargin": true,
           "gridcolor": "white",
           "linecolor": "white",
           "ticks": "",
           "title": {
            "standoff": 15
           },
           "zerolinecolor": "white",
           "zerolinewidth": 2
          },
          "yaxis": {
           "automargin": true,
           "gridcolor": "white",
           "linecolor": "white",
           "ticks": "",
           "title": {
            "standoff": 15
           },
           "zerolinecolor": "white",
           "zerolinewidth": 2
          }
         }
        },
        "title": {
         "text": "meals vs meals"
        }
       }
      },
      "text/html": [
       "<div>                            <div id=\"f2efecc6-8605-4422-a4b4-53f6dc7d8eea\" class=\"plotly-graph-div\" style=\"height:525px; width:100%;\"></div>            <script type=\"text/javascript\">                require([\"plotly\"], function(Plotly) {                    window.PLOTLYENV=window.PLOTLYENV || {};                                    if (document.getElementById(\"f2efecc6-8605-4422-a4b4-53f6dc7d8eea\")) {                    Plotly.newPlot(                        \"f2efecc6-8605-4422-a4b4-53f6dc7d8eea\",                        [{\"colorscale\":[[0.0,\"rgb(165,0,38)\"],[0.1,\"rgb(215,48,39)\"],[0.2,\"rgb(244,109,67)\"],[0.3,\"rgb(253,174,97)\"],[0.4,\"rgb(254,224,139)\"],[0.5,\"rgb(255,255,191)\"],[0.6,\"rgb(217,239,139)\"],[0.7,\"rgb(166,217,106)\"],[0.8,\"rgb(102,189,99)\"],[0.9,\"rgb(26,152,80)\"],[1.0,\"rgb(0,104,55)\"]],\"x\":[\"meals_Dinner\",\"meals_Lunch\",\"meals_Breakfast\",\"meals_Drinks\",\"meals_Brunch\",\"meals_After-hours\"],\"y\":[\"meals_Dinner\",\"meals_Lunch\",\"meals_Breakfast\",\"meals_Drinks\",\"meals_Brunch\",\"meals_After-hours\"],\"z\":[[1.0,0.31368562756271745,-0.376434018223243,-0.08121002507183624,-0.16490929887693143,0.025035434318222326],[0.31368562756271745,1.0,-0.1427012085127909,-0.037433403988298704,-0.014410570812270936,-0.021086641328530616],[-0.376434018223243,-0.1427012085127909,1.0,0.16578993789091917,0.29340094513471926,-0.11124734224016403],[-0.08121002507183624,-0.037433403988298704,0.16578993789091917,1.0,0.19619597847662007,0.1833779666000838],[-0.16490929887693143,-0.014410570812270936,0.29340094513471926,0.19619597847662007,1.0,-0.016327684971666652],[0.025035434318222326,-0.021086641328530616,-0.11124734224016403,0.1833779666000838,-0.016327684971666652,1.0]],\"zmax\":1,\"zmin\":-1,\"type\":\"heatmap\"}],                        {\"title\":{\"text\":\"meals vs meals\"},\"template\":{\"data\":{\"histogram2dcontour\":[{\"type\":\"histogram2dcontour\",\"colorbar\":{\"outlinewidth\":0,\"ticks\":\"\"},\"colorscale\":[[0.0,\"#0d0887\"],[0.1111111111111111,\"#46039f\"],[0.2222222222222222,\"#7201a8\"],[0.3333333333333333,\"#9c179e\"],[0.4444444444444444,\"#bd3786\"],[0.5555555555555556,\"#d8576b\"],[0.6666666666666666,\"#ed7953\"],[0.7777777777777778,\"#fb9f3a\"],[0.8888888888888888,\"#fdca26\"],[1.0,\"#f0f921\"]]}],\"choropleth\":[{\"type\":\"choropleth\",\"colorbar\":{\"outlinewidth\":0,\"ticks\":\"\"}}],\"histogram2d\":[{\"type\":\"histogram2d\",\"colorbar\":{\"outlinewidth\":0,\"ticks\":\"\"},\"colorscale\":[[0.0,\"#0d0887\"],[0.1111111111111111,\"#46039f\"],[0.2222222222222222,\"#7201a8\"],[0.3333333333333333,\"#9c179e\"],[0.4444444444444444,\"#bd3786\"],[0.5555555555555556,\"#d8576b\"],[0.6666666666666666,\"#ed7953\"],[0.7777777777777778,\"#fb9f3a\"],[0.8888888888888888,\"#fdca26\"],[1.0,\"#f0f921\"]]}],\"heatmap\":[{\"type\":\"heatmap\",\"colorbar\":{\"outlinewidth\":0,\"ticks\":\"\"},\"colorscale\":[[0.0,\"#0d0887\"],[0.1111111111111111,\"#46039f\"],[0.2222222222222222,\"#7201a8\"],[0.3333333333333333,\"#9c179e\"],[0.4444444444444444,\"#bd3786\"],[0.5555555555555556,\"#d8576b\"],[0.6666666666666666,\"#ed7953\"],[0.7777777777777778,\"#fb9f3a\"],[0.8888888888888888,\"#fdca26\"],[1.0,\"#f0f921\"]]}],\"heatmapgl\":[{\"type\":\"heatmapgl\",\"colorbar\":{\"outlinewidth\":0,\"ticks\":\"\"},\"colorscale\":[[0.0,\"#0d0887\"],[0.1111111111111111,\"#46039f\"],[0.2222222222222222,\"#7201a8\"],[0.3333333333333333,\"#9c179e\"],[0.4444444444444444,\"#bd3786\"],[0.5555555555555556,\"#d8576b\"],[0.6666666666666666,\"#ed7953\"],[0.7777777777777778,\"#fb9f3a\"],[0.8888888888888888,\"#fdca26\"],[1.0,\"#f0f921\"]]}],\"contourcarpet\":[{\"type\":\"contourcarpet\",\"colorbar\":{\"outlinewidth\":0,\"ticks\":\"\"}}],\"contour\":[{\"type\":\"contour\",\"colorbar\":{\"outlinewidth\":0,\"ticks\":\"\"},\"colorscale\":[[0.0,\"#0d0887\"],[0.1111111111111111,\"#46039f\"],[0.2222222222222222,\"#7201a8\"],[0.3333333333333333,\"#9c179e\"],[0.4444444444444444,\"#bd3786\"],[0.5555555555555556,\"#d8576b\"],[0.6666666666666666,\"#ed7953\"],[0.7777777777777778,\"#fb9f3a\"],[0.8888888888888888,\"#fdca26\"],[1.0,\"#f0f921\"]]}],\"surface\":[{\"type\":\"surface\",\"colorbar\":{\"outlinewidth\":0,\"ticks\":\"\"},\"colorscale\":[[0.0,\"#0d0887\"],[0.1111111111111111,\"#46039f\"],[0.2222222222222222,\"#7201a8\"],[0.3333333333333333,\"#9c179e\"],[0.4444444444444444,\"#bd3786\"],[0.5555555555555556,\"#d8576b\"],[0.6666666666666666,\"#ed7953\"],[0.7777777777777778,\"#fb9f3a\"],[0.8888888888888888,\"#fdca26\"],[1.0,\"#f0f921\"]]}],\"mesh3d\":[{\"type\":\"mesh3d\",\"colorbar\":{\"outlinewidth\":0,\"ticks\":\"\"}}],\"scatter\":[{\"fillpattern\":{\"fillmode\":\"overlay\",\"size\":10,\"solidity\":0.2},\"type\":\"scatter\"}],\"parcoords\":[{\"type\":\"parcoords\",\"line\":{\"colorbar\":{\"outlinewidth\":0,\"ticks\":\"\"}}}],\"scatterpolargl\":[{\"type\":\"scatterpolargl\",\"marker\":{\"colorbar\":{\"outlinewidth\":0,\"ticks\":\"\"}}}],\"bar\":[{\"error_x\":{\"color\":\"#2a3f5f\"},\"error_y\":{\"color\":\"#2a3f5f\"},\"marker\":{\"line\":{\"color\":\"#E5ECF6\",\"width\":0.5},\"pattern\":{\"fillmode\":\"overlay\",\"size\":10,\"solidity\":0.2}},\"type\":\"bar\"}],\"scattergeo\":[{\"type\":\"scattergeo\",\"marker\":{\"colorbar\":{\"outlinewidth\":0,\"ticks\":\"\"}}}],\"scatterpolar\":[{\"type\":\"scatterpolar\",\"marker\":{\"colorbar\":{\"outlinewidth\":0,\"ticks\":\"\"}}}],\"histogram\":[{\"marker\":{\"pattern\":{\"fillmode\":\"overlay\",\"size\":10,\"solidity\":0.2}},\"type\":\"histogram\"}],\"scattergl\":[{\"type\":\"scattergl\",\"marker\":{\"colorbar\":{\"outlinewidth\":0,\"ticks\":\"\"}}}],\"scatter3d\":[{\"type\":\"scatter3d\",\"line\":{\"colorbar\":{\"outlinewidth\":0,\"ticks\":\"\"}},\"marker\":{\"colorbar\":{\"outlinewidth\":0,\"ticks\":\"\"}}}],\"scattermapbox\":[{\"type\":\"scattermapbox\",\"marker\":{\"colorbar\":{\"outlinewidth\":0,\"ticks\":\"\"}}}],\"scatterternary\":[{\"type\":\"scatterternary\",\"marker\":{\"colorbar\":{\"outlinewidth\":0,\"ticks\":\"\"}}}],\"scattercarpet\":[{\"type\":\"scattercarpet\",\"marker\":{\"colorbar\":{\"outlinewidth\":0,\"ticks\":\"\"}}}],\"carpet\":[{\"aaxis\":{\"endlinecolor\":\"#2a3f5f\",\"gridcolor\":\"white\",\"linecolor\":\"white\",\"minorgridcolor\":\"white\",\"startlinecolor\":\"#2a3f5f\"},\"baxis\":{\"endlinecolor\":\"#2a3f5f\",\"gridcolor\":\"white\",\"linecolor\":\"white\",\"minorgridcolor\":\"white\",\"startlinecolor\":\"#2a3f5f\"},\"type\":\"carpet\"}],\"table\":[{\"cells\":{\"fill\":{\"color\":\"#EBF0F8\"},\"line\":{\"color\":\"white\"}},\"header\":{\"fill\":{\"color\":\"#C8D4E3\"},\"line\":{\"color\":\"white\"}},\"type\":\"table\"}],\"barpolar\":[{\"marker\":{\"line\":{\"color\":\"#E5ECF6\",\"width\":0.5},\"pattern\":{\"fillmode\":\"overlay\",\"size\":10,\"solidity\":0.2}},\"type\":\"barpolar\"}],\"pie\":[{\"automargin\":true,\"type\":\"pie\"}]},\"layout\":{\"autotypenumbers\":\"strict\",\"colorway\":[\"#636efa\",\"#EF553B\",\"#00cc96\",\"#ab63fa\",\"#FFA15A\",\"#19d3f3\",\"#FF6692\",\"#B6E880\",\"#FF97FF\",\"#FECB52\"],\"font\":{\"color\":\"#2a3f5f\"},\"hovermode\":\"closest\",\"hoverlabel\":{\"align\":\"left\"},\"paper_bgcolor\":\"white\",\"plot_bgcolor\":\"#E5ECF6\",\"polar\":{\"bgcolor\":\"#E5ECF6\",\"angularaxis\":{\"gridcolor\":\"white\",\"linecolor\":\"white\",\"ticks\":\"\"},\"radialaxis\":{\"gridcolor\":\"white\",\"linecolor\":\"white\",\"ticks\":\"\"}},\"ternary\":{\"bgcolor\":\"#E5ECF6\",\"aaxis\":{\"gridcolor\":\"white\",\"linecolor\":\"white\",\"ticks\":\"\"},\"baxis\":{\"gridcolor\":\"white\",\"linecolor\":\"white\",\"ticks\":\"\"},\"caxis\":{\"gridcolor\":\"white\",\"linecolor\":\"white\",\"ticks\":\"\"}},\"coloraxis\":{\"colorbar\":{\"outlinewidth\":0,\"ticks\":\"\"}},\"colorscale\":{\"sequential\":[[0.0,\"#0d0887\"],[0.1111111111111111,\"#46039f\"],[0.2222222222222222,\"#7201a8\"],[0.3333333333333333,\"#9c179e\"],[0.4444444444444444,\"#bd3786\"],[0.5555555555555556,\"#d8576b\"],[0.6666666666666666,\"#ed7953\"],[0.7777777777777778,\"#fb9f3a\"],[0.8888888888888888,\"#fdca26\"],[1.0,\"#f0f921\"]],\"sequentialminus\":[[0.0,\"#0d0887\"],[0.1111111111111111,\"#46039f\"],[0.2222222222222222,\"#7201a8\"],[0.3333333333333333,\"#9c179e\"],[0.4444444444444444,\"#bd3786\"],[0.5555555555555556,\"#d8576b\"],[0.6666666666666666,\"#ed7953\"],[0.7777777777777778,\"#fb9f3a\"],[0.8888888888888888,\"#fdca26\"],[1.0,\"#f0f921\"]],\"diverging\":[[0,\"#8e0152\"],[0.1,\"#c51b7d\"],[0.2,\"#de77ae\"],[0.3,\"#f1b6da\"],[0.4,\"#fde0ef\"],[0.5,\"#f7f7f7\"],[0.6,\"#e6f5d0\"],[0.7,\"#b8e186\"],[0.8,\"#7fbc41\"],[0.9,\"#4d9221\"],[1,\"#276419\"]]},\"xaxis\":{\"gridcolor\":\"white\",\"linecolor\":\"white\",\"ticks\":\"\",\"title\":{\"standoff\":15},\"zerolinecolor\":\"white\",\"automargin\":true,\"zerolinewidth\":2},\"yaxis\":{\"gridcolor\":\"white\",\"linecolor\":\"white\",\"ticks\":\"\",\"title\":{\"standoff\":15},\"zerolinecolor\":\"white\",\"automargin\":true,\"zerolinewidth\":2},\"scene\":{\"xaxis\":{\"backgroundcolor\":\"#E5ECF6\",\"gridcolor\":\"white\",\"linecolor\":\"white\",\"showbackground\":true,\"ticks\":\"\",\"zerolinecolor\":\"white\",\"gridwidth\":2},\"yaxis\":{\"backgroundcolor\":\"#E5ECF6\",\"gridcolor\":\"white\",\"linecolor\":\"white\",\"showbackground\":true,\"ticks\":\"\",\"zerolinecolor\":\"white\",\"gridwidth\":2},\"zaxis\":{\"backgroundcolor\":\"#E5ECF6\",\"gridcolor\":\"white\",\"linecolor\":\"white\",\"showbackground\":true,\"ticks\":\"\",\"zerolinecolor\":\"white\",\"gridwidth\":2}},\"shapedefaults\":{\"line\":{\"color\":\"#2a3f5f\"}},\"annotationdefaults\":{\"arrowcolor\":\"#2a3f5f\",\"arrowhead\":0,\"arrowwidth\":1},\"geo\":{\"bgcolor\":\"white\",\"landcolor\":\"#E5ECF6\",\"subunitcolor\":\"white\",\"showland\":true,\"showlakes\":true,\"lakecolor\":\"white\"},\"title\":{\"x\":0.05},\"mapbox\":{\"style\":\"light\"}}}},                        {\"responsive\": true}                    ).then(function(){\n",
       "                            \n",
       "var gd = document.getElementById('f2efecc6-8605-4422-a4b4-53f6dc7d8eea');\n",
       "var x = new MutationObserver(function (mutations, observer) {{\n",
       "        var display = window.getComputedStyle(gd).display;\n",
       "        if (!display || display === 'none') {{\n",
       "            console.log([gd, 'removed!']);\n",
       "            Plotly.purge(gd);\n",
       "            observer.disconnect();\n",
       "        }}\n",
       "}});\n",
       "\n",
       "// Listen for the removal of the full notebook cells\n",
       "var notebookContainer = gd.closest('#notebook-container');\n",
       "if (notebookContainer) {{\n",
       "    x.observe(notebookContainer, {childList: true});\n",
       "}}\n",
       "\n",
       "// Listen for the clearing of the current output cell\n",
       "var outputEl = gd.closest('.output');\n",
       "if (outputEl) {{\n",
       "    x.observe(outputEl, {childList: true});\n",
       "}}\n",
       "\n",
       "                        })                };                });            </script>        </div>"
      ]
     },
     "metadata": {},
     "output_type": "display_data"
    },
    {
     "data": {
      "application/vnd.plotly.v1+json": {
       "config": {
        "plotlyServerURL": "https://plot.ly"
       },
       "data": [
        {
         "colorscale": [
          [
           0,
           "rgb(165,0,38)"
          ],
          [
           0.1,
           "rgb(215,48,39)"
          ],
          [
           0.2,
           "rgb(244,109,67)"
          ],
          [
           0.3,
           "rgb(253,174,97)"
          ],
          [
           0.4,
           "rgb(254,224,139)"
          ],
          [
           0.5,
           "rgb(255,255,191)"
          ],
          [
           0.6,
           "rgb(217,239,139)"
          ],
          [
           0.7,
           "rgb(166,217,106)"
          ],
          [
           0.8,
           "rgb(102,189,99)"
          ],
          [
           0.9,
           "rgb(26,152,80)"
          ],
          [
           1,
           "rgb(0,104,55)"
          ]
         ],
         "type": "heatmap",
         "x": [
          "special_diets_Vegetarian Friendly",
          "special_diets_Gluten Free Options",
          "special_diets_Vegan Options",
          "special_diets_Halal",
          "special_diets_Kosher"
         ],
         "y": [
          "meals_Dinner",
          "meals_Lunch",
          "meals_Breakfast",
          "meals_Drinks",
          "meals_Brunch",
          "meals_After-hours"
         ],
         "z": [
          [
           0.08021836204016931,
           0.07959087002795018,
           0.06795642845394666,
           0.005193452544736283,
           0.006704891503724965
          ],
          [
           0.09651044919174522,
           0.08866198656742635,
           0.08295412272459711,
           0.006281319931285908,
           0.00810935851953483
          ],
          [
           -0.06148112387664011,
           -0.06005958457864615,
           -0.04301519800302856,
           -0.005167212496503699,
           -0.0066710148725366725
          ],
          [
           0.08097826947820493,
           0.06393544007407433,
           0.07704932652755199,
           0.012570865127606719,
           -0.004824614595092158
          ],
          [
           0.07416452067576294,
           0.060927411509566286,
           0.07855684175672385,
           0.006033181235064528,
           -0.0040915505754312775
          ],
          [
           0.14680598798914377,
           0.12326850811346544,
           0.11266954917648446,
           0.0044583284857955445,
           0.020538780006324545
          ]
         ],
         "zmax": 1,
         "zmin": -1
        }
       ],
       "layout": {
        "template": {
         "data": {
          "bar": [
           {
            "error_x": {
             "color": "#2a3f5f"
            },
            "error_y": {
             "color": "#2a3f5f"
            },
            "marker": {
             "line": {
              "color": "#E5ECF6",
              "width": 0.5
             },
             "pattern": {
              "fillmode": "overlay",
              "size": 10,
              "solidity": 0.2
             }
            },
            "type": "bar"
           }
          ],
          "barpolar": [
           {
            "marker": {
             "line": {
              "color": "#E5ECF6",
              "width": 0.5
             },
             "pattern": {
              "fillmode": "overlay",
              "size": 10,
              "solidity": 0.2
             }
            },
            "type": "barpolar"
           }
          ],
          "carpet": [
           {
            "aaxis": {
             "endlinecolor": "#2a3f5f",
             "gridcolor": "white",
             "linecolor": "white",
             "minorgridcolor": "white",
             "startlinecolor": "#2a3f5f"
            },
            "baxis": {
             "endlinecolor": "#2a3f5f",
             "gridcolor": "white",
             "linecolor": "white",
             "minorgridcolor": "white",
             "startlinecolor": "#2a3f5f"
            },
            "type": "carpet"
           }
          ],
          "choropleth": [
           {
            "colorbar": {
             "outlinewidth": 0,
             "ticks": ""
            },
            "type": "choropleth"
           }
          ],
          "contour": [
           {
            "colorbar": {
             "outlinewidth": 0,
             "ticks": ""
            },
            "colorscale": [
             [
              0,
              "#0d0887"
             ],
             [
              0.1111111111111111,
              "#46039f"
             ],
             [
              0.2222222222222222,
              "#7201a8"
             ],
             [
              0.3333333333333333,
              "#9c179e"
             ],
             [
              0.4444444444444444,
              "#bd3786"
             ],
             [
              0.5555555555555556,
              "#d8576b"
             ],
             [
              0.6666666666666666,
              "#ed7953"
             ],
             [
              0.7777777777777778,
              "#fb9f3a"
             ],
             [
              0.8888888888888888,
              "#fdca26"
             ],
             [
              1,
              "#f0f921"
             ]
            ],
            "type": "contour"
           }
          ],
          "contourcarpet": [
           {
            "colorbar": {
             "outlinewidth": 0,
             "ticks": ""
            },
            "type": "contourcarpet"
           }
          ],
          "heatmap": [
           {
            "colorbar": {
             "outlinewidth": 0,
             "ticks": ""
            },
            "colorscale": [
             [
              0,
              "#0d0887"
             ],
             [
              0.1111111111111111,
              "#46039f"
             ],
             [
              0.2222222222222222,
              "#7201a8"
             ],
             [
              0.3333333333333333,
              "#9c179e"
             ],
             [
              0.4444444444444444,
              "#bd3786"
             ],
             [
              0.5555555555555556,
              "#d8576b"
             ],
             [
              0.6666666666666666,
              "#ed7953"
             ],
             [
              0.7777777777777778,
              "#fb9f3a"
             ],
             [
              0.8888888888888888,
              "#fdca26"
             ],
             [
              1,
              "#f0f921"
             ]
            ],
            "type": "heatmap"
           }
          ],
          "heatmapgl": [
           {
            "colorbar": {
             "outlinewidth": 0,
             "ticks": ""
            },
            "colorscale": [
             [
              0,
              "#0d0887"
             ],
             [
              0.1111111111111111,
              "#46039f"
             ],
             [
              0.2222222222222222,
              "#7201a8"
             ],
             [
              0.3333333333333333,
              "#9c179e"
             ],
             [
              0.4444444444444444,
              "#bd3786"
             ],
             [
              0.5555555555555556,
              "#d8576b"
             ],
             [
              0.6666666666666666,
              "#ed7953"
             ],
             [
              0.7777777777777778,
              "#fb9f3a"
             ],
             [
              0.8888888888888888,
              "#fdca26"
             ],
             [
              1,
              "#f0f921"
             ]
            ],
            "type": "heatmapgl"
           }
          ],
          "histogram": [
           {
            "marker": {
             "pattern": {
              "fillmode": "overlay",
              "size": 10,
              "solidity": 0.2
             }
            },
            "type": "histogram"
           }
          ],
          "histogram2d": [
           {
            "colorbar": {
             "outlinewidth": 0,
             "ticks": ""
            },
            "colorscale": [
             [
              0,
              "#0d0887"
             ],
             [
              0.1111111111111111,
              "#46039f"
             ],
             [
              0.2222222222222222,
              "#7201a8"
             ],
             [
              0.3333333333333333,
              "#9c179e"
             ],
             [
              0.4444444444444444,
              "#bd3786"
             ],
             [
              0.5555555555555556,
              "#d8576b"
             ],
             [
              0.6666666666666666,
              "#ed7953"
             ],
             [
              0.7777777777777778,
              "#fb9f3a"
             ],
             [
              0.8888888888888888,
              "#fdca26"
             ],
             [
              1,
              "#f0f921"
             ]
            ],
            "type": "histogram2d"
           }
          ],
          "histogram2dcontour": [
           {
            "colorbar": {
             "outlinewidth": 0,
             "ticks": ""
            },
            "colorscale": [
             [
              0,
              "#0d0887"
             ],
             [
              0.1111111111111111,
              "#46039f"
             ],
             [
              0.2222222222222222,
              "#7201a8"
             ],
             [
              0.3333333333333333,
              "#9c179e"
             ],
             [
              0.4444444444444444,
              "#bd3786"
             ],
             [
              0.5555555555555556,
              "#d8576b"
             ],
             [
              0.6666666666666666,
              "#ed7953"
             ],
             [
              0.7777777777777778,
              "#fb9f3a"
             ],
             [
              0.8888888888888888,
              "#fdca26"
             ],
             [
              1,
              "#f0f921"
             ]
            ],
            "type": "histogram2dcontour"
           }
          ],
          "mesh3d": [
           {
            "colorbar": {
             "outlinewidth": 0,
             "ticks": ""
            },
            "type": "mesh3d"
           }
          ],
          "parcoords": [
           {
            "line": {
             "colorbar": {
              "outlinewidth": 0,
              "ticks": ""
             }
            },
            "type": "parcoords"
           }
          ],
          "pie": [
           {
            "automargin": true,
            "type": "pie"
           }
          ],
          "scatter": [
           {
            "fillpattern": {
             "fillmode": "overlay",
             "size": 10,
             "solidity": 0.2
            },
            "type": "scatter"
           }
          ],
          "scatter3d": [
           {
            "line": {
             "colorbar": {
              "outlinewidth": 0,
              "ticks": ""
             }
            },
            "marker": {
             "colorbar": {
              "outlinewidth": 0,
              "ticks": ""
             }
            },
            "type": "scatter3d"
           }
          ],
          "scattercarpet": [
           {
            "marker": {
             "colorbar": {
              "outlinewidth": 0,
              "ticks": ""
             }
            },
            "type": "scattercarpet"
           }
          ],
          "scattergeo": [
           {
            "marker": {
             "colorbar": {
              "outlinewidth": 0,
              "ticks": ""
             }
            },
            "type": "scattergeo"
           }
          ],
          "scattergl": [
           {
            "marker": {
             "colorbar": {
              "outlinewidth": 0,
              "ticks": ""
             }
            },
            "type": "scattergl"
           }
          ],
          "scattermapbox": [
           {
            "marker": {
             "colorbar": {
              "outlinewidth": 0,
              "ticks": ""
             }
            },
            "type": "scattermapbox"
           }
          ],
          "scatterpolar": [
           {
            "marker": {
             "colorbar": {
              "outlinewidth": 0,
              "ticks": ""
             }
            },
            "type": "scatterpolar"
           }
          ],
          "scatterpolargl": [
           {
            "marker": {
             "colorbar": {
              "outlinewidth": 0,
              "ticks": ""
             }
            },
            "type": "scatterpolargl"
           }
          ],
          "scatterternary": [
           {
            "marker": {
             "colorbar": {
              "outlinewidth": 0,
              "ticks": ""
             }
            },
            "type": "scatterternary"
           }
          ],
          "surface": [
           {
            "colorbar": {
             "outlinewidth": 0,
             "ticks": ""
            },
            "colorscale": [
             [
              0,
              "#0d0887"
             ],
             [
              0.1111111111111111,
              "#46039f"
             ],
             [
              0.2222222222222222,
              "#7201a8"
             ],
             [
              0.3333333333333333,
              "#9c179e"
             ],
             [
              0.4444444444444444,
              "#bd3786"
             ],
             [
              0.5555555555555556,
              "#d8576b"
             ],
             [
              0.6666666666666666,
              "#ed7953"
             ],
             [
              0.7777777777777778,
              "#fb9f3a"
             ],
             [
              0.8888888888888888,
              "#fdca26"
             ],
             [
              1,
              "#f0f921"
             ]
            ],
            "type": "surface"
           }
          ],
          "table": [
           {
            "cells": {
             "fill": {
              "color": "#EBF0F8"
             },
             "line": {
              "color": "white"
             }
            },
            "header": {
             "fill": {
              "color": "#C8D4E3"
             },
             "line": {
              "color": "white"
             }
            },
            "type": "table"
           }
          ]
         },
         "layout": {
          "annotationdefaults": {
           "arrowcolor": "#2a3f5f",
           "arrowhead": 0,
           "arrowwidth": 1
          },
          "autotypenumbers": "strict",
          "coloraxis": {
           "colorbar": {
            "outlinewidth": 0,
            "ticks": ""
           }
          },
          "colorscale": {
           "diverging": [
            [
             0,
             "#8e0152"
            ],
            [
             0.1,
             "#c51b7d"
            ],
            [
             0.2,
             "#de77ae"
            ],
            [
             0.3,
             "#f1b6da"
            ],
            [
             0.4,
             "#fde0ef"
            ],
            [
             0.5,
             "#f7f7f7"
            ],
            [
             0.6,
             "#e6f5d0"
            ],
            [
             0.7,
             "#b8e186"
            ],
            [
             0.8,
             "#7fbc41"
            ],
            [
             0.9,
             "#4d9221"
            ],
            [
             1,
             "#276419"
            ]
           ],
           "sequential": [
            [
             0,
             "#0d0887"
            ],
            [
             0.1111111111111111,
             "#46039f"
            ],
            [
             0.2222222222222222,
             "#7201a8"
            ],
            [
             0.3333333333333333,
             "#9c179e"
            ],
            [
             0.4444444444444444,
             "#bd3786"
            ],
            [
             0.5555555555555556,
             "#d8576b"
            ],
            [
             0.6666666666666666,
             "#ed7953"
            ],
            [
             0.7777777777777778,
             "#fb9f3a"
            ],
            [
             0.8888888888888888,
             "#fdca26"
            ],
            [
             1,
             "#f0f921"
            ]
           ],
           "sequentialminus": [
            [
             0,
             "#0d0887"
            ],
            [
             0.1111111111111111,
             "#46039f"
            ],
            [
             0.2222222222222222,
             "#7201a8"
            ],
            [
             0.3333333333333333,
             "#9c179e"
            ],
            [
             0.4444444444444444,
             "#bd3786"
            ],
            [
             0.5555555555555556,
             "#d8576b"
            ],
            [
             0.6666666666666666,
             "#ed7953"
            ],
            [
             0.7777777777777778,
             "#fb9f3a"
            ],
            [
             0.8888888888888888,
             "#fdca26"
            ],
            [
             1,
             "#f0f921"
            ]
           ]
          },
          "colorway": [
           "#636efa",
           "#EF553B",
           "#00cc96",
           "#ab63fa",
           "#FFA15A",
           "#19d3f3",
           "#FF6692",
           "#B6E880",
           "#FF97FF",
           "#FECB52"
          ],
          "font": {
           "color": "#2a3f5f"
          },
          "geo": {
           "bgcolor": "white",
           "lakecolor": "white",
           "landcolor": "#E5ECF6",
           "showlakes": true,
           "showland": true,
           "subunitcolor": "white"
          },
          "hoverlabel": {
           "align": "left"
          },
          "hovermode": "closest",
          "mapbox": {
           "style": "light"
          },
          "paper_bgcolor": "white",
          "plot_bgcolor": "#E5ECF6",
          "polar": {
           "angularaxis": {
            "gridcolor": "white",
            "linecolor": "white",
            "ticks": ""
           },
           "bgcolor": "#E5ECF6",
           "radialaxis": {
            "gridcolor": "white",
            "linecolor": "white",
            "ticks": ""
           }
          },
          "scene": {
           "xaxis": {
            "backgroundcolor": "#E5ECF6",
            "gridcolor": "white",
            "gridwidth": 2,
            "linecolor": "white",
            "showbackground": true,
            "ticks": "",
            "zerolinecolor": "white"
           },
           "yaxis": {
            "backgroundcolor": "#E5ECF6",
            "gridcolor": "white",
            "gridwidth": 2,
            "linecolor": "white",
            "showbackground": true,
            "ticks": "",
            "zerolinecolor": "white"
           },
           "zaxis": {
            "backgroundcolor": "#E5ECF6",
            "gridcolor": "white",
            "gridwidth": 2,
            "linecolor": "white",
            "showbackground": true,
            "ticks": "",
            "zerolinecolor": "white"
           }
          },
          "shapedefaults": {
           "line": {
            "color": "#2a3f5f"
           }
          },
          "ternary": {
           "aaxis": {
            "gridcolor": "white",
            "linecolor": "white",
            "ticks": ""
           },
           "baxis": {
            "gridcolor": "white",
            "linecolor": "white",
            "ticks": ""
           },
           "bgcolor": "#E5ECF6",
           "caxis": {
            "gridcolor": "white",
            "linecolor": "white",
            "ticks": ""
           }
          },
          "title": {
           "x": 0.05
          },
          "xaxis": {
           "automargin": true,
           "gridcolor": "white",
           "linecolor": "white",
           "ticks": "",
           "title": {
            "standoff": 15
           },
           "zerolinecolor": "white",
           "zerolinewidth": 2
          },
          "yaxis": {
           "automargin": true,
           "gridcolor": "white",
           "linecolor": "white",
           "ticks": "",
           "title": {
            "standoff": 15
           },
           "zerolinecolor": "white",
           "zerolinewidth": 2
          }
         }
        },
        "title": {
         "text": "meals vs special_diets"
        }
       }
      },
      "text/html": [
       "<div>                            <div id=\"b481968e-aabc-4777-8a67-1321baaca6cd\" class=\"plotly-graph-div\" style=\"height:525px; width:100%;\"></div>            <script type=\"text/javascript\">                require([\"plotly\"], function(Plotly) {                    window.PLOTLYENV=window.PLOTLYENV || {};                                    if (document.getElementById(\"b481968e-aabc-4777-8a67-1321baaca6cd\")) {                    Plotly.newPlot(                        \"b481968e-aabc-4777-8a67-1321baaca6cd\",                        [{\"colorscale\":[[0.0,\"rgb(165,0,38)\"],[0.1,\"rgb(215,48,39)\"],[0.2,\"rgb(244,109,67)\"],[0.3,\"rgb(253,174,97)\"],[0.4,\"rgb(254,224,139)\"],[0.5,\"rgb(255,255,191)\"],[0.6,\"rgb(217,239,139)\"],[0.7,\"rgb(166,217,106)\"],[0.8,\"rgb(102,189,99)\"],[0.9,\"rgb(26,152,80)\"],[1.0,\"rgb(0,104,55)\"]],\"x\":[\"special_diets_Vegetarian Friendly\",\"special_diets_Gluten Free Options\",\"special_diets_Vegan Options\",\"special_diets_Halal\",\"special_diets_Kosher\"],\"y\":[\"meals_Dinner\",\"meals_Lunch\",\"meals_Breakfast\",\"meals_Drinks\",\"meals_Brunch\",\"meals_After-hours\"],\"z\":[[0.08021836204016931,0.07959087002795018,0.06795642845394666,0.005193452544736283,0.006704891503724965],[0.09651044919174522,0.08866198656742635,0.08295412272459711,0.006281319931285908,0.00810935851953483],[-0.06148112387664011,-0.06005958457864615,-0.04301519800302856,-0.005167212496503699,-0.0066710148725366725],[0.08097826947820493,0.06393544007407433,0.07704932652755199,0.012570865127606719,-0.004824614595092158],[0.07416452067576294,0.060927411509566286,0.07855684175672385,0.006033181235064528,-0.0040915505754312775],[0.14680598798914377,0.12326850811346544,0.11266954917648446,0.0044583284857955445,0.020538780006324545]],\"zmax\":1,\"zmin\":-1,\"type\":\"heatmap\"}],                        {\"title\":{\"text\":\"meals vs special_diets\"},\"template\":{\"data\":{\"histogram2dcontour\":[{\"type\":\"histogram2dcontour\",\"colorbar\":{\"outlinewidth\":0,\"ticks\":\"\"},\"colorscale\":[[0.0,\"#0d0887\"],[0.1111111111111111,\"#46039f\"],[0.2222222222222222,\"#7201a8\"],[0.3333333333333333,\"#9c179e\"],[0.4444444444444444,\"#bd3786\"],[0.5555555555555556,\"#d8576b\"],[0.6666666666666666,\"#ed7953\"],[0.7777777777777778,\"#fb9f3a\"],[0.8888888888888888,\"#fdca26\"],[1.0,\"#f0f921\"]]}],\"choropleth\":[{\"type\":\"choropleth\",\"colorbar\":{\"outlinewidth\":0,\"ticks\":\"\"}}],\"histogram2d\":[{\"type\":\"histogram2d\",\"colorbar\":{\"outlinewidth\":0,\"ticks\":\"\"},\"colorscale\":[[0.0,\"#0d0887\"],[0.1111111111111111,\"#46039f\"],[0.2222222222222222,\"#7201a8\"],[0.3333333333333333,\"#9c179e\"],[0.4444444444444444,\"#bd3786\"],[0.5555555555555556,\"#d8576b\"],[0.6666666666666666,\"#ed7953\"],[0.7777777777777778,\"#fb9f3a\"],[0.8888888888888888,\"#fdca26\"],[1.0,\"#f0f921\"]]}],\"heatmap\":[{\"type\":\"heatmap\",\"colorbar\":{\"outlinewidth\":0,\"ticks\":\"\"},\"colorscale\":[[0.0,\"#0d0887\"],[0.1111111111111111,\"#46039f\"],[0.2222222222222222,\"#7201a8\"],[0.3333333333333333,\"#9c179e\"],[0.4444444444444444,\"#bd3786\"],[0.5555555555555556,\"#d8576b\"],[0.6666666666666666,\"#ed7953\"],[0.7777777777777778,\"#fb9f3a\"],[0.8888888888888888,\"#fdca26\"],[1.0,\"#f0f921\"]]}],\"heatmapgl\":[{\"type\":\"heatmapgl\",\"colorbar\":{\"outlinewidth\":0,\"ticks\":\"\"},\"colorscale\":[[0.0,\"#0d0887\"],[0.1111111111111111,\"#46039f\"],[0.2222222222222222,\"#7201a8\"],[0.3333333333333333,\"#9c179e\"],[0.4444444444444444,\"#bd3786\"],[0.5555555555555556,\"#d8576b\"],[0.6666666666666666,\"#ed7953\"],[0.7777777777777778,\"#fb9f3a\"],[0.8888888888888888,\"#fdca26\"],[1.0,\"#f0f921\"]]}],\"contourcarpet\":[{\"type\":\"contourcarpet\",\"colorbar\":{\"outlinewidth\":0,\"ticks\":\"\"}}],\"contour\":[{\"type\":\"contour\",\"colorbar\":{\"outlinewidth\":0,\"ticks\":\"\"},\"colorscale\":[[0.0,\"#0d0887\"],[0.1111111111111111,\"#46039f\"],[0.2222222222222222,\"#7201a8\"],[0.3333333333333333,\"#9c179e\"],[0.4444444444444444,\"#bd3786\"],[0.5555555555555556,\"#d8576b\"],[0.6666666666666666,\"#ed7953\"],[0.7777777777777778,\"#fb9f3a\"],[0.8888888888888888,\"#fdca26\"],[1.0,\"#f0f921\"]]}],\"surface\":[{\"type\":\"surface\",\"colorbar\":{\"outlinewidth\":0,\"ticks\":\"\"},\"colorscale\":[[0.0,\"#0d0887\"],[0.1111111111111111,\"#46039f\"],[0.2222222222222222,\"#7201a8\"],[0.3333333333333333,\"#9c179e\"],[0.4444444444444444,\"#bd3786\"],[0.5555555555555556,\"#d8576b\"],[0.6666666666666666,\"#ed7953\"],[0.7777777777777778,\"#fb9f3a\"],[0.8888888888888888,\"#fdca26\"],[1.0,\"#f0f921\"]]}],\"mesh3d\":[{\"type\":\"mesh3d\",\"colorbar\":{\"outlinewidth\":0,\"ticks\":\"\"}}],\"scatter\":[{\"fillpattern\":{\"fillmode\":\"overlay\",\"size\":10,\"solidity\":0.2},\"type\":\"scatter\"}],\"parcoords\":[{\"type\":\"parcoords\",\"line\":{\"colorbar\":{\"outlinewidth\":0,\"ticks\":\"\"}}}],\"scatterpolargl\":[{\"type\":\"scatterpolargl\",\"marker\":{\"colorbar\":{\"outlinewidth\":0,\"ticks\":\"\"}}}],\"bar\":[{\"error_x\":{\"color\":\"#2a3f5f\"},\"error_y\":{\"color\":\"#2a3f5f\"},\"marker\":{\"line\":{\"color\":\"#E5ECF6\",\"width\":0.5},\"pattern\":{\"fillmode\":\"overlay\",\"size\":10,\"solidity\":0.2}},\"type\":\"bar\"}],\"scattergeo\":[{\"type\":\"scattergeo\",\"marker\":{\"colorbar\":{\"outlinewidth\":0,\"ticks\":\"\"}}}],\"scatterpolar\":[{\"type\":\"scatterpolar\",\"marker\":{\"colorbar\":{\"outlinewidth\":0,\"ticks\":\"\"}}}],\"histogram\":[{\"marker\":{\"pattern\":{\"fillmode\":\"overlay\",\"size\":10,\"solidity\":0.2}},\"type\":\"histogram\"}],\"scattergl\":[{\"type\":\"scattergl\",\"marker\":{\"colorbar\":{\"outlinewidth\":0,\"ticks\":\"\"}}}],\"scatter3d\":[{\"type\":\"scatter3d\",\"line\":{\"colorbar\":{\"outlinewidth\":0,\"ticks\":\"\"}},\"marker\":{\"colorbar\":{\"outlinewidth\":0,\"ticks\":\"\"}}}],\"scattermapbox\":[{\"type\":\"scattermapbox\",\"marker\":{\"colorbar\":{\"outlinewidth\":0,\"ticks\":\"\"}}}],\"scatterternary\":[{\"type\":\"scatterternary\",\"marker\":{\"colorbar\":{\"outlinewidth\":0,\"ticks\":\"\"}}}],\"scattercarpet\":[{\"type\":\"scattercarpet\",\"marker\":{\"colorbar\":{\"outlinewidth\":0,\"ticks\":\"\"}}}],\"carpet\":[{\"aaxis\":{\"endlinecolor\":\"#2a3f5f\",\"gridcolor\":\"white\",\"linecolor\":\"white\",\"minorgridcolor\":\"white\",\"startlinecolor\":\"#2a3f5f\"},\"baxis\":{\"endlinecolor\":\"#2a3f5f\",\"gridcolor\":\"white\",\"linecolor\":\"white\",\"minorgridcolor\":\"white\",\"startlinecolor\":\"#2a3f5f\"},\"type\":\"carpet\"}],\"table\":[{\"cells\":{\"fill\":{\"color\":\"#EBF0F8\"},\"line\":{\"color\":\"white\"}},\"header\":{\"fill\":{\"color\":\"#C8D4E3\"},\"line\":{\"color\":\"white\"}},\"type\":\"table\"}],\"barpolar\":[{\"marker\":{\"line\":{\"color\":\"#E5ECF6\",\"width\":0.5},\"pattern\":{\"fillmode\":\"overlay\",\"size\":10,\"solidity\":0.2}},\"type\":\"barpolar\"}],\"pie\":[{\"automargin\":true,\"type\":\"pie\"}]},\"layout\":{\"autotypenumbers\":\"strict\",\"colorway\":[\"#636efa\",\"#EF553B\",\"#00cc96\",\"#ab63fa\",\"#FFA15A\",\"#19d3f3\",\"#FF6692\",\"#B6E880\",\"#FF97FF\",\"#FECB52\"],\"font\":{\"color\":\"#2a3f5f\"},\"hovermode\":\"closest\",\"hoverlabel\":{\"align\":\"left\"},\"paper_bgcolor\":\"white\",\"plot_bgcolor\":\"#E5ECF6\",\"polar\":{\"bgcolor\":\"#E5ECF6\",\"angularaxis\":{\"gridcolor\":\"white\",\"linecolor\":\"white\",\"ticks\":\"\"},\"radialaxis\":{\"gridcolor\":\"white\",\"linecolor\":\"white\",\"ticks\":\"\"}},\"ternary\":{\"bgcolor\":\"#E5ECF6\",\"aaxis\":{\"gridcolor\":\"white\",\"linecolor\":\"white\",\"ticks\":\"\"},\"baxis\":{\"gridcolor\":\"white\",\"linecolor\":\"white\",\"ticks\":\"\"},\"caxis\":{\"gridcolor\":\"white\",\"linecolor\":\"white\",\"ticks\":\"\"}},\"coloraxis\":{\"colorbar\":{\"outlinewidth\":0,\"ticks\":\"\"}},\"colorscale\":{\"sequential\":[[0.0,\"#0d0887\"],[0.1111111111111111,\"#46039f\"],[0.2222222222222222,\"#7201a8\"],[0.3333333333333333,\"#9c179e\"],[0.4444444444444444,\"#bd3786\"],[0.5555555555555556,\"#d8576b\"],[0.6666666666666666,\"#ed7953\"],[0.7777777777777778,\"#fb9f3a\"],[0.8888888888888888,\"#fdca26\"],[1.0,\"#f0f921\"]],\"sequentialminus\":[[0.0,\"#0d0887\"],[0.1111111111111111,\"#46039f\"],[0.2222222222222222,\"#7201a8\"],[0.3333333333333333,\"#9c179e\"],[0.4444444444444444,\"#bd3786\"],[0.5555555555555556,\"#d8576b\"],[0.6666666666666666,\"#ed7953\"],[0.7777777777777778,\"#fb9f3a\"],[0.8888888888888888,\"#fdca26\"],[1.0,\"#f0f921\"]],\"diverging\":[[0,\"#8e0152\"],[0.1,\"#c51b7d\"],[0.2,\"#de77ae\"],[0.3,\"#f1b6da\"],[0.4,\"#fde0ef\"],[0.5,\"#f7f7f7\"],[0.6,\"#e6f5d0\"],[0.7,\"#b8e186\"],[0.8,\"#7fbc41\"],[0.9,\"#4d9221\"],[1,\"#276419\"]]},\"xaxis\":{\"gridcolor\":\"white\",\"linecolor\":\"white\",\"ticks\":\"\",\"title\":{\"standoff\":15},\"zerolinecolor\":\"white\",\"automargin\":true,\"zerolinewidth\":2},\"yaxis\":{\"gridcolor\":\"white\",\"linecolor\":\"white\",\"ticks\":\"\",\"title\":{\"standoff\":15},\"zerolinecolor\":\"white\",\"automargin\":true,\"zerolinewidth\":2},\"scene\":{\"xaxis\":{\"backgroundcolor\":\"#E5ECF6\",\"gridcolor\":\"white\",\"linecolor\":\"white\",\"showbackground\":true,\"ticks\":\"\",\"zerolinecolor\":\"white\",\"gridwidth\":2},\"yaxis\":{\"backgroundcolor\":\"#E5ECF6\",\"gridcolor\":\"white\",\"linecolor\":\"white\",\"showbackground\":true,\"ticks\":\"\",\"zerolinecolor\":\"white\",\"gridwidth\":2},\"zaxis\":{\"backgroundcolor\":\"#E5ECF6\",\"gridcolor\":\"white\",\"linecolor\":\"white\",\"showbackground\":true,\"ticks\":\"\",\"zerolinecolor\":\"white\",\"gridwidth\":2}},\"shapedefaults\":{\"line\":{\"color\":\"#2a3f5f\"}},\"annotationdefaults\":{\"arrowcolor\":\"#2a3f5f\",\"arrowhead\":0,\"arrowwidth\":1},\"geo\":{\"bgcolor\":\"white\",\"landcolor\":\"#E5ECF6\",\"subunitcolor\":\"white\",\"showland\":true,\"showlakes\":true,\"lakecolor\":\"white\"},\"title\":{\"x\":0.05},\"mapbox\":{\"style\":\"light\"}}}},                        {\"responsive\": true}                    ).then(function(){\n",
       "                            \n",
       "var gd = document.getElementById('b481968e-aabc-4777-8a67-1321baaca6cd');\n",
       "var x = new MutationObserver(function (mutations, observer) {{\n",
       "        var display = window.getComputedStyle(gd).display;\n",
       "        if (!display || display === 'none') {{\n",
       "            console.log([gd, 'removed!']);\n",
       "            Plotly.purge(gd);\n",
       "            observer.disconnect();\n",
       "        }}\n",
       "}});\n",
       "\n",
       "// Listen for the removal of the full notebook cells\n",
       "var notebookContainer = gd.closest('#notebook-container');\n",
       "if (notebookContainer) {{\n",
       "    x.observe(notebookContainer, {childList: true});\n",
       "}}\n",
       "\n",
       "// Listen for the clearing of the current output cell\n",
       "var outputEl = gd.closest('.output');\n",
       "if (outputEl) {{\n",
       "    x.observe(outputEl, {childList: true});\n",
       "}}\n",
       "\n",
       "                        })                };                });            </script>        </div>"
      ]
     },
     "metadata": {},
     "output_type": "display_data"
    },
    {
     "data": {
      "application/vnd.plotly.v1+json": {
       "config": {
        "plotlyServerURL": "https://plot.ly"
       },
       "data": [
        {
         "colorscale": [
          [
           0,
           "rgb(165,0,38)"
          ],
          [
           0.1,
           "rgb(215,48,39)"
          ],
          [
           0.2,
           "rgb(244,109,67)"
          ],
          [
           0.3,
           "rgb(253,174,97)"
          ],
          [
           0.4,
           "rgb(254,224,139)"
          ],
          [
           0.5,
           "rgb(255,255,191)"
          ],
          [
           0.6,
           "rgb(217,239,139)"
          ],
          [
           0.7,
           "rgb(166,217,106)"
          ],
          [
           0.8,
           "rgb(102,189,99)"
          ],
          [
           0.9,
           "rgb(26,152,80)"
          ],
          [
           1,
           "rgb(0,104,55)"
          ]
         ],
         "type": "heatmap",
         "x": [
          "special_diets_Vegetarian Friendly",
          "special_diets_Gluten Free Options",
          "special_diets_Vegan Options",
          "special_diets_Halal",
          "special_diets_Kosher"
         ],
         "y": [
          "special_diets_Vegetarian Friendly",
          "special_diets_Gluten Free Options",
          "special_diets_Vegan Options",
          "special_diets_Halal",
          "special_diets_Kosher"
         ],
         "z": [
          [
           1,
           0.831658633843252,
           0.7960156040440615,
           0.032405002946162303,
           0.06376584871323383
          ],
          [
           0.831658633843252,
           1,
           0.768267812928381,
           0.03717969879660648,
           0.043022909895812284
          ],
          [
           0.7960156040440615,
           0.768267812928381,
           1,
           0.040616230601166696,
           0.07946723750564194
          ],
          [
           0.032405002946162303,
           0.03717969879660648,
           0.040616230601166696,
           1,
           -9.998924323586902e-05
          ],
          [
           0.06376584871323383,
           0.043022909895812284,
           0.07946723750564194,
           -9.998924323586902e-05,
           1
          ]
         ],
         "zmax": 1,
         "zmin": -1
        }
       ],
       "layout": {
        "template": {
         "data": {
          "bar": [
           {
            "error_x": {
             "color": "#2a3f5f"
            },
            "error_y": {
             "color": "#2a3f5f"
            },
            "marker": {
             "line": {
              "color": "#E5ECF6",
              "width": 0.5
             },
             "pattern": {
              "fillmode": "overlay",
              "size": 10,
              "solidity": 0.2
             }
            },
            "type": "bar"
           }
          ],
          "barpolar": [
           {
            "marker": {
             "line": {
              "color": "#E5ECF6",
              "width": 0.5
             },
             "pattern": {
              "fillmode": "overlay",
              "size": 10,
              "solidity": 0.2
             }
            },
            "type": "barpolar"
           }
          ],
          "carpet": [
           {
            "aaxis": {
             "endlinecolor": "#2a3f5f",
             "gridcolor": "white",
             "linecolor": "white",
             "minorgridcolor": "white",
             "startlinecolor": "#2a3f5f"
            },
            "baxis": {
             "endlinecolor": "#2a3f5f",
             "gridcolor": "white",
             "linecolor": "white",
             "minorgridcolor": "white",
             "startlinecolor": "#2a3f5f"
            },
            "type": "carpet"
           }
          ],
          "choropleth": [
           {
            "colorbar": {
             "outlinewidth": 0,
             "ticks": ""
            },
            "type": "choropleth"
           }
          ],
          "contour": [
           {
            "colorbar": {
             "outlinewidth": 0,
             "ticks": ""
            },
            "colorscale": [
             [
              0,
              "#0d0887"
             ],
             [
              0.1111111111111111,
              "#46039f"
             ],
             [
              0.2222222222222222,
              "#7201a8"
             ],
             [
              0.3333333333333333,
              "#9c179e"
             ],
             [
              0.4444444444444444,
              "#bd3786"
             ],
             [
              0.5555555555555556,
              "#d8576b"
             ],
             [
              0.6666666666666666,
              "#ed7953"
             ],
             [
              0.7777777777777778,
              "#fb9f3a"
             ],
             [
              0.8888888888888888,
              "#fdca26"
             ],
             [
              1,
              "#f0f921"
             ]
            ],
            "type": "contour"
           }
          ],
          "contourcarpet": [
           {
            "colorbar": {
             "outlinewidth": 0,
             "ticks": ""
            },
            "type": "contourcarpet"
           }
          ],
          "heatmap": [
           {
            "colorbar": {
             "outlinewidth": 0,
             "ticks": ""
            },
            "colorscale": [
             [
              0,
              "#0d0887"
             ],
             [
              0.1111111111111111,
              "#46039f"
             ],
             [
              0.2222222222222222,
              "#7201a8"
             ],
             [
              0.3333333333333333,
              "#9c179e"
             ],
             [
              0.4444444444444444,
              "#bd3786"
             ],
             [
              0.5555555555555556,
              "#d8576b"
             ],
             [
              0.6666666666666666,
              "#ed7953"
             ],
             [
              0.7777777777777778,
              "#fb9f3a"
             ],
             [
              0.8888888888888888,
              "#fdca26"
             ],
             [
              1,
              "#f0f921"
             ]
            ],
            "type": "heatmap"
           }
          ],
          "heatmapgl": [
           {
            "colorbar": {
             "outlinewidth": 0,
             "ticks": ""
            },
            "colorscale": [
             [
              0,
              "#0d0887"
             ],
             [
              0.1111111111111111,
              "#46039f"
             ],
             [
              0.2222222222222222,
              "#7201a8"
             ],
             [
              0.3333333333333333,
              "#9c179e"
             ],
             [
              0.4444444444444444,
              "#bd3786"
             ],
             [
              0.5555555555555556,
              "#d8576b"
             ],
             [
              0.6666666666666666,
              "#ed7953"
             ],
             [
              0.7777777777777778,
              "#fb9f3a"
             ],
             [
              0.8888888888888888,
              "#fdca26"
             ],
             [
              1,
              "#f0f921"
             ]
            ],
            "type": "heatmapgl"
           }
          ],
          "histogram": [
           {
            "marker": {
             "pattern": {
              "fillmode": "overlay",
              "size": 10,
              "solidity": 0.2
             }
            },
            "type": "histogram"
           }
          ],
          "histogram2d": [
           {
            "colorbar": {
             "outlinewidth": 0,
             "ticks": ""
            },
            "colorscale": [
             [
              0,
              "#0d0887"
             ],
             [
              0.1111111111111111,
              "#46039f"
             ],
             [
              0.2222222222222222,
              "#7201a8"
             ],
             [
              0.3333333333333333,
              "#9c179e"
             ],
             [
              0.4444444444444444,
              "#bd3786"
             ],
             [
              0.5555555555555556,
              "#d8576b"
             ],
             [
              0.6666666666666666,
              "#ed7953"
             ],
             [
              0.7777777777777778,
              "#fb9f3a"
             ],
             [
              0.8888888888888888,
              "#fdca26"
             ],
             [
              1,
              "#f0f921"
             ]
            ],
            "type": "histogram2d"
           }
          ],
          "histogram2dcontour": [
           {
            "colorbar": {
             "outlinewidth": 0,
             "ticks": ""
            },
            "colorscale": [
             [
              0,
              "#0d0887"
             ],
             [
              0.1111111111111111,
              "#46039f"
             ],
             [
              0.2222222222222222,
              "#7201a8"
             ],
             [
              0.3333333333333333,
              "#9c179e"
             ],
             [
              0.4444444444444444,
              "#bd3786"
             ],
             [
              0.5555555555555556,
              "#d8576b"
             ],
             [
              0.6666666666666666,
              "#ed7953"
             ],
             [
              0.7777777777777778,
              "#fb9f3a"
             ],
             [
              0.8888888888888888,
              "#fdca26"
             ],
             [
              1,
              "#f0f921"
             ]
            ],
            "type": "histogram2dcontour"
           }
          ],
          "mesh3d": [
           {
            "colorbar": {
             "outlinewidth": 0,
             "ticks": ""
            },
            "type": "mesh3d"
           }
          ],
          "parcoords": [
           {
            "line": {
             "colorbar": {
              "outlinewidth": 0,
              "ticks": ""
             }
            },
            "type": "parcoords"
           }
          ],
          "pie": [
           {
            "automargin": true,
            "type": "pie"
           }
          ],
          "scatter": [
           {
            "fillpattern": {
             "fillmode": "overlay",
             "size": 10,
             "solidity": 0.2
            },
            "type": "scatter"
           }
          ],
          "scatter3d": [
           {
            "line": {
             "colorbar": {
              "outlinewidth": 0,
              "ticks": ""
             }
            },
            "marker": {
             "colorbar": {
              "outlinewidth": 0,
              "ticks": ""
             }
            },
            "type": "scatter3d"
           }
          ],
          "scattercarpet": [
           {
            "marker": {
             "colorbar": {
              "outlinewidth": 0,
              "ticks": ""
             }
            },
            "type": "scattercarpet"
           }
          ],
          "scattergeo": [
           {
            "marker": {
             "colorbar": {
              "outlinewidth": 0,
              "ticks": ""
             }
            },
            "type": "scattergeo"
           }
          ],
          "scattergl": [
           {
            "marker": {
             "colorbar": {
              "outlinewidth": 0,
              "ticks": ""
             }
            },
            "type": "scattergl"
           }
          ],
          "scattermapbox": [
           {
            "marker": {
             "colorbar": {
              "outlinewidth": 0,
              "ticks": ""
             }
            },
            "type": "scattermapbox"
           }
          ],
          "scatterpolar": [
           {
            "marker": {
             "colorbar": {
              "outlinewidth": 0,
              "ticks": ""
             }
            },
            "type": "scatterpolar"
           }
          ],
          "scatterpolargl": [
           {
            "marker": {
             "colorbar": {
              "outlinewidth": 0,
              "ticks": ""
             }
            },
            "type": "scatterpolargl"
           }
          ],
          "scatterternary": [
           {
            "marker": {
             "colorbar": {
              "outlinewidth": 0,
              "ticks": ""
             }
            },
            "type": "scatterternary"
           }
          ],
          "surface": [
           {
            "colorbar": {
             "outlinewidth": 0,
             "ticks": ""
            },
            "colorscale": [
             [
              0,
              "#0d0887"
             ],
             [
              0.1111111111111111,
              "#46039f"
             ],
             [
              0.2222222222222222,
              "#7201a8"
             ],
             [
              0.3333333333333333,
              "#9c179e"
             ],
             [
              0.4444444444444444,
              "#bd3786"
             ],
             [
              0.5555555555555556,
              "#d8576b"
             ],
             [
              0.6666666666666666,
              "#ed7953"
             ],
             [
              0.7777777777777778,
              "#fb9f3a"
             ],
             [
              0.8888888888888888,
              "#fdca26"
             ],
             [
              1,
              "#f0f921"
             ]
            ],
            "type": "surface"
           }
          ],
          "table": [
           {
            "cells": {
             "fill": {
              "color": "#EBF0F8"
             },
             "line": {
              "color": "white"
             }
            },
            "header": {
             "fill": {
              "color": "#C8D4E3"
             },
             "line": {
              "color": "white"
             }
            },
            "type": "table"
           }
          ]
         },
         "layout": {
          "annotationdefaults": {
           "arrowcolor": "#2a3f5f",
           "arrowhead": 0,
           "arrowwidth": 1
          },
          "autotypenumbers": "strict",
          "coloraxis": {
           "colorbar": {
            "outlinewidth": 0,
            "ticks": ""
           }
          },
          "colorscale": {
           "diverging": [
            [
             0,
             "#8e0152"
            ],
            [
             0.1,
             "#c51b7d"
            ],
            [
             0.2,
             "#de77ae"
            ],
            [
             0.3,
             "#f1b6da"
            ],
            [
             0.4,
             "#fde0ef"
            ],
            [
             0.5,
             "#f7f7f7"
            ],
            [
             0.6,
             "#e6f5d0"
            ],
            [
             0.7,
             "#b8e186"
            ],
            [
             0.8,
             "#7fbc41"
            ],
            [
             0.9,
             "#4d9221"
            ],
            [
             1,
             "#276419"
            ]
           ],
           "sequential": [
            [
             0,
             "#0d0887"
            ],
            [
             0.1111111111111111,
             "#46039f"
            ],
            [
             0.2222222222222222,
             "#7201a8"
            ],
            [
             0.3333333333333333,
             "#9c179e"
            ],
            [
             0.4444444444444444,
             "#bd3786"
            ],
            [
             0.5555555555555556,
             "#d8576b"
            ],
            [
             0.6666666666666666,
             "#ed7953"
            ],
            [
             0.7777777777777778,
             "#fb9f3a"
            ],
            [
             0.8888888888888888,
             "#fdca26"
            ],
            [
             1,
             "#f0f921"
            ]
           ],
           "sequentialminus": [
            [
             0,
             "#0d0887"
            ],
            [
             0.1111111111111111,
             "#46039f"
            ],
            [
             0.2222222222222222,
             "#7201a8"
            ],
            [
             0.3333333333333333,
             "#9c179e"
            ],
            [
             0.4444444444444444,
             "#bd3786"
            ],
            [
             0.5555555555555556,
             "#d8576b"
            ],
            [
             0.6666666666666666,
             "#ed7953"
            ],
            [
             0.7777777777777778,
             "#fb9f3a"
            ],
            [
             0.8888888888888888,
             "#fdca26"
            ],
            [
             1,
             "#f0f921"
            ]
           ]
          },
          "colorway": [
           "#636efa",
           "#EF553B",
           "#00cc96",
           "#ab63fa",
           "#FFA15A",
           "#19d3f3",
           "#FF6692",
           "#B6E880",
           "#FF97FF",
           "#FECB52"
          ],
          "font": {
           "color": "#2a3f5f"
          },
          "geo": {
           "bgcolor": "white",
           "lakecolor": "white",
           "landcolor": "#E5ECF6",
           "showlakes": true,
           "showland": true,
           "subunitcolor": "white"
          },
          "hoverlabel": {
           "align": "left"
          },
          "hovermode": "closest",
          "mapbox": {
           "style": "light"
          },
          "paper_bgcolor": "white",
          "plot_bgcolor": "#E5ECF6",
          "polar": {
           "angularaxis": {
            "gridcolor": "white",
            "linecolor": "white",
            "ticks": ""
           },
           "bgcolor": "#E5ECF6",
           "radialaxis": {
            "gridcolor": "white",
            "linecolor": "white",
            "ticks": ""
           }
          },
          "scene": {
           "xaxis": {
            "backgroundcolor": "#E5ECF6",
            "gridcolor": "white",
            "gridwidth": 2,
            "linecolor": "white",
            "showbackground": true,
            "ticks": "",
            "zerolinecolor": "white"
           },
           "yaxis": {
            "backgroundcolor": "#E5ECF6",
            "gridcolor": "white",
            "gridwidth": 2,
            "linecolor": "white",
            "showbackground": true,
            "ticks": "",
            "zerolinecolor": "white"
           },
           "zaxis": {
            "backgroundcolor": "#E5ECF6",
            "gridcolor": "white",
            "gridwidth": 2,
            "linecolor": "white",
            "showbackground": true,
            "ticks": "",
            "zerolinecolor": "white"
           }
          },
          "shapedefaults": {
           "line": {
            "color": "#2a3f5f"
           }
          },
          "ternary": {
           "aaxis": {
            "gridcolor": "white",
            "linecolor": "white",
            "ticks": ""
           },
           "baxis": {
            "gridcolor": "white",
            "linecolor": "white",
            "ticks": ""
           },
           "bgcolor": "#E5ECF6",
           "caxis": {
            "gridcolor": "white",
            "linecolor": "white",
            "ticks": ""
           }
          },
          "title": {
           "x": 0.05
          },
          "xaxis": {
           "automargin": true,
           "gridcolor": "white",
           "linecolor": "white",
           "ticks": "",
           "title": {
            "standoff": 15
           },
           "zerolinecolor": "white",
           "zerolinewidth": 2
          },
          "yaxis": {
           "automargin": true,
           "gridcolor": "white",
           "linecolor": "white",
           "ticks": "",
           "title": {
            "standoff": 15
           },
           "zerolinecolor": "white",
           "zerolinewidth": 2
          }
         }
        },
        "title": {
         "text": "special_diets vs special_diets"
        }
       }
      },
      "text/html": [
       "<div>                            <div id=\"1d1a1322-d351-4c3a-a8cc-aa640eadc645\" class=\"plotly-graph-div\" style=\"height:525px; width:100%;\"></div>            <script type=\"text/javascript\">                require([\"plotly\"], function(Plotly) {                    window.PLOTLYENV=window.PLOTLYENV || {};                                    if (document.getElementById(\"1d1a1322-d351-4c3a-a8cc-aa640eadc645\")) {                    Plotly.newPlot(                        \"1d1a1322-d351-4c3a-a8cc-aa640eadc645\",                        [{\"colorscale\":[[0.0,\"rgb(165,0,38)\"],[0.1,\"rgb(215,48,39)\"],[0.2,\"rgb(244,109,67)\"],[0.3,\"rgb(253,174,97)\"],[0.4,\"rgb(254,224,139)\"],[0.5,\"rgb(255,255,191)\"],[0.6,\"rgb(217,239,139)\"],[0.7,\"rgb(166,217,106)\"],[0.8,\"rgb(102,189,99)\"],[0.9,\"rgb(26,152,80)\"],[1.0,\"rgb(0,104,55)\"]],\"x\":[\"special_diets_Vegetarian Friendly\",\"special_diets_Gluten Free Options\",\"special_diets_Vegan Options\",\"special_diets_Halal\",\"special_diets_Kosher\"],\"y\":[\"special_diets_Vegetarian Friendly\",\"special_diets_Gluten Free Options\",\"special_diets_Vegan Options\",\"special_diets_Halal\",\"special_diets_Kosher\"],\"z\":[[1.0,0.831658633843252,0.7960156040440615,0.032405002946162303,0.06376584871323383],[0.831658633843252,1.0,0.768267812928381,0.03717969879660648,0.043022909895812284],[0.7960156040440615,0.768267812928381,1.0,0.040616230601166696,0.07946723750564194],[0.032405002946162303,0.03717969879660648,0.040616230601166696,1.0,-9.998924323586902e-05],[0.06376584871323383,0.043022909895812284,0.07946723750564194,-9.998924323586902e-05,1.0]],\"zmax\":1,\"zmin\":-1,\"type\":\"heatmap\"}],                        {\"title\":{\"text\":\"special_diets vs special_diets\"},\"template\":{\"data\":{\"histogram2dcontour\":[{\"type\":\"histogram2dcontour\",\"colorbar\":{\"outlinewidth\":0,\"ticks\":\"\"},\"colorscale\":[[0.0,\"#0d0887\"],[0.1111111111111111,\"#46039f\"],[0.2222222222222222,\"#7201a8\"],[0.3333333333333333,\"#9c179e\"],[0.4444444444444444,\"#bd3786\"],[0.5555555555555556,\"#d8576b\"],[0.6666666666666666,\"#ed7953\"],[0.7777777777777778,\"#fb9f3a\"],[0.8888888888888888,\"#fdca26\"],[1.0,\"#f0f921\"]]}],\"choropleth\":[{\"type\":\"choropleth\",\"colorbar\":{\"outlinewidth\":0,\"ticks\":\"\"}}],\"histogram2d\":[{\"type\":\"histogram2d\",\"colorbar\":{\"outlinewidth\":0,\"ticks\":\"\"},\"colorscale\":[[0.0,\"#0d0887\"],[0.1111111111111111,\"#46039f\"],[0.2222222222222222,\"#7201a8\"],[0.3333333333333333,\"#9c179e\"],[0.4444444444444444,\"#bd3786\"],[0.5555555555555556,\"#d8576b\"],[0.6666666666666666,\"#ed7953\"],[0.7777777777777778,\"#fb9f3a\"],[0.8888888888888888,\"#fdca26\"],[1.0,\"#f0f921\"]]}],\"heatmap\":[{\"type\":\"heatmap\",\"colorbar\":{\"outlinewidth\":0,\"ticks\":\"\"},\"colorscale\":[[0.0,\"#0d0887\"],[0.1111111111111111,\"#46039f\"],[0.2222222222222222,\"#7201a8\"],[0.3333333333333333,\"#9c179e\"],[0.4444444444444444,\"#bd3786\"],[0.5555555555555556,\"#d8576b\"],[0.6666666666666666,\"#ed7953\"],[0.7777777777777778,\"#fb9f3a\"],[0.8888888888888888,\"#fdca26\"],[1.0,\"#f0f921\"]]}],\"heatmapgl\":[{\"type\":\"heatmapgl\",\"colorbar\":{\"outlinewidth\":0,\"ticks\":\"\"},\"colorscale\":[[0.0,\"#0d0887\"],[0.1111111111111111,\"#46039f\"],[0.2222222222222222,\"#7201a8\"],[0.3333333333333333,\"#9c179e\"],[0.4444444444444444,\"#bd3786\"],[0.5555555555555556,\"#d8576b\"],[0.6666666666666666,\"#ed7953\"],[0.7777777777777778,\"#fb9f3a\"],[0.8888888888888888,\"#fdca26\"],[1.0,\"#f0f921\"]]}],\"contourcarpet\":[{\"type\":\"contourcarpet\",\"colorbar\":{\"outlinewidth\":0,\"ticks\":\"\"}}],\"contour\":[{\"type\":\"contour\",\"colorbar\":{\"outlinewidth\":0,\"ticks\":\"\"},\"colorscale\":[[0.0,\"#0d0887\"],[0.1111111111111111,\"#46039f\"],[0.2222222222222222,\"#7201a8\"],[0.3333333333333333,\"#9c179e\"],[0.4444444444444444,\"#bd3786\"],[0.5555555555555556,\"#d8576b\"],[0.6666666666666666,\"#ed7953\"],[0.7777777777777778,\"#fb9f3a\"],[0.8888888888888888,\"#fdca26\"],[1.0,\"#f0f921\"]]}],\"surface\":[{\"type\":\"surface\",\"colorbar\":{\"outlinewidth\":0,\"ticks\":\"\"},\"colorscale\":[[0.0,\"#0d0887\"],[0.1111111111111111,\"#46039f\"],[0.2222222222222222,\"#7201a8\"],[0.3333333333333333,\"#9c179e\"],[0.4444444444444444,\"#bd3786\"],[0.5555555555555556,\"#d8576b\"],[0.6666666666666666,\"#ed7953\"],[0.7777777777777778,\"#fb9f3a\"],[0.8888888888888888,\"#fdca26\"],[1.0,\"#f0f921\"]]}],\"mesh3d\":[{\"type\":\"mesh3d\",\"colorbar\":{\"outlinewidth\":0,\"ticks\":\"\"}}],\"scatter\":[{\"fillpattern\":{\"fillmode\":\"overlay\",\"size\":10,\"solidity\":0.2},\"type\":\"scatter\"}],\"parcoords\":[{\"type\":\"parcoords\",\"line\":{\"colorbar\":{\"outlinewidth\":0,\"ticks\":\"\"}}}],\"scatterpolargl\":[{\"type\":\"scatterpolargl\",\"marker\":{\"colorbar\":{\"outlinewidth\":0,\"ticks\":\"\"}}}],\"bar\":[{\"error_x\":{\"color\":\"#2a3f5f\"},\"error_y\":{\"color\":\"#2a3f5f\"},\"marker\":{\"line\":{\"color\":\"#E5ECF6\",\"width\":0.5},\"pattern\":{\"fillmode\":\"overlay\",\"size\":10,\"solidity\":0.2}},\"type\":\"bar\"}],\"scattergeo\":[{\"type\":\"scattergeo\",\"marker\":{\"colorbar\":{\"outlinewidth\":0,\"ticks\":\"\"}}}],\"scatterpolar\":[{\"type\":\"scatterpolar\",\"marker\":{\"colorbar\":{\"outlinewidth\":0,\"ticks\":\"\"}}}],\"histogram\":[{\"marker\":{\"pattern\":{\"fillmode\":\"overlay\",\"size\":10,\"solidity\":0.2}},\"type\":\"histogram\"}],\"scattergl\":[{\"type\":\"scattergl\",\"marker\":{\"colorbar\":{\"outlinewidth\":0,\"ticks\":\"\"}}}],\"scatter3d\":[{\"type\":\"scatter3d\",\"line\":{\"colorbar\":{\"outlinewidth\":0,\"ticks\":\"\"}},\"marker\":{\"colorbar\":{\"outlinewidth\":0,\"ticks\":\"\"}}}],\"scattermapbox\":[{\"type\":\"scattermapbox\",\"marker\":{\"colorbar\":{\"outlinewidth\":0,\"ticks\":\"\"}}}],\"scatterternary\":[{\"type\":\"scatterternary\",\"marker\":{\"colorbar\":{\"outlinewidth\":0,\"ticks\":\"\"}}}],\"scattercarpet\":[{\"type\":\"scattercarpet\",\"marker\":{\"colorbar\":{\"outlinewidth\":0,\"ticks\":\"\"}}}],\"carpet\":[{\"aaxis\":{\"endlinecolor\":\"#2a3f5f\",\"gridcolor\":\"white\",\"linecolor\":\"white\",\"minorgridcolor\":\"white\",\"startlinecolor\":\"#2a3f5f\"},\"baxis\":{\"endlinecolor\":\"#2a3f5f\",\"gridcolor\":\"white\",\"linecolor\":\"white\",\"minorgridcolor\":\"white\",\"startlinecolor\":\"#2a3f5f\"},\"type\":\"carpet\"}],\"table\":[{\"cells\":{\"fill\":{\"color\":\"#EBF0F8\"},\"line\":{\"color\":\"white\"}},\"header\":{\"fill\":{\"color\":\"#C8D4E3\"},\"line\":{\"color\":\"white\"}},\"type\":\"table\"}],\"barpolar\":[{\"marker\":{\"line\":{\"color\":\"#E5ECF6\",\"width\":0.5},\"pattern\":{\"fillmode\":\"overlay\",\"size\":10,\"solidity\":0.2}},\"type\":\"barpolar\"}],\"pie\":[{\"automargin\":true,\"type\":\"pie\"}]},\"layout\":{\"autotypenumbers\":\"strict\",\"colorway\":[\"#636efa\",\"#EF553B\",\"#00cc96\",\"#ab63fa\",\"#FFA15A\",\"#19d3f3\",\"#FF6692\",\"#B6E880\",\"#FF97FF\",\"#FECB52\"],\"font\":{\"color\":\"#2a3f5f\"},\"hovermode\":\"closest\",\"hoverlabel\":{\"align\":\"left\"},\"paper_bgcolor\":\"white\",\"plot_bgcolor\":\"#E5ECF6\",\"polar\":{\"bgcolor\":\"#E5ECF6\",\"angularaxis\":{\"gridcolor\":\"white\",\"linecolor\":\"white\",\"ticks\":\"\"},\"radialaxis\":{\"gridcolor\":\"white\",\"linecolor\":\"white\",\"ticks\":\"\"}},\"ternary\":{\"bgcolor\":\"#E5ECF6\",\"aaxis\":{\"gridcolor\":\"white\",\"linecolor\":\"white\",\"ticks\":\"\"},\"baxis\":{\"gridcolor\":\"white\",\"linecolor\":\"white\",\"ticks\":\"\"},\"caxis\":{\"gridcolor\":\"white\",\"linecolor\":\"white\",\"ticks\":\"\"}},\"coloraxis\":{\"colorbar\":{\"outlinewidth\":0,\"ticks\":\"\"}},\"colorscale\":{\"sequential\":[[0.0,\"#0d0887\"],[0.1111111111111111,\"#46039f\"],[0.2222222222222222,\"#7201a8\"],[0.3333333333333333,\"#9c179e\"],[0.4444444444444444,\"#bd3786\"],[0.5555555555555556,\"#d8576b\"],[0.6666666666666666,\"#ed7953\"],[0.7777777777777778,\"#fb9f3a\"],[0.8888888888888888,\"#fdca26\"],[1.0,\"#f0f921\"]],\"sequentialminus\":[[0.0,\"#0d0887\"],[0.1111111111111111,\"#46039f\"],[0.2222222222222222,\"#7201a8\"],[0.3333333333333333,\"#9c179e\"],[0.4444444444444444,\"#bd3786\"],[0.5555555555555556,\"#d8576b\"],[0.6666666666666666,\"#ed7953\"],[0.7777777777777778,\"#fb9f3a\"],[0.8888888888888888,\"#fdca26\"],[1.0,\"#f0f921\"]],\"diverging\":[[0,\"#8e0152\"],[0.1,\"#c51b7d\"],[0.2,\"#de77ae\"],[0.3,\"#f1b6da\"],[0.4,\"#fde0ef\"],[0.5,\"#f7f7f7\"],[0.6,\"#e6f5d0\"],[0.7,\"#b8e186\"],[0.8,\"#7fbc41\"],[0.9,\"#4d9221\"],[1,\"#276419\"]]},\"xaxis\":{\"gridcolor\":\"white\",\"linecolor\":\"white\",\"ticks\":\"\",\"title\":{\"standoff\":15},\"zerolinecolor\":\"white\",\"automargin\":true,\"zerolinewidth\":2},\"yaxis\":{\"gridcolor\":\"white\",\"linecolor\":\"white\",\"ticks\":\"\",\"title\":{\"standoff\":15},\"zerolinecolor\":\"white\",\"automargin\":true,\"zerolinewidth\":2},\"scene\":{\"xaxis\":{\"backgroundcolor\":\"#E5ECF6\",\"gridcolor\":\"white\",\"linecolor\":\"white\",\"showbackground\":true,\"ticks\":\"\",\"zerolinecolor\":\"white\",\"gridwidth\":2},\"yaxis\":{\"backgroundcolor\":\"#E5ECF6\",\"gridcolor\":\"white\",\"linecolor\":\"white\",\"showbackground\":true,\"ticks\":\"\",\"zerolinecolor\":\"white\",\"gridwidth\":2},\"zaxis\":{\"backgroundcolor\":\"#E5ECF6\",\"gridcolor\":\"white\",\"linecolor\":\"white\",\"showbackground\":true,\"ticks\":\"\",\"zerolinecolor\":\"white\",\"gridwidth\":2}},\"shapedefaults\":{\"line\":{\"color\":\"#2a3f5f\"}},\"annotationdefaults\":{\"arrowcolor\":\"#2a3f5f\",\"arrowhead\":0,\"arrowwidth\":1},\"geo\":{\"bgcolor\":\"white\",\"landcolor\":\"#E5ECF6\",\"subunitcolor\":\"white\",\"showland\":true,\"showlakes\":true,\"lakecolor\":\"white\"},\"title\":{\"x\":0.05},\"mapbox\":{\"style\":\"light\"}}}},                        {\"responsive\": true}                    ).then(function(){\n",
       "                            \n",
       "var gd = document.getElementById('1d1a1322-d351-4c3a-a8cc-aa640eadc645');\n",
       "var x = new MutationObserver(function (mutations, observer) {{\n",
       "        var display = window.getComputedStyle(gd).display;\n",
       "        if (!display || display === 'none') {{\n",
       "            console.log([gd, 'removed!']);\n",
       "            Plotly.purge(gd);\n",
       "            observer.disconnect();\n",
       "        }}\n",
       "}});\n",
       "\n",
       "// Listen for the removal of the full notebook cells\n",
       "var notebookContainer = gd.closest('#notebook-container');\n",
       "if (notebookContainer) {{\n",
       "    x.observe(notebookContainer, {childList: true});\n",
       "}}\n",
       "\n",
       "// Listen for the clearing of the current output cell\n",
       "var outputEl = gd.closest('.output');\n",
       "if (outputEl) {{\n",
       "    x.observe(outputEl, {childList: true});\n",
       "}}\n",
       "\n",
       "                        })                };                });            </script>        </div>"
      ]
     },
     "metadata": {},
     "output_type": "display_data"
    },
    {
     "data": {
      "application/vnd.plotly.v1+json": {
       "config": {
        "plotlyServerURL": "https://plot.ly"
       },
       "data": [
        {
         "colorscale": [
          [
           0,
           "rgb(165,0,38)"
          ],
          [
           0.1,
           "rgb(215,48,39)"
          ],
          [
           0.2,
           "rgb(244,109,67)"
          ],
          [
           0.3,
           "rgb(253,174,97)"
          ],
          [
           0.4,
           "rgb(254,224,139)"
          ],
          [
           0.5,
           "rgb(255,255,191)"
          ],
          [
           0.6,
           "rgb(217,239,139)"
          ],
          [
           0.7,
           "rgb(166,217,106)"
          ],
          [
           0.8,
           "rgb(102,189,99)"
          ],
          [
           0.9,
           "rgb(26,152,80)"
          ],
          [
           1,
           "rgb(0,104,55)"
          ]
         ],
         "type": "heatmap",
         "x": [
          "meals_Dinner",
          "meals_Lunch",
          "meals_Breakfast",
          "meals_Drinks",
          "meals_Brunch",
          "meals_After-hours"
         ],
         "y": [
          "features_Seating",
          "features_Reservations",
          "features_Table Service",
          "features_Wheelchair Accessible",
          "features_Serves Alcohol",
          "features_Takeout",
          "features_Outdoor Seating",
          "features_Highchairs Available",
          "features_Accepts Credit Cards",
          "features_Full Bar",
          "features_Parking Available",
          "features_Free Wifi",
          "features_Wine and Beer",
          "features_Television",
          "features_Free off-street parking",
          "features_Street Parking",
          "features_Delivery",
          "features_Accepts Visa"
         ],
         "z": [
          [
           0.1262273235099768,
           0.1318215047837165,
           -0.18781695801301856,
           0.05964729802929701,
           -0.04039429811339947,
           0.12073750134719455
          ],
          [
           0.43668712528621856,
           0.22956096708922782,
           -0.40691461562660863,
           -0.08690450357270518,
           -0.16656692342951365,
           0.07423319780216804
          ],
          [
           0.21355499700633568,
           0.1427023562149541,
           -0.2744505179940699,
           -0.05930471683579343,
           -0.11087067906506427,
           0.10444226450589877
          ],
          [
           -0.04384006930951545,
           0.05317529266490231,
           0.05427952836216887,
           0.0178949663027483,
           0.09721181661340683,
           0.047261009608181116
          ],
          [
           0.17700227958468412,
           0.20331315454049592,
           -0.23436006958208544,
           0.16475791112757987,
           -0.06084778123168978,
           0.27475284107951004
          ],
          [
           -0.0739909128618816,
           -0.0766866130527423,
           0.14424886079197818,
           0.08855849547207992,
           0.09857556207307279,
           0.004147628260354234
          ],
          [
           0.01181494097714141,
           0.08105534317797355,
           -0.011337471255548714,
           0.24615947994307305,
           0.047869612214348496,
           0.25223954100106594
          ],
          [
           0.19743963250466734,
           0.2338705359723378,
           -0.18662129191281082,
           0.012630812503678689,
           -0.07316935390496337,
           0.20653826581189652
          ],
          [
           0.095126664817034,
           0.13127356587965147,
           -0.03689671575232737,
           0.27218967329782817,
           0.06253167299968082,
           0.19606133463355901
          ],
          [
           -0.05818047028677499,
           0.01939706349388253,
           0.13094330292272827,
           0.38232431772309816,
           0.14127855092970443,
           0.22084681934763195
          ],
          [
           0.07058931131585013,
           0.09783759132545475,
           0.016525623668786054,
           0.1666016841217098,
           0.037957592504345744,
           0.07285287292945519
          ],
          [
           0.05276303704402076,
           0.07215441074027665,
           0.06379687670951187,
           0.30271224378883127,
           0.13519976124641966,
           0.09698135178331319
          ],
          [
           0.059368144196617255,
           0.07155502395678423,
           0.08986386630323803,
           0.3968145232669344,
           0.13395005833180185,
           0.05721663528467966
          ],
          [
           0.05104927755484378,
           0.02556512427814923,
           0.024801546854294854,
           0.20415938995990743,
           0.05089827046702256,
           0.15873242476006433
          ],
          [
           0.041236078173279116,
           0.05700742541892989,
           0.07610406436794963,
           0.2575106298965052,
           0.0738158527398722,
           0.020502254436996277
          ],
          [
           0.015767621167109898,
           0.02052714478194599,
           0.11944578906680216,
           0.32428695183407397,
           0.1270532401084911,
           0.04411998063732766
          ],
          [
           0.028013502995493926,
           -0.003418148232735353,
           0.05577654038668079,
           0.1278941181014748,
           0.05987148960916889,
           0.0182329074248288
          ],
          [
           0.04025737853077424,
           0.05032311700544779,
           0.0198230124515098,
           0.11937681388931985,
           0.04443230697286391,
           0.017526115256418708
          ]
         ],
         "zmax": 1,
         "zmin": -1
        }
       ],
       "layout": {
        "template": {
         "data": {
          "bar": [
           {
            "error_x": {
             "color": "#2a3f5f"
            },
            "error_y": {
             "color": "#2a3f5f"
            },
            "marker": {
             "line": {
              "color": "#E5ECF6",
              "width": 0.5
             },
             "pattern": {
              "fillmode": "overlay",
              "size": 10,
              "solidity": 0.2
             }
            },
            "type": "bar"
           }
          ],
          "barpolar": [
           {
            "marker": {
             "line": {
              "color": "#E5ECF6",
              "width": 0.5
             },
             "pattern": {
              "fillmode": "overlay",
              "size": 10,
              "solidity": 0.2
             }
            },
            "type": "barpolar"
           }
          ],
          "carpet": [
           {
            "aaxis": {
             "endlinecolor": "#2a3f5f",
             "gridcolor": "white",
             "linecolor": "white",
             "minorgridcolor": "white",
             "startlinecolor": "#2a3f5f"
            },
            "baxis": {
             "endlinecolor": "#2a3f5f",
             "gridcolor": "white",
             "linecolor": "white",
             "minorgridcolor": "white",
             "startlinecolor": "#2a3f5f"
            },
            "type": "carpet"
           }
          ],
          "choropleth": [
           {
            "colorbar": {
             "outlinewidth": 0,
             "ticks": ""
            },
            "type": "choropleth"
           }
          ],
          "contour": [
           {
            "colorbar": {
             "outlinewidth": 0,
             "ticks": ""
            },
            "colorscale": [
             [
              0,
              "#0d0887"
             ],
             [
              0.1111111111111111,
              "#46039f"
             ],
             [
              0.2222222222222222,
              "#7201a8"
             ],
             [
              0.3333333333333333,
              "#9c179e"
             ],
             [
              0.4444444444444444,
              "#bd3786"
             ],
             [
              0.5555555555555556,
              "#d8576b"
             ],
             [
              0.6666666666666666,
              "#ed7953"
             ],
             [
              0.7777777777777778,
              "#fb9f3a"
             ],
             [
              0.8888888888888888,
              "#fdca26"
             ],
             [
              1,
              "#f0f921"
             ]
            ],
            "type": "contour"
           }
          ],
          "contourcarpet": [
           {
            "colorbar": {
             "outlinewidth": 0,
             "ticks": ""
            },
            "type": "contourcarpet"
           }
          ],
          "heatmap": [
           {
            "colorbar": {
             "outlinewidth": 0,
             "ticks": ""
            },
            "colorscale": [
             [
              0,
              "#0d0887"
             ],
             [
              0.1111111111111111,
              "#46039f"
             ],
             [
              0.2222222222222222,
              "#7201a8"
             ],
             [
              0.3333333333333333,
              "#9c179e"
             ],
             [
              0.4444444444444444,
              "#bd3786"
             ],
             [
              0.5555555555555556,
              "#d8576b"
             ],
             [
              0.6666666666666666,
              "#ed7953"
             ],
             [
              0.7777777777777778,
              "#fb9f3a"
             ],
             [
              0.8888888888888888,
              "#fdca26"
             ],
             [
              1,
              "#f0f921"
             ]
            ],
            "type": "heatmap"
           }
          ],
          "heatmapgl": [
           {
            "colorbar": {
             "outlinewidth": 0,
             "ticks": ""
            },
            "colorscale": [
             [
              0,
              "#0d0887"
             ],
             [
              0.1111111111111111,
              "#46039f"
             ],
             [
              0.2222222222222222,
              "#7201a8"
             ],
             [
              0.3333333333333333,
              "#9c179e"
             ],
             [
              0.4444444444444444,
              "#bd3786"
             ],
             [
              0.5555555555555556,
              "#d8576b"
             ],
             [
              0.6666666666666666,
              "#ed7953"
             ],
             [
              0.7777777777777778,
              "#fb9f3a"
             ],
             [
              0.8888888888888888,
              "#fdca26"
             ],
             [
              1,
              "#f0f921"
             ]
            ],
            "type": "heatmapgl"
           }
          ],
          "histogram": [
           {
            "marker": {
             "pattern": {
              "fillmode": "overlay",
              "size": 10,
              "solidity": 0.2
             }
            },
            "type": "histogram"
           }
          ],
          "histogram2d": [
           {
            "colorbar": {
             "outlinewidth": 0,
             "ticks": ""
            },
            "colorscale": [
             [
              0,
              "#0d0887"
             ],
             [
              0.1111111111111111,
              "#46039f"
             ],
             [
              0.2222222222222222,
              "#7201a8"
             ],
             [
              0.3333333333333333,
              "#9c179e"
             ],
             [
              0.4444444444444444,
              "#bd3786"
             ],
             [
              0.5555555555555556,
              "#d8576b"
             ],
             [
              0.6666666666666666,
              "#ed7953"
             ],
             [
              0.7777777777777778,
              "#fb9f3a"
             ],
             [
              0.8888888888888888,
              "#fdca26"
             ],
             [
              1,
              "#f0f921"
             ]
            ],
            "type": "histogram2d"
           }
          ],
          "histogram2dcontour": [
           {
            "colorbar": {
             "outlinewidth": 0,
             "ticks": ""
            },
            "colorscale": [
             [
              0,
              "#0d0887"
             ],
             [
              0.1111111111111111,
              "#46039f"
             ],
             [
              0.2222222222222222,
              "#7201a8"
             ],
             [
              0.3333333333333333,
              "#9c179e"
             ],
             [
              0.4444444444444444,
              "#bd3786"
             ],
             [
              0.5555555555555556,
              "#d8576b"
             ],
             [
              0.6666666666666666,
              "#ed7953"
             ],
             [
              0.7777777777777778,
              "#fb9f3a"
             ],
             [
              0.8888888888888888,
              "#fdca26"
             ],
             [
              1,
              "#f0f921"
             ]
            ],
            "type": "histogram2dcontour"
           }
          ],
          "mesh3d": [
           {
            "colorbar": {
             "outlinewidth": 0,
             "ticks": ""
            },
            "type": "mesh3d"
           }
          ],
          "parcoords": [
           {
            "line": {
             "colorbar": {
              "outlinewidth": 0,
              "ticks": ""
             }
            },
            "type": "parcoords"
           }
          ],
          "pie": [
           {
            "automargin": true,
            "type": "pie"
           }
          ],
          "scatter": [
           {
            "fillpattern": {
             "fillmode": "overlay",
             "size": 10,
             "solidity": 0.2
            },
            "type": "scatter"
           }
          ],
          "scatter3d": [
           {
            "line": {
             "colorbar": {
              "outlinewidth": 0,
              "ticks": ""
             }
            },
            "marker": {
             "colorbar": {
              "outlinewidth": 0,
              "ticks": ""
             }
            },
            "type": "scatter3d"
           }
          ],
          "scattercarpet": [
           {
            "marker": {
             "colorbar": {
              "outlinewidth": 0,
              "ticks": ""
             }
            },
            "type": "scattercarpet"
           }
          ],
          "scattergeo": [
           {
            "marker": {
             "colorbar": {
              "outlinewidth": 0,
              "ticks": ""
             }
            },
            "type": "scattergeo"
           }
          ],
          "scattergl": [
           {
            "marker": {
             "colorbar": {
              "outlinewidth": 0,
              "ticks": ""
             }
            },
            "type": "scattergl"
           }
          ],
          "scattermapbox": [
           {
            "marker": {
             "colorbar": {
              "outlinewidth": 0,
              "ticks": ""
             }
            },
            "type": "scattermapbox"
           }
          ],
          "scatterpolar": [
           {
            "marker": {
             "colorbar": {
              "outlinewidth": 0,
              "ticks": ""
             }
            },
            "type": "scatterpolar"
           }
          ],
          "scatterpolargl": [
           {
            "marker": {
             "colorbar": {
              "outlinewidth": 0,
              "ticks": ""
             }
            },
            "type": "scatterpolargl"
           }
          ],
          "scatterternary": [
           {
            "marker": {
             "colorbar": {
              "outlinewidth": 0,
              "ticks": ""
             }
            },
            "type": "scatterternary"
           }
          ],
          "surface": [
           {
            "colorbar": {
             "outlinewidth": 0,
             "ticks": ""
            },
            "colorscale": [
             [
              0,
              "#0d0887"
             ],
             [
              0.1111111111111111,
              "#46039f"
             ],
             [
              0.2222222222222222,
              "#7201a8"
             ],
             [
              0.3333333333333333,
              "#9c179e"
             ],
             [
              0.4444444444444444,
              "#bd3786"
             ],
             [
              0.5555555555555556,
              "#d8576b"
             ],
             [
              0.6666666666666666,
              "#ed7953"
             ],
             [
              0.7777777777777778,
              "#fb9f3a"
             ],
             [
              0.8888888888888888,
              "#fdca26"
             ],
             [
              1,
              "#f0f921"
             ]
            ],
            "type": "surface"
           }
          ],
          "table": [
           {
            "cells": {
             "fill": {
              "color": "#EBF0F8"
             },
             "line": {
              "color": "white"
             }
            },
            "header": {
             "fill": {
              "color": "#C8D4E3"
             },
             "line": {
              "color": "white"
             }
            },
            "type": "table"
           }
          ]
         },
         "layout": {
          "annotationdefaults": {
           "arrowcolor": "#2a3f5f",
           "arrowhead": 0,
           "arrowwidth": 1
          },
          "autotypenumbers": "strict",
          "coloraxis": {
           "colorbar": {
            "outlinewidth": 0,
            "ticks": ""
           }
          },
          "colorscale": {
           "diverging": [
            [
             0,
             "#8e0152"
            ],
            [
             0.1,
             "#c51b7d"
            ],
            [
             0.2,
             "#de77ae"
            ],
            [
             0.3,
             "#f1b6da"
            ],
            [
             0.4,
             "#fde0ef"
            ],
            [
             0.5,
             "#f7f7f7"
            ],
            [
             0.6,
             "#e6f5d0"
            ],
            [
             0.7,
             "#b8e186"
            ],
            [
             0.8,
             "#7fbc41"
            ],
            [
             0.9,
             "#4d9221"
            ],
            [
             1,
             "#276419"
            ]
           ],
           "sequential": [
            [
             0,
             "#0d0887"
            ],
            [
             0.1111111111111111,
             "#46039f"
            ],
            [
             0.2222222222222222,
             "#7201a8"
            ],
            [
             0.3333333333333333,
             "#9c179e"
            ],
            [
             0.4444444444444444,
             "#bd3786"
            ],
            [
             0.5555555555555556,
             "#d8576b"
            ],
            [
             0.6666666666666666,
             "#ed7953"
            ],
            [
             0.7777777777777778,
             "#fb9f3a"
            ],
            [
             0.8888888888888888,
             "#fdca26"
            ],
            [
             1,
             "#f0f921"
            ]
           ],
           "sequentialminus": [
            [
             0,
             "#0d0887"
            ],
            [
             0.1111111111111111,
             "#46039f"
            ],
            [
             0.2222222222222222,
             "#7201a8"
            ],
            [
             0.3333333333333333,
             "#9c179e"
            ],
            [
             0.4444444444444444,
             "#bd3786"
            ],
            [
             0.5555555555555556,
             "#d8576b"
            ],
            [
             0.6666666666666666,
             "#ed7953"
            ],
            [
             0.7777777777777778,
             "#fb9f3a"
            ],
            [
             0.8888888888888888,
             "#fdca26"
            ],
            [
             1,
             "#f0f921"
            ]
           ]
          },
          "colorway": [
           "#636efa",
           "#EF553B",
           "#00cc96",
           "#ab63fa",
           "#FFA15A",
           "#19d3f3",
           "#FF6692",
           "#B6E880",
           "#FF97FF",
           "#FECB52"
          ],
          "font": {
           "color": "#2a3f5f"
          },
          "geo": {
           "bgcolor": "white",
           "lakecolor": "white",
           "landcolor": "#E5ECF6",
           "showlakes": true,
           "showland": true,
           "subunitcolor": "white"
          },
          "hoverlabel": {
           "align": "left"
          },
          "hovermode": "closest",
          "mapbox": {
           "style": "light"
          },
          "paper_bgcolor": "white",
          "plot_bgcolor": "#E5ECF6",
          "polar": {
           "angularaxis": {
            "gridcolor": "white",
            "linecolor": "white",
            "ticks": ""
           },
           "bgcolor": "#E5ECF6",
           "radialaxis": {
            "gridcolor": "white",
            "linecolor": "white",
            "ticks": ""
           }
          },
          "scene": {
           "xaxis": {
            "backgroundcolor": "#E5ECF6",
            "gridcolor": "white",
            "gridwidth": 2,
            "linecolor": "white",
            "showbackground": true,
            "ticks": "",
            "zerolinecolor": "white"
           },
           "yaxis": {
            "backgroundcolor": "#E5ECF6",
            "gridcolor": "white",
            "gridwidth": 2,
            "linecolor": "white",
            "showbackground": true,
            "ticks": "",
            "zerolinecolor": "white"
           },
           "zaxis": {
            "backgroundcolor": "#E5ECF6",
            "gridcolor": "white",
            "gridwidth": 2,
            "linecolor": "white",
            "showbackground": true,
            "ticks": "",
            "zerolinecolor": "white"
           }
          },
          "shapedefaults": {
           "line": {
            "color": "#2a3f5f"
           }
          },
          "ternary": {
           "aaxis": {
            "gridcolor": "white",
            "linecolor": "white",
            "ticks": ""
           },
           "baxis": {
            "gridcolor": "white",
            "linecolor": "white",
            "ticks": ""
           },
           "bgcolor": "#E5ECF6",
           "caxis": {
            "gridcolor": "white",
            "linecolor": "white",
            "ticks": ""
           }
          },
          "title": {
           "x": 0.05
          },
          "xaxis": {
           "automargin": true,
           "gridcolor": "white",
           "linecolor": "white",
           "ticks": "",
           "title": {
            "standoff": 15
           },
           "zerolinecolor": "white",
           "zerolinewidth": 2
          },
          "yaxis": {
           "automargin": true,
           "gridcolor": "white",
           "linecolor": "white",
           "ticks": "",
           "title": {
            "standoff": 15
           },
           "zerolinecolor": "white",
           "zerolinewidth": 2
          }
         }
        },
        "title": {
         "text": "features vs meals"
        }
       }
      },
      "text/html": [
       "<div>                            <div id=\"9677bd1e-fa83-43a9-b199-1af1ac283ece\" class=\"plotly-graph-div\" style=\"height:525px; width:100%;\"></div>            <script type=\"text/javascript\">                require([\"plotly\"], function(Plotly) {                    window.PLOTLYENV=window.PLOTLYENV || {};                                    if (document.getElementById(\"9677bd1e-fa83-43a9-b199-1af1ac283ece\")) {                    Plotly.newPlot(                        \"9677bd1e-fa83-43a9-b199-1af1ac283ece\",                        [{\"colorscale\":[[0.0,\"rgb(165,0,38)\"],[0.1,\"rgb(215,48,39)\"],[0.2,\"rgb(244,109,67)\"],[0.3,\"rgb(253,174,97)\"],[0.4,\"rgb(254,224,139)\"],[0.5,\"rgb(255,255,191)\"],[0.6,\"rgb(217,239,139)\"],[0.7,\"rgb(166,217,106)\"],[0.8,\"rgb(102,189,99)\"],[0.9,\"rgb(26,152,80)\"],[1.0,\"rgb(0,104,55)\"]],\"x\":[\"meals_Dinner\",\"meals_Lunch\",\"meals_Breakfast\",\"meals_Drinks\",\"meals_Brunch\",\"meals_After-hours\"],\"y\":[\"features_Seating\",\"features_Reservations\",\"features_Table Service\",\"features_Wheelchair Accessible\",\"features_Serves Alcohol\",\"features_Takeout\",\"features_Outdoor Seating\",\"features_Highchairs Available\",\"features_Accepts Credit Cards\",\"features_Full Bar\",\"features_Parking Available\",\"features_Free Wifi\",\"features_Wine and Beer\",\"features_Television\",\"features_Free off-street parking\",\"features_Street Parking\",\"features_Delivery\",\"features_Accepts Visa\"],\"z\":[[0.1262273235099768,0.1318215047837165,-0.18781695801301856,0.05964729802929701,-0.04039429811339947,0.12073750134719455],[0.43668712528621856,0.22956096708922782,-0.40691461562660863,-0.08690450357270518,-0.16656692342951365,0.07423319780216804],[0.21355499700633568,0.1427023562149541,-0.2744505179940699,-0.05930471683579343,-0.11087067906506427,0.10444226450589877],[-0.04384006930951545,0.05317529266490231,0.05427952836216887,0.0178949663027483,0.09721181661340683,0.047261009608181116],[0.17700227958468412,0.20331315454049592,-0.23436006958208544,0.16475791112757987,-0.06084778123168978,0.27475284107951004],[-0.0739909128618816,-0.0766866130527423,0.14424886079197818,0.08855849547207992,0.09857556207307279,0.004147628260354234],[0.01181494097714141,0.08105534317797355,-0.011337471255548714,0.24615947994307305,0.047869612214348496,0.25223954100106594],[0.19743963250466734,0.2338705359723378,-0.18662129191281082,0.012630812503678689,-0.07316935390496337,0.20653826581189652],[0.095126664817034,0.13127356587965147,-0.03689671575232737,0.27218967329782817,0.06253167299968082,0.19606133463355901],[-0.05818047028677499,0.01939706349388253,0.13094330292272827,0.38232431772309816,0.14127855092970443,0.22084681934763195],[0.07058931131585013,0.09783759132545475,0.016525623668786054,0.1666016841217098,0.037957592504345744,0.07285287292945519],[0.05276303704402076,0.07215441074027665,0.06379687670951187,0.30271224378883127,0.13519976124641966,0.09698135178331319],[0.059368144196617255,0.07155502395678423,0.08986386630323803,0.3968145232669344,0.13395005833180185,0.05721663528467966],[0.05104927755484378,0.02556512427814923,0.024801546854294854,0.20415938995990743,0.05089827046702256,0.15873242476006433],[0.041236078173279116,0.05700742541892989,0.07610406436794963,0.2575106298965052,0.0738158527398722,0.020502254436996277],[0.015767621167109898,0.02052714478194599,0.11944578906680216,0.32428695183407397,0.1270532401084911,0.04411998063732766],[0.028013502995493926,-0.003418148232735353,0.05577654038668079,0.1278941181014748,0.05987148960916889,0.0182329074248288],[0.04025737853077424,0.05032311700544779,0.0198230124515098,0.11937681388931985,0.04443230697286391,0.017526115256418708]],\"zmax\":1,\"zmin\":-1,\"type\":\"heatmap\"}],                        {\"title\":{\"text\":\"features vs meals\"},\"template\":{\"data\":{\"histogram2dcontour\":[{\"type\":\"histogram2dcontour\",\"colorbar\":{\"outlinewidth\":0,\"ticks\":\"\"},\"colorscale\":[[0.0,\"#0d0887\"],[0.1111111111111111,\"#46039f\"],[0.2222222222222222,\"#7201a8\"],[0.3333333333333333,\"#9c179e\"],[0.4444444444444444,\"#bd3786\"],[0.5555555555555556,\"#d8576b\"],[0.6666666666666666,\"#ed7953\"],[0.7777777777777778,\"#fb9f3a\"],[0.8888888888888888,\"#fdca26\"],[1.0,\"#f0f921\"]]}],\"choropleth\":[{\"type\":\"choropleth\",\"colorbar\":{\"outlinewidth\":0,\"ticks\":\"\"}}],\"histogram2d\":[{\"type\":\"histogram2d\",\"colorbar\":{\"outlinewidth\":0,\"ticks\":\"\"},\"colorscale\":[[0.0,\"#0d0887\"],[0.1111111111111111,\"#46039f\"],[0.2222222222222222,\"#7201a8\"],[0.3333333333333333,\"#9c179e\"],[0.4444444444444444,\"#bd3786\"],[0.5555555555555556,\"#d8576b\"],[0.6666666666666666,\"#ed7953\"],[0.7777777777777778,\"#fb9f3a\"],[0.8888888888888888,\"#fdca26\"],[1.0,\"#f0f921\"]]}],\"heatmap\":[{\"type\":\"heatmap\",\"colorbar\":{\"outlinewidth\":0,\"ticks\":\"\"},\"colorscale\":[[0.0,\"#0d0887\"],[0.1111111111111111,\"#46039f\"],[0.2222222222222222,\"#7201a8\"],[0.3333333333333333,\"#9c179e\"],[0.4444444444444444,\"#bd3786\"],[0.5555555555555556,\"#d8576b\"],[0.6666666666666666,\"#ed7953\"],[0.7777777777777778,\"#fb9f3a\"],[0.8888888888888888,\"#fdca26\"],[1.0,\"#f0f921\"]]}],\"heatmapgl\":[{\"type\":\"heatmapgl\",\"colorbar\":{\"outlinewidth\":0,\"ticks\":\"\"},\"colorscale\":[[0.0,\"#0d0887\"],[0.1111111111111111,\"#46039f\"],[0.2222222222222222,\"#7201a8\"],[0.3333333333333333,\"#9c179e\"],[0.4444444444444444,\"#bd3786\"],[0.5555555555555556,\"#d8576b\"],[0.6666666666666666,\"#ed7953\"],[0.7777777777777778,\"#fb9f3a\"],[0.8888888888888888,\"#fdca26\"],[1.0,\"#f0f921\"]]}],\"contourcarpet\":[{\"type\":\"contourcarpet\",\"colorbar\":{\"outlinewidth\":0,\"ticks\":\"\"}}],\"contour\":[{\"type\":\"contour\",\"colorbar\":{\"outlinewidth\":0,\"ticks\":\"\"},\"colorscale\":[[0.0,\"#0d0887\"],[0.1111111111111111,\"#46039f\"],[0.2222222222222222,\"#7201a8\"],[0.3333333333333333,\"#9c179e\"],[0.4444444444444444,\"#bd3786\"],[0.5555555555555556,\"#d8576b\"],[0.6666666666666666,\"#ed7953\"],[0.7777777777777778,\"#fb9f3a\"],[0.8888888888888888,\"#fdca26\"],[1.0,\"#f0f921\"]]}],\"surface\":[{\"type\":\"surface\",\"colorbar\":{\"outlinewidth\":0,\"ticks\":\"\"},\"colorscale\":[[0.0,\"#0d0887\"],[0.1111111111111111,\"#46039f\"],[0.2222222222222222,\"#7201a8\"],[0.3333333333333333,\"#9c179e\"],[0.4444444444444444,\"#bd3786\"],[0.5555555555555556,\"#d8576b\"],[0.6666666666666666,\"#ed7953\"],[0.7777777777777778,\"#fb9f3a\"],[0.8888888888888888,\"#fdca26\"],[1.0,\"#f0f921\"]]}],\"mesh3d\":[{\"type\":\"mesh3d\",\"colorbar\":{\"outlinewidth\":0,\"ticks\":\"\"}}],\"scatter\":[{\"fillpattern\":{\"fillmode\":\"overlay\",\"size\":10,\"solidity\":0.2},\"type\":\"scatter\"}],\"parcoords\":[{\"type\":\"parcoords\",\"line\":{\"colorbar\":{\"outlinewidth\":0,\"ticks\":\"\"}}}],\"scatterpolargl\":[{\"type\":\"scatterpolargl\",\"marker\":{\"colorbar\":{\"outlinewidth\":0,\"ticks\":\"\"}}}],\"bar\":[{\"error_x\":{\"color\":\"#2a3f5f\"},\"error_y\":{\"color\":\"#2a3f5f\"},\"marker\":{\"line\":{\"color\":\"#E5ECF6\",\"width\":0.5},\"pattern\":{\"fillmode\":\"overlay\",\"size\":10,\"solidity\":0.2}},\"type\":\"bar\"}],\"scattergeo\":[{\"type\":\"scattergeo\",\"marker\":{\"colorbar\":{\"outlinewidth\":0,\"ticks\":\"\"}}}],\"scatterpolar\":[{\"type\":\"scatterpolar\",\"marker\":{\"colorbar\":{\"outlinewidth\":0,\"ticks\":\"\"}}}],\"histogram\":[{\"marker\":{\"pattern\":{\"fillmode\":\"overlay\",\"size\":10,\"solidity\":0.2}},\"type\":\"histogram\"}],\"scattergl\":[{\"type\":\"scattergl\",\"marker\":{\"colorbar\":{\"outlinewidth\":0,\"ticks\":\"\"}}}],\"scatter3d\":[{\"type\":\"scatter3d\",\"line\":{\"colorbar\":{\"outlinewidth\":0,\"ticks\":\"\"}},\"marker\":{\"colorbar\":{\"outlinewidth\":0,\"ticks\":\"\"}}}],\"scattermapbox\":[{\"type\":\"scattermapbox\",\"marker\":{\"colorbar\":{\"outlinewidth\":0,\"ticks\":\"\"}}}],\"scatterternary\":[{\"type\":\"scatterternary\",\"marker\":{\"colorbar\":{\"outlinewidth\":0,\"ticks\":\"\"}}}],\"scattercarpet\":[{\"type\":\"scattercarpet\",\"marker\":{\"colorbar\":{\"outlinewidth\":0,\"ticks\":\"\"}}}],\"carpet\":[{\"aaxis\":{\"endlinecolor\":\"#2a3f5f\",\"gridcolor\":\"white\",\"linecolor\":\"white\",\"minorgridcolor\":\"white\",\"startlinecolor\":\"#2a3f5f\"},\"baxis\":{\"endlinecolor\":\"#2a3f5f\",\"gridcolor\":\"white\",\"linecolor\":\"white\",\"minorgridcolor\":\"white\",\"startlinecolor\":\"#2a3f5f\"},\"type\":\"carpet\"}],\"table\":[{\"cells\":{\"fill\":{\"color\":\"#EBF0F8\"},\"line\":{\"color\":\"white\"}},\"header\":{\"fill\":{\"color\":\"#C8D4E3\"},\"line\":{\"color\":\"white\"}},\"type\":\"table\"}],\"barpolar\":[{\"marker\":{\"line\":{\"color\":\"#E5ECF6\",\"width\":0.5},\"pattern\":{\"fillmode\":\"overlay\",\"size\":10,\"solidity\":0.2}},\"type\":\"barpolar\"}],\"pie\":[{\"automargin\":true,\"type\":\"pie\"}]},\"layout\":{\"autotypenumbers\":\"strict\",\"colorway\":[\"#636efa\",\"#EF553B\",\"#00cc96\",\"#ab63fa\",\"#FFA15A\",\"#19d3f3\",\"#FF6692\",\"#B6E880\",\"#FF97FF\",\"#FECB52\"],\"font\":{\"color\":\"#2a3f5f\"},\"hovermode\":\"closest\",\"hoverlabel\":{\"align\":\"left\"},\"paper_bgcolor\":\"white\",\"plot_bgcolor\":\"#E5ECF6\",\"polar\":{\"bgcolor\":\"#E5ECF6\",\"angularaxis\":{\"gridcolor\":\"white\",\"linecolor\":\"white\",\"ticks\":\"\"},\"radialaxis\":{\"gridcolor\":\"white\",\"linecolor\":\"white\",\"ticks\":\"\"}},\"ternary\":{\"bgcolor\":\"#E5ECF6\",\"aaxis\":{\"gridcolor\":\"white\",\"linecolor\":\"white\",\"ticks\":\"\"},\"baxis\":{\"gridcolor\":\"white\",\"linecolor\":\"white\",\"ticks\":\"\"},\"caxis\":{\"gridcolor\":\"white\",\"linecolor\":\"white\",\"ticks\":\"\"}},\"coloraxis\":{\"colorbar\":{\"outlinewidth\":0,\"ticks\":\"\"}},\"colorscale\":{\"sequential\":[[0.0,\"#0d0887\"],[0.1111111111111111,\"#46039f\"],[0.2222222222222222,\"#7201a8\"],[0.3333333333333333,\"#9c179e\"],[0.4444444444444444,\"#bd3786\"],[0.5555555555555556,\"#d8576b\"],[0.6666666666666666,\"#ed7953\"],[0.7777777777777778,\"#fb9f3a\"],[0.8888888888888888,\"#fdca26\"],[1.0,\"#f0f921\"]],\"sequentialminus\":[[0.0,\"#0d0887\"],[0.1111111111111111,\"#46039f\"],[0.2222222222222222,\"#7201a8\"],[0.3333333333333333,\"#9c179e\"],[0.4444444444444444,\"#bd3786\"],[0.5555555555555556,\"#d8576b\"],[0.6666666666666666,\"#ed7953\"],[0.7777777777777778,\"#fb9f3a\"],[0.8888888888888888,\"#fdca26\"],[1.0,\"#f0f921\"]],\"diverging\":[[0,\"#8e0152\"],[0.1,\"#c51b7d\"],[0.2,\"#de77ae\"],[0.3,\"#f1b6da\"],[0.4,\"#fde0ef\"],[0.5,\"#f7f7f7\"],[0.6,\"#e6f5d0\"],[0.7,\"#b8e186\"],[0.8,\"#7fbc41\"],[0.9,\"#4d9221\"],[1,\"#276419\"]]},\"xaxis\":{\"gridcolor\":\"white\",\"linecolor\":\"white\",\"ticks\":\"\",\"title\":{\"standoff\":15},\"zerolinecolor\":\"white\",\"automargin\":true,\"zerolinewidth\":2},\"yaxis\":{\"gridcolor\":\"white\",\"linecolor\":\"white\",\"ticks\":\"\",\"title\":{\"standoff\":15},\"zerolinecolor\":\"white\",\"automargin\":true,\"zerolinewidth\":2},\"scene\":{\"xaxis\":{\"backgroundcolor\":\"#E5ECF6\",\"gridcolor\":\"white\",\"linecolor\":\"white\",\"showbackground\":true,\"ticks\":\"\",\"zerolinecolor\":\"white\",\"gridwidth\":2},\"yaxis\":{\"backgroundcolor\":\"#E5ECF6\",\"gridcolor\":\"white\",\"linecolor\":\"white\",\"showbackground\":true,\"ticks\":\"\",\"zerolinecolor\":\"white\",\"gridwidth\":2},\"zaxis\":{\"backgroundcolor\":\"#E5ECF6\",\"gridcolor\":\"white\",\"linecolor\":\"white\",\"showbackground\":true,\"ticks\":\"\",\"zerolinecolor\":\"white\",\"gridwidth\":2}},\"shapedefaults\":{\"line\":{\"color\":\"#2a3f5f\"}},\"annotationdefaults\":{\"arrowcolor\":\"#2a3f5f\",\"arrowhead\":0,\"arrowwidth\":1},\"geo\":{\"bgcolor\":\"white\",\"landcolor\":\"#E5ECF6\",\"subunitcolor\":\"white\",\"showland\":true,\"showlakes\":true,\"lakecolor\":\"white\"},\"title\":{\"x\":0.05},\"mapbox\":{\"style\":\"light\"}}}},                        {\"responsive\": true}                    ).then(function(){\n",
       "                            \n",
       "var gd = document.getElementById('9677bd1e-fa83-43a9-b199-1af1ac283ece');\n",
       "var x = new MutationObserver(function (mutations, observer) {{\n",
       "        var display = window.getComputedStyle(gd).display;\n",
       "        if (!display || display === 'none') {{\n",
       "            console.log([gd, 'removed!']);\n",
       "            Plotly.purge(gd);\n",
       "            observer.disconnect();\n",
       "        }}\n",
       "}});\n",
       "\n",
       "// Listen for the removal of the full notebook cells\n",
       "var notebookContainer = gd.closest('#notebook-container');\n",
       "if (notebookContainer) {{\n",
       "    x.observe(notebookContainer, {childList: true});\n",
       "}}\n",
       "\n",
       "// Listen for the clearing of the current output cell\n",
       "var outputEl = gd.closest('.output');\n",
       "if (outputEl) {{\n",
       "    x.observe(outputEl, {childList: true});\n",
       "}}\n",
       "\n",
       "                        })                };                });            </script>        </div>"
      ]
     },
     "metadata": {},
     "output_type": "display_data"
    },
    {
     "data": {
      "application/vnd.plotly.v1+json": {
       "config": {
        "plotlyServerURL": "https://plot.ly"
       },
       "data": [
        {
         "colorscale": [
          [
           0,
           "rgb(165,0,38)"
          ],
          [
           0.1,
           "rgb(215,48,39)"
          ],
          [
           0.2,
           "rgb(244,109,67)"
          ],
          [
           0.3,
           "rgb(253,174,97)"
          ],
          [
           0.4,
           "rgb(254,224,139)"
          ],
          [
           0.5,
           "rgb(255,255,191)"
          ],
          [
           0.6,
           "rgb(217,239,139)"
          ],
          [
           0.7,
           "rgb(166,217,106)"
          ],
          [
           0.8,
           "rgb(102,189,99)"
          ],
          [
           0.9,
           "rgb(26,152,80)"
          ],
          [
           1,
           "rgb(0,104,55)"
          ]
         ],
         "type": "heatmap",
         "x": [
          "special_diets_Vegetarian Friendly",
          "special_diets_Gluten Free Options",
          "special_diets_Vegan Options",
          "special_diets_Halal",
          "special_diets_Kosher"
         ],
         "y": [
          "features_Seating",
          "features_Reservations",
          "features_Table Service",
          "features_Wheelchair Accessible",
          "features_Serves Alcohol",
          "features_Takeout",
          "features_Outdoor Seating",
          "features_Highchairs Available",
          "features_Accepts Credit Cards",
          "features_Full Bar",
          "features_Parking Available",
          "features_Free Wifi",
          "features_Wine and Beer",
          "features_Television",
          "features_Free off-street parking",
          "features_Street Parking",
          "features_Delivery",
          "features_Accepts Visa"
         ],
         "z": [
          [
           0.0599911469510054,
           0.055738396176201147,
           0.0489278210604793,
           0.0033206919016677615,
           0.004287105490267092
          ],
          [
           0.04018898024971281,
           0.04620702645005491,
           0.030356695441859656,
           -0.00997720639127872,
           0.00020146983832822302
          ],
          [
           0.07113244558828535,
           0.07033765849912625,
           0.05744330358087209,
           -0.002711080332707763,
           0.0002307062444479646
          ],
          [
           0.040937254804969375,
           0.041553635461391486,
           0.035269720008507574,
           0.006850408309613342,
           -0.005220032899469751
          ],
          [
           0.15204903731296723,
           0.13471851277487668,
           0.12138427466312074,
           0.0019304642282894425,
           0.01011775144822623
          ],
          [
           -0.007777694429694587,
           -0.022677768029696073,
           0.00791423206453225,
           0.006339201316849461,
           0.01140983815245877
          ],
          [
           0.17325499827695676,
           0.15309613357111224,
           0.14149793011918868,
           0.0013914094587095377,
           0.018986797624090786
          ],
          [
           0.21589256435144588,
           0.21605060593895778,
           0.1864290751879423,
           0.0027192859261930724,
           0.01657559285253852
          ],
          [
           0.31139824577835584,
           0.2977423723398585,
           0.26554192309798225,
           0.018227741551933376,
           0.02353252069040695
          ],
          [
           0.21714540647964822,
           0.19901052706057082,
           0.19516951975303642,
           -0.00391839169578638,
           0.0010565838873273035
          ],
          [
           -0.011977866980884986,
           -0.00229000557974565,
           -0.011594850378430357,
           -0.0030787409950384505,
           -0.003974740148675294
          ],
          [
           0.30761712967204463,
           0.2994457533756122,
           0.2862785467517844,
           0.006673332128786002,
           0.01858656906016175
          ],
          [
           0.1541572733621891,
           0.14744140971412545,
           0.14684645810159835,
           0.016606722685426227,
           0.0037784953337784773
          ],
          [
           0.016388966358226332,
           0.0032951134348688477,
           0.01223784469509186,
           0.009111414029796443,
           -0.0031098967883994456
          ],
          [
           -0.014662723075952675,
           -0.006990116434948177,
           -0.008603132146328442,
           -0.0022384987435734457,
           -0.002889964061016976
          ],
          [
           0.009426736677382369,
           0.011466839504571476,
           0.010432800739279897,
           -0.0022007963160460887,
           0.006813610841746677
          ],
          [
           -0.015871331462146327,
           -0.015647025476498027,
           -0.00658120275875498,
           0.02345507208869235,
           0.007153563382924153
          ],
          [
           0.22104398492180719,
           0.2239940734703946,
           0.21107185582530377,
           0.011229630160048831,
           0.007640236469096373
          ]
         ],
         "zmax": 1,
         "zmin": -1
        }
       ],
       "layout": {
        "template": {
         "data": {
          "bar": [
           {
            "error_x": {
             "color": "#2a3f5f"
            },
            "error_y": {
             "color": "#2a3f5f"
            },
            "marker": {
             "line": {
              "color": "#E5ECF6",
              "width": 0.5
             },
             "pattern": {
              "fillmode": "overlay",
              "size": 10,
              "solidity": 0.2
             }
            },
            "type": "bar"
           }
          ],
          "barpolar": [
           {
            "marker": {
             "line": {
              "color": "#E5ECF6",
              "width": 0.5
             },
             "pattern": {
              "fillmode": "overlay",
              "size": 10,
              "solidity": 0.2
             }
            },
            "type": "barpolar"
           }
          ],
          "carpet": [
           {
            "aaxis": {
             "endlinecolor": "#2a3f5f",
             "gridcolor": "white",
             "linecolor": "white",
             "minorgridcolor": "white",
             "startlinecolor": "#2a3f5f"
            },
            "baxis": {
             "endlinecolor": "#2a3f5f",
             "gridcolor": "white",
             "linecolor": "white",
             "minorgridcolor": "white",
             "startlinecolor": "#2a3f5f"
            },
            "type": "carpet"
           }
          ],
          "choropleth": [
           {
            "colorbar": {
             "outlinewidth": 0,
             "ticks": ""
            },
            "type": "choropleth"
           }
          ],
          "contour": [
           {
            "colorbar": {
             "outlinewidth": 0,
             "ticks": ""
            },
            "colorscale": [
             [
              0,
              "#0d0887"
             ],
             [
              0.1111111111111111,
              "#46039f"
             ],
             [
              0.2222222222222222,
              "#7201a8"
             ],
             [
              0.3333333333333333,
              "#9c179e"
             ],
             [
              0.4444444444444444,
              "#bd3786"
             ],
             [
              0.5555555555555556,
              "#d8576b"
             ],
             [
              0.6666666666666666,
              "#ed7953"
             ],
             [
              0.7777777777777778,
              "#fb9f3a"
             ],
             [
              0.8888888888888888,
              "#fdca26"
             ],
             [
              1,
              "#f0f921"
             ]
            ],
            "type": "contour"
           }
          ],
          "contourcarpet": [
           {
            "colorbar": {
             "outlinewidth": 0,
             "ticks": ""
            },
            "type": "contourcarpet"
           }
          ],
          "heatmap": [
           {
            "colorbar": {
             "outlinewidth": 0,
             "ticks": ""
            },
            "colorscale": [
             [
              0,
              "#0d0887"
             ],
             [
              0.1111111111111111,
              "#46039f"
             ],
             [
              0.2222222222222222,
              "#7201a8"
             ],
             [
              0.3333333333333333,
              "#9c179e"
             ],
             [
              0.4444444444444444,
              "#bd3786"
             ],
             [
              0.5555555555555556,
              "#d8576b"
             ],
             [
              0.6666666666666666,
              "#ed7953"
             ],
             [
              0.7777777777777778,
              "#fb9f3a"
             ],
             [
              0.8888888888888888,
              "#fdca26"
             ],
             [
              1,
              "#f0f921"
             ]
            ],
            "type": "heatmap"
           }
          ],
          "heatmapgl": [
           {
            "colorbar": {
             "outlinewidth": 0,
             "ticks": ""
            },
            "colorscale": [
             [
              0,
              "#0d0887"
             ],
             [
              0.1111111111111111,
              "#46039f"
             ],
             [
              0.2222222222222222,
              "#7201a8"
             ],
             [
              0.3333333333333333,
              "#9c179e"
             ],
             [
              0.4444444444444444,
              "#bd3786"
             ],
             [
              0.5555555555555556,
              "#d8576b"
             ],
             [
              0.6666666666666666,
              "#ed7953"
             ],
             [
              0.7777777777777778,
              "#fb9f3a"
             ],
             [
              0.8888888888888888,
              "#fdca26"
             ],
             [
              1,
              "#f0f921"
             ]
            ],
            "type": "heatmapgl"
           }
          ],
          "histogram": [
           {
            "marker": {
             "pattern": {
              "fillmode": "overlay",
              "size": 10,
              "solidity": 0.2
             }
            },
            "type": "histogram"
           }
          ],
          "histogram2d": [
           {
            "colorbar": {
             "outlinewidth": 0,
             "ticks": ""
            },
            "colorscale": [
             [
              0,
              "#0d0887"
             ],
             [
              0.1111111111111111,
              "#46039f"
             ],
             [
              0.2222222222222222,
              "#7201a8"
             ],
             [
              0.3333333333333333,
              "#9c179e"
             ],
             [
              0.4444444444444444,
              "#bd3786"
             ],
             [
              0.5555555555555556,
              "#d8576b"
             ],
             [
              0.6666666666666666,
              "#ed7953"
             ],
             [
              0.7777777777777778,
              "#fb9f3a"
             ],
             [
              0.8888888888888888,
              "#fdca26"
             ],
             [
              1,
              "#f0f921"
             ]
            ],
            "type": "histogram2d"
           }
          ],
          "histogram2dcontour": [
           {
            "colorbar": {
             "outlinewidth": 0,
             "ticks": ""
            },
            "colorscale": [
             [
              0,
              "#0d0887"
             ],
             [
              0.1111111111111111,
              "#46039f"
             ],
             [
              0.2222222222222222,
              "#7201a8"
             ],
             [
              0.3333333333333333,
              "#9c179e"
             ],
             [
              0.4444444444444444,
              "#bd3786"
             ],
             [
              0.5555555555555556,
              "#d8576b"
             ],
             [
              0.6666666666666666,
              "#ed7953"
             ],
             [
              0.7777777777777778,
              "#fb9f3a"
             ],
             [
              0.8888888888888888,
              "#fdca26"
             ],
             [
              1,
              "#f0f921"
             ]
            ],
            "type": "histogram2dcontour"
           }
          ],
          "mesh3d": [
           {
            "colorbar": {
             "outlinewidth": 0,
             "ticks": ""
            },
            "type": "mesh3d"
           }
          ],
          "parcoords": [
           {
            "line": {
             "colorbar": {
              "outlinewidth": 0,
              "ticks": ""
             }
            },
            "type": "parcoords"
           }
          ],
          "pie": [
           {
            "automargin": true,
            "type": "pie"
           }
          ],
          "scatter": [
           {
            "fillpattern": {
             "fillmode": "overlay",
             "size": 10,
             "solidity": 0.2
            },
            "type": "scatter"
           }
          ],
          "scatter3d": [
           {
            "line": {
             "colorbar": {
              "outlinewidth": 0,
              "ticks": ""
             }
            },
            "marker": {
             "colorbar": {
              "outlinewidth": 0,
              "ticks": ""
             }
            },
            "type": "scatter3d"
           }
          ],
          "scattercarpet": [
           {
            "marker": {
             "colorbar": {
              "outlinewidth": 0,
              "ticks": ""
             }
            },
            "type": "scattercarpet"
           }
          ],
          "scattergeo": [
           {
            "marker": {
             "colorbar": {
              "outlinewidth": 0,
              "ticks": ""
             }
            },
            "type": "scattergeo"
           }
          ],
          "scattergl": [
           {
            "marker": {
             "colorbar": {
              "outlinewidth": 0,
              "ticks": ""
             }
            },
            "type": "scattergl"
           }
          ],
          "scattermapbox": [
           {
            "marker": {
             "colorbar": {
              "outlinewidth": 0,
              "ticks": ""
             }
            },
            "type": "scattermapbox"
           }
          ],
          "scatterpolar": [
           {
            "marker": {
             "colorbar": {
              "outlinewidth": 0,
              "ticks": ""
             }
            },
            "type": "scatterpolar"
           }
          ],
          "scatterpolargl": [
           {
            "marker": {
             "colorbar": {
              "outlinewidth": 0,
              "ticks": ""
             }
            },
            "type": "scatterpolargl"
           }
          ],
          "scatterternary": [
           {
            "marker": {
             "colorbar": {
              "outlinewidth": 0,
              "ticks": ""
             }
            },
            "type": "scatterternary"
           }
          ],
          "surface": [
           {
            "colorbar": {
             "outlinewidth": 0,
             "ticks": ""
            },
            "colorscale": [
             [
              0,
              "#0d0887"
             ],
             [
              0.1111111111111111,
              "#46039f"
             ],
             [
              0.2222222222222222,
              "#7201a8"
             ],
             [
              0.3333333333333333,
              "#9c179e"
             ],
             [
              0.4444444444444444,
              "#bd3786"
             ],
             [
              0.5555555555555556,
              "#d8576b"
             ],
             [
              0.6666666666666666,
              "#ed7953"
             ],
             [
              0.7777777777777778,
              "#fb9f3a"
             ],
             [
              0.8888888888888888,
              "#fdca26"
             ],
             [
              1,
              "#f0f921"
             ]
            ],
            "type": "surface"
           }
          ],
          "table": [
           {
            "cells": {
             "fill": {
              "color": "#EBF0F8"
             },
             "line": {
              "color": "white"
             }
            },
            "header": {
             "fill": {
              "color": "#C8D4E3"
             },
             "line": {
              "color": "white"
             }
            },
            "type": "table"
           }
          ]
         },
         "layout": {
          "annotationdefaults": {
           "arrowcolor": "#2a3f5f",
           "arrowhead": 0,
           "arrowwidth": 1
          },
          "autotypenumbers": "strict",
          "coloraxis": {
           "colorbar": {
            "outlinewidth": 0,
            "ticks": ""
           }
          },
          "colorscale": {
           "diverging": [
            [
             0,
             "#8e0152"
            ],
            [
             0.1,
             "#c51b7d"
            ],
            [
             0.2,
             "#de77ae"
            ],
            [
             0.3,
             "#f1b6da"
            ],
            [
             0.4,
             "#fde0ef"
            ],
            [
             0.5,
             "#f7f7f7"
            ],
            [
             0.6,
             "#e6f5d0"
            ],
            [
             0.7,
             "#b8e186"
            ],
            [
             0.8,
             "#7fbc41"
            ],
            [
             0.9,
             "#4d9221"
            ],
            [
             1,
             "#276419"
            ]
           ],
           "sequential": [
            [
             0,
             "#0d0887"
            ],
            [
             0.1111111111111111,
             "#46039f"
            ],
            [
             0.2222222222222222,
             "#7201a8"
            ],
            [
             0.3333333333333333,
             "#9c179e"
            ],
            [
             0.4444444444444444,
             "#bd3786"
            ],
            [
             0.5555555555555556,
             "#d8576b"
            ],
            [
             0.6666666666666666,
             "#ed7953"
            ],
            [
             0.7777777777777778,
             "#fb9f3a"
            ],
            [
             0.8888888888888888,
             "#fdca26"
            ],
            [
             1,
             "#f0f921"
            ]
           ],
           "sequentialminus": [
            [
             0,
             "#0d0887"
            ],
            [
             0.1111111111111111,
             "#46039f"
            ],
            [
             0.2222222222222222,
             "#7201a8"
            ],
            [
             0.3333333333333333,
             "#9c179e"
            ],
            [
             0.4444444444444444,
             "#bd3786"
            ],
            [
             0.5555555555555556,
             "#d8576b"
            ],
            [
             0.6666666666666666,
             "#ed7953"
            ],
            [
             0.7777777777777778,
             "#fb9f3a"
            ],
            [
             0.8888888888888888,
             "#fdca26"
            ],
            [
             1,
             "#f0f921"
            ]
           ]
          },
          "colorway": [
           "#636efa",
           "#EF553B",
           "#00cc96",
           "#ab63fa",
           "#FFA15A",
           "#19d3f3",
           "#FF6692",
           "#B6E880",
           "#FF97FF",
           "#FECB52"
          ],
          "font": {
           "color": "#2a3f5f"
          },
          "geo": {
           "bgcolor": "white",
           "lakecolor": "white",
           "landcolor": "#E5ECF6",
           "showlakes": true,
           "showland": true,
           "subunitcolor": "white"
          },
          "hoverlabel": {
           "align": "left"
          },
          "hovermode": "closest",
          "mapbox": {
           "style": "light"
          },
          "paper_bgcolor": "white",
          "plot_bgcolor": "#E5ECF6",
          "polar": {
           "angularaxis": {
            "gridcolor": "white",
            "linecolor": "white",
            "ticks": ""
           },
           "bgcolor": "#E5ECF6",
           "radialaxis": {
            "gridcolor": "white",
            "linecolor": "white",
            "ticks": ""
           }
          },
          "scene": {
           "xaxis": {
            "backgroundcolor": "#E5ECF6",
            "gridcolor": "white",
            "gridwidth": 2,
            "linecolor": "white",
            "showbackground": true,
            "ticks": "",
            "zerolinecolor": "white"
           },
           "yaxis": {
            "backgroundcolor": "#E5ECF6",
            "gridcolor": "white",
            "gridwidth": 2,
            "linecolor": "white",
            "showbackground": true,
            "ticks": "",
            "zerolinecolor": "white"
           },
           "zaxis": {
            "backgroundcolor": "#E5ECF6",
            "gridcolor": "white",
            "gridwidth": 2,
            "linecolor": "white",
            "showbackground": true,
            "ticks": "",
            "zerolinecolor": "white"
           }
          },
          "shapedefaults": {
           "line": {
            "color": "#2a3f5f"
           }
          },
          "ternary": {
           "aaxis": {
            "gridcolor": "white",
            "linecolor": "white",
            "ticks": ""
           },
           "baxis": {
            "gridcolor": "white",
            "linecolor": "white",
            "ticks": ""
           },
           "bgcolor": "#E5ECF6",
           "caxis": {
            "gridcolor": "white",
            "linecolor": "white",
            "ticks": ""
           }
          },
          "title": {
           "x": 0.05
          },
          "xaxis": {
           "automargin": true,
           "gridcolor": "white",
           "linecolor": "white",
           "ticks": "",
           "title": {
            "standoff": 15
           },
           "zerolinecolor": "white",
           "zerolinewidth": 2
          },
          "yaxis": {
           "automargin": true,
           "gridcolor": "white",
           "linecolor": "white",
           "ticks": "",
           "title": {
            "standoff": 15
           },
           "zerolinecolor": "white",
           "zerolinewidth": 2
          }
         }
        },
        "title": {
         "text": "features vs special_diets"
        }
       }
      },
      "text/html": [
       "<div>                            <div id=\"e87065e3-d791-4f95-9ebf-3e23963a3e69\" class=\"plotly-graph-div\" style=\"height:525px; width:100%;\"></div>            <script type=\"text/javascript\">                require([\"plotly\"], function(Plotly) {                    window.PLOTLYENV=window.PLOTLYENV || {};                                    if (document.getElementById(\"e87065e3-d791-4f95-9ebf-3e23963a3e69\")) {                    Plotly.newPlot(                        \"e87065e3-d791-4f95-9ebf-3e23963a3e69\",                        [{\"colorscale\":[[0.0,\"rgb(165,0,38)\"],[0.1,\"rgb(215,48,39)\"],[0.2,\"rgb(244,109,67)\"],[0.3,\"rgb(253,174,97)\"],[0.4,\"rgb(254,224,139)\"],[0.5,\"rgb(255,255,191)\"],[0.6,\"rgb(217,239,139)\"],[0.7,\"rgb(166,217,106)\"],[0.8,\"rgb(102,189,99)\"],[0.9,\"rgb(26,152,80)\"],[1.0,\"rgb(0,104,55)\"]],\"x\":[\"special_diets_Vegetarian Friendly\",\"special_diets_Gluten Free Options\",\"special_diets_Vegan Options\",\"special_diets_Halal\",\"special_diets_Kosher\"],\"y\":[\"features_Seating\",\"features_Reservations\",\"features_Table Service\",\"features_Wheelchair Accessible\",\"features_Serves Alcohol\",\"features_Takeout\",\"features_Outdoor Seating\",\"features_Highchairs Available\",\"features_Accepts Credit Cards\",\"features_Full Bar\",\"features_Parking Available\",\"features_Free Wifi\",\"features_Wine and Beer\",\"features_Television\",\"features_Free off-street parking\",\"features_Street Parking\",\"features_Delivery\",\"features_Accepts Visa\"],\"z\":[[0.0599911469510054,0.055738396176201147,0.0489278210604793,0.0033206919016677615,0.004287105490267092],[0.04018898024971281,0.04620702645005491,0.030356695441859656,-0.00997720639127872,0.00020146983832822302],[0.07113244558828535,0.07033765849912625,0.05744330358087209,-0.002711080332707763,0.0002307062444479646],[0.040937254804969375,0.041553635461391486,0.035269720008507574,0.006850408309613342,-0.005220032899469751],[0.15204903731296723,0.13471851277487668,0.12138427466312074,0.0019304642282894425,0.01011775144822623],[-0.007777694429694587,-0.022677768029696073,0.00791423206453225,0.006339201316849461,0.01140983815245877],[0.17325499827695676,0.15309613357111224,0.14149793011918868,0.0013914094587095377,0.018986797624090786],[0.21589256435144588,0.21605060593895778,0.1864290751879423,0.0027192859261930724,0.01657559285253852],[0.31139824577835584,0.2977423723398585,0.26554192309798225,0.018227741551933376,0.02353252069040695],[0.21714540647964822,0.19901052706057082,0.19516951975303642,-0.00391839169578638,0.0010565838873273035],[-0.011977866980884986,-0.00229000557974565,-0.011594850378430357,-0.0030787409950384505,-0.003974740148675294],[0.30761712967204463,0.2994457533756122,0.2862785467517844,0.006673332128786002,0.01858656906016175],[0.1541572733621891,0.14744140971412545,0.14684645810159835,0.016606722685426227,0.0037784953337784773],[0.016388966358226332,0.0032951134348688477,0.01223784469509186,0.009111414029796443,-0.0031098967883994456],[-0.014662723075952675,-0.006990116434948177,-0.008603132146328442,-0.0022384987435734457,-0.002889964061016976],[0.009426736677382369,0.011466839504571476,0.010432800739279897,-0.0022007963160460887,0.006813610841746677],[-0.015871331462146327,-0.015647025476498027,-0.00658120275875498,0.02345507208869235,0.007153563382924153],[0.22104398492180719,0.2239940734703946,0.21107185582530377,0.011229630160048831,0.007640236469096373]],\"zmax\":1,\"zmin\":-1,\"type\":\"heatmap\"}],                        {\"title\":{\"text\":\"features vs special_diets\"},\"template\":{\"data\":{\"histogram2dcontour\":[{\"type\":\"histogram2dcontour\",\"colorbar\":{\"outlinewidth\":0,\"ticks\":\"\"},\"colorscale\":[[0.0,\"#0d0887\"],[0.1111111111111111,\"#46039f\"],[0.2222222222222222,\"#7201a8\"],[0.3333333333333333,\"#9c179e\"],[0.4444444444444444,\"#bd3786\"],[0.5555555555555556,\"#d8576b\"],[0.6666666666666666,\"#ed7953\"],[0.7777777777777778,\"#fb9f3a\"],[0.8888888888888888,\"#fdca26\"],[1.0,\"#f0f921\"]]}],\"choropleth\":[{\"type\":\"choropleth\",\"colorbar\":{\"outlinewidth\":0,\"ticks\":\"\"}}],\"histogram2d\":[{\"type\":\"histogram2d\",\"colorbar\":{\"outlinewidth\":0,\"ticks\":\"\"},\"colorscale\":[[0.0,\"#0d0887\"],[0.1111111111111111,\"#46039f\"],[0.2222222222222222,\"#7201a8\"],[0.3333333333333333,\"#9c179e\"],[0.4444444444444444,\"#bd3786\"],[0.5555555555555556,\"#d8576b\"],[0.6666666666666666,\"#ed7953\"],[0.7777777777777778,\"#fb9f3a\"],[0.8888888888888888,\"#fdca26\"],[1.0,\"#f0f921\"]]}],\"heatmap\":[{\"type\":\"heatmap\",\"colorbar\":{\"outlinewidth\":0,\"ticks\":\"\"},\"colorscale\":[[0.0,\"#0d0887\"],[0.1111111111111111,\"#46039f\"],[0.2222222222222222,\"#7201a8\"],[0.3333333333333333,\"#9c179e\"],[0.4444444444444444,\"#bd3786\"],[0.5555555555555556,\"#d8576b\"],[0.6666666666666666,\"#ed7953\"],[0.7777777777777778,\"#fb9f3a\"],[0.8888888888888888,\"#fdca26\"],[1.0,\"#f0f921\"]]}],\"heatmapgl\":[{\"type\":\"heatmapgl\",\"colorbar\":{\"outlinewidth\":0,\"ticks\":\"\"},\"colorscale\":[[0.0,\"#0d0887\"],[0.1111111111111111,\"#46039f\"],[0.2222222222222222,\"#7201a8\"],[0.3333333333333333,\"#9c179e\"],[0.4444444444444444,\"#bd3786\"],[0.5555555555555556,\"#d8576b\"],[0.6666666666666666,\"#ed7953\"],[0.7777777777777778,\"#fb9f3a\"],[0.8888888888888888,\"#fdca26\"],[1.0,\"#f0f921\"]]}],\"contourcarpet\":[{\"type\":\"contourcarpet\",\"colorbar\":{\"outlinewidth\":0,\"ticks\":\"\"}}],\"contour\":[{\"type\":\"contour\",\"colorbar\":{\"outlinewidth\":0,\"ticks\":\"\"},\"colorscale\":[[0.0,\"#0d0887\"],[0.1111111111111111,\"#46039f\"],[0.2222222222222222,\"#7201a8\"],[0.3333333333333333,\"#9c179e\"],[0.4444444444444444,\"#bd3786\"],[0.5555555555555556,\"#d8576b\"],[0.6666666666666666,\"#ed7953\"],[0.7777777777777778,\"#fb9f3a\"],[0.8888888888888888,\"#fdca26\"],[1.0,\"#f0f921\"]]}],\"surface\":[{\"type\":\"surface\",\"colorbar\":{\"outlinewidth\":0,\"ticks\":\"\"},\"colorscale\":[[0.0,\"#0d0887\"],[0.1111111111111111,\"#46039f\"],[0.2222222222222222,\"#7201a8\"],[0.3333333333333333,\"#9c179e\"],[0.4444444444444444,\"#bd3786\"],[0.5555555555555556,\"#d8576b\"],[0.6666666666666666,\"#ed7953\"],[0.7777777777777778,\"#fb9f3a\"],[0.8888888888888888,\"#fdca26\"],[1.0,\"#f0f921\"]]}],\"mesh3d\":[{\"type\":\"mesh3d\",\"colorbar\":{\"outlinewidth\":0,\"ticks\":\"\"}}],\"scatter\":[{\"fillpattern\":{\"fillmode\":\"overlay\",\"size\":10,\"solidity\":0.2},\"type\":\"scatter\"}],\"parcoords\":[{\"type\":\"parcoords\",\"line\":{\"colorbar\":{\"outlinewidth\":0,\"ticks\":\"\"}}}],\"scatterpolargl\":[{\"type\":\"scatterpolargl\",\"marker\":{\"colorbar\":{\"outlinewidth\":0,\"ticks\":\"\"}}}],\"bar\":[{\"error_x\":{\"color\":\"#2a3f5f\"},\"error_y\":{\"color\":\"#2a3f5f\"},\"marker\":{\"line\":{\"color\":\"#E5ECF6\",\"width\":0.5},\"pattern\":{\"fillmode\":\"overlay\",\"size\":10,\"solidity\":0.2}},\"type\":\"bar\"}],\"scattergeo\":[{\"type\":\"scattergeo\",\"marker\":{\"colorbar\":{\"outlinewidth\":0,\"ticks\":\"\"}}}],\"scatterpolar\":[{\"type\":\"scatterpolar\",\"marker\":{\"colorbar\":{\"outlinewidth\":0,\"ticks\":\"\"}}}],\"histogram\":[{\"marker\":{\"pattern\":{\"fillmode\":\"overlay\",\"size\":10,\"solidity\":0.2}},\"type\":\"histogram\"}],\"scattergl\":[{\"type\":\"scattergl\",\"marker\":{\"colorbar\":{\"outlinewidth\":0,\"ticks\":\"\"}}}],\"scatter3d\":[{\"type\":\"scatter3d\",\"line\":{\"colorbar\":{\"outlinewidth\":0,\"ticks\":\"\"}},\"marker\":{\"colorbar\":{\"outlinewidth\":0,\"ticks\":\"\"}}}],\"scattermapbox\":[{\"type\":\"scattermapbox\",\"marker\":{\"colorbar\":{\"outlinewidth\":0,\"ticks\":\"\"}}}],\"scatterternary\":[{\"type\":\"scatterternary\",\"marker\":{\"colorbar\":{\"outlinewidth\":0,\"ticks\":\"\"}}}],\"scattercarpet\":[{\"type\":\"scattercarpet\",\"marker\":{\"colorbar\":{\"outlinewidth\":0,\"ticks\":\"\"}}}],\"carpet\":[{\"aaxis\":{\"endlinecolor\":\"#2a3f5f\",\"gridcolor\":\"white\",\"linecolor\":\"white\",\"minorgridcolor\":\"white\",\"startlinecolor\":\"#2a3f5f\"},\"baxis\":{\"endlinecolor\":\"#2a3f5f\",\"gridcolor\":\"white\",\"linecolor\":\"white\",\"minorgridcolor\":\"white\",\"startlinecolor\":\"#2a3f5f\"},\"type\":\"carpet\"}],\"table\":[{\"cells\":{\"fill\":{\"color\":\"#EBF0F8\"},\"line\":{\"color\":\"white\"}},\"header\":{\"fill\":{\"color\":\"#C8D4E3\"},\"line\":{\"color\":\"white\"}},\"type\":\"table\"}],\"barpolar\":[{\"marker\":{\"line\":{\"color\":\"#E5ECF6\",\"width\":0.5},\"pattern\":{\"fillmode\":\"overlay\",\"size\":10,\"solidity\":0.2}},\"type\":\"barpolar\"}],\"pie\":[{\"automargin\":true,\"type\":\"pie\"}]},\"layout\":{\"autotypenumbers\":\"strict\",\"colorway\":[\"#636efa\",\"#EF553B\",\"#00cc96\",\"#ab63fa\",\"#FFA15A\",\"#19d3f3\",\"#FF6692\",\"#B6E880\",\"#FF97FF\",\"#FECB52\"],\"font\":{\"color\":\"#2a3f5f\"},\"hovermode\":\"closest\",\"hoverlabel\":{\"align\":\"left\"},\"paper_bgcolor\":\"white\",\"plot_bgcolor\":\"#E5ECF6\",\"polar\":{\"bgcolor\":\"#E5ECF6\",\"angularaxis\":{\"gridcolor\":\"white\",\"linecolor\":\"white\",\"ticks\":\"\"},\"radialaxis\":{\"gridcolor\":\"white\",\"linecolor\":\"white\",\"ticks\":\"\"}},\"ternary\":{\"bgcolor\":\"#E5ECF6\",\"aaxis\":{\"gridcolor\":\"white\",\"linecolor\":\"white\",\"ticks\":\"\"},\"baxis\":{\"gridcolor\":\"white\",\"linecolor\":\"white\",\"ticks\":\"\"},\"caxis\":{\"gridcolor\":\"white\",\"linecolor\":\"white\",\"ticks\":\"\"}},\"coloraxis\":{\"colorbar\":{\"outlinewidth\":0,\"ticks\":\"\"}},\"colorscale\":{\"sequential\":[[0.0,\"#0d0887\"],[0.1111111111111111,\"#46039f\"],[0.2222222222222222,\"#7201a8\"],[0.3333333333333333,\"#9c179e\"],[0.4444444444444444,\"#bd3786\"],[0.5555555555555556,\"#d8576b\"],[0.6666666666666666,\"#ed7953\"],[0.7777777777777778,\"#fb9f3a\"],[0.8888888888888888,\"#fdca26\"],[1.0,\"#f0f921\"]],\"sequentialminus\":[[0.0,\"#0d0887\"],[0.1111111111111111,\"#46039f\"],[0.2222222222222222,\"#7201a8\"],[0.3333333333333333,\"#9c179e\"],[0.4444444444444444,\"#bd3786\"],[0.5555555555555556,\"#d8576b\"],[0.6666666666666666,\"#ed7953\"],[0.7777777777777778,\"#fb9f3a\"],[0.8888888888888888,\"#fdca26\"],[1.0,\"#f0f921\"]],\"diverging\":[[0,\"#8e0152\"],[0.1,\"#c51b7d\"],[0.2,\"#de77ae\"],[0.3,\"#f1b6da\"],[0.4,\"#fde0ef\"],[0.5,\"#f7f7f7\"],[0.6,\"#e6f5d0\"],[0.7,\"#b8e186\"],[0.8,\"#7fbc41\"],[0.9,\"#4d9221\"],[1,\"#276419\"]]},\"xaxis\":{\"gridcolor\":\"white\",\"linecolor\":\"white\",\"ticks\":\"\",\"title\":{\"standoff\":15},\"zerolinecolor\":\"white\",\"automargin\":true,\"zerolinewidth\":2},\"yaxis\":{\"gridcolor\":\"white\",\"linecolor\":\"white\",\"ticks\":\"\",\"title\":{\"standoff\":15},\"zerolinecolor\":\"white\",\"automargin\":true,\"zerolinewidth\":2},\"scene\":{\"xaxis\":{\"backgroundcolor\":\"#E5ECF6\",\"gridcolor\":\"white\",\"linecolor\":\"white\",\"showbackground\":true,\"ticks\":\"\",\"zerolinecolor\":\"white\",\"gridwidth\":2},\"yaxis\":{\"backgroundcolor\":\"#E5ECF6\",\"gridcolor\":\"white\",\"linecolor\":\"white\",\"showbackground\":true,\"ticks\":\"\",\"zerolinecolor\":\"white\",\"gridwidth\":2},\"zaxis\":{\"backgroundcolor\":\"#E5ECF6\",\"gridcolor\":\"white\",\"linecolor\":\"white\",\"showbackground\":true,\"ticks\":\"\",\"zerolinecolor\":\"white\",\"gridwidth\":2}},\"shapedefaults\":{\"line\":{\"color\":\"#2a3f5f\"}},\"annotationdefaults\":{\"arrowcolor\":\"#2a3f5f\",\"arrowhead\":0,\"arrowwidth\":1},\"geo\":{\"bgcolor\":\"white\",\"landcolor\":\"#E5ECF6\",\"subunitcolor\":\"white\",\"showland\":true,\"showlakes\":true,\"lakecolor\":\"white\"},\"title\":{\"x\":0.05},\"mapbox\":{\"style\":\"light\"}}}},                        {\"responsive\": true}                    ).then(function(){\n",
       "                            \n",
       "var gd = document.getElementById('e87065e3-d791-4f95-9ebf-3e23963a3e69');\n",
       "var x = new MutationObserver(function (mutations, observer) {{\n",
       "        var display = window.getComputedStyle(gd).display;\n",
       "        if (!display || display === 'none') {{\n",
       "            console.log([gd, 'removed!']);\n",
       "            Plotly.purge(gd);\n",
       "            observer.disconnect();\n",
       "        }}\n",
       "}});\n",
       "\n",
       "// Listen for the removal of the full notebook cells\n",
       "var notebookContainer = gd.closest('#notebook-container');\n",
       "if (notebookContainer) {{\n",
       "    x.observe(notebookContainer, {childList: true});\n",
       "}}\n",
       "\n",
       "// Listen for the clearing of the current output cell\n",
       "var outputEl = gd.closest('.output');\n",
       "if (outputEl) {{\n",
       "    x.observe(outputEl, {childList: true});\n",
       "}}\n",
       "\n",
       "                        })                };                });            </script>        </div>"
      ]
     },
     "metadata": {},
     "output_type": "display_data"
    },
    {
     "data": {
      "application/vnd.plotly.v1+json": {
       "config": {
        "plotlyServerURL": "https://plot.ly"
       },
       "data": [
        {
         "colorscale": [
          [
           0,
           "rgb(165,0,38)"
          ],
          [
           0.1,
           "rgb(215,48,39)"
          ],
          [
           0.2,
           "rgb(244,109,67)"
          ],
          [
           0.3,
           "rgb(253,174,97)"
          ],
          [
           0.4,
           "rgb(254,224,139)"
          ],
          [
           0.5,
           "rgb(255,255,191)"
          ],
          [
           0.6,
           "rgb(217,239,139)"
          ],
          [
           0.7,
           "rgb(166,217,106)"
          ],
          [
           0.8,
           "rgb(102,189,99)"
          ],
          [
           0.9,
           "rgb(26,152,80)"
          ],
          [
           1,
           "rgb(0,104,55)"
          ]
         ],
         "type": "heatmap",
         "x": [
          "features_Seating",
          "features_Reservations",
          "features_Table Service",
          "features_Wheelchair Accessible",
          "features_Serves Alcohol",
          "features_Takeout",
          "features_Outdoor Seating",
          "features_Highchairs Available",
          "features_Accepts Credit Cards",
          "features_Full Bar",
          "features_Parking Available",
          "features_Free Wifi",
          "features_Wine and Beer",
          "features_Television",
          "features_Free off-street parking",
          "features_Street Parking",
          "features_Delivery",
          "features_Accepts Visa"
         ],
         "y": [
          "features_Seating",
          "features_Reservations",
          "features_Table Service",
          "features_Wheelchair Accessible",
          "features_Serves Alcohol",
          "features_Takeout",
          "features_Outdoor Seating",
          "features_Highchairs Available",
          "features_Accepts Credit Cards",
          "features_Full Bar",
          "features_Parking Available",
          "features_Free Wifi",
          "features_Wine and Beer",
          "features_Television",
          "features_Free off-street parking",
          "features_Street Parking",
          "features_Delivery",
          "features_Accepts Visa"
         ],
         "z": [
          [
           1,
           0.26239115806150526,
           0.5598253388736073,
           0.10293088148120924,
           0.37824397594527925,
           -0.1333931376182402,
           0.22579402673083962,
           0.18928778497226426,
           0.12908234604374338,
           0.14760177994202756,
           0.10116159576093997,
           0.10671736229386516,
           0.09334688249498979,
           0.09345970947313484,
           0.0671889677053453,
           0.03359233390059878,
           -0.10066647544158197,
           0.06028173536319364
          ],
          [
           0.26239115806150526,
           1,
           0.4182880379337169,
           -0.016851592589011716,
           0.24293019788940748,
           -0.19630263873571593,
           0.049611746244990665,
           0.22221898295558384,
           0.08381474047305118,
           0.002547159060416003,
           0.10138948349104875,
           0.051367422653965426,
           0.04198347443488793,
           0.06863760221422582,
           0.05564602777467488,
           0.016612593536256142,
           -0.011753605698135562,
           0.06167918556301713
          ],
          [
           0.5598253388736073,
           0.4182880379337169,
           1,
           0.0445006352117731,
           0.3387158631343731,
           -0.2883300853508815,
           0.12480675657994995,
           0.21279814702078584,
           0.06543147178367807,
           0.06238696859980872,
           0.009918341460124722,
           0.017841187106055496,
           -0.019484077472992474,
           0.025780713144032432,
           -0.028684089289942524,
           -0.10594053356008434,
           -0.17470922624713073,
           0.013535146712899461
          ],
          [
           0.10293088148120924,
           -0.016851592589011716,
           0.0445006352117731,
           1,
           0.1380768284323644,
           0.10860479526217835,
           0.14646632466235118,
           0.20211892480031984,
           0.0946695759941475,
           0.12915693303264297,
           0.1696245154310084,
           0.11468156020758358,
           0.10199318632825047,
           0.10974435563440342,
           0.11952620865408344,
           0.07246788876249258,
           -0.009648246873197128,
           0.09425476633510524
          ],
          [
           0.37824397594527925,
           0.24293019788940748,
           0.3387158631343731,
           0.1380768284323644,
           1,
           -0.01248096510394611,
           0.3813030132414937,
           0.39389945879311994,
           0.2863135257857927,
           0.32753550524665753,
           0.22732065020746903,
           0.23628999569677217,
           0.24723916966621662,
           0.21047680903574512,
           0.14296593863974558,
           0.11624974214882189,
           0.004433078955347412,
           0.17421809572092564
          ],
          [
           -0.1333931376182402,
           -0.19630263873571593,
           -0.2883300853508815,
           0.10860479526217835,
           -0.01248096510394611,
           1,
           0.07358698565919974,
           -0.005843916796526249,
           0.09367249974232918,
           0.08393215065859413,
           0.11778755180614225,
           0.16873128855613045,
           0.20870550557598738,
           0.16759008291862218,
           0.1484007219607645,
           0.20021991403853606,
           0.3097794580856541,
           0.13599008957498623
          ],
          [
           0.22579402673083962,
           0.049611746244990665,
           0.12480675657994995,
           0.14646632466235118,
           0.3813030132414937,
           0.07358698565919974,
           1,
           0.3464897846808322,
           0.33968492747842244,
           0.39829183162119103,
           0.3227834925488197,
           0.3391033339984224,
           0.3506764797298679,
           0.2597778250615074,
           0.253157925745794,
           0.21303962141200483,
           0.05737869572817059,
           0.23298453271095707
          ],
          [
           0.18928778497226426,
           0.22221898295558384,
           0.21279814702078584,
           0.20211892480031984,
           0.39389945879311994,
           -0.005843916796526249,
           0.3464897846808322,
           1,
           0.362004566286221,
           0.23030163963382896,
           0.34380611558333246,
           0.25496606372217845,
           0.21044075464281642,
           0.21846914718439128,
           0.20728454638131466,
           0.08835200115163433,
           -0.007577002739069745,
           0.22447403574920313
          ],
          [
           0.12908234604374338,
           0.08381474047305118,
           0.06543147178367807,
           0.0946695759941475,
           0.2863135257857927,
           0.09367249974232918,
           0.33968492747842244,
           0.362004566286221,
           1,
           0.3375558478273383,
           0.27678195021039365,
           0.40386287288572337,
           0.41013247808422565,
           0.23084961591467143,
           0.29087542385626264,
           0.27004312546052744,
           0.09991604938073458,
           0.34955786968824026
          ],
          [
           0.14760177994202756,
           0.002547159060416003,
           0.06238696859980872,
           0.12915693303264297,
           0.32753550524665753,
           0.08393215065859413,
           0.39829183162119103,
           0.23030163963382896,
           0.3375558478273383,
           1,
           0.29513940107495434,
           0.4036224372216688,
           0.4047502000226547,
           0.30128007697913955,
           0.2894992796492584,
           0.2729752527596661,
           0.06978847957883506,
           0.28311652940175813
          ],
          [
           0.10116159576093997,
           0.10138948349104875,
           0.009918341460124722,
           0.1696245154310084,
           0.22732065020746903,
           0.11778755180614225,
           0.3227834925488197,
           0.34380611558333246,
           0.27678195021039365,
           0.29513940107495434,
           1,
           0.31188484030006275,
           0.35613212859199395,
           0.3221884201634873,
           0.5658798947671303,
           0.355903021101787,
           0.12207300093245746,
           0.29080977704442185
          ],
          [
           0.10671736229386516,
           0.051367422653965426,
           0.017841187106055496,
           0.11468156020758358,
           0.23628999569677217,
           0.16873128855613045,
           0.3391033339984224,
           0.25496606372217845,
           0.40386287288572337,
           0.4036224372216688,
           0.31188484030006275,
           1,
           0.5587995801019507,
           0.3500170966410293,
           0.3551535998901908,
           0.3350984544722153,
           0.17457626345700922,
           0.43874897760075066
          ],
          [
           0.09334688249498979,
           0.04198347443488793,
           -0.019484077472992474,
           0.10199318632825047,
           0.24723916966621662,
           0.20870550557598738,
           0.3506764797298679,
           0.21044075464281642,
           0.41013247808422565,
           0.4047502000226547,
           0.35613212859199395,
           0.5587995801019507,
           1,
           0.37130424653937355,
           0.46150381315385747,
           0.47481855626461267,
           0.20030783148245868,
           0.42519825177511433
          ],
          [
           0.09345970947313484,
           0.06863760221422582,
           0.025780713144032432,
           0.10974435563440342,
           0.21047680903574512,
           0.16759008291862218,
           0.2597778250615074,
           0.21846914718439128,
           0.23084961591467143,
           0.30128007697913955,
           0.3221884201634873,
           0.3500170966410293,
           0.37130424653937355,
           1,
           0.30210153248443355,
           0.2653705106034916,
           0.1347505616827642,
           0.2455550890724698
          ],
          [
           0.0671889677053453,
           0.05564602777467488,
           -0.028684089289942524,
           0.11952620865408344,
           0.14296593863974558,
           0.1484007219607645,
           0.253157925745794,
           0.20728454638131466,
           0.29087542385626264,
           0.2894992796492584,
           0.5658798947671303,
           0.3551535998901908,
           0.46150381315385747,
           0.30210153248443355,
           1,
           0.3638205223110602,
           0.13149308235506252,
           0.298317111223998
          ],
          [
           0.03359233390059878,
           0.016612593536256142,
           -0.10594053356008434,
           0.07246788876249258,
           0.11624974214882189,
           0.20021991403853606,
           0.21303962141200483,
           0.08835200115163433,
           0.27004312546052744,
           0.2729752527596661,
           0.355903021101787,
           0.3350984544722153,
           0.47481855626461267,
           0.2653705106034916,
           0.3638205223110602,
           1,
           0.22730256884955943,
           0.22327579965300137
          ],
          [
           -0.10066647544158197,
           -0.011753605698135562,
           -0.17470922624713073,
           -0.009648246873197128,
           0.004433078955347412,
           0.3097794580856541,
           0.05737869572817059,
           -0.007577002739069745,
           0.09991604938073458,
           0.06978847957883506,
           0.12207300093245746,
           0.17457626345700922,
           0.20030783148245868,
           0.1347505616827642,
           0.13149308235506252,
           0.22730256884955943,
           1,
           0.12033204203758902
          ],
          [
           0.06028173536319364,
           0.06167918556301713,
           0.013535146712899461,
           0.09425476633510524,
           0.17421809572092564,
           0.13599008957498623,
           0.23298453271095707,
           0.22447403574920313,
           0.34955786968824026,
           0.28311652940175813,
           0.29080977704442185,
           0.43874897760075066,
           0.42519825177511433,
           0.2455550890724698,
           0.298317111223998,
           0.22327579965300137,
           0.12033204203758902,
           1
          ]
         ],
         "zmax": 1,
         "zmin": -1
        }
       ],
       "layout": {
        "template": {
         "data": {
          "bar": [
           {
            "error_x": {
             "color": "#2a3f5f"
            },
            "error_y": {
             "color": "#2a3f5f"
            },
            "marker": {
             "line": {
              "color": "#E5ECF6",
              "width": 0.5
             },
             "pattern": {
              "fillmode": "overlay",
              "size": 10,
              "solidity": 0.2
             }
            },
            "type": "bar"
           }
          ],
          "barpolar": [
           {
            "marker": {
             "line": {
              "color": "#E5ECF6",
              "width": 0.5
             },
             "pattern": {
              "fillmode": "overlay",
              "size": 10,
              "solidity": 0.2
             }
            },
            "type": "barpolar"
           }
          ],
          "carpet": [
           {
            "aaxis": {
             "endlinecolor": "#2a3f5f",
             "gridcolor": "white",
             "linecolor": "white",
             "minorgridcolor": "white",
             "startlinecolor": "#2a3f5f"
            },
            "baxis": {
             "endlinecolor": "#2a3f5f",
             "gridcolor": "white",
             "linecolor": "white",
             "minorgridcolor": "white",
             "startlinecolor": "#2a3f5f"
            },
            "type": "carpet"
           }
          ],
          "choropleth": [
           {
            "colorbar": {
             "outlinewidth": 0,
             "ticks": ""
            },
            "type": "choropleth"
           }
          ],
          "contour": [
           {
            "colorbar": {
             "outlinewidth": 0,
             "ticks": ""
            },
            "colorscale": [
             [
              0,
              "#0d0887"
             ],
             [
              0.1111111111111111,
              "#46039f"
             ],
             [
              0.2222222222222222,
              "#7201a8"
             ],
             [
              0.3333333333333333,
              "#9c179e"
             ],
             [
              0.4444444444444444,
              "#bd3786"
             ],
             [
              0.5555555555555556,
              "#d8576b"
             ],
             [
              0.6666666666666666,
              "#ed7953"
             ],
             [
              0.7777777777777778,
              "#fb9f3a"
             ],
             [
              0.8888888888888888,
              "#fdca26"
             ],
             [
              1,
              "#f0f921"
             ]
            ],
            "type": "contour"
           }
          ],
          "contourcarpet": [
           {
            "colorbar": {
             "outlinewidth": 0,
             "ticks": ""
            },
            "type": "contourcarpet"
           }
          ],
          "heatmap": [
           {
            "colorbar": {
             "outlinewidth": 0,
             "ticks": ""
            },
            "colorscale": [
             [
              0,
              "#0d0887"
             ],
             [
              0.1111111111111111,
              "#46039f"
             ],
             [
              0.2222222222222222,
              "#7201a8"
             ],
             [
              0.3333333333333333,
              "#9c179e"
             ],
             [
              0.4444444444444444,
              "#bd3786"
             ],
             [
              0.5555555555555556,
              "#d8576b"
             ],
             [
              0.6666666666666666,
              "#ed7953"
             ],
             [
              0.7777777777777778,
              "#fb9f3a"
             ],
             [
              0.8888888888888888,
              "#fdca26"
             ],
             [
              1,
              "#f0f921"
             ]
            ],
            "type": "heatmap"
           }
          ],
          "heatmapgl": [
           {
            "colorbar": {
             "outlinewidth": 0,
             "ticks": ""
            },
            "colorscale": [
             [
              0,
              "#0d0887"
             ],
             [
              0.1111111111111111,
              "#46039f"
             ],
             [
              0.2222222222222222,
              "#7201a8"
             ],
             [
              0.3333333333333333,
              "#9c179e"
             ],
             [
              0.4444444444444444,
              "#bd3786"
             ],
             [
              0.5555555555555556,
              "#d8576b"
             ],
             [
              0.6666666666666666,
              "#ed7953"
             ],
             [
              0.7777777777777778,
              "#fb9f3a"
             ],
             [
              0.8888888888888888,
              "#fdca26"
             ],
             [
              1,
              "#f0f921"
             ]
            ],
            "type": "heatmapgl"
           }
          ],
          "histogram": [
           {
            "marker": {
             "pattern": {
              "fillmode": "overlay",
              "size": 10,
              "solidity": 0.2
             }
            },
            "type": "histogram"
           }
          ],
          "histogram2d": [
           {
            "colorbar": {
             "outlinewidth": 0,
             "ticks": ""
            },
            "colorscale": [
             [
              0,
              "#0d0887"
             ],
             [
              0.1111111111111111,
              "#46039f"
             ],
             [
              0.2222222222222222,
              "#7201a8"
             ],
             [
              0.3333333333333333,
              "#9c179e"
             ],
             [
              0.4444444444444444,
              "#bd3786"
             ],
             [
              0.5555555555555556,
              "#d8576b"
             ],
             [
              0.6666666666666666,
              "#ed7953"
             ],
             [
              0.7777777777777778,
              "#fb9f3a"
             ],
             [
              0.8888888888888888,
              "#fdca26"
             ],
             [
              1,
              "#f0f921"
             ]
            ],
            "type": "histogram2d"
           }
          ],
          "histogram2dcontour": [
           {
            "colorbar": {
             "outlinewidth": 0,
             "ticks": ""
            },
            "colorscale": [
             [
              0,
              "#0d0887"
             ],
             [
              0.1111111111111111,
              "#46039f"
             ],
             [
              0.2222222222222222,
              "#7201a8"
             ],
             [
              0.3333333333333333,
              "#9c179e"
             ],
             [
              0.4444444444444444,
              "#bd3786"
             ],
             [
              0.5555555555555556,
              "#d8576b"
             ],
             [
              0.6666666666666666,
              "#ed7953"
             ],
             [
              0.7777777777777778,
              "#fb9f3a"
             ],
             [
              0.8888888888888888,
              "#fdca26"
             ],
             [
              1,
              "#f0f921"
             ]
            ],
            "type": "histogram2dcontour"
           }
          ],
          "mesh3d": [
           {
            "colorbar": {
             "outlinewidth": 0,
             "ticks": ""
            },
            "type": "mesh3d"
           }
          ],
          "parcoords": [
           {
            "line": {
             "colorbar": {
              "outlinewidth": 0,
              "ticks": ""
             }
            },
            "type": "parcoords"
           }
          ],
          "pie": [
           {
            "automargin": true,
            "type": "pie"
           }
          ],
          "scatter": [
           {
            "fillpattern": {
             "fillmode": "overlay",
             "size": 10,
             "solidity": 0.2
            },
            "type": "scatter"
           }
          ],
          "scatter3d": [
           {
            "line": {
             "colorbar": {
              "outlinewidth": 0,
              "ticks": ""
             }
            },
            "marker": {
             "colorbar": {
              "outlinewidth": 0,
              "ticks": ""
             }
            },
            "type": "scatter3d"
           }
          ],
          "scattercarpet": [
           {
            "marker": {
             "colorbar": {
              "outlinewidth": 0,
              "ticks": ""
             }
            },
            "type": "scattercarpet"
           }
          ],
          "scattergeo": [
           {
            "marker": {
             "colorbar": {
              "outlinewidth": 0,
              "ticks": ""
             }
            },
            "type": "scattergeo"
           }
          ],
          "scattergl": [
           {
            "marker": {
             "colorbar": {
              "outlinewidth": 0,
              "ticks": ""
             }
            },
            "type": "scattergl"
           }
          ],
          "scattermapbox": [
           {
            "marker": {
             "colorbar": {
              "outlinewidth": 0,
              "ticks": ""
             }
            },
            "type": "scattermapbox"
           }
          ],
          "scatterpolar": [
           {
            "marker": {
             "colorbar": {
              "outlinewidth": 0,
              "ticks": ""
             }
            },
            "type": "scatterpolar"
           }
          ],
          "scatterpolargl": [
           {
            "marker": {
             "colorbar": {
              "outlinewidth": 0,
              "ticks": ""
             }
            },
            "type": "scatterpolargl"
           }
          ],
          "scatterternary": [
           {
            "marker": {
             "colorbar": {
              "outlinewidth": 0,
              "ticks": ""
             }
            },
            "type": "scatterternary"
           }
          ],
          "surface": [
           {
            "colorbar": {
             "outlinewidth": 0,
             "ticks": ""
            },
            "colorscale": [
             [
              0,
              "#0d0887"
             ],
             [
              0.1111111111111111,
              "#46039f"
             ],
             [
              0.2222222222222222,
              "#7201a8"
             ],
             [
              0.3333333333333333,
              "#9c179e"
             ],
             [
              0.4444444444444444,
              "#bd3786"
             ],
             [
              0.5555555555555556,
              "#d8576b"
             ],
             [
              0.6666666666666666,
              "#ed7953"
             ],
             [
              0.7777777777777778,
              "#fb9f3a"
             ],
             [
              0.8888888888888888,
              "#fdca26"
             ],
             [
              1,
              "#f0f921"
             ]
            ],
            "type": "surface"
           }
          ],
          "table": [
           {
            "cells": {
             "fill": {
              "color": "#EBF0F8"
             },
             "line": {
              "color": "white"
             }
            },
            "header": {
             "fill": {
              "color": "#C8D4E3"
             },
             "line": {
              "color": "white"
             }
            },
            "type": "table"
           }
          ]
         },
         "layout": {
          "annotationdefaults": {
           "arrowcolor": "#2a3f5f",
           "arrowhead": 0,
           "arrowwidth": 1
          },
          "autotypenumbers": "strict",
          "coloraxis": {
           "colorbar": {
            "outlinewidth": 0,
            "ticks": ""
           }
          },
          "colorscale": {
           "diverging": [
            [
             0,
             "#8e0152"
            ],
            [
             0.1,
             "#c51b7d"
            ],
            [
             0.2,
             "#de77ae"
            ],
            [
             0.3,
             "#f1b6da"
            ],
            [
             0.4,
             "#fde0ef"
            ],
            [
             0.5,
             "#f7f7f7"
            ],
            [
             0.6,
             "#e6f5d0"
            ],
            [
             0.7,
             "#b8e186"
            ],
            [
             0.8,
             "#7fbc41"
            ],
            [
             0.9,
             "#4d9221"
            ],
            [
             1,
             "#276419"
            ]
           ],
           "sequential": [
            [
             0,
             "#0d0887"
            ],
            [
             0.1111111111111111,
             "#46039f"
            ],
            [
             0.2222222222222222,
             "#7201a8"
            ],
            [
             0.3333333333333333,
             "#9c179e"
            ],
            [
             0.4444444444444444,
             "#bd3786"
            ],
            [
             0.5555555555555556,
             "#d8576b"
            ],
            [
             0.6666666666666666,
             "#ed7953"
            ],
            [
             0.7777777777777778,
             "#fb9f3a"
            ],
            [
             0.8888888888888888,
             "#fdca26"
            ],
            [
             1,
             "#f0f921"
            ]
           ],
           "sequentialminus": [
            [
             0,
             "#0d0887"
            ],
            [
             0.1111111111111111,
             "#46039f"
            ],
            [
             0.2222222222222222,
             "#7201a8"
            ],
            [
             0.3333333333333333,
             "#9c179e"
            ],
            [
             0.4444444444444444,
             "#bd3786"
            ],
            [
             0.5555555555555556,
             "#d8576b"
            ],
            [
             0.6666666666666666,
             "#ed7953"
            ],
            [
             0.7777777777777778,
             "#fb9f3a"
            ],
            [
             0.8888888888888888,
             "#fdca26"
            ],
            [
             1,
             "#f0f921"
            ]
           ]
          },
          "colorway": [
           "#636efa",
           "#EF553B",
           "#00cc96",
           "#ab63fa",
           "#FFA15A",
           "#19d3f3",
           "#FF6692",
           "#B6E880",
           "#FF97FF",
           "#FECB52"
          ],
          "font": {
           "color": "#2a3f5f"
          },
          "geo": {
           "bgcolor": "white",
           "lakecolor": "white",
           "landcolor": "#E5ECF6",
           "showlakes": true,
           "showland": true,
           "subunitcolor": "white"
          },
          "hoverlabel": {
           "align": "left"
          },
          "hovermode": "closest",
          "mapbox": {
           "style": "light"
          },
          "paper_bgcolor": "white",
          "plot_bgcolor": "#E5ECF6",
          "polar": {
           "angularaxis": {
            "gridcolor": "white",
            "linecolor": "white",
            "ticks": ""
           },
           "bgcolor": "#E5ECF6",
           "radialaxis": {
            "gridcolor": "white",
            "linecolor": "white",
            "ticks": ""
           }
          },
          "scene": {
           "xaxis": {
            "backgroundcolor": "#E5ECF6",
            "gridcolor": "white",
            "gridwidth": 2,
            "linecolor": "white",
            "showbackground": true,
            "ticks": "",
            "zerolinecolor": "white"
           },
           "yaxis": {
            "backgroundcolor": "#E5ECF6",
            "gridcolor": "white",
            "gridwidth": 2,
            "linecolor": "white",
            "showbackground": true,
            "ticks": "",
            "zerolinecolor": "white"
           },
           "zaxis": {
            "backgroundcolor": "#E5ECF6",
            "gridcolor": "white",
            "gridwidth": 2,
            "linecolor": "white",
            "showbackground": true,
            "ticks": "",
            "zerolinecolor": "white"
           }
          },
          "shapedefaults": {
           "line": {
            "color": "#2a3f5f"
           }
          },
          "ternary": {
           "aaxis": {
            "gridcolor": "white",
            "linecolor": "white",
            "ticks": ""
           },
           "baxis": {
            "gridcolor": "white",
            "linecolor": "white",
            "ticks": ""
           },
           "bgcolor": "#E5ECF6",
           "caxis": {
            "gridcolor": "white",
            "linecolor": "white",
            "ticks": ""
           }
          },
          "title": {
           "x": 0.05
          },
          "xaxis": {
           "automargin": true,
           "gridcolor": "white",
           "linecolor": "white",
           "ticks": "",
           "title": {
            "standoff": 15
           },
           "zerolinecolor": "white",
           "zerolinewidth": 2
          },
          "yaxis": {
           "automargin": true,
           "gridcolor": "white",
           "linecolor": "white",
           "ticks": "",
           "title": {
            "standoff": 15
           },
           "zerolinecolor": "white",
           "zerolinewidth": 2
          }
         }
        },
        "title": {
         "text": "features vs features"
        }
       }
      },
      "text/html": [
       "<div>                            <div id=\"0f2a2bbb-2417-44b2-9848-d76ac2946366\" class=\"plotly-graph-div\" style=\"height:525px; width:100%;\"></div>            <script type=\"text/javascript\">                require([\"plotly\"], function(Plotly) {                    window.PLOTLYENV=window.PLOTLYENV || {};                                    if (document.getElementById(\"0f2a2bbb-2417-44b2-9848-d76ac2946366\")) {                    Plotly.newPlot(                        \"0f2a2bbb-2417-44b2-9848-d76ac2946366\",                        [{\"colorscale\":[[0.0,\"rgb(165,0,38)\"],[0.1,\"rgb(215,48,39)\"],[0.2,\"rgb(244,109,67)\"],[0.3,\"rgb(253,174,97)\"],[0.4,\"rgb(254,224,139)\"],[0.5,\"rgb(255,255,191)\"],[0.6,\"rgb(217,239,139)\"],[0.7,\"rgb(166,217,106)\"],[0.8,\"rgb(102,189,99)\"],[0.9,\"rgb(26,152,80)\"],[1.0,\"rgb(0,104,55)\"]],\"x\":[\"features_Seating\",\"features_Reservations\",\"features_Table Service\",\"features_Wheelchair Accessible\",\"features_Serves Alcohol\",\"features_Takeout\",\"features_Outdoor Seating\",\"features_Highchairs Available\",\"features_Accepts Credit Cards\",\"features_Full Bar\",\"features_Parking Available\",\"features_Free Wifi\",\"features_Wine and Beer\",\"features_Television\",\"features_Free off-street parking\",\"features_Street Parking\",\"features_Delivery\",\"features_Accepts Visa\"],\"y\":[\"features_Seating\",\"features_Reservations\",\"features_Table Service\",\"features_Wheelchair Accessible\",\"features_Serves Alcohol\",\"features_Takeout\",\"features_Outdoor Seating\",\"features_Highchairs Available\",\"features_Accepts Credit Cards\",\"features_Full Bar\",\"features_Parking Available\",\"features_Free Wifi\",\"features_Wine and Beer\",\"features_Television\",\"features_Free off-street parking\",\"features_Street Parking\",\"features_Delivery\",\"features_Accepts Visa\"],\"z\":[[1.0,0.26239115806150526,0.5598253388736073,0.10293088148120924,0.37824397594527925,-0.1333931376182402,0.22579402673083962,0.18928778497226426,0.12908234604374338,0.14760177994202756,0.10116159576093997,0.10671736229386516,0.09334688249498979,0.09345970947313484,0.0671889677053453,0.03359233390059878,-0.10066647544158197,0.06028173536319364],[0.26239115806150526,1.0,0.4182880379337169,-0.016851592589011716,0.24293019788940748,-0.19630263873571593,0.049611746244990665,0.22221898295558384,0.08381474047305118,0.002547159060416003,0.10138948349104875,0.051367422653965426,0.04198347443488793,0.06863760221422582,0.05564602777467488,0.016612593536256142,-0.011753605698135562,0.06167918556301713],[0.5598253388736073,0.4182880379337169,1.0,0.0445006352117731,0.3387158631343731,-0.2883300853508815,0.12480675657994995,0.21279814702078584,0.06543147178367807,0.06238696859980872,0.009918341460124722,0.017841187106055496,-0.019484077472992474,0.025780713144032432,-0.028684089289942524,-0.10594053356008434,-0.17470922624713073,0.013535146712899461],[0.10293088148120924,-0.016851592589011716,0.0445006352117731,1.0,0.1380768284323644,0.10860479526217835,0.14646632466235118,0.20211892480031984,0.0946695759941475,0.12915693303264297,0.1696245154310084,0.11468156020758358,0.10199318632825047,0.10974435563440342,0.11952620865408344,0.07246788876249258,-0.009648246873197128,0.09425476633510524],[0.37824397594527925,0.24293019788940748,0.3387158631343731,0.1380768284323644,1.0,-0.01248096510394611,0.3813030132414937,0.39389945879311994,0.2863135257857927,0.32753550524665753,0.22732065020746903,0.23628999569677217,0.24723916966621662,0.21047680903574512,0.14296593863974558,0.11624974214882189,0.004433078955347412,0.17421809572092564],[-0.1333931376182402,-0.19630263873571593,-0.2883300853508815,0.10860479526217835,-0.01248096510394611,1.0,0.07358698565919974,-0.005843916796526249,0.09367249974232918,0.08393215065859413,0.11778755180614225,0.16873128855613045,0.20870550557598738,0.16759008291862218,0.1484007219607645,0.20021991403853606,0.3097794580856541,0.13599008957498623],[0.22579402673083962,0.049611746244990665,0.12480675657994995,0.14646632466235118,0.3813030132414937,0.07358698565919974,1.0,0.3464897846808322,0.33968492747842244,0.39829183162119103,0.3227834925488197,0.3391033339984224,0.3506764797298679,0.2597778250615074,0.253157925745794,0.21303962141200483,0.05737869572817059,0.23298453271095707],[0.18928778497226426,0.22221898295558384,0.21279814702078584,0.20211892480031984,0.39389945879311994,-0.005843916796526249,0.3464897846808322,1.0,0.362004566286221,0.23030163963382896,0.34380611558333246,0.25496606372217845,0.21044075464281642,0.21846914718439128,0.20728454638131466,0.08835200115163433,-0.007577002739069745,0.22447403574920313],[0.12908234604374338,0.08381474047305118,0.06543147178367807,0.0946695759941475,0.2863135257857927,0.09367249974232918,0.33968492747842244,0.362004566286221,1.0,0.3375558478273383,0.27678195021039365,0.40386287288572337,0.41013247808422565,0.23084961591467143,0.29087542385626264,0.27004312546052744,0.09991604938073458,0.34955786968824026],[0.14760177994202756,0.002547159060416003,0.06238696859980872,0.12915693303264297,0.32753550524665753,0.08393215065859413,0.39829183162119103,0.23030163963382896,0.3375558478273383,1.0,0.29513940107495434,0.4036224372216688,0.4047502000226547,0.30128007697913955,0.2894992796492584,0.2729752527596661,0.06978847957883506,0.28311652940175813],[0.10116159576093997,0.10138948349104875,0.009918341460124722,0.1696245154310084,0.22732065020746903,0.11778755180614225,0.3227834925488197,0.34380611558333246,0.27678195021039365,0.29513940107495434,1.0,0.31188484030006275,0.35613212859199395,0.3221884201634873,0.5658798947671303,0.355903021101787,0.12207300093245746,0.29080977704442185],[0.10671736229386516,0.051367422653965426,0.017841187106055496,0.11468156020758358,0.23628999569677217,0.16873128855613045,0.3391033339984224,0.25496606372217845,0.40386287288572337,0.4036224372216688,0.31188484030006275,1.0,0.5587995801019507,0.3500170966410293,0.3551535998901908,0.3350984544722153,0.17457626345700922,0.43874897760075066],[0.09334688249498979,0.04198347443488793,-0.019484077472992474,0.10199318632825047,0.24723916966621662,0.20870550557598738,0.3506764797298679,0.21044075464281642,0.41013247808422565,0.4047502000226547,0.35613212859199395,0.5587995801019507,1.0,0.37130424653937355,0.46150381315385747,0.47481855626461267,0.20030783148245868,0.42519825177511433],[0.09345970947313484,0.06863760221422582,0.025780713144032432,0.10974435563440342,0.21047680903574512,0.16759008291862218,0.2597778250615074,0.21846914718439128,0.23084961591467143,0.30128007697913955,0.3221884201634873,0.3500170966410293,0.37130424653937355,1.0,0.30210153248443355,0.2653705106034916,0.1347505616827642,0.2455550890724698],[0.0671889677053453,0.05564602777467488,-0.028684089289942524,0.11952620865408344,0.14296593863974558,0.1484007219607645,0.253157925745794,0.20728454638131466,0.29087542385626264,0.2894992796492584,0.5658798947671303,0.3551535998901908,0.46150381315385747,0.30210153248443355,1.0,0.3638205223110602,0.13149308235506252,0.298317111223998],[0.03359233390059878,0.016612593536256142,-0.10594053356008434,0.07246788876249258,0.11624974214882189,0.20021991403853606,0.21303962141200483,0.08835200115163433,0.27004312546052744,0.2729752527596661,0.355903021101787,0.3350984544722153,0.47481855626461267,0.2653705106034916,0.3638205223110602,1.0,0.22730256884955943,0.22327579965300137],[-0.10066647544158197,-0.011753605698135562,-0.17470922624713073,-0.009648246873197128,0.004433078955347412,0.3097794580856541,0.05737869572817059,-0.007577002739069745,0.09991604938073458,0.06978847957883506,0.12207300093245746,0.17457626345700922,0.20030783148245868,0.1347505616827642,0.13149308235506252,0.22730256884955943,1.0,0.12033204203758902],[0.06028173536319364,0.06167918556301713,0.013535146712899461,0.09425476633510524,0.17421809572092564,0.13599008957498623,0.23298453271095707,0.22447403574920313,0.34955786968824026,0.28311652940175813,0.29080977704442185,0.43874897760075066,0.42519825177511433,0.2455550890724698,0.298317111223998,0.22327579965300137,0.12033204203758902,1.0]],\"zmax\":1,\"zmin\":-1,\"type\":\"heatmap\"}],                        {\"title\":{\"text\":\"features vs features\"},\"template\":{\"data\":{\"histogram2dcontour\":[{\"type\":\"histogram2dcontour\",\"colorbar\":{\"outlinewidth\":0,\"ticks\":\"\"},\"colorscale\":[[0.0,\"#0d0887\"],[0.1111111111111111,\"#46039f\"],[0.2222222222222222,\"#7201a8\"],[0.3333333333333333,\"#9c179e\"],[0.4444444444444444,\"#bd3786\"],[0.5555555555555556,\"#d8576b\"],[0.6666666666666666,\"#ed7953\"],[0.7777777777777778,\"#fb9f3a\"],[0.8888888888888888,\"#fdca26\"],[1.0,\"#f0f921\"]]}],\"choropleth\":[{\"type\":\"choropleth\",\"colorbar\":{\"outlinewidth\":0,\"ticks\":\"\"}}],\"histogram2d\":[{\"type\":\"histogram2d\",\"colorbar\":{\"outlinewidth\":0,\"ticks\":\"\"},\"colorscale\":[[0.0,\"#0d0887\"],[0.1111111111111111,\"#46039f\"],[0.2222222222222222,\"#7201a8\"],[0.3333333333333333,\"#9c179e\"],[0.4444444444444444,\"#bd3786\"],[0.5555555555555556,\"#d8576b\"],[0.6666666666666666,\"#ed7953\"],[0.7777777777777778,\"#fb9f3a\"],[0.8888888888888888,\"#fdca26\"],[1.0,\"#f0f921\"]]}],\"heatmap\":[{\"type\":\"heatmap\",\"colorbar\":{\"outlinewidth\":0,\"ticks\":\"\"},\"colorscale\":[[0.0,\"#0d0887\"],[0.1111111111111111,\"#46039f\"],[0.2222222222222222,\"#7201a8\"],[0.3333333333333333,\"#9c179e\"],[0.4444444444444444,\"#bd3786\"],[0.5555555555555556,\"#d8576b\"],[0.6666666666666666,\"#ed7953\"],[0.7777777777777778,\"#fb9f3a\"],[0.8888888888888888,\"#fdca26\"],[1.0,\"#f0f921\"]]}],\"heatmapgl\":[{\"type\":\"heatmapgl\",\"colorbar\":{\"outlinewidth\":0,\"ticks\":\"\"},\"colorscale\":[[0.0,\"#0d0887\"],[0.1111111111111111,\"#46039f\"],[0.2222222222222222,\"#7201a8\"],[0.3333333333333333,\"#9c179e\"],[0.4444444444444444,\"#bd3786\"],[0.5555555555555556,\"#d8576b\"],[0.6666666666666666,\"#ed7953\"],[0.7777777777777778,\"#fb9f3a\"],[0.8888888888888888,\"#fdca26\"],[1.0,\"#f0f921\"]]}],\"contourcarpet\":[{\"type\":\"contourcarpet\",\"colorbar\":{\"outlinewidth\":0,\"ticks\":\"\"}}],\"contour\":[{\"type\":\"contour\",\"colorbar\":{\"outlinewidth\":0,\"ticks\":\"\"},\"colorscale\":[[0.0,\"#0d0887\"],[0.1111111111111111,\"#46039f\"],[0.2222222222222222,\"#7201a8\"],[0.3333333333333333,\"#9c179e\"],[0.4444444444444444,\"#bd3786\"],[0.5555555555555556,\"#d8576b\"],[0.6666666666666666,\"#ed7953\"],[0.7777777777777778,\"#fb9f3a\"],[0.8888888888888888,\"#fdca26\"],[1.0,\"#f0f921\"]]}],\"surface\":[{\"type\":\"surface\",\"colorbar\":{\"outlinewidth\":0,\"ticks\":\"\"},\"colorscale\":[[0.0,\"#0d0887\"],[0.1111111111111111,\"#46039f\"],[0.2222222222222222,\"#7201a8\"],[0.3333333333333333,\"#9c179e\"],[0.4444444444444444,\"#bd3786\"],[0.5555555555555556,\"#d8576b\"],[0.6666666666666666,\"#ed7953\"],[0.7777777777777778,\"#fb9f3a\"],[0.8888888888888888,\"#fdca26\"],[1.0,\"#f0f921\"]]}],\"mesh3d\":[{\"type\":\"mesh3d\",\"colorbar\":{\"outlinewidth\":0,\"ticks\":\"\"}}],\"scatter\":[{\"fillpattern\":{\"fillmode\":\"overlay\",\"size\":10,\"solidity\":0.2},\"type\":\"scatter\"}],\"parcoords\":[{\"type\":\"parcoords\",\"line\":{\"colorbar\":{\"outlinewidth\":0,\"ticks\":\"\"}}}],\"scatterpolargl\":[{\"type\":\"scatterpolargl\",\"marker\":{\"colorbar\":{\"outlinewidth\":0,\"ticks\":\"\"}}}],\"bar\":[{\"error_x\":{\"color\":\"#2a3f5f\"},\"error_y\":{\"color\":\"#2a3f5f\"},\"marker\":{\"line\":{\"color\":\"#E5ECF6\",\"width\":0.5},\"pattern\":{\"fillmode\":\"overlay\",\"size\":10,\"solidity\":0.2}},\"type\":\"bar\"}],\"scattergeo\":[{\"type\":\"scattergeo\",\"marker\":{\"colorbar\":{\"outlinewidth\":0,\"ticks\":\"\"}}}],\"scatterpolar\":[{\"type\":\"scatterpolar\",\"marker\":{\"colorbar\":{\"outlinewidth\":0,\"ticks\":\"\"}}}],\"histogram\":[{\"marker\":{\"pattern\":{\"fillmode\":\"overlay\",\"size\":10,\"solidity\":0.2}},\"type\":\"histogram\"}],\"scattergl\":[{\"type\":\"scattergl\",\"marker\":{\"colorbar\":{\"outlinewidth\":0,\"ticks\":\"\"}}}],\"scatter3d\":[{\"type\":\"scatter3d\",\"line\":{\"colorbar\":{\"outlinewidth\":0,\"ticks\":\"\"}},\"marker\":{\"colorbar\":{\"outlinewidth\":0,\"ticks\":\"\"}}}],\"scattermapbox\":[{\"type\":\"scattermapbox\",\"marker\":{\"colorbar\":{\"outlinewidth\":0,\"ticks\":\"\"}}}],\"scatterternary\":[{\"type\":\"scatterternary\",\"marker\":{\"colorbar\":{\"outlinewidth\":0,\"ticks\":\"\"}}}],\"scattercarpet\":[{\"type\":\"scattercarpet\",\"marker\":{\"colorbar\":{\"outlinewidth\":0,\"ticks\":\"\"}}}],\"carpet\":[{\"aaxis\":{\"endlinecolor\":\"#2a3f5f\",\"gridcolor\":\"white\",\"linecolor\":\"white\",\"minorgridcolor\":\"white\",\"startlinecolor\":\"#2a3f5f\"},\"baxis\":{\"endlinecolor\":\"#2a3f5f\",\"gridcolor\":\"white\",\"linecolor\":\"white\",\"minorgridcolor\":\"white\",\"startlinecolor\":\"#2a3f5f\"},\"type\":\"carpet\"}],\"table\":[{\"cells\":{\"fill\":{\"color\":\"#EBF0F8\"},\"line\":{\"color\":\"white\"}},\"header\":{\"fill\":{\"color\":\"#C8D4E3\"},\"line\":{\"color\":\"white\"}},\"type\":\"table\"}],\"barpolar\":[{\"marker\":{\"line\":{\"color\":\"#E5ECF6\",\"width\":0.5},\"pattern\":{\"fillmode\":\"overlay\",\"size\":10,\"solidity\":0.2}},\"type\":\"barpolar\"}],\"pie\":[{\"automargin\":true,\"type\":\"pie\"}]},\"layout\":{\"autotypenumbers\":\"strict\",\"colorway\":[\"#636efa\",\"#EF553B\",\"#00cc96\",\"#ab63fa\",\"#FFA15A\",\"#19d3f3\",\"#FF6692\",\"#B6E880\",\"#FF97FF\",\"#FECB52\"],\"font\":{\"color\":\"#2a3f5f\"},\"hovermode\":\"closest\",\"hoverlabel\":{\"align\":\"left\"},\"paper_bgcolor\":\"white\",\"plot_bgcolor\":\"#E5ECF6\",\"polar\":{\"bgcolor\":\"#E5ECF6\",\"angularaxis\":{\"gridcolor\":\"white\",\"linecolor\":\"white\",\"ticks\":\"\"},\"radialaxis\":{\"gridcolor\":\"white\",\"linecolor\":\"white\",\"ticks\":\"\"}},\"ternary\":{\"bgcolor\":\"#E5ECF6\",\"aaxis\":{\"gridcolor\":\"white\",\"linecolor\":\"white\",\"ticks\":\"\"},\"baxis\":{\"gridcolor\":\"white\",\"linecolor\":\"white\",\"ticks\":\"\"},\"caxis\":{\"gridcolor\":\"white\",\"linecolor\":\"white\",\"ticks\":\"\"}},\"coloraxis\":{\"colorbar\":{\"outlinewidth\":0,\"ticks\":\"\"}},\"colorscale\":{\"sequential\":[[0.0,\"#0d0887\"],[0.1111111111111111,\"#46039f\"],[0.2222222222222222,\"#7201a8\"],[0.3333333333333333,\"#9c179e\"],[0.4444444444444444,\"#bd3786\"],[0.5555555555555556,\"#d8576b\"],[0.6666666666666666,\"#ed7953\"],[0.7777777777777778,\"#fb9f3a\"],[0.8888888888888888,\"#fdca26\"],[1.0,\"#f0f921\"]],\"sequentialminus\":[[0.0,\"#0d0887\"],[0.1111111111111111,\"#46039f\"],[0.2222222222222222,\"#7201a8\"],[0.3333333333333333,\"#9c179e\"],[0.4444444444444444,\"#bd3786\"],[0.5555555555555556,\"#d8576b\"],[0.6666666666666666,\"#ed7953\"],[0.7777777777777778,\"#fb9f3a\"],[0.8888888888888888,\"#fdca26\"],[1.0,\"#f0f921\"]],\"diverging\":[[0,\"#8e0152\"],[0.1,\"#c51b7d\"],[0.2,\"#de77ae\"],[0.3,\"#f1b6da\"],[0.4,\"#fde0ef\"],[0.5,\"#f7f7f7\"],[0.6,\"#e6f5d0\"],[0.7,\"#b8e186\"],[0.8,\"#7fbc41\"],[0.9,\"#4d9221\"],[1,\"#276419\"]]},\"xaxis\":{\"gridcolor\":\"white\",\"linecolor\":\"white\",\"ticks\":\"\",\"title\":{\"standoff\":15},\"zerolinecolor\":\"white\",\"automargin\":true,\"zerolinewidth\":2},\"yaxis\":{\"gridcolor\":\"white\",\"linecolor\":\"white\",\"ticks\":\"\",\"title\":{\"standoff\":15},\"zerolinecolor\":\"white\",\"automargin\":true,\"zerolinewidth\":2},\"scene\":{\"xaxis\":{\"backgroundcolor\":\"#E5ECF6\",\"gridcolor\":\"white\",\"linecolor\":\"white\",\"showbackground\":true,\"ticks\":\"\",\"zerolinecolor\":\"white\",\"gridwidth\":2},\"yaxis\":{\"backgroundcolor\":\"#E5ECF6\",\"gridcolor\":\"white\",\"linecolor\":\"white\",\"showbackground\":true,\"ticks\":\"\",\"zerolinecolor\":\"white\",\"gridwidth\":2},\"zaxis\":{\"backgroundcolor\":\"#E5ECF6\",\"gridcolor\":\"white\",\"linecolor\":\"white\",\"showbackground\":true,\"ticks\":\"\",\"zerolinecolor\":\"white\",\"gridwidth\":2}},\"shapedefaults\":{\"line\":{\"color\":\"#2a3f5f\"}},\"annotationdefaults\":{\"arrowcolor\":\"#2a3f5f\",\"arrowhead\":0,\"arrowwidth\":1},\"geo\":{\"bgcolor\":\"white\",\"landcolor\":\"#E5ECF6\",\"subunitcolor\":\"white\",\"showland\":true,\"showlakes\":true,\"lakecolor\":\"white\"},\"title\":{\"x\":0.05},\"mapbox\":{\"style\":\"light\"}}}},                        {\"responsive\": true}                    ).then(function(){\n",
       "                            \n",
       "var gd = document.getElementById('0f2a2bbb-2417-44b2-9848-d76ac2946366');\n",
       "var x = new MutationObserver(function (mutations, observer) {{\n",
       "        var display = window.getComputedStyle(gd).display;\n",
       "        if (!display || display === 'none') {{\n",
       "            console.log([gd, 'removed!']);\n",
       "            Plotly.purge(gd);\n",
       "            observer.disconnect();\n",
       "        }}\n",
       "}});\n",
       "\n",
       "// Listen for the removal of the full notebook cells\n",
       "var notebookContainer = gd.closest('#notebook-container');\n",
       "if (notebookContainer) {{\n",
       "    x.observe(notebookContainer, {childList: true});\n",
       "}}\n",
       "\n",
       "// Listen for the clearing of the current output cell\n",
       "var outputEl = gd.closest('.output');\n",
       "if (outputEl) {{\n",
       "    x.observe(outputEl, {childList: true});\n",
       "}}\n",
       "\n",
       "                        })                };                });            </script>        </div>"
      ]
     },
     "metadata": {},
     "output_type": "display_data"
    }
   ],
   "source": [
    "for (var1, var2) in itertools.product(*[columns_dict.keys(), columns_dict.keys()]):\n",
    "    if var1 <= var2:\n",
    "\n",
    "        fig = go.Figure(\n",
    "            data=[go.Heatmap(\n",
    "                    z=df_corr.loc[columns_dict[var1], columns_dict[var2]].values.tolist(),\n",
    "                    x=columns_dict[var2], #  df_corr.columns\n",
    "                    y=columns_dict[var1],\n",
    "                    colorscale='rdylgn', \n",
    "                    zmin=-1, zmax=1,\n",
    "                )],\n",
    "            layout=go.Layout(\n",
    "                title=go.layout.Title(text=f\"{var1} vs {var2}\")\n",
    "            )\n",
    "        )\n",
    "        fig.show()"
   ]
  },
  {
   "cell_type": "code",
   "execution_count": null,
   "id": "096ec528",
   "metadata": {},
   "outputs": [],
   "source": []
  },
  {
   "cell_type": "markdown",
   "id": "cc684cfc",
   "metadata": {},
   "source": [
    "<a id=\"hypothesis\"></a>\n",
    "\n",
    "# 2. Hypothesis Testing"
   ]
  },
  {
   "cell_type": "markdown",
   "id": "719c5639",
   "metadata": {},
   "source": [
    "<a id=\"flags\"></a>\n",
    "\n",
    "# 2.1. For flags"
   ]
  },
  {
   "cell_type": "code",
   "execution_count": 107,
   "id": "40a5a331",
   "metadata": {},
   "outputs": [],
   "source": [
    "def compare_by_feature(df, feature):\n",
    "    df2 = df[list(df)]\n",
    "    df2['summary_score'] = df2['total_reviews_count'] * df2['avg_rating']\n",
    "\n",
    "    df2_agg = df2.groupby(feature).agg({'restaurant_link': 'count', 'summary_score': 'sum', 'total_reviews_count': 'sum'})\n",
    "    df2_agg['total_avg_rating'] = df2_agg['summary_score'] / df2_agg['total_reviews_count']\n",
    "\n",
    "    return df2_agg[['restaurant_link', 'total_avg_rating']]\n",
    "\n"
   ]
  },
  {
   "cell_type": "code",
   "execution_count": 102,
   "id": "9960c60e",
   "metadata": {},
   "outputs": [],
   "source": [
    "def filter_with_threshold(df):\n",
    "#     size of the minimal group\n",
    "    min_group_size_ratio = df['restaurant_link'].min() / df['restaurant_link'].sum()\n",
    "#     ratio of difference between ratings (for group with feature and group without feature) and rating of base option (group without feature)\n",
    "    diff_rating_ratio = abs((df['total_avg_rating'].max() - df['total_avg_rating'].min()) / df['total_avg_rating'].loc[0])\n",
    "    \n",
    "    if len(df['total_avg_rating']) == 2:\n",
    "        if df['total_avg_rating'].loc[0] < df['total_avg_rating'].loc[1]:\n",
    "            featured_group_rating = 'better'\n",
    "        elif df['total_avg_rating'].loc[0] > df['total_avg_rating'].loc[1]:\n",
    "            featured_group_rating = 'worse'\n",
    "        else:\n",
    "            featured_group_rating = 'the same'\n",
    "    else:\n",
    "        featured_group_rating = 'not applicable'\n",
    "    return min_group_size_ratio, diff_rating_ratio, featured_group_rating\n"
   ]
  },
  {
   "cell_type": "code",
   "execution_count": 169,
   "id": "5b602d02",
   "metadata": {},
   "outputs": [],
   "source": [
    "def print_significant_groups(country_df, feature_prefixes, group_size_threshold, rating_diff_threshold):\n",
    "    \n",
    "    features_list = [col for col in country_df.columns if any([pre in col for pre in feature_prefixes]) and '_cnt' not in col]\n",
    "    \n",
    "    significance_counter = 0\n",
    "    \n",
    "    for feature in features_list:\n",
    "        df_compare = compare_by_feature(country_df, feature)\n",
    "        param_filter = filter_with_threshold(df_compare)\n",
    "        if (param_filter[0] > group_size_threshold \n",
    "            and \n",
    "            param_filter[1] > rating_diff_threshold\n",
    "           ):\n",
    "            significance_counter += 1\n",
    "            print()\n",
    "            print()\n",
    "            print(feature)\n",
    "            print(df_compare)\n",
    "            print(\"Ratio of the smallest group:\\t{0:.3f}\".format(param_filter[0]))\n",
    "            print(\"Variation (??):\\t\\t\\t{0:.3f}\\t= {0:.1%}\".format(param_filter[1]))\n",
    "            if param_filter[2] == 'not applicable':\n",
    "                print(param_filter[2])\n",
    "            else: \n",
    "                print(\"The featured group is \" + str.upper(param_filter[2]))\n",
    "#             else:\n",
    "#                 print('the minimal group is too small or the difference < 5%')\n",
    "            \n",
    "    return np.sign(significance_counter)"
   ]
  },
  {
   "cell_type": "code",
   "execution_count": null,
   "id": "6e03074b",
   "metadata": {},
   "outputs": [],
   "source": []
  },
  {
   "cell_type": "code",
   "execution_count": 232,
   "id": "5c1a384f",
   "metadata": {},
   "outputs": [
    {
     "name": "stdout",
     "output_type": "stream",
     "text": [
      "\n",
      "\n",
      "==========================\n",
      "========  FRANCE  ========\n",
      "==========================\n"
     ]
    },
    {
     "name": "stderr",
     "output_type": "stream",
     "text": [
      "/var/folders/zh/mnvg84rj3_7413ycjzpn5y8r0000gp/T/ipykernel_75787/128475807.py:22: SettingWithCopyWarning: \n",
      "A value is trying to be set on a copy of a slice from a DataFrame.\n",
      "Try using .loc[row_indexer,col_indexer] = value instead\n",
      "\n",
      "See the caveats in the documentation: https://pandas.pydata.org/pandas-docs/stable/user_guide/indexing.html#returning-a-view-versus-a-copy\n",
      "  df.loc[:, col + '_' + t] = df[col].apply(lambda x: 1 if t in str(x) else 0)\n"
     ]
    },
    {
     "name": "stdout",
     "output_type": "stream",
     "text": [
      "\n",
      "\n",
      "features_Table Service\n",
      "                        restaurant_link  total_avg_rating\n",
      "features_Table Service                                   \n",
      "0                                  7044          3.617394\n",
      "1                                 37479          3.898294\n",
      "Ratio of the smallest group:\t0.158\n",
      "Variation (??):\t\t\t0.078\t= 7.8%\n",
      "The featured group is BETTER\n",
      "\n",
      "\n",
      "===================================\n",
      "========  THE NETHERLANDS  ========\n",
      "===================================\n"
     ]
    },
    {
     "name": "stderr",
     "output_type": "stream",
     "text": [
      "/var/folders/zh/mnvg84rj3_7413ycjzpn5y8r0000gp/T/ipykernel_75787/128475807.py:22: SettingWithCopyWarning: \n",
      "A value is trying to be set on a copy of a slice from a DataFrame.\n",
      "Try using .loc[row_indexer,col_indexer] = value instead\n",
      "\n",
      "See the caveats in the documentation: https://pandas.pydata.org/pandas-docs/stable/user_guide/indexing.html#returning-a-view-versus-a-copy\n",
      "  df.loc[:, col + '_' + t] = df[col].apply(lambda x: 1 if t in str(x) else 0)\n",
      "/var/folders/zh/mnvg84rj3_7413ycjzpn5y8r0000gp/T/ipykernel_75787/128475807.py:22: SettingWithCopyWarning: \n",
      "A value is trying to be set on a copy of a slice from a DataFrame.\n",
      "Try using .loc[row_indexer,col_indexer] = value instead\n",
      "\n",
      "See the caveats in the documentation: https://pandas.pydata.org/pandas-docs/stable/user_guide/indexing.html#returning-a-view-versus-a-copy\n",
      "  df.loc[:, col + '_' + t] = df[col].apply(lambda x: 1 if t in str(x) else 0)\n",
      "/var/folders/zh/mnvg84rj3_7413ycjzpn5y8r0000gp/T/ipykernel_75787/128475807.py:22: SettingWithCopyWarning: \n",
      "A value is trying to be set on a copy of a slice from a DataFrame.\n",
      "Try using .loc[row_indexer,col_indexer] = value instead\n",
      "\n",
      "See the caveats in the documentation: https://pandas.pydata.org/pandas-docs/stable/user_guide/indexing.html#returning-a-view-versus-a-copy\n",
      "  df.loc[:, col + '_' + t] = df[col].apply(lambda x: 1 if t in str(x) else 0)\n",
      "/var/folders/zh/mnvg84rj3_7413ycjzpn5y8r0000gp/T/ipykernel_75787/128475807.py:22: SettingWithCopyWarning: \n",
      "A value is trying to be set on a copy of a slice from a DataFrame.\n",
      "Try using .loc[row_indexer,col_indexer] = value instead\n",
      "\n",
      "See the caveats in the documentation: https://pandas.pydata.org/pandas-docs/stable/user_guide/indexing.html#returning-a-view-versus-a-copy\n",
      "  df.loc[:, col + '_' + t] = df[col].apply(lambda x: 1 if t in str(x) else 0)\n"
     ]
    },
    {
     "name": "stdout",
     "output_type": "stream",
     "text": [
      "\n",
      "\n",
      "features_Free Wifi\n",
      "                    restaurant_link  total_avg_rating\n",
      "features_Free Wifi                                   \n",
      "0                              2956          3.850697\n",
      "1                               543          4.200117\n",
      "Ratio of the smallest group:\t0.155\n",
      "Variation (??):\t\t\t0.091\t= 9.1%\n",
      "The featured group is BETTER\n",
      "\n",
      "\n",
      "===========================\n",
      "========  GERMANY  ========\n",
      "===========================\n"
     ]
    },
    {
     "name": "stderr",
     "output_type": "stream",
     "text": [
      "/var/folders/zh/mnvg84rj3_7413ycjzpn5y8r0000gp/T/ipykernel_75787/128475807.py:22: SettingWithCopyWarning: \n",
      "A value is trying to be set on a copy of a slice from a DataFrame.\n",
      "Try using .loc[row_indexer,col_indexer] = value instead\n",
      "\n",
      "See the caveats in the documentation: https://pandas.pydata.org/pandas-docs/stable/user_guide/indexing.html#returning-a-view-versus-a-copy\n",
      "  df.loc[:, col + '_' + t] = df[col].apply(lambda x: 1 if t in str(x) else 0)\n",
      "/var/folders/zh/mnvg84rj3_7413ycjzpn5y8r0000gp/T/ipykernel_75787/128475807.py:22: SettingWithCopyWarning: \n",
      "A value is trying to be set on a copy of a slice from a DataFrame.\n",
      "Try using .loc[row_indexer,col_indexer] = value instead\n",
      "\n",
      "See the caveats in the documentation: https://pandas.pydata.org/pandas-docs/stable/user_guide/indexing.html#returning-a-view-versus-a-copy\n",
      "  df.loc[:, col + '_' + t] = df[col].apply(lambda x: 1 if t in str(x) else 0)\n",
      "/var/folders/zh/mnvg84rj3_7413ycjzpn5y8r0000gp/T/ipykernel_75787/128475807.py:22: SettingWithCopyWarning: \n",
      "A value is trying to be set on a copy of a slice from a DataFrame.\n",
      "Try using .loc[row_indexer,col_indexer] = value instead\n",
      "\n",
      "See the caveats in the documentation: https://pandas.pydata.org/pandas-docs/stable/user_guide/indexing.html#returning-a-view-versus-a-copy\n",
      "  df.loc[:, col + '_' + t] = df[col].apply(lambda x: 1 if t in str(x) else 0)\n"
     ]
    },
    {
     "name": "stdout",
     "output_type": "stream",
     "text": [
      "There are no significant differences\n",
      "\n",
      "\n",
      "===========================\n",
      "========  AUSTRIA  ========\n",
      "===========================\n",
      "There are no significant differences\n",
      "\n",
      "\n",
      "=========================\n",
      "========  SPAIN  ========\n",
      "=========================\n"
     ]
    },
    {
     "name": "stderr",
     "output_type": "stream",
     "text": [
      "/var/folders/zh/mnvg84rj3_7413ycjzpn5y8r0000gp/T/ipykernel_75787/128475807.py:22: SettingWithCopyWarning: \n",
      "A value is trying to be set on a copy of a slice from a DataFrame.\n",
      "Try using .loc[row_indexer,col_indexer] = value instead\n",
      "\n",
      "See the caveats in the documentation: https://pandas.pydata.org/pandas-docs/stable/user_guide/indexing.html#returning-a-view-versus-a-copy\n",
      "  df.loc[:, col + '_' + t] = df[col].apply(lambda x: 1 if t in str(x) else 0)\n",
      "/var/folders/zh/mnvg84rj3_7413ycjzpn5y8r0000gp/T/ipykernel_75787/128475807.py:22: SettingWithCopyWarning: \n",
      "A value is trying to be set on a copy of a slice from a DataFrame.\n",
      "Try using .loc[row_indexer,col_indexer] = value instead\n",
      "\n",
      "See the caveats in the documentation: https://pandas.pydata.org/pandas-docs/stable/user_guide/indexing.html#returning-a-view-versus-a-copy\n",
      "  df.loc[:, col + '_' + t] = df[col].apply(lambda x: 1 if t in str(x) else 0)\n",
      "/var/folders/zh/mnvg84rj3_7413ycjzpn5y8r0000gp/T/ipykernel_75787/128475807.py:22: SettingWithCopyWarning: \n",
      "A value is trying to be set on a copy of a slice from a DataFrame.\n",
      "Try using .loc[row_indexer,col_indexer] = value instead\n",
      "\n",
      "See the caveats in the documentation: https://pandas.pydata.org/pandas-docs/stable/user_guide/indexing.html#returning-a-view-versus-a-copy\n",
      "  df.loc[:, col + '_' + t] = df[col].apply(lambda x: 1 if t in str(x) else 0)\n",
      "/var/folders/zh/mnvg84rj3_7413ycjzpn5y8r0000gp/T/ipykernel_75787/128475807.py:22: SettingWithCopyWarning: \n",
      "A value is trying to be set on a copy of a slice from a DataFrame.\n",
      "Try using .loc[row_indexer,col_indexer] = value instead\n",
      "\n",
      "See the caveats in the documentation: https://pandas.pydata.org/pandas-docs/stable/user_guide/indexing.html#returning-a-view-versus-a-copy\n",
      "  df.loc[:, col + '_' + t] = df[col].apply(lambda x: 1 if t in str(x) else 0)\n",
      "/var/folders/zh/mnvg84rj3_7413ycjzpn5y8r0000gp/T/ipykernel_75787/128475807.py:22: SettingWithCopyWarning: \n",
      "A value is trying to be set on a copy of a slice from a DataFrame.\n",
      "Try using .loc[row_indexer,col_indexer] = value instead\n",
      "\n",
      "See the caveats in the documentation: https://pandas.pydata.org/pandas-docs/stable/user_guide/indexing.html#returning-a-view-versus-a-copy\n",
      "  df.loc[:, col + '_' + t] = df[col].apply(lambda x: 1 if t in str(x) else 0)\n",
      "/var/folders/zh/mnvg84rj3_7413ycjzpn5y8r0000gp/T/ipykernel_75787/128475807.py:22: SettingWithCopyWarning: \n",
      "A value is trying to be set on a copy of a slice from a DataFrame.\n",
      "Try using .loc[row_indexer,col_indexer] = value instead\n",
      "\n",
      "See the caveats in the documentation: https://pandas.pydata.org/pandas-docs/stable/user_guide/indexing.html#returning-a-view-versus-a-copy\n",
      "  df.loc[:, col + '_' + t] = df[col].apply(lambda x: 1 if t in str(x) else 0)\n"
     ]
    },
    {
     "name": "stdout",
     "output_type": "stream",
     "text": [
      "\n",
      "\n",
      "meals_Dinner\n",
      "              restaurant_link  total_avg_rating\n",
      "meals_Dinner                                   \n",
      "0                        5939          3.601546\n",
      "1                       24692          4.057811\n",
      "Ratio of the smallest group:\t0.194\n",
      "Variation (??):\t\t\t0.127\t= 12.7%\n",
      "The featured group is BETTER\n",
      "\n",
      "\n",
      "meals_Lunch\n",
      "             restaurant_link  total_avg_rating\n",
      "meals_Lunch                                   \n",
      "0                       6918          3.736547\n",
      "1                      23713          4.042409\n",
      "Ratio of the smallest group:\t0.226\n",
      "Variation (??):\t\t\t0.082\t= 8.2%\n",
      "The featured group is BETTER\n",
      "\n",
      "\n",
      "features_Accepts Credit Cards\n",
      "                               restaurant_link  total_avg_rating\n",
      "features_Accepts Credit Cards                                   \n",
      "0                                        23636          3.771982\n",
      "1                                         6995          4.145054\n",
      "Ratio of the smallest group:\t0.228\n",
      "Variation (??):\t\t\t0.099\t= 9.9%\n",
      "The featured group is BETTER\n",
      "\n",
      "\n",
      "features_Highchairs Available\n",
      "                               restaurant_link  total_avg_rating\n",
      "features_Highchairs Available                                   \n",
      "0                                        25766          3.872315\n",
      "1                                         4865          4.160227\n",
      "Ratio of the smallest group:\t0.159\n",
      "Variation (??):\t\t\t0.074\t= 7.4%\n",
      "The featured group is BETTER\n",
      "\n",
      "\n",
      "features_Free Wifi\n",
      "                    restaurant_link  total_avg_rating\n",
      "features_Free Wifi                                   \n",
      "0                             25850          3.834624\n",
      "1                              4781          4.257484\n",
      "Ratio of the smallest group:\t0.156\n",
      "Variation (??):\t\t\t0.110\t= 11.0%\n",
      "The featured group is BETTER\n",
      "\n",
      "\n",
      "==================================\n",
      "========  UNITED KINGDOM  ========\n",
      "==================================\n"
     ]
    },
    {
     "name": "stderr",
     "output_type": "stream",
     "text": [
      "/var/folders/zh/mnvg84rj3_7413ycjzpn5y8r0000gp/T/ipykernel_75787/128475807.py:22: SettingWithCopyWarning: \n",
      "A value is trying to be set on a copy of a slice from a DataFrame.\n",
      "Try using .loc[row_indexer,col_indexer] = value instead\n",
      "\n",
      "See the caveats in the documentation: https://pandas.pydata.org/pandas-docs/stable/user_guide/indexing.html#returning-a-view-versus-a-copy\n",
      "  df.loc[:, col + '_' + t] = df[col].apply(lambda x: 1 if t in str(x) else 0)\n",
      "/var/folders/zh/mnvg84rj3_7413ycjzpn5y8r0000gp/T/ipykernel_75787/128475807.py:22: SettingWithCopyWarning: \n",
      "A value is trying to be set on a copy of a slice from a DataFrame.\n",
      "Try using .loc[row_indexer,col_indexer] = value instead\n",
      "\n",
      "See the caveats in the documentation: https://pandas.pydata.org/pandas-docs/stable/user_guide/indexing.html#returning-a-view-versus-a-copy\n",
      "  df.loc[:, col + '_' + t] = df[col].apply(lambda x: 1 if t in str(x) else 0)\n",
      "/var/folders/zh/mnvg84rj3_7413ycjzpn5y8r0000gp/T/ipykernel_75787/128475807.py:22: SettingWithCopyWarning: \n",
      "A value is trying to be set on a copy of a slice from a DataFrame.\n",
      "Try using .loc[row_indexer,col_indexer] = value instead\n",
      "\n",
      "See the caveats in the documentation: https://pandas.pydata.org/pandas-docs/stable/user_guide/indexing.html#returning-a-view-versus-a-copy\n",
      "  df.loc[:, col + '_' + t] = df[col].apply(lambda x: 1 if t in str(x) else 0)\n"
     ]
    },
    {
     "name": "stdout",
     "output_type": "stream",
     "text": [
      "\n",
      "\n",
      "special_diets_Vegetarian Friendly\n",
      "                                   restaurant_link  total_avg_rating\n",
      "special_diets_Vegetarian Friendly                                   \n",
      "0                                            21246          3.801449\n",
      "1                                            14289          4.240235\n",
      "Ratio of the smallest group:\t0.402\n",
      "Variation (??):\t\t\t0.115\t= 11.5%\n",
      "The featured group is BETTER\n",
      "\n",
      "\n",
      "special_diets_Gluten Free Options\n",
      "                                   restaurant_link  total_avg_rating\n",
      "special_diets_Gluten Free Options                                   \n",
      "0                                            23888          3.827800\n",
      "1                                            11647          4.261214\n",
      "Ratio of the smallest group:\t0.328\n",
      "Variation (??):\t\t\t0.113\t= 11.3%\n",
      "The featured group is BETTER\n",
      "\n",
      "\n",
      "special_diets_Vegan Options\n",
      "                             restaurant_link  total_avg_rating\n",
      "special_diets_Vegan Options                                   \n",
      "0                                      24855          3.921356\n",
      "1                                      10680          4.277435\n",
      "Ratio of the smallest group:\t0.301\n",
      "Variation (??):\t\t\t0.091\t= 9.1%\n",
      "The featured group is BETTER\n",
      "\n",
      "\n",
      "cuisines_Fast food\n",
      "                    restaurant_link  total_avg_rating\n",
      "cuisines_Fast food                                   \n",
      "0                             28524          4.185933\n",
      "1                              7011          3.821675\n",
      "Ratio of the smallest group:\t0.197\n",
      "Variation (??):\t\t\t0.087\t= 8.7%\n",
      "The featured group is WORSE\n",
      "\n",
      "\n",
      "features_Table Service\n",
      "                        restaurant_link  total_avg_rating\n",
      "features_Table Service                                   \n",
      "0                                 18138          3.852799\n",
      "1                                 17397          4.228655\n",
      "Ratio of the smallest group:\t0.490\n",
      "Variation (??):\t\t\t0.098\t= 9.8%\n",
      "The featured group is BETTER\n",
      "\n",
      "\n",
      "=========================\n",
      "========  ITALY  ========\n",
      "=========================\n"
     ]
    },
    {
     "name": "stderr",
     "output_type": "stream",
     "text": [
      "/var/folders/zh/mnvg84rj3_7413ycjzpn5y8r0000gp/T/ipykernel_75787/128475807.py:22: SettingWithCopyWarning: \n",
      "A value is trying to be set on a copy of a slice from a DataFrame.\n",
      "Try using .loc[row_indexer,col_indexer] = value instead\n",
      "\n",
      "See the caveats in the documentation: https://pandas.pydata.org/pandas-docs/stable/user_guide/indexing.html#returning-a-view-versus-a-copy\n",
      "  df.loc[:, col + '_' + t] = df[col].apply(lambda x: 1 if t in str(x) else 0)\n",
      "/var/folders/zh/mnvg84rj3_7413ycjzpn5y8r0000gp/T/ipykernel_75787/128475807.py:22: SettingWithCopyWarning: \n",
      "A value is trying to be set on a copy of a slice from a DataFrame.\n",
      "Try using .loc[row_indexer,col_indexer] = value instead\n",
      "\n",
      "See the caveats in the documentation: https://pandas.pydata.org/pandas-docs/stable/user_guide/indexing.html#returning-a-view-versus-a-copy\n",
      "  df.loc[:, col + '_' + t] = df[col].apply(lambda x: 1 if t in str(x) else 0)\n"
     ]
    },
    {
     "name": "stdout",
     "output_type": "stream",
     "text": [
      "\n",
      "\n",
      "meals_Dinner\n",
      "              restaurant_link  total_avg_rating\n",
      "meals_Dinner                                   \n",
      "0                       10006          3.572672\n",
      "1                       28732          4.005614\n",
      "Ratio of the smallest group:\t0.258\n",
      "Variation (??):\t\t\t0.121\t= 12.1%\n",
      "The featured group is BETTER\n",
      "\n",
      "\n",
      "meals_Lunch\n",
      "             restaurant_link  total_avg_rating\n",
      "meals_Lunch                                   \n",
      "0                      13074          3.625342\n",
      "1                      25664          4.006944\n",
      "Ratio of the smallest group:\t0.337\n",
      "Variation (??):\t\t\t0.105\t= 10.5%\n",
      "The featured group is BETTER\n",
      "\n",
      "\n",
      "cuisines_Pizza\n",
      "                restaurant_link  total_avg_rating\n",
      "cuisines_Pizza                                   \n",
      "0                         30215          3.981320\n",
      "1                          8523          3.695881\n",
      "Ratio of the smallest group:\t0.220\n",
      "Variation (??):\t\t\t0.072\t= 7.2%\n",
      "The featured group is WORSE\n",
      "\n",
      "\n",
      "===========================\n",
      "========  IRELAND  ========\n",
      "===========================\n"
     ]
    },
    {
     "name": "stderr",
     "output_type": "stream",
     "text": [
      "/var/folders/zh/mnvg84rj3_7413ycjzpn5y8r0000gp/T/ipykernel_75787/128475807.py:22: SettingWithCopyWarning: \n",
      "A value is trying to be set on a copy of a slice from a DataFrame.\n",
      "Try using .loc[row_indexer,col_indexer] = value instead\n",
      "\n",
      "See the caveats in the documentation: https://pandas.pydata.org/pandas-docs/stable/user_guide/indexing.html#returning-a-view-versus-a-copy\n",
      "  df.loc[:, col + '_' + t] = df[col].apply(lambda x: 1 if t in str(x) else 0)\n",
      "/var/folders/zh/mnvg84rj3_7413ycjzpn5y8r0000gp/T/ipykernel_75787/128475807.py:22: SettingWithCopyWarning: \n",
      "A value is trying to be set on a copy of a slice from a DataFrame.\n",
      "Try using .loc[row_indexer,col_indexer] = value instead\n",
      "\n",
      "See the caveats in the documentation: https://pandas.pydata.org/pandas-docs/stable/user_guide/indexing.html#returning-a-view-versus-a-copy\n",
      "  df.loc[:, col + '_' + t] = df[col].apply(lambda x: 1 if t in str(x) else 0)\n",
      "/var/folders/zh/mnvg84rj3_7413ycjzpn5y8r0000gp/T/ipykernel_75787/128475807.py:22: SettingWithCopyWarning: \n",
      "A value is trying to be set on a copy of a slice from a DataFrame.\n",
      "Try using .loc[row_indexer,col_indexer] = value instead\n",
      "\n",
      "See the caveats in the documentation: https://pandas.pydata.org/pandas-docs/stable/user_guide/indexing.html#returning-a-view-versus-a-copy\n",
      "  df.loc[:, col + '_' + t] = df[col].apply(lambda x: 1 if t in str(x) else 0)\n",
      "/var/folders/zh/mnvg84rj3_7413ycjzpn5y8r0000gp/T/ipykernel_75787/128475807.py:22: SettingWithCopyWarning: \n",
      "A value is trying to be set on a copy of a slice from a DataFrame.\n",
      "Try using .loc[row_indexer,col_indexer] = value instead\n",
      "\n",
      "See the caveats in the documentation: https://pandas.pydata.org/pandas-docs/stable/user_guide/indexing.html#returning-a-view-versus-a-copy\n",
      "  df.loc[:, col + '_' + t] = df[col].apply(lambda x: 1 if t in str(x) else 0)\n",
      "/var/folders/zh/mnvg84rj3_7413ycjzpn5y8r0000gp/T/ipykernel_75787/128475807.py:22: SettingWithCopyWarning: \n",
      "A value is trying to be set on a copy of a slice from a DataFrame.\n",
      "Try using .loc[row_indexer,col_indexer] = value instead\n",
      "\n",
      "See the caveats in the documentation: https://pandas.pydata.org/pandas-docs/stable/user_guide/indexing.html#returning-a-view-versus-a-copy\n",
      "  df.loc[:, col + '_' + t] = df[col].apply(lambda x: 1 if t in str(x) else 0)\n",
      "/var/folders/zh/mnvg84rj3_7413ycjzpn5y8r0000gp/T/ipykernel_75787/128475807.py:22: SettingWithCopyWarning: \n",
      "A value is trying to be set on a copy of a slice from a DataFrame.\n",
      "Try using .loc[row_indexer,col_indexer] = value instead\n",
      "\n",
      "See the caveats in the documentation: https://pandas.pydata.org/pandas-docs/stable/user_guide/indexing.html#returning-a-view-versus-a-copy\n",
      "  df.loc[:, col + '_' + t] = df[col].apply(lambda x: 1 if t in str(x) else 0)\n",
      "/var/folders/zh/mnvg84rj3_7413ycjzpn5y8r0000gp/T/ipykernel_75787/128475807.py:22: SettingWithCopyWarning: \n",
      "A value is trying to be set on a copy of a slice from a DataFrame.\n",
      "Try using .loc[row_indexer,col_indexer] = value instead\n",
      "\n",
      "See the caveats in the documentation: https://pandas.pydata.org/pandas-docs/stable/user_guide/indexing.html#returning-a-view-versus-a-copy\n",
      "  df.loc[:, col + '_' + t] = df[col].apply(lambda x: 1 if t in str(x) else 0)\n",
      "/var/folders/zh/mnvg84rj3_7413ycjzpn5y8r0000gp/T/ipykernel_75787/128475807.py:22: SettingWithCopyWarning: \n",
      "A value is trying to be set on a copy of a slice from a DataFrame.\n",
      "Try using .loc[row_indexer,col_indexer] = value instead\n",
      "\n",
      "See the caveats in the documentation: https://pandas.pydata.org/pandas-docs/stable/user_guide/indexing.html#returning-a-view-versus-a-copy\n",
      "  df.loc[:, col + '_' + t] = df[col].apply(lambda x: 1 if t in str(x) else 0)\n",
      "/var/folders/zh/mnvg84rj3_7413ycjzpn5y8r0000gp/T/ipykernel_75787/128475807.py:22: SettingWithCopyWarning: \n",
      "A value is trying to be set on a copy of a slice from a DataFrame.\n",
      "Try using .loc[row_indexer,col_indexer] = value instead\n",
      "\n",
      "See the caveats in the documentation: https://pandas.pydata.org/pandas-docs/stable/user_guide/indexing.html#returning-a-view-versus-a-copy\n",
      "  df.loc[:, col + '_' + t] = df[col].apply(lambda x: 1 if t in str(x) else 0)\n"
     ]
    },
    {
     "name": "stdout",
     "output_type": "stream",
     "text": [
      "\n",
      "\n",
      "special_diets_Vegetarian Friendly\n",
      "                                   restaurant_link  total_avg_rating\n",
      "special_diets_Vegetarian Friendly                                   \n",
      "0                                             1316          4.007908\n",
      "1                                              882          4.358300\n",
      "Ratio of the smallest group:\t0.401\n",
      "Variation (??):\t\t\t0.087\t= 8.7%\n",
      "The featured group is BETTER\n",
      "\n",
      "\n",
      "special_diets_Gluten Free Options\n",
      "                                   restaurant_link  total_avg_rating\n",
      "special_diets_Gluten Free Options                                   \n",
      "0                                             1426          3.977732\n",
      "1                                              772          4.372405\n",
      "Ratio of the smallest group:\t0.351\n",
      "Variation (??):\t\t\t0.099\t= 9.9%\n",
      "The featured group is BETTER\n",
      "\n",
      "\n",
      "special_diets_Vegan Options\n",
      "                             restaurant_link  total_avg_rating\n",
      "special_diets_Vegan Options                                   \n",
      "0                                       1551          4.096815\n",
      "1                                        647          4.389206\n",
      "Ratio of the smallest group:\t0.294\n",
      "Variation (??):\t\t\t0.071\t= 7.1%\n",
      "The featured group is BETTER\n",
      "\n",
      "\n",
      "features_Table Service\n",
      "                        restaurant_link  total_avg_rating\n",
      "features_Table Service                                   \n",
      "0                                   719          3.962439\n",
      "1                                  1479          4.328100\n",
      "Ratio of the smallest group:\t0.327\n",
      "Variation (??):\t\t\t0.092\t= 9.2%\n",
      "The featured group is BETTER\n",
      "\n",
      "\n",
      "features_Accepts Credit Cards\n",
      "                               restaurant_link  total_avg_rating\n",
      "features_Accepts Credit Cards                                   \n",
      "0                                         1465          4.065644\n",
      "1                                          733          4.356566\n",
      "Ratio of the smallest group:\t0.333\n",
      "Variation (??):\t\t\t0.072\t= 7.2%\n",
      "The featured group is BETTER\n",
      "\n",
      "\n",
      "==========================\n",
      "========  POLAND  ========\n",
      "==========================\n",
      "\n",
      "\n",
      "features_Accepts Credit Cards\n",
      "                               restaurant_link  total_avg_rating\n",
      "features_Accepts Credit Cards                                   \n",
      "0                                         1171          3.904923\n",
      "1                                          686          4.276446\n",
      "Ratio of the smallest group:\t0.369\n",
      "Variation (??):\t\t\t0.095\t= 9.5%\n",
      "The featured group is BETTER\n",
      "\n",
      "\n",
      "features_Free Wifi\n",
      "                    restaurant_link  total_avg_rating\n",
      "features_Free Wifi                                   \n",
      "0                              1280          3.919704\n",
      "1                               577          4.313596\n",
      "Ratio of the smallest group:\t0.311\n",
      "Variation (??):\t\t\t0.100\t= 10.0%\n",
      "The featured group is BETTER\n",
      "\n",
      "\n",
      "features_Wine and Beer\n",
      "                        restaurant_link  total_avg_rating\n",
      "features_Wine and Beer                                   \n",
      "0                                  1490          4.059158\n",
      "1                                   367          4.345745\n",
      "Ratio of the smallest group:\t0.198\n",
      "Variation (??):\t\t\t0.071\t= 7.1%\n",
      "The featured group is BETTER\n",
      "\n",
      "\n",
      "==========================\n",
      "========  SWEDEN  ========\n",
      "==========================\n"
     ]
    },
    {
     "name": "stderr",
     "output_type": "stream",
     "text": [
      "/var/folders/zh/mnvg84rj3_7413ycjzpn5y8r0000gp/T/ipykernel_75787/128475807.py:22: SettingWithCopyWarning: \n",
      "A value is trying to be set on a copy of a slice from a DataFrame.\n",
      "Try using .loc[row_indexer,col_indexer] = value instead\n",
      "\n",
      "See the caveats in the documentation: https://pandas.pydata.org/pandas-docs/stable/user_guide/indexing.html#returning-a-view-versus-a-copy\n",
      "  df.loc[:, col + '_' + t] = df[col].apply(lambda x: 1 if t in str(x) else 0)\n",
      "/var/folders/zh/mnvg84rj3_7413ycjzpn5y8r0000gp/T/ipykernel_75787/128475807.py:22: SettingWithCopyWarning: \n",
      "A value is trying to be set on a copy of a slice from a DataFrame.\n",
      "Try using .loc[row_indexer,col_indexer] = value instead\n",
      "\n",
      "See the caveats in the documentation: https://pandas.pydata.org/pandas-docs/stable/user_guide/indexing.html#returning-a-view-versus-a-copy\n",
      "  df.loc[:, col + '_' + t] = df[col].apply(lambda x: 1 if t in str(x) else 0)\n",
      "/var/folders/zh/mnvg84rj3_7413ycjzpn5y8r0000gp/T/ipykernel_75787/128475807.py:22: SettingWithCopyWarning: \n",
      "A value is trying to be set on a copy of a slice from a DataFrame.\n",
      "Try using .loc[row_indexer,col_indexer] = value instead\n",
      "\n",
      "See the caveats in the documentation: https://pandas.pydata.org/pandas-docs/stable/user_guide/indexing.html#returning-a-view-versus-a-copy\n",
      "  df.loc[:, col + '_' + t] = df[col].apply(lambda x: 1 if t in str(x) else 0)\n",
      "/var/folders/zh/mnvg84rj3_7413ycjzpn5y8r0000gp/T/ipykernel_75787/128475807.py:22: SettingWithCopyWarning: \n",
      "A value is trying to be set on a copy of a slice from a DataFrame.\n",
      "Try using .loc[row_indexer,col_indexer] = value instead\n",
      "\n",
      "See the caveats in the documentation: https://pandas.pydata.org/pandas-docs/stable/user_guide/indexing.html#returning-a-view-versus-a-copy\n",
      "  df.loc[:, col + '_' + t] = df[col].apply(lambda x: 1 if t in str(x) else 0)\n",
      "/var/folders/zh/mnvg84rj3_7413ycjzpn5y8r0000gp/T/ipykernel_75787/128475807.py:22: SettingWithCopyWarning: \n",
      "A value is trying to be set on a copy of a slice from a DataFrame.\n",
      "Try using .loc[row_indexer,col_indexer] = value instead\n",
      "\n",
      "See the caveats in the documentation: https://pandas.pydata.org/pandas-docs/stable/user_guide/indexing.html#returning-a-view-versus-a-copy\n",
      "  df.loc[:, col + '_' + t] = df[col].apply(lambda x: 1 if t in str(x) else 0)\n",
      "/var/folders/zh/mnvg84rj3_7413ycjzpn5y8r0000gp/T/ipykernel_75787/128475807.py:22: SettingWithCopyWarning: \n",
      "A value is trying to be set on a copy of a slice from a DataFrame.\n",
      "Try using .loc[row_indexer,col_indexer] = value instead\n",
      "\n",
      "See the caveats in the documentation: https://pandas.pydata.org/pandas-docs/stable/user_guide/indexing.html#returning-a-view-versus-a-copy\n",
      "  df.loc[:, col + '_' + t] = df[col].apply(lambda x: 1 if t in str(x) else 0)\n",
      "/var/folders/zh/mnvg84rj3_7413ycjzpn5y8r0000gp/T/ipykernel_75787/128475807.py:22: SettingWithCopyWarning: \n",
      "A value is trying to be set on a copy of a slice from a DataFrame.\n",
      "Try using .loc[row_indexer,col_indexer] = value instead\n",
      "\n",
      "See the caveats in the documentation: https://pandas.pydata.org/pandas-docs/stable/user_guide/indexing.html#returning-a-view-versus-a-copy\n",
      "  df.loc[:, col + '_' + t] = df[col].apply(lambda x: 1 if t in str(x) else 0)\n",
      "/var/folders/zh/mnvg84rj3_7413ycjzpn5y8r0000gp/T/ipykernel_75787/128475807.py:22: SettingWithCopyWarning: \n",
      "A value is trying to be set on a copy of a slice from a DataFrame.\n",
      "Try using .loc[row_indexer,col_indexer] = value instead\n",
      "\n",
      "See the caveats in the documentation: https://pandas.pydata.org/pandas-docs/stable/user_guide/indexing.html#returning-a-view-versus-a-copy\n",
      "  df.loc[:, col + '_' + t] = df[col].apply(lambda x: 1 if t in str(x) else 0)\n",
      "/var/folders/zh/mnvg84rj3_7413ycjzpn5y8r0000gp/T/ipykernel_75787/128475807.py:22: SettingWithCopyWarning: \n",
      "A value is trying to be set on a copy of a slice from a DataFrame.\n",
      "Try using .loc[row_indexer,col_indexer] = value instead\n",
      "\n",
      "See the caveats in the documentation: https://pandas.pydata.org/pandas-docs/stable/user_guide/indexing.html#returning-a-view-versus-a-copy\n",
      "  df.loc[:, col + '_' + t] = df[col].apply(lambda x: 1 if t in str(x) else 0)\n"
     ]
    },
    {
     "name": "stdout",
     "output_type": "stream",
     "text": [
      "\n",
      "\n",
      "cuisines_Scandinavian\n",
      "                       restaurant_link  total_avg_rating\n",
      "cuisines_Scandinavian                                   \n",
      "0                                 1047          3.777093\n",
      "1                                  283          4.054728\n",
      "Ratio of the smallest group:\t0.213\n",
      "Variation (??):\t\t\t0.074\t= 7.4%\n",
      "The featured group is BETTER\n",
      "\n",
      "\n",
      "features_Accepts Credit Cards\n",
      "                               restaurant_link  total_avg_rating\n",
      "features_Accepts Credit Cards                                   \n",
      "0                                         1003          3.644505\n",
      "1                                          327          4.120391\n",
      "Ratio of the smallest group:\t0.246\n",
      "Variation (??):\t\t\t0.131\t= 13.1%\n",
      "The featured group is BETTER\n",
      "\n",
      "\n",
      "===========================\n",
      "========  BELGIUM  ========\n",
      "===========================\n",
      "There are no significant differences\n",
      "\n",
      "\n",
      "==========================\n",
      "========  GREECE  ========\n",
      "==========================\n"
     ]
    },
    {
     "name": "stderr",
     "output_type": "stream",
     "text": [
      "/var/folders/zh/mnvg84rj3_7413ycjzpn5y8r0000gp/T/ipykernel_75787/128475807.py:22: SettingWithCopyWarning: \n",
      "A value is trying to be set on a copy of a slice from a DataFrame.\n",
      "Try using .loc[row_indexer,col_indexer] = value instead\n",
      "\n",
      "See the caveats in the documentation: https://pandas.pydata.org/pandas-docs/stable/user_guide/indexing.html#returning-a-view-versus-a-copy\n",
      "  df.loc[:, col + '_' + t] = df[col].apply(lambda x: 1 if t in str(x) else 0)\n",
      "/var/folders/zh/mnvg84rj3_7413ycjzpn5y8r0000gp/T/ipykernel_75787/128475807.py:22: SettingWithCopyWarning: \n",
      "A value is trying to be set on a copy of a slice from a DataFrame.\n",
      "Try using .loc[row_indexer,col_indexer] = value instead\n",
      "\n",
      "See the caveats in the documentation: https://pandas.pydata.org/pandas-docs/stable/user_guide/indexing.html#returning-a-view-versus-a-copy\n",
      "  df.loc[:, col + '_' + t] = df[col].apply(lambda x: 1 if t in str(x) else 0)\n",
      "/var/folders/zh/mnvg84rj3_7413ycjzpn5y8r0000gp/T/ipykernel_75787/128475807.py:22: SettingWithCopyWarning: \n",
      "A value is trying to be set on a copy of a slice from a DataFrame.\n",
      "Try using .loc[row_indexer,col_indexer] = value instead\n",
      "\n",
      "See the caveats in the documentation: https://pandas.pydata.org/pandas-docs/stable/user_guide/indexing.html#returning-a-view-versus-a-copy\n",
      "  df.loc[:, col + '_' + t] = df[col].apply(lambda x: 1 if t in str(x) else 0)\n",
      "/var/folders/zh/mnvg84rj3_7413ycjzpn5y8r0000gp/T/ipykernel_75787/128475807.py:22: SettingWithCopyWarning: \n",
      "A value is trying to be set on a copy of a slice from a DataFrame.\n",
      "Try using .loc[row_indexer,col_indexer] = value instead\n",
      "\n",
      "See the caveats in the documentation: https://pandas.pydata.org/pandas-docs/stable/user_guide/indexing.html#returning-a-view-versus-a-copy\n",
      "  df.loc[:, col + '_' + t] = df[col].apply(lambda x: 1 if t in str(x) else 0)\n",
      "/var/folders/zh/mnvg84rj3_7413ycjzpn5y8r0000gp/T/ipykernel_75787/128475807.py:22: SettingWithCopyWarning: \n",
      "A value is trying to be set on a copy of a slice from a DataFrame.\n",
      "Try using .loc[row_indexer,col_indexer] = value instead\n",
      "\n",
      "See the caveats in the documentation: https://pandas.pydata.org/pandas-docs/stable/user_guide/indexing.html#returning-a-view-versus-a-copy\n",
      "  df.loc[:, col + '_' + t] = df[col].apply(lambda x: 1 if t in str(x) else 0)\n",
      "/var/folders/zh/mnvg84rj3_7413ycjzpn5y8r0000gp/T/ipykernel_75787/128475807.py:22: SettingWithCopyWarning: \n",
      "A value is trying to be set on a copy of a slice from a DataFrame.\n",
      "Try using .loc[row_indexer,col_indexer] = value instead\n",
      "\n",
      "See the caveats in the documentation: https://pandas.pydata.org/pandas-docs/stable/user_guide/indexing.html#returning-a-view-versus-a-copy\n",
      "  df.loc[:, col + '_' + t] = df[col].apply(lambda x: 1 if t in str(x) else 0)\n"
     ]
    },
    {
     "name": "stdout",
     "output_type": "stream",
     "text": [
      "\n",
      "\n",
      "special_diets_Vegetarian Friendly\n",
      "                                   restaurant_link  total_avg_rating\n",
      "special_diets_Vegetarian Friendly                                   \n",
      "0                                             3550          4.097346\n",
      "1                                             1523          4.419690\n",
      "Ratio of the smallest group:\t0.300\n",
      "Variation (??):\t\t\t0.079\t= 7.9%\n",
      "The featured group is BETTER\n",
      "\n",
      "\n",
      "special_diets_Gluten Free Options\n",
      "                                   restaurant_link  total_avg_rating\n",
      "special_diets_Gluten Free Options                                   \n",
      "0                                             4037          4.135162\n",
      "1                                             1036          4.451087\n",
      "Ratio of the smallest group:\t0.204\n",
      "Variation (??):\t\t\t0.076\t= 7.6%\n",
      "The featured group is BETTER\n",
      "\n",
      "\n",
      "special_diets_Vegan Options\n",
      "                             restaurant_link  total_avg_rating\n",
      "special_diets_Vegan Options                                   \n",
      "0                                       3746          4.115952\n",
      "1                                       1327          4.432804\n",
      "Ratio of the smallest group:\t0.262\n",
      "Variation (??):\t\t\t0.077\t= 7.7%\n",
      "The featured group is BETTER\n",
      "\n",
      "\n",
      "===========================\n",
      "========  CROATIA  ========\n",
      "===========================\n",
      "\n",
      "\n",
      "special_diets_Vegetarian Friendly\n",
      "                                   restaurant_link  total_avg_rating\n",
      "special_diets_Vegetarian Friendly                                   \n",
      "0                                             1189          3.862367\n",
      "1                                              490          4.356009\n",
      "Ratio of the smallest group:\t0.292\n",
      "Variation (??):\t\t\t0.128\t= 12.8%\n",
      "The featured group is BETTER\n",
      "\n",
      "\n",
      "special_diets_Gluten Free Options\n",
      "                                   restaurant_link  total_avg_rating\n",
      "special_diets_Gluten Free Options                                   \n",
      "0                                             1363           3.96123\n",
      "1                                              316           4.39914\n",
      "Ratio of the smallest group:\t0.188\n",
      "Variation (??):\t\t\t0.111\t= 11.1%\n",
      "The featured group is BETTER\n",
      "\n",
      "\n",
      "special_diets_Vegan Options\n",
      "                             restaurant_link  total_avg_rating\n",
      "special_diets_Vegan Options                                   \n",
      "0                                       1385          4.005379\n",
      "1                                        294          4.407208\n",
      "Ratio of the smallest group:\t0.175\n",
      "Variation (??):\t\t\t0.100\t= 10.0%\n",
      "The featured group is BETTER\n",
      "\n",
      "\n",
      "features_Free Wifi\n",
      "                    restaurant_link  total_avg_rating\n",
      "features_Free Wifi                                   \n",
      "0                              1132          3.985683\n",
      "1                               547          4.336430\n",
      "Ratio of the smallest group:\t0.326\n",
      "Variation (??):\t\t\t0.088\t= 8.8%\n",
      "The featured group is BETTER\n",
      "\n",
      "\n",
      "features_Accepts Credit Cards\n",
      "                               restaurant_link  total_avg_rating\n",
      "features_Accepts Credit Cards                                   \n",
      "0                                         1290          4.019936\n",
      "1                                          389          4.343540\n",
      "Ratio of the smallest group:\t0.232\n",
      "Variation (??):\t\t\t0.080\t= 8.0%\n",
      "The featured group is BETTER\n",
      "\n",
      "\n",
      "============================\n",
      "========  PORTUGAL  ========\n",
      "============================\n"
     ]
    },
    {
     "name": "stderr",
     "output_type": "stream",
     "text": [
      "/var/folders/zh/mnvg84rj3_7413ycjzpn5y8r0000gp/T/ipykernel_75787/128475807.py:22: SettingWithCopyWarning: \n",
      "A value is trying to be set on a copy of a slice from a DataFrame.\n",
      "Try using .loc[row_indexer,col_indexer] = value instead\n",
      "\n",
      "See the caveats in the documentation: https://pandas.pydata.org/pandas-docs/stable/user_guide/indexing.html#returning-a-view-versus-a-copy\n",
      "  df.loc[:, col + '_' + t] = df[col].apply(lambda x: 1 if t in str(x) else 0)\n",
      "/var/folders/zh/mnvg84rj3_7413ycjzpn5y8r0000gp/T/ipykernel_75787/128475807.py:22: SettingWithCopyWarning: \n",
      "A value is trying to be set on a copy of a slice from a DataFrame.\n",
      "Try using .loc[row_indexer,col_indexer] = value instead\n",
      "\n",
      "See the caveats in the documentation: https://pandas.pydata.org/pandas-docs/stable/user_guide/indexing.html#returning-a-view-versus-a-copy\n",
      "  df.loc[:, col + '_' + t] = df[col].apply(lambda x: 1 if t in str(x) else 0)\n",
      "/var/folders/zh/mnvg84rj3_7413ycjzpn5y8r0000gp/T/ipykernel_75787/128475807.py:22: SettingWithCopyWarning: \n",
      "A value is trying to be set on a copy of a slice from a DataFrame.\n",
      "Try using .loc[row_indexer,col_indexer] = value instead\n",
      "\n",
      "See the caveats in the documentation: https://pandas.pydata.org/pandas-docs/stable/user_guide/indexing.html#returning-a-view-versus-a-copy\n",
      "  df.loc[:, col + '_' + t] = df[col].apply(lambda x: 1 if t in str(x) else 0)\n",
      "/var/folders/zh/mnvg84rj3_7413ycjzpn5y8r0000gp/T/ipykernel_75787/128475807.py:22: SettingWithCopyWarning: \n",
      "A value is trying to be set on a copy of a slice from a DataFrame.\n",
      "Try using .loc[row_indexer,col_indexer] = value instead\n",
      "\n",
      "See the caveats in the documentation: https://pandas.pydata.org/pandas-docs/stable/user_guide/indexing.html#returning-a-view-versus-a-copy\n",
      "  df.loc[:, col + '_' + t] = df[col].apply(lambda x: 1 if t in str(x) else 0)\n",
      "/var/folders/zh/mnvg84rj3_7413ycjzpn5y8r0000gp/T/ipykernel_75787/128475807.py:22: SettingWithCopyWarning: \n",
      "A value is trying to be set on a copy of a slice from a DataFrame.\n",
      "Try using .loc[row_indexer,col_indexer] = value instead\n",
      "\n",
      "See the caveats in the documentation: https://pandas.pydata.org/pandas-docs/stable/user_guide/indexing.html#returning-a-view-versus-a-copy\n",
      "  df.loc[:, col + '_' + t] = df[col].apply(lambda x: 1 if t in str(x) else 0)\n",
      "/var/folders/zh/mnvg84rj3_7413ycjzpn5y8r0000gp/T/ipykernel_75787/128475807.py:22: SettingWithCopyWarning: \n",
      "A value is trying to be set on a copy of a slice from a DataFrame.\n",
      "Try using .loc[row_indexer,col_indexer] = value instead\n",
      "\n",
      "See the caveats in the documentation: https://pandas.pydata.org/pandas-docs/stable/user_guide/indexing.html#returning-a-view-versus-a-copy\n",
      "  df.loc[:, col + '_' + t] = df[col].apply(lambda x: 1 if t in str(x) else 0)\n",
      "/var/folders/zh/mnvg84rj3_7413ycjzpn5y8r0000gp/T/ipykernel_75787/128475807.py:22: SettingWithCopyWarning: \n",
      "A value is trying to be set on a copy of a slice from a DataFrame.\n",
      "Try using .loc[row_indexer,col_indexer] = value instead\n",
      "\n",
      "See the caveats in the documentation: https://pandas.pydata.org/pandas-docs/stable/user_guide/indexing.html#returning-a-view-versus-a-copy\n",
      "  df.loc[:, col + '_' + t] = df[col].apply(lambda x: 1 if t in str(x) else 0)\n",
      "/var/folders/zh/mnvg84rj3_7413ycjzpn5y8r0000gp/T/ipykernel_75787/128475807.py:22: SettingWithCopyWarning: \n",
      "A value is trying to be set on a copy of a slice from a DataFrame.\n",
      "Try using .loc[row_indexer,col_indexer] = value instead\n",
      "\n",
      "See the caveats in the documentation: https://pandas.pydata.org/pandas-docs/stable/user_guide/indexing.html#returning-a-view-versus-a-copy\n",
      "  df.loc[:, col + '_' + t] = df[col].apply(lambda x: 1 if t in str(x) else 0)\n",
      "/var/folders/zh/mnvg84rj3_7413ycjzpn5y8r0000gp/T/ipykernel_75787/128475807.py:22: SettingWithCopyWarning: \n",
      "A value is trying to be set on a copy of a slice from a DataFrame.\n",
      "Try using .loc[row_indexer,col_indexer] = value instead\n",
      "\n",
      "See the caveats in the documentation: https://pandas.pydata.org/pandas-docs/stable/user_guide/indexing.html#returning-a-view-versus-a-copy\n",
      "  df.loc[:, col + '_' + t] = df[col].apply(lambda x: 1 if t in str(x) else 0)\n",
      "/var/folders/zh/mnvg84rj3_7413ycjzpn5y8r0000gp/T/ipykernel_75787/128475807.py:22: SettingWithCopyWarning: \n",
      "A value is trying to be set on a copy of a slice from a DataFrame.\n",
      "Try using .loc[row_indexer,col_indexer] = value instead\n",
      "\n",
      "See the caveats in the documentation: https://pandas.pydata.org/pandas-docs/stable/user_guide/indexing.html#returning-a-view-versus-a-copy\n",
      "  df.loc[:, col + '_' + t] = df[col].apply(lambda x: 1 if t in str(x) else 0)\n",
      "/var/folders/zh/mnvg84rj3_7413ycjzpn5y8r0000gp/T/ipykernel_75787/128475807.py:22: SettingWithCopyWarning: \n",
      "A value is trying to be set on a copy of a slice from a DataFrame.\n",
      "Try using .loc[row_indexer,col_indexer] = value instead\n",
      "\n",
      "See the caveats in the documentation: https://pandas.pydata.org/pandas-docs/stable/user_guide/indexing.html#returning-a-view-versus-a-copy\n",
      "  df.loc[:, col + '_' + t] = df[col].apply(lambda x: 1 if t in str(x) else 0)\n"
     ]
    },
    {
     "name": "stdout",
     "output_type": "stream",
     "text": [
      "\n",
      "\n",
      "features_Free Wifi\n",
      "                    restaurant_link  total_avg_rating\n",
      "features_Free Wifi                                   \n",
      "0                              6109          3.961888\n",
      "1                              2209          4.243567\n",
      "Ratio of the smallest group:\t0.266\n",
      "Variation (??):\t\t\t0.071\t= 7.1%\n",
      "The featured group is BETTER\n",
      "\n",
      "\n",
      "============================\n",
      "========  SLOVAKIA  ========\n",
      "============================\n",
      "\n",
      "\n",
      "cuisines_Cafe\n",
      "               restaurant_link  total_avg_rating\n",
      "cuisines_Cafe                                   \n",
      "0                          418          3.948017\n",
      "1                           99          4.236649\n",
      "Ratio of the smallest group:\t0.191\n",
      "Variation (??):\t\t\t0.073\t= 7.3%\n",
      "The featured group is BETTER\n",
      "\n",
      "\n",
      "features_Free Wifi\n",
      "                    restaurant_link  total_avg_rating\n",
      "features_Free Wifi                                   \n",
      "0                               313          3.836259\n",
      "1                               204          4.113887\n",
      "Ratio of the smallest group:\t0.395\n",
      "Variation (??):\t\t\t0.072\t= 7.2%\n",
      "The featured group is BETTER\n",
      "\n",
      "\n",
      "features_Wine and Beer\n",
      "                        restaurant_link  total_avg_rating\n",
      "features_Wine and Beer                                   \n",
      "0                                   377          3.873587\n",
      "1                                   140          4.301261\n",
      "Ratio of the smallest group:\t0.271\n",
      "Variation (??):\t\t\t0.110\t= 11.0%\n",
      "The featured group is BETTER\n",
      "\n",
      "\n",
      "features_Highchairs Available\n",
      "                               restaurant_link  total_avg_rating\n",
      "features_Highchairs Available                                   \n",
      "0                                          393          3.847656\n",
      "1                                          124          4.139006\n",
      "Ratio of the smallest group:\t0.240\n",
      "Variation (??):\t\t\t0.076\t= 7.6%\n",
      "The featured group is BETTER\n",
      "\n",
      "\n",
      "features_Digital Payments\n",
      "                           restaurant_link  total_avg_rating\n",
      "features_Digital Payments                                   \n",
      "0                                      438          3.948836\n",
      "1                                       79          4.265658\n",
      "Ratio of the smallest group:\t0.153\n",
      "Variation (??):\t\t\t0.080\t= 8.0%\n",
      "The featured group is BETTER\n",
      "\n",
      "\n",
      "==================================\n",
      "========  CZECH REPUBLIC  ========\n",
      "==================================\n",
      "\n",
      "\n",
      "meals_Dinner\n",
      "              restaurant_link  total_avg_rating\n",
      "meals_Dinner                                   \n",
      "0                         349          3.694198\n",
      "1                        1665          4.116072\n",
      "Ratio of the smallest group:\t0.173\n",
      "Variation (??):\t\t\t0.114\t= 11.4%\n",
      "The featured group is BETTER\n",
      "\n",
      "\n",
      "meals_Lunch\n",
      "             restaurant_link  total_avg_rating\n",
      "meals_Lunch                                   \n",
      "0                        374          3.653759\n",
      "1                       1640          4.122792\n",
      "Ratio of the smallest group:\t0.186\n",
      "Variation (??):\t\t\t0.128\t= 12.8%\n",
      "The featured group is BETTER\n"
     ]
    },
    {
     "name": "stderr",
     "output_type": "stream",
     "text": [
      "/var/folders/zh/mnvg84rj3_7413ycjzpn5y8r0000gp/T/ipykernel_75787/128475807.py:22: SettingWithCopyWarning: \n",
      "A value is trying to be set on a copy of a slice from a DataFrame.\n",
      "Try using .loc[row_indexer,col_indexer] = value instead\n",
      "\n",
      "See the caveats in the documentation: https://pandas.pydata.org/pandas-docs/stable/user_guide/indexing.html#returning-a-view-versus-a-copy\n",
      "  df.loc[:, col + '_' + t] = df[col].apply(lambda x: 1 if t in str(x) else 0)\n",
      "/var/folders/zh/mnvg84rj3_7413ycjzpn5y8r0000gp/T/ipykernel_75787/128475807.py:22: SettingWithCopyWarning: \n",
      "A value is trying to be set on a copy of a slice from a DataFrame.\n",
      "Try using .loc[row_indexer,col_indexer] = value instead\n",
      "\n",
      "See the caveats in the documentation: https://pandas.pydata.org/pandas-docs/stable/user_guide/indexing.html#returning-a-view-versus-a-copy\n",
      "  df.loc[:, col + '_' + t] = df[col].apply(lambda x: 1 if t in str(x) else 0)\n",
      "/var/folders/zh/mnvg84rj3_7413ycjzpn5y8r0000gp/T/ipykernel_75787/128475807.py:22: SettingWithCopyWarning: \n",
      "A value is trying to be set on a copy of a slice from a DataFrame.\n",
      "Try using .loc[row_indexer,col_indexer] = value instead\n",
      "\n",
      "See the caveats in the documentation: https://pandas.pydata.org/pandas-docs/stable/user_guide/indexing.html#returning-a-view-versus-a-copy\n",
      "  df.loc[:, col + '_' + t] = df[col].apply(lambda x: 1 if t in str(x) else 0)\n",
      "/var/folders/zh/mnvg84rj3_7413ycjzpn5y8r0000gp/T/ipykernel_75787/128475807.py:22: SettingWithCopyWarning: \n",
      "A value is trying to be set on a copy of a slice from a DataFrame.\n",
      "Try using .loc[row_indexer,col_indexer] = value instead\n",
      "\n",
      "See the caveats in the documentation: https://pandas.pydata.org/pandas-docs/stable/user_guide/indexing.html#returning-a-view-versus-a-copy\n",
      "  df.loc[:, col + '_' + t] = df[col].apply(lambda x: 1 if t in str(x) else 0)\n",
      "/var/folders/zh/mnvg84rj3_7413ycjzpn5y8r0000gp/T/ipykernel_75787/128475807.py:22: SettingWithCopyWarning: \n",
      "A value is trying to be set on a copy of a slice from a DataFrame.\n",
      "Try using .loc[row_indexer,col_indexer] = value instead\n",
      "\n",
      "See the caveats in the documentation: https://pandas.pydata.org/pandas-docs/stable/user_guide/indexing.html#returning-a-view-versus-a-copy\n",
      "  df.loc[:, col + '_' + t] = df[col].apply(lambda x: 1 if t in str(x) else 0)\n",
      "/var/folders/zh/mnvg84rj3_7413ycjzpn5y8r0000gp/T/ipykernel_75787/128475807.py:22: SettingWithCopyWarning: \n",
      "A value is trying to be set on a copy of a slice from a DataFrame.\n",
      "Try using .loc[row_indexer,col_indexer] = value instead\n",
      "\n",
      "See the caveats in the documentation: https://pandas.pydata.org/pandas-docs/stable/user_guide/indexing.html#returning-a-view-versus-a-copy\n",
      "  df.loc[:, col + '_' + t] = df[col].apply(lambda x: 1 if t in str(x) else 0)\n",
      "/var/folders/zh/mnvg84rj3_7413ycjzpn5y8r0000gp/T/ipykernel_75787/128475807.py:22: SettingWithCopyWarning: \n",
      "A value is trying to be set on a copy of a slice from a DataFrame.\n",
      "Try using .loc[row_indexer,col_indexer] = value instead\n",
      "\n",
      "See the caveats in the documentation: https://pandas.pydata.org/pandas-docs/stable/user_guide/indexing.html#returning-a-view-versus-a-copy\n",
      "  df.loc[:, col + '_' + t] = df[col].apply(lambda x: 1 if t in str(x) else 0)\n",
      "/var/folders/zh/mnvg84rj3_7413ycjzpn5y8r0000gp/T/ipykernel_75787/128475807.py:22: SettingWithCopyWarning: \n",
      "A value is trying to be set on a copy of a slice from a DataFrame.\n",
      "Try using .loc[row_indexer,col_indexer] = value instead\n",
      "\n",
      "See the caveats in the documentation: https://pandas.pydata.org/pandas-docs/stable/user_guide/indexing.html#returning-a-view-versus-a-copy\n",
      "  df.loc[:, col + '_' + t] = df[col].apply(lambda x: 1 if t in str(x) else 0)\n",
      "/var/folders/zh/mnvg84rj3_7413ycjzpn5y8r0000gp/T/ipykernel_75787/128475807.py:22: SettingWithCopyWarning: \n",
      "A value is trying to be set on a copy of a slice from a DataFrame.\n",
      "Try using .loc[row_indexer,col_indexer] = value instead\n",
      "\n",
      "See the caveats in the documentation: https://pandas.pydata.org/pandas-docs/stable/user_guide/indexing.html#returning-a-view-versus-a-copy\n",
      "  df.loc[:, col + '_' + t] = df[col].apply(lambda x: 1 if t in str(x) else 0)\n",
      "/var/folders/zh/mnvg84rj3_7413ycjzpn5y8r0000gp/T/ipykernel_75787/128475807.py:22: SettingWithCopyWarning: \n",
      "A value is trying to be set on a copy of a slice from a DataFrame.\n",
      "Try using .loc[row_indexer,col_indexer] = value instead\n",
      "\n",
      "See the caveats in the documentation: https://pandas.pydata.org/pandas-docs/stable/user_guide/indexing.html#returning-a-view-versus-a-copy\n",
      "  df.loc[:, col + '_' + t] = df[col].apply(lambda x: 1 if t in str(x) else 0)\n",
      "/var/folders/zh/mnvg84rj3_7413ycjzpn5y8r0000gp/T/ipykernel_75787/128475807.py:22: SettingWithCopyWarning: \n",
      "A value is trying to be set on a copy of a slice from a DataFrame.\n",
      "Try using .loc[row_indexer,col_indexer] = value instead\n",
      "\n",
      "See the caveats in the documentation: https://pandas.pydata.org/pandas-docs/stable/user_guide/indexing.html#returning-a-view-versus-a-copy\n",
      "  df.loc[:, col + '_' + t] = df[col].apply(lambda x: 1 if t in str(x) else 0)\n"
     ]
    },
    {
     "name": "stdout",
     "output_type": "stream",
     "text": [
      "\n",
      "\n",
      "features_Takeout\n",
      "                  restaurant_link  total_avg_rating\n",
      "features_Takeout                                   \n",
      "0                            1383          3.965098\n",
      "1                             631          4.276042\n",
      "Ratio of the smallest group:\t0.313\n",
      "Variation (??):\t\t\t0.078\t= 7.8%\n",
      "The featured group is BETTER\n",
      "\n",
      "\n",
      "features_Free Wifi\n",
      "                    restaurant_link  total_avg_rating\n",
      "features_Free Wifi                                   \n",
      "0                              1387          3.788282\n",
      "1                               627          4.233938\n",
      "Ratio of the smallest group:\t0.311\n",
      "Variation (??):\t\t\t0.118\t= 11.8%\n",
      "The featured group is BETTER\n",
      "\n",
      "\n",
      "features_Full Bar\n",
      "                   restaurant_link  total_avg_rating\n",
      "features_Full Bar                                   \n",
      "0                             1424          3.858919\n",
      "1                              590          4.143604\n",
      "Ratio of the smallest group:\t0.293\n",
      "Variation (??):\t\t\t0.074\t= 7.4%\n",
      "The featured group is BETTER\n",
      "\n",
      "\n",
      "features_Accepts Credit Cards\n",
      "                               restaurant_link  total_avg_rating\n",
      "features_Accepts Credit Cards                                   \n",
      "0                                         1532          3.872347\n",
      "1                                          482          4.171922\n",
      "Ratio of the smallest group:\t0.239\n",
      "Variation (??):\t\t\t0.077\t= 7.7%\n",
      "The featured group is BETTER\n",
      "\n",
      "\n",
      "features_Wine and Beer\n",
      "                        restaurant_link  total_avg_rating\n",
      "features_Wine and Beer                                   \n",
      "0                                  1594          3.911289\n",
      "1                                   420          4.378071\n",
      "Ratio of the smallest group:\t0.209\n",
      "Variation (??):\t\t\t0.119\t= 11.9%\n",
      "The featured group is BETTER\n",
      "\n",
      "\n",
      "features_Highchairs Available\n",
      "                               restaurant_link  total_avg_rating\n",
      "features_Highchairs Available                                   \n",
      "0                                         1622          3.927031\n",
      "1                                          392          4.286642\n",
      "Ratio of the smallest group:\t0.195\n",
      "Variation (??):\t\t\t0.092\t= 9.2%\n",
      "The featured group is BETTER\n",
      "\n",
      "\n",
      "===========================\n",
      "========  HUNGARY  ========\n",
      "===========================\n",
      "\n",
      "\n",
      "special_diets_Vegetarian Friendly\n",
      "                                   restaurant_link  total_avg_rating\n",
      "special_diets_Vegetarian Friendly                                   \n",
      "0                                              724          3.931549\n",
      "1                                              161          4.318559\n",
      "Ratio of the smallest group:\t0.182\n",
      "Variation (??):\t\t\t0.098\t= 9.8%\n",
      "The featured group is BETTER\n",
      "\n",
      "\n",
      "features_Free Wifi\n",
      "                    restaurant_link  total_avg_rating\n",
      "features_Free Wifi                                   \n",
      "0                               560          3.880724\n",
      "1                               325          4.312239\n",
      "Ratio of the smallest group:\t0.367\n",
      "Variation (??):\t\t\t0.111\t= 11.1%\n",
      "The featured group is BETTER\n",
      "\n",
      "\n",
      "===========================\n",
      "========  FINLAND  ========\n",
      "===========================\n"
     ]
    },
    {
     "name": "stderr",
     "output_type": "stream",
     "text": [
      "/var/folders/zh/mnvg84rj3_7413ycjzpn5y8r0000gp/T/ipykernel_75787/128475807.py:22: SettingWithCopyWarning: \n",
      "A value is trying to be set on a copy of a slice from a DataFrame.\n",
      "Try using .loc[row_indexer,col_indexer] = value instead\n",
      "\n",
      "See the caveats in the documentation: https://pandas.pydata.org/pandas-docs/stable/user_guide/indexing.html#returning-a-view-versus-a-copy\n",
      "  df.loc[:, col + '_' + t] = df[col].apply(lambda x: 1 if t in str(x) else 0)\n",
      "/var/folders/zh/mnvg84rj3_7413ycjzpn5y8r0000gp/T/ipykernel_75787/128475807.py:22: SettingWithCopyWarning: \n",
      "A value is trying to be set on a copy of a slice from a DataFrame.\n",
      "Try using .loc[row_indexer,col_indexer] = value instead\n",
      "\n",
      "See the caveats in the documentation: https://pandas.pydata.org/pandas-docs/stable/user_guide/indexing.html#returning-a-view-versus-a-copy\n",
      "  df.loc[:, col + '_' + t] = df[col].apply(lambda x: 1 if t in str(x) else 0)\n",
      "/var/folders/zh/mnvg84rj3_7413ycjzpn5y8r0000gp/T/ipykernel_75787/128475807.py:22: SettingWithCopyWarning: \n",
      "A value is trying to be set on a copy of a slice from a DataFrame.\n",
      "Try using .loc[row_indexer,col_indexer] = value instead\n",
      "\n",
      "See the caveats in the documentation: https://pandas.pydata.org/pandas-docs/stable/user_guide/indexing.html#returning-a-view-versus-a-copy\n",
      "  df.loc[:, col + '_' + t] = df[col].apply(lambda x: 1 if t in str(x) else 0)\n",
      "/var/folders/zh/mnvg84rj3_7413ycjzpn5y8r0000gp/T/ipykernel_75787/128475807.py:22: SettingWithCopyWarning: \n",
      "A value is trying to be set on a copy of a slice from a DataFrame.\n",
      "Try using .loc[row_indexer,col_indexer] = value instead\n",
      "\n",
      "See the caveats in the documentation: https://pandas.pydata.org/pandas-docs/stable/user_guide/indexing.html#returning-a-view-versus-a-copy\n",
      "  df.loc[:, col + '_' + t] = df[col].apply(lambda x: 1 if t in str(x) else 0)\n",
      "/var/folders/zh/mnvg84rj3_7413ycjzpn5y8r0000gp/T/ipykernel_75787/128475807.py:22: SettingWithCopyWarning: \n",
      "A value is trying to be set on a copy of a slice from a DataFrame.\n",
      "Try using .loc[row_indexer,col_indexer] = value instead\n",
      "\n",
      "See the caveats in the documentation: https://pandas.pydata.org/pandas-docs/stable/user_guide/indexing.html#returning-a-view-versus-a-copy\n",
      "  df.loc[:, col + '_' + t] = df[col].apply(lambda x: 1 if t in str(x) else 0)\n",
      "/var/folders/zh/mnvg84rj3_7413ycjzpn5y8r0000gp/T/ipykernel_75787/128475807.py:22: SettingWithCopyWarning: \n",
      "A value is trying to be set on a copy of a slice from a DataFrame.\n",
      "Try using .loc[row_indexer,col_indexer] = value instead\n",
      "\n",
      "See the caveats in the documentation: https://pandas.pydata.org/pandas-docs/stable/user_guide/indexing.html#returning-a-view-versus-a-copy\n",
      "  df.loc[:, col + '_' + t] = df[col].apply(lambda x: 1 if t in str(x) else 0)\n",
      "/var/folders/zh/mnvg84rj3_7413ycjzpn5y8r0000gp/T/ipykernel_75787/128475807.py:22: SettingWithCopyWarning: \n",
      "A value is trying to be set on a copy of a slice from a DataFrame.\n",
      "Try using .loc[row_indexer,col_indexer] = value instead\n",
      "\n",
      "See the caveats in the documentation: https://pandas.pydata.org/pandas-docs/stable/user_guide/indexing.html#returning-a-view-versus-a-copy\n",
      "  df.loc[:, col + '_' + t] = df[col].apply(lambda x: 1 if t in str(x) else 0)\n",
      "/var/folders/zh/mnvg84rj3_7413ycjzpn5y8r0000gp/T/ipykernel_75787/128475807.py:22: SettingWithCopyWarning: \n",
      "A value is trying to be set on a copy of a slice from a DataFrame.\n",
      "Try using .loc[row_indexer,col_indexer] = value instead\n",
      "\n",
      "See the caveats in the documentation: https://pandas.pydata.org/pandas-docs/stable/user_guide/indexing.html#returning-a-view-versus-a-copy\n",
      "  df.loc[:, col + '_' + t] = df[col].apply(lambda x: 1 if t in str(x) else 0)\n",
      "/var/folders/zh/mnvg84rj3_7413ycjzpn5y8r0000gp/T/ipykernel_75787/128475807.py:22: SettingWithCopyWarning: \n",
      "A value is trying to be set on a copy of a slice from a DataFrame.\n",
      "Try using .loc[row_indexer,col_indexer] = value instead\n",
      "\n",
      "See the caveats in the documentation: https://pandas.pydata.org/pandas-docs/stable/user_guide/indexing.html#returning-a-view-versus-a-copy\n",
      "  df.loc[:, col + '_' + t] = df[col].apply(lambda x: 1 if t in str(x) else 0)\n",
      "/var/folders/zh/mnvg84rj3_7413ycjzpn5y8r0000gp/T/ipykernel_75787/128475807.py:22: SettingWithCopyWarning: \n",
      "A value is trying to be set on a copy of a slice from a DataFrame.\n",
      "Try using .loc[row_indexer,col_indexer] = value instead\n",
      "\n",
      "See the caveats in the documentation: https://pandas.pydata.org/pandas-docs/stable/user_guide/indexing.html#returning-a-view-versus-a-copy\n",
      "  df.loc[:, col + '_' + t] = df[col].apply(lambda x: 1 if t in str(x) else 0)\n",
      "/var/folders/zh/mnvg84rj3_7413ycjzpn5y8r0000gp/T/ipykernel_75787/128475807.py:22: SettingWithCopyWarning: \n",
      "A value is trying to be set on a copy of a slice from a DataFrame.\n",
      "Try using .loc[row_indexer,col_indexer] = value instead\n",
      "\n",
      "See the caveats in the documentation: https://pandas.pydata.org/pandas-docs/stable/user_guide/indexing.html#returning-a-view-versus-a-copy\n",
      "  df.loc[:, col + '_' + t] = df[col].apply(lambda x: 1 if t in str(x) else 0)\n",
      "/var/folders/zh/mnvg84rj3_7413ycjzpn5y8r0000gp/T/ipykernel_75787/128475807.py:22: SettingWithCopyWarning: \n",
      "A value is trying to be set on a copy of a slice from a DataFrame.\n",
      "Try using .loc[row_indexer,col_indexer] = value instead\n",
      "\n",
      "See the caveats in the documentation: https://pandas.pydata.org/pandas-docs/stable/user_guide/indexing.html#returning-a-view-versus-a-copy\n",
      "  df.loc[:, col + '_' + t] = df[col].apply(lambda x: 1 if t in str(x) else 0)\n",
      "/var/folders/zh/mnvg84rj3_7413ycjzpn5y8r0000gp/T/ipykernel_75787/128475807.py:22: SettingWithCopyWarning: \n",
      "A value is trying to be set on a copy of a slice from a DataFrame.\n",
      "Try using .loc[row_indexer,col_indexer] = value instead\n",
      "\n",
      "See the caveats in the documentation: https://pandas.pydata.org/pandas-docs/stable/user_guide/indexing.html#returning-a-view-versus-a-copy\n",
      "  df.loc[:, col + '_' + t] = df[col].apply(lambda x: 1 if t in str(x) else 0)\n",
      "/var/folders/zh/mnvg84rj3_7413ycjzpn5y8r0000gp/T/ipykernel_75787/128475807.py:22: SettingWithCopyWarning: \n",
      "A value is trying to be set on a copy of a slice from a DataFrame.\n",
      "Try using .loc[row_indexer,col_indexer] = value instead\n",
      "\n",
      "See the caveats in the documentation: https://pandas.pydata.org/pandas-docs/stable/user_guide/indexing.html#returning-a-view-versus-a-copy\n",
      "  df.loc[:, col + '_' + t] = df[col].apply(lambda x: 1 if t in str(x) else 0)\n",
      "/var/folders/zh/mnvg84rj3_7413ycjzpn5y8r0000gp/T/ipykernel_75787/128475807.py:22: SettingWithCopyWarning: \n",
      "A value is trying to be set on a copy of a slice from a DataFrame.\n",
      "Try using .loc[row_indexer,col_indexer] = value instead\n",
      "\n",
      "See the caveats in the documentation: https://pandas.pydata.org/pandas-docs/stable/user_guide/indexing.html#returning-a-view-versus-a-copy\n",
      "  df.loc[:, col + '_' + t] = df[col].apply(lambda x: 1 if t in str(x) else 0)\n"
     ]
    },
    {
     "name": "stdout",
     "output_type": "stream",
     "text": [
      "There are no significant differences\n",
      "\n",
      "\n",
      "===========================\n",
      "========  DENMARK  ========\n",
      "===========================\n",
      "\n",
      "\n",
      "features_Accepts Credit Cards\n",
      "                               restaurant_link  total_avg_rating\n",
      "features_Accepts Credit Cards                                   \n",
      "0                                          929          3.849343\n",
      "1                                          335          4.137330\n",
      "Ratio of the smallest group:\t0.265\n",
      "Variation (??):\t\t\t0.075\t= 7.5%\n",
      "The featured group is BETTER\n",
      "\n",
      "\n",
      "============================\n",
      "========  BULGARIA  ========\n",
      "============================\n",
      "\n",
      "\n",
      "meals_Lunch\n",
      "             restaurant_link  total_avg_rating\n",
      "meals_Lunch                                   \n",
      "0                        104          3.858023\n",
      "1                        432          4.218663\n",
      "Ratio of the smallest group:\t0.194\n",
      "Variation (??):\t\t\t0.093\t= 9.3%\n",
      "The featured group is BETTER\n",
      "\n",
      "\n",
      "meals_Brunch\n",
      "              restaurant_link  total_avg_rating\n",
      "meals_Brunch                                   \n",
      "0                         389          4.003463\n",
      "1                         147          4.325418\n",
      "Ratio of the smallest group:\t0.274\n",
      "Variation (??):\t\t\t0.080\t= 8.0%\n",
      "The featured group is BETTER\n",
      "\n",
      "\n",
      "special_diets_Vegetarian Friendly\n",
      "                                   restaurant_link  total_avg_rating\n",
      "special_diets_Vegetarian Friendly                                   \n",
      "0                                              442          3.861688\n",
      "1                                               94          4.339328\n",
      "Ratio of the smallest group:\t0.175\n",
      "Variation (??):\t\t\t0.124\t= 12.4%\n",
      "The featured group is BETTER\n",
      "\n",
      "\n",
      "features_Reservations\n",
      "                       restaurant_link  total_avg_rating\n",
      "features_Reservations                                   \n",
      "0                                  115          3.886354\n",
      "1                                  421          4.214106\n",
      "Ratio of the smallest group:\t0.215\n",
      "Variation (??):\t\t\t0.084\t= 8.4%\n",
      "The featured group is BETTER\n",
      "\n",
      "\n",
      "features_Free Wifi\n",
      "                    restaurant_link  total_avg_rating\n",
      "features_Free Wifi                                   \n",
      "0                               375          3.828790\n",
      "1                               161          4.329057\n",
      "Ratio of the smallest group:\t0.300\n",
      "Variation (??):\t\t\t0.131\t= 13.1%\n",
      "The featured group is BETTER\n",
      "\n",
      "\n",
      "features_Full Bar\n",
      "                   restaurant_link  total_avg_rating\n",
      "features_Full Bar                                   \n",
      "0                              405          3.934794\n",
      "1                              131          4.279653\n",
      "Ratio of the smallest group:\t0.244\n",
      "Variation (??):\t\t\t0.088\t= 8.8%\n",
      "The featured group is BETTER\n",
      "\n",
      "\n",
      "features_Accepts Credit Cards\n",
      "                               restaurant_link  total_avg_rating\n",
      "features_Accepts Credit Cards                                   \n",
      "0                                          440          3.996119\n",
      "1                                           96          4.357302\n",
      "Ratio of the smallest group:\t0.179\n",
      "Variation (??):\t\t\t0.090\t= 9.0%\n",
      "The featured group is BETTER\n",
      "\n",
      "\n",
      "features_Highchairs Available\n",
      "                               restaurant_link  total_avg_rating\n",
      "features_Highchairs Available                                   \n",
      "0                                          443          3.999646\n",
      "1                                           93          4.316162\n",
      "Ratio of the smallest group:\t0.174\n",
      "Variation (??):\t\t\t0.079\t= 7.9%\n",
      "The featured group is BETTER\n",
      "\n",
      "\n",
      "===========================\n",
      "========  ROMANIA  ========\n",
      "===========================\n",
      "\n",
      "\n",
      "meals_Drinks\n",
      "              restaurant_link  total_avg_rating\n",
      "meals_Drinks                                   \n",
      "0                         836          3.916390\n",
      "1                         287          4.272937\n",
      "Ratio of the smallest group:\t0.256\n",
      "Variation (??):\t\t\t0.091\t= 9.1%\n",
      "The featured group is BETTER\n",
      "\n",
      "\n",
      "meals_Brunch\n",
      "              restaurant_link  total_avg_rating\n",
      "meals_Brunch                                   \n",
      "0                         795          3.883250\n",
      "1                         328          4.230415\n",
      "Ratio of the smallest group:\t0.292\n",
      "Variation (??):\t\t\t0.089\t= 8.9%\n",
      "The featured group is BETTER\n",
      "\n",
      "\n",
      "special_diets_Vegetarian Friendly\n",
      "                                   restaurant_link  total_avg_rating\n",
      "special_diets_Vegetarian Friendly                                   \n",
      "0                                              949          3.788229\n",
      "1                                              174          4.268455\n",
      "Ratio of the smallest group:\t0.155\n",
      "Variation (??):\t\t\t0.127\t= 12.7%\n",
      "The featured group is BETTER\n",
      "\n",
      "\n",
      "cuisines_Romanian\n",
      "                   restaurant_link  total_avg_rating\n",
      "cuisines_Romanian                                   \n",
      "0                              624          4.206314\n",
      "1                              499          3.879610\n",
      "Ratio of the smallest group:\t0.444\n",
      "Variation (??):\t\t\t0.078\t= 7.8%\n",
      "The featured group is WORSE\n",
      "\n",
      "\n",
      "features_Free Wifi\n",
      "                    restaurant_link  total_avg_rating\n",
      "features_Free Wifi                                   \n",
      "0                               775          3.740716\n",
      "1                               348          4.208162\n",
      "Ratio of the smallest group:\t0.310\n",
      "Variation (??):\t\t\t0.125\t= 12.5%\n",
      "The featured group is BETTER\n",
      "\n",
      "\n",
      "features_Full Bar\n",
      "                   restaurant_link  total_avg_rating\n",
      "features_Full Bar                                   \n",
      "0                              825          3.868574\n",
      "1                              298          4.155188\n",
      "Ratio of the smallest group:\t0.265\n",
      "Variation (??):\t\t\t0.074\t= 7.4%\n",
      "The featured group is BETTER\n",
      "\n",
      "\n",
      "features_Accepts Credit Cards\n",
      "                               restaurant_link  total_avg_rating\n",
      "features_Accepts Credit Cards                                   \n",
      "0                                          860          3.839716\n",
      "1                                          263          4.227108\n",
      "Ratio of the smallest group:\t0.234\n",
      "Variation (??):\t\t\t0.101\t= 10.1%\n",
      "The featured group is BETTER\n",
      "\n",
      "\n",
      "features_Highchairs Available\n",
      "                               restaurant_link  total_avg_rating\n",
      "features_Highchairs Available                                   \n",
      "0                                          909          3.916542\n",
      "1                                          214          4.215536\n",
      "Ratio of the smallest group:\t0.191\n",
      "Variation (??):\t\t\t0.076\t= 7.6%\n",
      "The featured group is BETTER\n"
     ]
    },
    {
     "name": "stderr",
     "output_type": "stream",
     "text": [
      "/var/folders/zh/mnvg84rj3_7413ycjzpn5y8r0000gp/T/ipykernel_75787/128475807.py:22: SettingWithCopyWarning: \n",
      "A value is trying to be set on a copy of a slice from a DataFrame.\n",
      "Try using .loc[row_indexer,col_indexer] = value instead\n",
      "\n",
      "See the caveats in the documentation: https://pandas.pydata.org/pandas-docs/stable/user_guide/indexing.html#returning-a-view-versus-a-copy\n",
      "  df.loc[:, col + '_' + t] = df[col].apply(lambda x: 1 if t in str(x) else 0)\n",
      "/var/folders/zh/mnvg84rj3_7413ycjzpn5y8r0000gp/T/ipykernel_75787/128475807.py:22: SettingWithCopyWarning: \n",
      "A value is trying to be set on a copy of a slice from a DataFrame.\n",
      "Try using .loc[row_indexer,col_indexer] = value instead\n",
      "\n",
      "See the caveats in the documentation: https://pandas.pydata.org/pandas-docs/stable/user_guide/indexing.html#returning-a-view-versus-a-copy\n",
      "  df.loc[:, col + '_' + t] = df[col].apply(lambda x: 1 if t in str(x) else 0)\n",
      "/var/folders/zh/mnvg84rj3_7413ycjzpn5y8r0000gp/T/ipykernel_75787/128475807.py:22: SettingWithCopyWarning: \n",
      "A value is trying to be set on a copy of a slice from a DataFrame.\n",
      "Try using .loc[row_indexer,col_indexer] = value instead\n",
      "\n",
      "See the caveats in the documentation: https://pandas.pydata.org/pandas-docs/stable/user_guide/indexing.html#returning-a-view-versus-a-copy\n",
      "  df.loc[:, col + '_' + t] = df[col].apply(lambda x: 1 if t in str(x) else 0)\n",
      "/var/folders/zh/mnvg84rj3_7413ycjzpn5y8r0000gp/T/ipykernel_75787/128475807.py:22: SettingWithCopyWarning: \n",
      "A value is trying to be set on a copy of a slice from a DataFrame.\n",
      "Try using .loc[row_indexer,col_indexer] = value instead\n",
      "\n",
      "See the caveats in the documentation: https://pandas.pydata.org/pandas-docs/stable/user_guide/indexing.html#returning-a-view-versus-a-copy\n",
      "  df.loc[:, col + '_' + t] = df[col].apply(lambda x: 1 if t in str(x) else 0)\n",
      "/var/folders/zh/mnvg84rj3_7413ycjzpn5y8r0000gp/T/ipykernel_75787/128475807.py:22: SettingWithCopyWarning: \n",
      "A value is trying to be set on a copy of a slice from a DataFrame.\n",
      "Try using .loc[row_indexer,col_indexer] = value instead\n",
      "\n",
      "See the caveats in the documentation: https://pandas.pydata.org/pandas-docs/stable/user_guide/indexing.html#returning-a-view-versus-a-copy\n",
      "  df.loc[:, col + '_' + t] = df[col].apply(lambda x: 1 if t in str(x) else 0)\n"
     ]
    }
   ],
   "source": [
    "feature_prefixes = ['price_level_', 'meals_', 'special_diets_', 'cuisines_', 'features_']\n",
    "group_size_threshold = 0.15\n",
    "rating_diff_threshold = 0.07\n",
    "\n",
    "for country in list(base_rest_df2['country'].unique()):\n",
    "    print()\n",
    "    print()\n",
    "    print('==========' + '='*len(country) + '==========')\n",
    "    print('========  ' + str.upper(country) + '  ========')\n",
    "    print('==========' + '='*len(country) + '==========')\n",
    "    significance_flg = print_significant_groups(\n",
    "        features_to_flags(base_rest_df2[base_rest_df2['country'] == country], ['cuisines', 'features'], 0.05), \n",
    "        feature_prefixes, group_size_threshold, rating_diff_threshold\n",
    "    )\n",
    "    if significance_flg == 0:\n",
    "        print('There are no significant differences')"
   ]
  },
  {
   "cell_type": "code",
   "execution_count": null,
   "id": "abe3df9b",
   "metadata": {},
   "outputs": [],
   "source": []
  },
  {
   "cell_type": "markdown",
   "id": "3be577e5",
   "metadata": {},
   "source": [
    "**IDEA**: TO CHECK CORRELATION BETWEEN SIGNIFICANT FEATURES"
   ]
  },
  {
   "cell_type": "markdown",
   "id": "ae741596",
   "metadata": {},
   "source": [
    "kek:\n",
    "\n",
    "==================================\n",
    "========  CZECH REPUBLIC  ========\n",
    "==================================\n",
    "cuisines_Czech\n",
    "                restaurant_link  total_avg_rating\n",
    "cuisines_Czech                                   \n",
    "0                           807          4.255940\n",
    "1                          1207          3.971821\n",
    "Ratio of the smallest group:\t0.401\n",
    "Variation (??):\t\t\t0.067\n",
    "The featured group is WORSE\n",
    "\n",
    "\n",
    "===========================\n",
    "========  ROMANIA  ========\n",
    "===========================\n",
    "\n",
    "cuisines_Romanian\n",
    "                   restaurant_link  total_avg_rating\n",
    "cuisines_Romanian                                   \n",
    "0                              624          4.206314\n",
    "1                              499          3.879610\n",
    "Ratio of the smallest group:\t0.444\n",
    "Variation (??):\t\t\t0.078\n",
    "The featured group is WORSE\n"
   ]
  },
  {
   "cell_type": "code",
   "execution_count": null,
   "id": "10308b77",
   "metadata": {},
   "outputs": [],
   "source": []
  },
  {
   "cell_type": "code",
   "execution_count": null,
   "id": "feffe468",
   "metadata": {},
   "outputs": [],
   "source": [
    "# A value is trying to be set on a copy of a slice from a DataFrame.\n",
    "# Try using .loc[row_indexer,col_indexer] = value instead\n",
    "\n",
    "# 1)\n",
    "# data[data.bidder == 'parakeet2004']['bidderrate'] = 100\n",
    "# -> \n",
    "# data.loc[data.bidder == 'parakeet2004', 'bidderrate'] = 100\n",
    "\n",
    "# 2)\n",
    "# data['bidtime_hours'] = data.bidtime.map(lambda x: x * 24)\n",
    "# ->\n",
    "# data.loc[:, 'bidtime_hours'] = data.bidtime.apply(lambda x: x * 24)\n"
   ]
  },
  {
   "cell_type": "code",
   "execution_count": null,
   "id": "bc7a6aba",
   "metadata": {},
   "outputs": [],
   "source": []
  },
  {
   "cell_type": "markdown",
   "id": "3b28d831",
   "metadata": {},
   "source": [
    "<a id=\"flags\"></a>\n",
    "\n",
    "# 2.2. For 3 types by cuisines (only/one of/no)"
   ]
  },
  {
   "cell_type": "code",
   "execution_count": 214,
   "id": "c7a6ceb8",
   "metadata": {},
   "outputs": [],
   "source": [
    "def define_feature_type(df, feature):\n",
    "    feature_category = feature[:feature.rfind('_')]\n",
    "    if df[feature] == 0:\n",
    "        return 'no'\n",
    "    elif df[feature] == 1 and df[feature_category + '_cnt'] == 1:\n",
    "        return 'only'\n",
    "    else:\n",
    "        return 'one of'\n",
    "\n",
    "def define_types_by_cuisine(df, feature): \n",
    "    df['feature_type'] = df.apply(lambda x: define_feature_type(x, feature), axis=1)\n",
    "    return df"
   ]
  },
  {
   "cell_type": "code",
   "execution_count": 215,
   "id": "a5434e91",
   "metadata": {},
   "outputs": [],
   "source": [
    "def filter_with_threshold2(df):\n",
    "    \n",
    "    if all(option in df.index for option in ['only', 'no']):\n",
    "#         size of the minimal group\n",
    "        min_group_size_ratio = df.loc['only', 'restaurant_link'] / df['restaurant_link'].sum()\n",
    "\n",
    "#         ratio of difference between ratings (for group with feature and group without feature) and rating of base option (group without feature)\n",
    "        diff_rating_ratio = abs((df.loc['only', 'total_avg_rating'] - df.loc['no', 'total_avg_rating']) / df.loc['only', 'total_avg_rating'])\n",
    "        \n",
    "        if df.loc['no', 'total_avg_rating'] < df.loc['only', 'total_avg_rating']:\n",
    "            featured_group_rating = 'better'\n",
    "        elif df.loc['no', 'total_avg_rating'] > df.loc['only', 'total_avg_rating']:\n",
    "            featured_group_rating = 'worse'\n",
    "        else:\n",
    "            featured_group_rating = 'the same'\n",
    "    else:\n",
    "        min_group_size_ratio = 0\n",
    "        diff_rating_ratio = 0\n",
    "        featured_group_rating = 'not applicable'\n",
    "    return min_group_size_ratio, diff_rating_ratio, featured_group_rating\n"
   ]
  },
  {
   "cell_type": "code",
   "execution_count": 224,
   "id": "0a258ddd",
   "metadata": {},
   "outputs": [],
   "source": [
    "def print_significant_groups2(country_df, feature_prefixes, group_size_threshold, rating_diff_threshold):\n",
    "    \n",
    "    features_list = [col for col in country_df.columns if any([pre in col for pre in feature_prefixes]) and '_cnt' not in col]\n",
    "    significance_counter = 0\n",
    "    \n",
    "    for feature in features_list:\n",
    "        country_df2 = define_types_by_cuisine(country_df, feature) \n",
    "        df_compare = compare_by_feature(country_df2, 'feature_type')\n",
    "        param_filter = filter_with_threshold2(df_compare)\n",
    "        if (param_filter[0] > group_size_threshold \n",
    "            and \n",
    "            param_filter[1] > rating_diff_threshold\n",
    "           ):\n",
    "            significance_counter += 1\n",
    "            print()\n",
    "            print()\n",
    "            print(feature)\n",
    "            print(df_compare)\n",
    "            print(\"Ratio of the smallest group:\\t{0:.3f}\".format(param_filter[0]))\n",
    "            print(\"Variation (??):\\t\\t\\t{0:.3f}\\t= {0:.1%}\".format(param_filter[1]))\n",
    "            if param_filter[2] == 'not applicable':\n",
    "                print(param_filter[2])\n",
    "            else:\n",
    "                print(\"The featured group is \" + str.upper(param_filter[2]))\n",
    "            \n",
    "    return significance_counter"
   ]
  },
  {
   "cell_type": "code",
   "execution_count": 231,
   "id": "96a8accb",
   "metadata": {},
   "outputs": [
    {
     "name": "stdout",
     "output_type": "stream",
     "text": [
      "\n",
      "\n",
      "==========================\n",
      "========  FRANCE  ========\n",
      "==========================\n"
     ]
    },
    {
     "name": "stderr",
     "output_type": "stream",
     "text": [
      "/var/folders/zh/mnvg84rj3_7413ycjzpn5y8r0000gp/T/ipykernel_75787/128475807.py:22: SettingWithCopyWarning: \n",
      "A value is trying to be set on a copy of a slice from a DataFrame.\n",
      "Try using .loc[row_indexer,col_indexer] = value instead\n",
      "\n",
      "See the caveats in the documentation: https://pandas.pydata.org/pandas-docs/stable/user_guide/indexing.html#returning-a-view-versus-a-copy\n",
      "  df.loc[:, col + '_' + t] = df[col].apply(lambda x: 1 if t in str(x) else 0)\n"
     ]
    },
    {
     "name": "stdout",
     "output_type": "stream",
     "text": [
      "\n",
      "\n",
      "cuisines_French\n",
      "              restaurant_link  total_avg_rating\n",
      "feature_type                                   \n",
      "no                      12464          3.682730\n",
      "one of                  15981          3.914534\n",
      "only                    16078          3.932702\n",
      "Ratio of the smallest group:\t0.361\n",
      "Variation (??):\t\t\t0.064\t= 6.4%\n",
      "The featured group is BETTER\n",
      "\n",
      "\n",
      "===================================\n",
      "========  THE NETHERLANDS  ========\n",
      "===================================\n"
     ]
    },
    {
     "name": "stderr",
     "output_type": "stream",
     "text": [
      "/var/folders/zh/mnvg84rj3_7413ycjzpn5y8r0000gp/T/ipykernel_75787/128475807.py:22: SettingWithCopyWarning: \n",
      "A value is trying to be set on a copy of a slice from a DataFrame.\n",
      "Try using .loc[row_indexer,col_indexer] = value instead\n",
      "\n",
      "See the caveats in the documentation: https://pandas.pydata.org/pandas-docs/stable/user_guide/indexing.html#returning-a-view-versus-a-copy\n",
      "  df.loc[:, col + '_' + t] = df[col].apply(lambda x: 1 if t in str(x) else 0)\n",
      "/var/folders/zh/mnvg84rj3_7413ycjzpn5y8r0000gp/T/ipykernel_75787/128475807.py:22: SettingWithCopyWarning: \n",
      "A value is trying to be set on a copy of a slice from a DataFrame.\n",
      "Try using .loc[row_indexer,col_indexer] = value instead\n",
      "\n",
      "See the caveats in the documentation: https://pandas.pydata.org/pandas-docs/stable/user_guide/indexing.html#returning-a-view-versus-a-copy\n",
      "  df.loc[:, col + '_' + t] = df[col].apply(lambda x: 1 if t in str(x) else 0)\n",
      "/var/folders/zh/mnvg84rj3_7413ycjzpn5y8r0000gp/T/ipykernel_75787/128475807.py:22: SettingWithCopyWarning: \n",
      "A value is trying to be set on a copy of a slice from a DataFrame.\n",
      "Try using .loc[row_indexer,col_indexer] = value instead\n",
      "\n",
      "See the caveats in the documentation: https://pandas.pydata.org/pandas-docs/stable/user_guide/indexing.html#returning-a-view-versus-a-copy\n",
      "  df.loc[:, col + '_' + t] = df[col].apply(lambda x: 1 if t in str(x) else 0)\n",
      "/var/folders/zh/mnvg84rj3_7413ycjzpn5y8r0000gp/T/ipykernel_75787/128475807.py:22: SettingWithCopyWarning: \n",
      "A value is trying to be set on a copy of a slice from a DataFrame.\n",
      "Try using .loc[row_indexer,col_indexer] = value instead\n",
      "\n",
      "See the caveats in the documentation: https://pandas.pydata.org/pandas-docs/stable/user_guide/indexing.html#returning-a-view-versus-a-copy\n",
      "  df.loc[:, col + '_' + t] = df[col].apply(lambda x: 1 if t in str(x) else 0)\n"
     ]
    },
    {
     "name": "stdout",
     "output_type": "stream",
     "text": [
      "There are no significant differences\n",
      "\n",
      "\n",
      "===========================\n",
      "========  GERMANY  ========\n",
      "===========================\n"
     ]
    },
    {
     "name": "stderr",
     "output_type": "stream",
     "text": [
      "/var/folders/zh/mnvg84rj3_7413ycjzpn5y8r0000gp/T/ipykernel_75787/128475807.py:22: SettingWithCopyWarning: \n",
      "A value is trying to be set on a copy of a slice from a DataFrame.\n",
      "Try using .loc[row_indexer,col_indexer] = value instead\n",
      "\n",
      "See the caveats in the documentation: https://pandas.pydata.org/pandas-docs/stable/user_guide/indexing.html#returning-a-view-versus-a-copy\n",
      "  df.loc[:, col + '_' + t] = df[col].apply(lambda x: 1 if t in str(x) else 0)\n",
      "/var/folders/zh/mnvg84rj3_7413ycjzpn5y8r0000gp/T/ipykernel_75787/128475807.py:22: SettingWithCopyWarning: \n",
      "A value is trying to be set on a copy of a slice from a DataFrame.\n",
      "Try using .loc[row_indexer,col_indexer] = value instead\n",
      "\n",
      "See the caveats in the documentation: https://pandas.pydata.org/pandas-docs/stable/user_guide/indexing.html#returning-a-view-versus-a-copy\n",
      "  df.loc[:, col + '_' + t] = df[col].apply(lambda x: 1 if t in str(x) else 0)\n",
      "/var/folders/zh/mnvg84rj3_7413ycjzpn5y8r0000gp/T/ipykernel_75787/128475807.py:22: SettingWithCopyWarning: \n",
      "A value is trying to be set on a copy of a slice from a DataFrame.\n",
      "Try using .loc[row_indexer,col_indexer] = value instead\n",
      "\n",
      "See the caveats in the documentation: https://pandas.pydata.org/pandas-docs/stable/user_guide/indexing.html#returning-a-view-versus-a-copy\n",
      "  df.loc[:, col + '_' + t] = df[col].apply(lambda x: 1 if t in str(x) else 0)\n"
     ]
    },
    {
     "name": "stdout",
     "output_type": "stream",
     "text": [
      "There are no significant differences\n",
      "\n",
      "\n",
      "===========================\n",
      "========  AUSTRIA  ========\n",
      "===========================\n"
     ]
    },
    {
     "name": "stderr",
     "output_type": "stream",
     "text": [
      "/var/folders/zh/mnvg84rj3_7413ycjzpn5y8r0000gp/T/ipykernel_75787/128475807.py:22: SettingWithCopyWarning: \n",
      "A value is trying to be set on a copy of a slice from a DataFrame.\n",
      "Try using .loc[row_indexer,col_indexer] = value instead\n",
      "\n",
      "See the caveats in the documentation: https://pandas.pydata.org/pandas-docs/stable/user_guide/indexing.html#returning-a-view-versus-a-copy\n",
      "  df.loc[:, col + '_' + t] = df[col].apply(lambda x: 1 if t in str(x) else 0)\n",
      "/var/folders/zh/mnvg84rj3_7413ycjzpn5y8r0000gp/T/ipykernel_75787/128475807.py:22: SettingWithCopyWarning: \n",
      "A value is trying to be set on a copy of a slice from a DataFrame.\n",
      "Try using .loc[row_indexer,col_indexer] = value instead\n",
      "\n",
      "See the caveats in the documentation: https://pandas.pydata.org/pandas-docs/stable/user_guide/indexing.html#returning-a-view-versus-a-copy\n",
      "  df.loc[:, col + '_' + t] = df[col].apply(lambda x: 1 if t in str(x) else 0)\n",
      "/var/folders/zh/mnvg84rj3_7413ycjzpn5y8r0000gp/T/ipykernel_75787/128475807.py:22: SettingWithCopyWarning: \n",
      "A value is trying to be set on a copy of a slice from a DataFrame.\n",
      "Try using .loc[row_indexer,col_indexer] = value instead\n",
      "\n",
      "See the caveats in the documentation: https://pandas.pydata.org/pandas-docs/stable/user_guide/indexing.html#returning-a-view-versus-a-copy\n",
      "  df.loc[:, col + '_' + t] = df[col].apply(lambda x: 1 if t in str(x) else 0)\n",
      "/var/folders/zh/mnvg84rj3_7413ycjzpn5y8r0000gp/T/ipykernel_75787/128475807.py:22: SettingWithCopyWarning: \n",
      "A value is trying to be set on a copy of a slice from a DataFrame.\n",
      "Try using .loc[row_indexer,col_indexer] = value instead\n",
      "\n",
      "See the caveats in the documentation: https://pandas.pydata.org/pandas-docs/stable/user_guide/indexing.html#returning-a-view-versus-a-copy\n",
      "  df.loc[:, col + '_' + t] = df[col].apply(lambda x: 1 if t in str(x) else 0)\n"
     ]
    },
    {
     "name": "stdout",
     "output_type": "stream",
     "text": [
      "There are no significant differences\n",
      "\n",
      "\n",
      "=========================\n",
      "========  SPAIN  ========\n",
      "=========================\n"
     ]
    },
    {
     "name": "stderr",
     "output_type": "stream",
     "text": [
      "/var/folders/zh/mnvg84rj3_7413ycjzpn5y8r0000gp/T/ipykernel_75787/128475807.py:22: SettingWithCopyWarning: \n",
      "A value is trying to be set on a copy of a slice from a DataFrame.\n",
      "Try using .loc[row_indexer,col_indexer] = value instead\n",
      "\n",
      "See the caveats in the documentation: https://pandas.pydata.org/pandas-docs/stable/user_guide/indexing.html#returning-a-view-versus-a-copy\n",
      "  df.loc[:, col + '_' + t] = df[col].apply(lambda x: 1 if t in str(x) else 0)\n",
      "/var/folders/zh/mnvg84rj3_7413ycjzpn5y8r0000gp/T/ipykernel_75787/128475807.py:22: SettingWithCopyWarning: \n",
      "A value is trying to be set on a copy of a slice from a DataFrame.\n",
      "Try using .loc[row_indexer,col_indexer] = value instead\n",
      "\n",
      "See the caveats in the documentation: https://pandas.pydata.org/pandas-docs/stable/user_guide/indexing.html#returning-a-view-versus-a-copy\n",
      "  df.loc[:, col + '_' + t] = df[col].apply(lambda x: 1 if t in str(x) else 0)\n"
     ]
    },
    {
     "name": "stdout",
     "output_type": "stream",
     "text": [
      "\n",
      "\n",
      "cuisines_Spanish\n",
      "              restaurant_link  total_avg_rating\n",
      "feature_type                                   \n",
      "no                       7823          4.123258\n",
      "one of                  15505          4.002390\n",
      "only                     7303          3.716782\n",
      "Ratio of the smallest group:\t0.238\n",
      "Variation (??):\t\t\t0.109\t= 10.9%\n",
      "The featured group is WORSE\n",
      "\n",
      "\n",
      "==================================\n",
      "========  UNITED KINGDOM  ========\n",
      "==================================\n"
     ]
    },
    {
     "name": "stderr",
     "output_type": "stream",
     "text": [
      "/var/folders/zh/mnvg84rj3_7413ycjzpn5y8r0000gp/T/ipykernel_75787/128475807.py:22: SettingWithCopyWarning: \n",
      "A value is trying to be set on a copy of a slice from a DataFrame.\n",
      "Try using .loc[row_indexer,col_indexer] = value instead\n",
      "\n",
      "See the caveats in the documentation: https://pandas.pydata.org/pandas-docs/stable/user_guide/indexing.html#returning-a-view-versus-a-copy\n",
      "  df.loc[:, col + '_' + t] = df[col].apply(lambda x: 1 if t in str(x) else 0)\n",
      "/var/folders/zh/mnvg84rj3_7413ycjzpn5y8r0000gp/T/ipykernel_75787/128475807.py:22: SettingWithCopyWarning: \n",
      "A value is trying to be set on a copy of a slice from a DataFrame.\n",
      "Try using .loc[row_indexer,col_indexer] = value instead\n",
      "\n",
      "See the caveats in the documentation: https://pandas.pydata.org/pandas-docs/stable/user_guide/indexing.html#returning-a-view-versus-a-copy\n",
      "  df.loc[:, col + '_' + t] = df[col].apply(lambda x: 1 if t in str(x) else 0)\n",
      "/var/folders/zh/mnvg84rj3_7413ycjzpn5y8r0000gp/T/ipykernel_75787/128475807.py:22: SettingWithCopyWarning: \n",
      "A value is trying to be set on a copy of a slice from a DataFrame.\n",
      "Try using .loc[row_indexer,col_indexer] = value instead\n",
      "\n",
      "See the caveats in the documentation: https://pandas.pydata.org/pandas-docs/stable/user_guide/indexing.html#returning-a-view-versus-a-copy\n",
      "  df.loc[:, col + '_' + t] = df[col].apply(lambda x: 1 if t in str(x) else 0)\n"
     ]
    },
    {
     "name": "stdout",
     "output_type": "stream",
     "text": [
      "\n",
      "\n",
      "cuisines_Cafe\n",
      "              restaurant_link  total_avg_rating\n",
      "feature_type                                   \n",
      "no                      27640          4.166338\n",
      "one of                   4882          4.214355\n",
      "only                     3013          3.842749\n",
      "Ratio of the smallest group:\t0.085\n",
      "Variation (??):\t\t\t0.084\t= 8.4%\n",
      "The featured group is WORSE\n",
      "\n",
      "\n",
      "price_level_Cheap Eats\n",
      "              restaurant_link  total_avg_rating\n",
      "feature_type                                   \n",
      "no                      23002          4.197097\n",
      "only                    12533          3.909030\n",
      "Ratio of the smallest group:\t0.353\n",
      "Variation (??):\t\t\t0.074\t= 7.4%\n",
      "The featured group is WORSE\n",
      "\n",
      "\n",
      "=========================\n",
      "========  ITALY  ========\n",
      "=========================\n"
     ]
    },
    {
     "name": "stderr",
     "output_type": "stream",
     "text": [
      "/var/folders/zh/mnvg84rj3_7413ycjzpn5y8r0000gp/T/ipykernel_75787/128475807.py:22: SettingWithCopyWarning: \n",
      "A value is trying to be set on a copy of a slice from a DataFrame.\n",
      "Try using .loc[row_indexer,col_indexer] = value instead\n",
      "\n",
      "See the caveats in the documentation: https://pandas.pydata.org/pandas-docs/stable/user_guide/indexing.html#returning-a-view-versus-a-copy\n",
      "  df.loc[:, col + '_' + t] = df[col].apply(lambda x: 1 if t in str(x) else 0)\n",
      "/var/folders/zh/mnvg84rj3_7413ycjzpn5y8r0000gp/T/ipykernel_75787/128475807.py:22: SettingWithCopyWarning: \n",
      "A value is trying to be set on a copy of a slice from a DataFrame.\n",
      "Try using .loc[row_indexer,col_indexer] = value instead\n",
      "\n",
      "See the caveats in the documentation: https://pandas.pydata.org/pandas-docs/stable/user_guide/indexing.html#returning-a-view-versus-a-copy\n",
      "  df.loc[:, col + '_' + t] = df[col].apply(lambda x: 1 if t in str(x) else 0)\n"
     ]
    },
    {
     "name": "stdout",
     "output_type": "stream",
     "text": [
      "There are no significant differences\n",
      "\n",
      "\n",
      "===========================\n",
      "========  IRELAND  ========\n",
      "===========================\n",
      "\n",
      "\n",
      "cuisines_Cafe\n",
      "              restaurant_link  total_avg_rating\n",
      "feature_type                                   \n",
      "no                       1767          4.300455\n",
      "one of                    248          4.307373\n",
      "only                      183          4.006571\n",
      "Ratio of the smallest group:\t0.083\n",
      "Variation (??):\t\t\t0.073\t= 7.3%\n",
      "The featured group is WORSE\n"
     ]
    },
    {
     "name": "stderr",
     "output_type": "stream",
     "text": [
      "/var/folders/zh/mnvg84rj3_7413ycjzpn5y8r0000gp/T/ipykernel_75787/128475807.py:22: SettingWithCopyWarning: \n",
      "A value is trying to be set on a copy of a slice from a DataFrame.\n",
      "Try using .loc[row_indexer,col_indexer] = value instead\n",
      "\n",
      "See the caveats in the documentation: https://pandas.pydata.org/pandas-docs/stable/user_guide/indexing.html#returning-a-view-versus-a-copy\n",
      "  df.loc[:, col + '_' + t] = df[col].apply(lambda x: 1 if t in str(x) else 0)\n",
      "/var/folders/zh/mnvg84rj3_7413ycjzpn5y8r0000gp/T/ipykernel_75787/128475807.py:22: SettingWithCopyWarning: \n",
      "A value is trying to be set on a copy of a slice from a DataFrame.\n",
      "Try using .loc[row_indexer,col_indexer] = value instead\n",
      "\n",
      "See the caveats in the documentation: https://pandas.pydata.org/pandas-docs/stable/user_guide/indexing.html#returning-a-view-versus-a-copy\n",
      "  df.loc[:, col + '_' + t] = df[col].apply(lambda x: 1 if t in str(x) else 0)\n"
     ]
    },
    {
     "name": "stdout",
     "output_type": "stream",
     "text": [
      "\n",
      "\n",
      "==========================\n",
      "========  POLAND  ========\n",
      "==========================\n"
     ]
    },
    {
     "name": "stderr",
     "output_type": "stream",
     "text": [
      "/var/folders/zh/mnvg84rj3_7413ycjzpn5y8r0000gp/T/ipykernel_75787/128475807.py:22: SettingWithCopyWarning: \n",
      "A value is trying to be set on a copy of a slice from a DataFrame.\n",
      "Try using .loc[row_indexer,col_indexer] = value instead\n",
      "\n",
      "See the caveats in the documentation: https://pandas.pydata.org/pandas-docs/stable/user_guide/indexing.html#returning-a-view-versus-a-copy\n",
      "  df.loc[:, col + '_' + t] = df[col].apply(lambda x: 1 if t in str(x) else 0)\n",
      "/var/folders/zh/mnvg84rj3_7413ycjzpn5y8r0000gp/T/ipykernel_75787/128475807.py:22: SettingWithCopyWarning: \n",
      "A value is trying to be set on a copy of a slice from a DataFrame.\n",
      "Try using .loc[row_indexer,col_indexer] = value instead\n",
      "\n",
      "See the caveats in the documentation: https://pandas.pydata.org/pandas-docs/stable/user_guide/indexing.html#returning-a-view-versus-a-copy\n",
      "  df.loc[:, col + '_' + t] = df[col].apply(lambda x: 1 if t in str(x) else 0)\n",
      "/var/folders/zh/mnvg84rj3_7413ycjzpn5y8r0000gp/T/ipykernel_75787/128475807.py:22: SettingWithCopyWarning: \n",
      "A value is trying to be set on a copy of a slice from a DataFrame.\n",
      "Try using .loc[row_indexer,col_indexer] = value instead\n",
      "\n",
      "See the caveats in the documentation: https://pandas.pydata.org/pandas-docs/stable/user_guide/indexing.html#returning-a-view-versus-a-copy\n",
      "  df.loc[:, col + '_' + t] = df[col].apply(lambda x: 1 if t in str(x) else 0)\n",
      "/var/folders/zh/mnvg84rj3_7413ycjzpn5y8r0000gp/T/ipykernel_75787/128475807.py:22: SettingWithCopyWarning: \n",
      "A value is trying to be set on a copy of a slice from a DataFrame.\n",
      "Try using .loc[row_indexer,col_indexer] = value instead\n",
      "\n",
      "See the caveats in the documentation: https://pandas.pydata.org/pandas-docs/stable/user_guide/indexing.html#returning-a-view-versus-a-copy\n",
      "  df.loc[:, col + '_' + t] = df[col].apply(lambda x: 1 if t in str(x) else 0)\n",
      "/var/folders/zh/mnvg84rj3_7413ycjzpn5y8r0000gp/T/ipykernel_75787/128475807.py:22: SettingWithCopyWarning: \n",
      "A value is trying to be set on a copy of a slice from a DataFrame.\n",
      "Try using .loc[row_indexer,col_indexer] = value instead\n",
      "\n",
      "See the caveats in the documentation: https://pandas.pydata.org/pandas-docs/stable/user_guide/indexing.html#returning-a-view-versus-a-copy\n",
      "  df.loc[:, col + '_' + t] = df[col].apply(lambda x: 1 if t in str(x) else 0)\n",
      "/var/folders/zh/mnvg84rj3_7413ycjzpn5y8r0000gp/T/ipykernel_75787/128475807.py:22: SettingWithCopyWarning: \n",
      "A value is trying to be set on a copy of a slice from a DataFrame.\n",
      "Try using .loc[row_indexer,col_indexer] = value instead\n",
      "\n",
      "See the caveats in the documentation: https://pandas.pydata.org/pandas-docs/stable/user_guide/indexing.html#returning-a-view-versus-a-copy\n",
      "  df.loc[:, col + '_' + t] = df[col].apply(lambda x: 1 if t in str(x) else 0)\n",
      "/var/folders/zh/mnvg84rj3_7413ycjzpn5y8r0000gp/T/ipykernel_75787/128475807.py:22: SettingWithCopyWarning: \n",
      "A value is trying to be set on a copy of a slice from a DataFrame.\n",
      "Try using .loc[row_indexer,col_indexer] = value instead\n",
      "\n",
      "See the caveats in the documentation: https://pandas.pydata.org/pandas-docs/stable/user_guide/indexing.html#returning-a-view-versus-a-copy\n",
      "  df.loc[:, col + '_' + t] = df[col].apply(lambda x: 1 if t in str(x) else 0)\n"
     ]
    },
    {
     "name": "stdout",
     "output_type": "stream",
     "text": [
      "There are no significant differences\n",
      "\n",
      "\n",
      "==========================\n",
      "========  SWEDEN  ========\n",
      "==========================\n"
     ]
    },
    {
     "name": "stderr",
     "output_type": "stream",
     "text": [
      "/var/folders/zh/mnvg84rj3_7413ycjzpn5y8r0000gp/T/ipykernel_75787/128475807.py:22: SettingWithCopyWarning: \n",
      "A value is trying to be set on a copy of a slice from a DataFrame.\n",
      "Try using .loc[row_indexer,col_indexer] = value instead\n",
      "\n",
      "See the caveats in the documentation: https://pandas.pydata.org/pandas-docs/stable/user_guide/indexing.html#returning-a-view-versus-a-copy\n",
      "  df.loc[:, col + '_' + t] = df[col].apply(lambda x: 1 if t in str(x) else 0)\n",
      "/var/folders/zh/mnvg84rj3_7413ycjzpn5y8r0000gp/T/ipykernel_75787/128475807.py:22: SettingWithCopyWarning: \n",
      "A value is trying to be set on a copy of a slice from a DataFrame.\n",
      "Try using .loc[row_indexer,col_indexer] = value instead\n",
      "\n",
      "See the caveats in the documentation: https://pandas.pydata.org/pandas-docs/stable/user_guide/indexing.html#returning-a-view-versus-a-copy\n",
      "  df.loc[:, col + '_' + t] = df[col].apply(lambda x: 1 if t in str(x) else 0)\n",
      "/var/folders/zh/mnvg84rj3_7413ycjzpn5y8r0000gp/T/ipykernel_75787/128475807.py:22: SettingWithCopyWarning: \n",
      "A value is trying to be set on a copy of a slice from a DataFrame.\n",
      "Try using .loc[row_indexer,col_indexer] = value instead\n",
      "\n",
      "See the caveats in the documentation: https://pandas.pydata.org/pandas-docs/stable/user_guide/indexing.html#returning-a-view-versus-a-copy\n",
      "  df.loc[:, col + '_' + t] = df[col].apply(lambda x: 1 if t in str(x) else 0)\n",
      "/var/folders/zh/mnvg84rj3_7413ycjzpn5y8r0000gp/T/ipykernel_75787/128475807.py:22: SettingWithCopyWarning: \n",
      "A value is trying to be set on a copy of a slice from a DataFrame.\n",
      "Try using .loc[row_indexer,col_indexer] = value instead\n",
      "\n",
      "See the caveats in the documentation: https://pandas.pydata.org/pandas-docs/stable/user_guide/indexing.html#returning-a-view-versus-a-copy\n",
      "  df.loc[:, col + '_' + t] = df[col].apply(lambda x: 1 if t in str(x) else 0)\n",
      "/var/folders/zh/mnvg84rj3_7413ycjzpn5y8r0000gp/T/ipykernel_75787/128475807.py:22: SettingWithCopyWarning: \n",
      "A value is trying to be set on a copy of a slice from a DataFrame.\n",
      "Try using .loc[row_indexer,col_indexer] = value instead\n",
      "\n",
      "See the caveats in the documentation: https://pandas.pydata.org/pandas-docs/stable/user_guide/indexing.html#returning-a-view-versus-a-copy\n",
      "  df.loc[:, col + '_' + t] = df[col].apply(lambda x: 1 if t in str(x) else 0)\n"
     ]
    },
    {
     "name": "stdout",
     "output_type": "stream",
     "text": [
      "There are no significant differences\n",
      "\n",
      "\n",
      "===========================\n",
      "========  BELGIUM  ========\n",
      "===========================\n"
     ]
    },
    {
     "name": "stderr",
     "output_type": "stream",
     "text": [
      "/var/folders/zh/mnvg84rj3_7413ycjzpn5y8r0000gp/T/ipykernel_75787/128475807.py:22: SettingWithCopyWarning: \n",
      "A value is trying to be set on a copy of a slice from a DataFrame.\n",
      "Try using .loc[row_indexer,col_indexer] = value instead\n",
      "\n",
      "See the caveats in the documentation: https://pandas.pydata.org/pandas-docs/stable/user_guide/indexing.html#returning-a-view-versus-a-copy\n",
      "  df.loc[:, col + '_' + t] = df[col].apply(lambda x: 1 if t in str(x) else 0)\n",
      "/var/folders/zh/mnvg84rj3_7413ycjzpn5y8r0000gp/T/ipykernel_75787/128475807.py:22: SettingWithCopyWarning: \n",
      "A value is trying to be set on a copy of a slice from a DataFrame.\n",
      "Try using .loc[row_indexer,col_indexer] = value instead\n",
      "\n",
      "See the caveats in the documentation: https://pandas.pydata.org/pandas-docs/stable/user_guide/indexing.html#returning-a-view-versus-a-copy\n",
      "  df.loc[:, col + '_' + t] = df[col].apply(lambda x: 1 if t in str(x) else 0)\n",
      "/var/folders/zh/mnvg84rj3_7413ycjzpn5y8r0000gp/T/ipykernel_75787/128475807.py:22: SettingWithCopyWarning: \n",
      "A value is trying to be set on a copy of a slice from a DataFrame.\n",
      "Try using .loc[row_indexer,col_indexer] = value instead\n",
      "\n",
      "See the caveats in the documentation: https://pandas.pydata.org/pandas-docs/stable/user_guide/indexing.html#returning-a-view-versus-a-copy\n",
      "  df.loc[:, col + '_' + t] = df[col].apply(lambda x: 1 if t in str(x) else 0)\n",
      "/var/folders/zh/mnvg84rj3_7413ycjzpn5y8r0000gp/T/ipykernel_75787/128475807.py:22: SettingWithCopyWarning: \n",
      "A value is trying to be set on a copy of a slice from a DataFrame.\n",
      "Try using .loc[row_indexer,col_indexer] = value instead\n",
      "\n",
      "See the caveats in the documentation: https://pandas.pydata.org/pandas-docs/stable/user_guide/indexing.html#returning-a-view-versus-a-copy\n",
      "  df.loc[:, col + '_' + t] = df[col].apply(lambda x: 1 if t in str(x) else 0)\n"
     ]
    },
    {
     "name": "stdout",
     "output_type": "stream",
     "text": [
      "There are no significant differences\n",
      "\n",
      "\n",
      "==========================\n",
      "========  GREECE  ========\n",
      "==========================\n"
     ]
    },
    {
     "name": "stderr",
     "output_type": "stream",
     "text": [
      "/var/folders/zh/mnvg84rj3_7413ycjzpn5y8r0000gp/T/ipykernel_75787/128475807.py:22: SettingWithCopyWarning: \n",
      "A value is trying to be set on a copy of a slice from a DataFrame.\n",
      "Try using .loc[row_indexer,col_indexer] = value instead\n",
      "\n",
      "See the caveats in the documentation: https://pandas.pydata.org/pandas-docs/stable/user_guide/indexing.html#returning-a-view-versus-a-copy\n",
      "  df.loc[:, col + '_' + t] = df[col].apply(lambda x: 1 if t in str(x) else 0)\n",
      "/var/folders/zh/mnvg84rj3_7413ycjzpn5y8r0000gp/T/ipykernel_75787/128475807.py:22: SettingWithCopyWarning: \n",
      "A value is trying to be set on a copy of a slice from a DataFrame.\n",
      "Try using .loc[row_indexer,col_indexer] = value instead\n",
      "\n",
      "See the caveats in the documentation: https://pandas.pydata.org/pandas-docs/stable/user_guide/indexing.html#returning-a-view-versus-a-copy\n",
      "  df.loc[:, col + '_' + t] = df[col].apply(lambda x: 1 if t in str(x) else 0)\n",
      "/var/folders/zh/mnvg84rj3_7413ycjzpn5y8r0000gp/T/ipykernel_75787/128475807.py:22: SettingWithCopyWarning: \n",
      "A value is trying to be set on a copy of a slice from a DataFrame.\n",
      "Try using .loc[row_indexer,col_indexer] = value instead\n",
      "\n",
      "See the caveats in the documentation: https://pandas.pydata.org/pandas-docs/stable/user_guide/indexing.html#returning-a-view-versus-a-copy\n",
      "  df.loc[:, col + '_' + t] = df[col].apply(lambda x: 1 if t in str(x) else 0)\n",
      "/var/folders/zh/mnvg84rj3_7413ycjzpn5y8r0000gp/T/ipykernel_75787/128475807.py:22: SettingWithCopyWarning: \n",
      "A value is trying to be set on a copy of a slice from a DataFrame.\n",
      "Try using .loc[row_indexer,col_indexer] = value instead\n",
      "\n",
      "See the caveats in the documentation: https://pandas.pydata.org/pandas-docs/stable/user_guide/indexing.html#returning-a-view-versus-a-copy\n",
      "  df.loc[:, col + '_' + t] = df[col].apply(lambda x: 1 if t in str(x) else 0)\n",
      "/var/folders/zh/mnvg84rj3_7413ycjzpn5y8r0000gp/T/ipykernel_75787/128475807.py:22: SettingWithCopyWarning: \n",
      "A value is trying to be set on a copy of a slice from a DataFrame.\n",
      "Try using .loc[row_indexer,col_indexer] = value instead\n",
      "\n",
      "See the caveats in the documentation: https://pandas.pydata.org/pandas-docs/stable/user_guide/indexing.html#returning-a-view-versus-a-copy\n",
      "  df.loc[:, col + '_' + t] = df[col].apply(lambda x: 1 if t in str(x) else 0)\n",
      "/var/folders/zh/mnvg84rj3_7413ycjzpn5y8r0000gp/T/ipykernel_75787/128475807.py:22: SettingWithCopyWarning: \n",
      "A value is trying to be set on a copy of a slice from a DataFrame.\n",
      "Try using .loc[row_indexer,col_indexer] = value instead\n",
      "\n",
      "See the caveats in the documentation: https://pandas.pydata.org/pandas-docs/stable/user_guide/indexing.html#returning-a-view-versus-a-copy\n",
      "  df.loc[:, col + '_' + t] = df[col].apply(lambda x: 1 if t in str(x) else 0)\n"
     ]
    },
    {
     "name": "stdout",
     "output_type": "stream",
     "text": [
      "There are no significant differences\n",
      "\n",
      "\n",
      "===========================\n",
      "========  CROATIA  ========\n",
      "===========================\n"
     ]
    },
    {
     "name": "stderr",
     "output_type": "stream",
     "text": [
      "/var/folders/zh/mnvg84rj3_7413ycjzpn5y8r0000gp/T/ipykernel_75787/128475807.py:22: SettingWithCopyWarning: \n",
      "A value is trying to be set on a copy of a slice from a DataFrame.\n",
      "Try using .loc[row_indexer,col_indexer] = value instead\n",
      "\n",
      "See the caveats in the documentation: https://pandas.pydata.org/pandas-docs/stable/user_guide/indexing.html#returning-a-view-versus-a-copy\n",
      "  df.loc[:, col + '_' + t] = df[col].apply(lambda x: 1 if t in str(x) else 0)\n",
      "/var/folders/zh/mnvg84rj3_7413ycjzpn5y8r0000gp/T/ipykernel_75787/128475807.py:22: SettingWithCopyWarning: \n",
      "A value is trying to be set on a copy of a slice from a DataFrame.\n",
      "Try using .loc[row_indexer,col_indexer] = value instead\n",
      "\n",
      "See the caveats in the documentation: https://pandas.pydata.org/pandas-docs/stable/user_guide/indexing.html#returning-a-view-versus-a-copy\n",
      "  df.loc[:, col + '_' + t] = df[col].apply(lambda x: 1 if t in str(x) else 0)\n",
      "/var/folders/zh/mnvg84rj3_7413ycjzpn5y8r0000gp/T/ipykernel_75787/128475807.py:22: SettingWithCopyWarning: \n",
      "A value is trying to be set on a copy of a slice from a DataFrame.\n",
      "Try using .loc[row_indexer,col_indexer] = value instead\n",
      "\n",
      "See the caveats in the documentation: https://pandas.pydata.org/pandas-docs/stable/user_guide/indexing.html#returning-a-view-versus-a-copy\n",
      "  df.loc[:, col + '_' + t] = df[col].apply(lambda x: 1 if t in str(x) else 0)\n",
      "/var/folders/zh/mnvg84rj3_7413ycjzpn5y8r0000gp/T/ipykernel_75787/128475807.py:22: SettingWithCopyWarning: \n",
      "A value is trying to be set on a copy of a slice from a DataFrame.\n",
      "Try using .loc[row_indexer,col_indexer] = value instead\n",
      "\n",
      "See the caveats in the documentation: https://pandas.pydata.org/pandas-docs/stable/user_guide/indexing.html#returning-a-view-versus-a-copy\n",
      "  df.loc[:, col + '_' + t] = df[col].apply(lambda x: 1 if t in str(x) else 0)\n",
      "/var/folders/zh/mnvg84rj3_7413ycjzpn5y8r0000gp/T/ipykernel_75787/128475807.py:22: SettingWithCopyWarning: \n",
      "A value is trying to be set on a copy of a slice from a DataFrame.\n",
      "Try using .loc[row_indexer,col_indexer] = value instead\n",
      "\n",
      "See the caveats in the documentation: https://pandas.pydata.org/pandas-docs/stable/user_guide/indexing.html#returning-a-view-versus-a-copy\n",
      "  df.loc[:, col + '_' + t] = df[col].apply(lambda x: 1 if t in str(x) else 0)\n"
     ]
    },
    {
     "name": "stdout",
     "output_type": "stream",
     "text": [
      "There are no significant differences\n",
      "\n",
      "\n",
      "============================\n",
      "========  PORTUGAL  ========\n",
      "============================\n"
     ]
    },
    {
     "name": "stderr",
     "output_type": "stream",
     "text": [
      "/var/folders/zh/mnvg84rj3_7413ycjzpn5y8r0000gp/T/ipykernel_75787/128475807.py:22: SettingWithCopyWarning: \n",
      "A value is trying to be set on a copy of a slice from a DataFrame.\n",
      "Try using .loc[row_indexer,col_indexer] = value instead\n",
      "\n",
      "See the caveats in the documentation: https://pandas.pydata.org/pandas-docs/stable/user_guide/indexing.html#returning-a-view-versus-a-copy\n",
      "  df.loc[:, col + '_' + t] = df[col].apply(lambda x: 1 if t in str(x) else 0)\n",
      "/var/folders/zh/mnvg84rj3_7413ycjzpn5y8r0000gp/T/ipykernel_75787/128475807.py:22: SettingWithCopyWarning: \n",
      "A value is trying to be set on a copy of a slice from a DataFrame.\n",
      "Try using .loc[row_indexer,col_indexer] = value instead\n",
      "\n",
      "See the caveats in the documentation: https://pandas.pydata.org/pandas-docs/stable/user_guide/indexing.html#returning-a-view-versus-a-copy\n",
      "  df.loc[:, col + '_' + t] = df[col].apply(lambda x: 1 if t in str(x) else 0)\n"
     ]
    },
    {
     "name": "stdout",
     "output_type": "stream",
     "text": [
      "There are no significant differences\n",
      "\n",
      "\n",
      "============================\n",
      "========  SLOVAKIA  ========\n",
      "============================\n",
      "\n",
      "\n",
      "cuisines_Cafe\n",
      "              restaurant_link  total_avg_rating\n",
      "feature_type                                   \n",
      "no                        418          3.948017\n",
      "one of                     51          4.194201\n",
      "only                       48          4.315402\n",
      "Ratio of the smallest group:\t0.093\n",
      "Variation (??):\t\t\t0.085\t= 8.5%\n",
      "The featured group is BETTER\n",
      "\n",
      "\n",
      "==================================\n",
      "========  CZECH REPUBLIC  ========\n",
      "==================================\n"
     ]
    },
    {
     "name": "stderr",
     "output_type": "stream",
     "text": [
      "/var/folders/zh/mnvg84rj3_7413ycjzpn5y8r0000gp/T/ipykernel_75787/128475807.py:22: SettingWithCopyWarning: \n",
      "A value is trying to be set on a copy of a slice from a DataFrame.\n",
      "Try using .loc[row_indexer,col_indexer] = value instead\n",
      "\n",
      "See the caveats in the documentation: https://pandas.pydata.org/pandas-docs/stable/user_guide/indexing.html#returning-a-view-versus-a-copy\n",
      "  df.loc[:, col + '_' + t] = df[col].apply(lambda x: 1 if t in str(x) else 0)\n",
      "/var/folders/zh/mnvg84rj3_7413ycjzpn5y8r0000gp/T/ipykernel_75787/128475807.py:22: SettingWithCopyWarning: \n",
      "A value is trying to be set on a copy of a slice from a DataFrame.\n",
      "Try using .loc[row_indexer,col_indexer] = value instead\n",
      "\n",
      "See the caveats in the documentation: https://pandas.pydata.org/pandas-docs/stable/user_guide/indexing.html#returning-a-view-versus-a-copy\n",
      "  df.loc[:, col + '_' + t] = df[col].apply(lambda x: 1 if t in str(x) else 0)\n",
      "/var/folders/zh/mnvg84rj3_7413ycjzpn5y8r0000gp/T/ipykernel_75787/128475807.py:22: SettingWithCopyWarning: \n",
      "A value is trying to be set on a copy of a slice from a DataFrame.\n",
      "Try using .loc[row_indexer,col_indexer] = value instead\n",
      "\n",
      "See the caveats in the documentation: https://pandas.pydata.org/pandas-docs/stable/user_guide/indexing.html#returning-a-view-versus-a-copy\n",
      "  df.loc[:, col + '_' + t] = df[col].apply(lambda x: 1 if t in str(x) else 0)\n",
      "/var/folders/zh/mnvg84rj3_7413ycjzpn5y8r0000gp/T/ipykernel_75787/128475807.py:22: SettingWithCopyWarning: \n",
      "A value is trying to be set on a copy of a slice from a DataFrame.\n",
      "Try using .loc[row_indexer,col_indexer] = value instead\n",
      "\n",
      "See the caveats in the documentation: https://pandas.pydata.org/pandas-docs/stable/user_guide/indexing.html#returning-a-view-versus-a-copy\n",
      "  df.loc[:, col + '_' + t] = df[col].apply(lambda x: 1 if t in str(x) else 0)\n",
      "/var/folders/zh/mnvg84rj3_7413ycjzpn5y8r0000gp/T/ipykernel_75787/128475807.py:22: SettingWithCopyWarning: \n",
      "A value is trying to be set on a copy of a slice from a DataFrame.\n",
      "Try using .loc[row_indexer,col_indexer] = value instead\n",
      "\n",
      "See the caveats in the documentation: https://pandas.pydata.org/pandas-docs/stable/user_guide/indexing.html#returning-a-view-versus-a-copy\n",
      "  df.loc[:, col + '_' + t] = df[col].apply(lambda x: 1 if t in str(x) else 0)\n",
      "/var/folders/zh/mnvg84rj3_7413ycjzpn5y8r0000gp/T/ipykernel_75787/128475807.py:22: SettingWithCopyWarning: \n",
      "A value is trying to be set on a copy of a slice from a DataFrame.\n",
      "Try using .loc[row_indexer,col_indexer] = value instead\n",
      "\n",
      "See the caveats in the documentation: https://pandas.pydata.org/pandas-docs/stable/user_guide/indexing.html#returning-a-view-versus-a-copy\n",
      "  df.loc[:, col + '_' + t] = df[col].apply(lambda x: 1 if t in str(x) else 0)\n",
      "/var/folders/zh/mnvg84rj3_7413ycjzpn5y8r0000gp/T/ipykernel_75787/128475807.py:22: SettingWithCopyWarning: \n",
      "A value is trying to be set on a copy of a slice from a DataFrame.\n",
      "Try using .loc[row_indexer,col_indexer] = value instead\n",
      "\n",
      "See the caveats in the documentation: https://pandas.pydata.org/pandas-docs/stable/user_guide/indexing.html#returning-a-view-versus-a-copy\n",
      "  df.loc[:, col + '_' + t] = df[col].apply(lambda x: 1 if t in str(x) else 0)\n",
      "/var/folders/zh/mnvg84rj3_7413ycjzpn5y8r0000gp/T/ipykernel_75787/128475807.py:22: SettingWithCopyWarning: \n",
      "A value is trying to be set on a copy of a slice from a DataFrame.\n",
      "Try using .loc[row_indexer,col_indexer] = value instead\n",
      "\n",
      "See the caveats in the documentation: https://pandas.pydata.org/pandas-docs/stable/user_guide/indexing.html#returning-a-view-versus-a-copy\n",
      "  df.loc[:, col + '_' + t] = df[col].apply(lambda x: 1 if t in str(x) else 0)\n",
      "/var/folders/zh/mnvg84rj3_7413ycjzpn5y8r0000gp/T/ipykernel_75787/128475807.py:22: SettingWithCopyWarning: \n",
      "A value is trying to be set on a copy of a slice from a DataFrame.\n",
      "Try using .loc[row_indexer,col_indexer] = value instead\n",
      "\n",
      "See the caveats in the documentation: https://pandas.pydata.org/pandas-docs/stable/user_guide/indexing.html#returning-a-view-versus-a-copy\n",
      "  df.loc[:, col + '_' + t] = df[col].apply(lambda x: 1 if t in str(x) else 0)\n"
     ]
    },
    {
     "name": "stdout",
     "output_type": "stream",
     "text": [
      "\n",
      "\n",
      "cuisines_Cafe\n",
      "              restaurant_link  total_avg_rating\n",
      "feature_type                                   \n",
      "no                       1711          4.063769\n",
      "one of                    186          4.205226\n",
      "only                      117          3.697278\n",
      "Ratio of the smallest group:\t0.058\n",
      "Variation (??):\t\t\t0.099\t= 9.9%\n",
      "The featured group is WORSE\n",
      "\n",
      "\n",
      "price_level_Cheap Eats\n",
      "              restaurant_link  total_avg_rating\n",
      "feature_type                                   \n",
      "no                       1595          4.037758\n",
      "only                      419          4.258728\n",
      "Ratio of the smallest group:\t0.208\n",
      "Variation (??):\t\t\t0.052\t= 5.2%\n",
      "The featured group is BETTER\n",
      "\n",
      "\n",
      "===========================\n",
      "========  HUNGARY  ========\n",
      "===========================\n",
      "\n",
      "\n",
      "cuisines_Cafe\n",
      "              restaurant_link  total_avg_rating\n",
      "feature_type                                   \n",
      "no                        721          4.261764\n",
      "one of                    115          4.098114\n",
      "only                       49          3.861927\n",
      "Ratio of the smallest group:\t0.055\n",
      "Variation (??):\t\t\t0.104\t= 10.4%\n",
      "The featured group is WORSE\n"
     ]
    },
    {
     "name": "stderr",
     "output_type": "stream",
     "text": [
      "/var/folders/zh/mnvg84rj3_7413ycjzpn5y8r0000gp/T/ipykernel_75787/128475807.py:22: SettingWithCopyWarning: \n",
      "A value is trying to be set on a copy of a slice from a DataFrame.\n",
      "Try using .loc[row_indexer,col_indexer] = value instead\n",
      "\n",
      "See the caveats in the documentation: https://pandas.pydata.org/pandas-docs/stable/user_guide/indexing.html#returning-a-view-versus-a-copy\n",
      "  df.loc[:, col + '_' + t] = df[col].apply(lambda x: 1 if t in str(x) else 0)\n",
      "/var/folders/zh/mnvg84rj3_7413ycjzpn5y8r0000gp/T/ipykernel_75787/128475807.py:22: SettingWithCopyWarning: \n",
      "A value is trying to be set on a copy of a slice from a DataFrame.\n",
      "Try using .loc[row_indexer,col_indexer] = value instead\n",
      "\n",
      "See the caveats in the documentation: https://pandas.pydata.org/pandas-docs/stable/user_guide/indexing.html#returning-a-view-versus-a-copy\n",
      "  df.loc[:, col + '_' + t] = df[col].apply(lambda x: 1 if t in str(x) else 0)\n",
      "/var/folders/zh/mnvg84rj3_7413ycjzpn5y8r0000gp/T/ipykernel_75787/128475807.py:22: SettingWithCopyWarning: \n",
      "A value is trying to be set on a copy of a slice from a DataFrame.\n",
      "Try using .loc[row_indexer,col_indexer] = value instead\n",
      "\n",
      "See the caveats in the documentation: https://pandas.pydata.org/pandas-docs/stable/user_guide/indexing.html#returning-a-view-versus-a-copy\n",
      "  df.loc[:, col + '_' + t] = df[col].apply(lambda x: 1 if t in str(x) else 0)\n",
      "/var/folders/zh/mnvg84rj3_7413ycjzpn5y8r0000gp/T/ipykernel_75787/128475807.py:22: SettingWithCopyWarning: \n",
      "A value is trying to be set on a copy of a slice from a DataFrame.\n",
      "Try using .loc[row_indexer,col_indexer] = value instead\n",
      "\n",
      "See the caveats in the documentation: https://pandas.pydata.org/pandas-docs/stable/user_guide/indexing.html#returning-a-view-versus-a-copy\n",
      "  df.loc[:, col + '_' + t] = df[col].apply(lambda x: 1 if t in str(x) else 0)\n",
      "/var/folders/zh/mnvg84rj3_7413ycjzpn5y8r0000gp/T/ipykernel_75787/128475807.py:22: SettingWithCopyWarning: \n",
      "A value is trying to be set on a copy of a slice from a DataFrame.\n",
      "Try using .loc[row_indexer,col_indexer] = value instead\n",
      "\n",
      "See the caveats in the documentation: https://pandas.pydata.org/pandas-docs/stable/user_guide/indexing.html#returning-a-view-versus-a-copy\n",
      "  df.loc[:, col + '_' + t] = df[col].apply(lambda x: 1 if t in str(x) else 0)\n",
      "/var/folders/zh/mnvg84rj3_7413ycjzpn5y8r0000gp/T/ipykernel_75787/128475807.py:22: SettingWithCopyWarning: \n",
      "A value is trying to be set on a copy of a slice from a DataFrame.\n",
      "Try using .loc[row_indexer,col_indexer] = value instead\n",
      "\n",
      "See the caveats in the documentation: https://pandas.pydata.org/pandas-docs/stable/user_guide/indexing.html#returning-a-view-versus-a-copy\n",
      "  df.loc[:, col + '_' + t] = df[col].apply(lambda x: 1 if t in str(x) else 0)\n",
      "/var/folders/zh/mnvg84rj3_7413ycjzpn5y8r0000gp/T/ipykernel_75787/128475807.py:22: SettingWithCopyWarning: \n",
      "A value is trying to be set on a copy of a slice from a DataFrame.\n",
      "Try using .loc[row_indexer,col_indexer] = value instead\n",
      "\n",
      "See the caveats in the documentation: https://pandas.pydata.org/pandas-docs/stable/user_guide/indexing.html#returning-a-view-versus-a-copy\n",
      "  df.loc[:, col + '_' + t] = df[col].apply(lambda x: 1 if t in str(x) else 0)\n",
      "/var/folders/zh/mnvg84rj3_7413ycjzpn5y8r0000gp/T/ipykernel_75787/128475807.py:22: SettingWithCopyWarning: \n",
      "A value is trying to be set on a copy of a slice from a DataFrame.\n",
      "Try using .loc[row_indexer,col_indexer] = value instead\n",
      "\n",
      "See the caveats in the documentation: https://pandas.pydata.org/pandas-docs/stable/user_guide/indexing.html#returning-a-view-versus-a-copy\n",
      "  df.loc[:, col + '_' + t] = df[col].apply(lambda x: 1 if t in str(x) else 0)\n",
      "/var/folders/zh/mnvg84rj3_7413ycjzpn5y8r0000gp/T/ipykernel_75787/128475807.py:22: SettingWithCopyWarning: \n",
      "A value is trying to be set on a copy of a slice from a DataFrame.\n",
      "Try using .loc[row_indexer,col_indexer] = value instead\n",
      "\n",
      "See the caveats in the documentation: https://pandas.pydata.org/pandas-docs/stable/user_guide/indexing.html#returning-a-view-versus-a-copy\n",
      "  df.loc[:, col + '_' + t] = df[col].apply(lambda x: 1 if t in str(x) else 0)\n"
     ]
    },
    {
     "name": "stdout",
     "output_type": "stream",
     "text": [
      "\n",
      "\n",
      "===========================\n",
      "========  FINLAND  ========\n",
      "===========================\n",
      "\n",
      "\n",
      "cuisines_Cafe\n",
      "              restaurant_link  total_avg_rating\n",
      "feature_type                                   \n",
      "no                        528          3.941487\n",
      "one of                     78          4.092890\n",
      "only                       42          4.155119\n",
      "Ratio of the smallest group:\t0.065\n",
      "Variation (??):\t\t\t0.051\t= 5.1%\n",
      "The featured group is BETTER\n",
      "\n",
      "\n",
      "===========================\n",
      "========  DENMARK  ========\n",
      "===========================\n"
     ]
    },
    {
     "name": "stderr",
     "output_type": "stream",
     "text": [
      "/var/folders/zh/mnvg84rj3_7413ycjzpn5y8r0000gp/T/ipykernel_75787/128475807.py:22: SettingWithCopyWarning: \n",
      "A value is trying to be set on a copy of a slice from a DataFrame.\n",
      "Try using .loc[row_indexer,col_indexer] = value instead\n",
      "\n",
      "See the caveats in the documentation: https://pandas.pydata.org/pandas-docs/stable/user_guide/indexing.html#returning-a-view-versus-a-copy\n",
      "  df.loc[:, col + '_' + t] = df[col].apply(lambda x: 1 if t in str(x) else 0)\n",
      "/var/folders/zh/mnvg84rj3_7413ycjzpn5y8r0000gp/T/ipykernel_75787/128475807.py:22: SettingWithCopyWarning: \n",
      "A value is trying to be set on a copy of a slice from a DataFrame.\n",
      "Try using .loc[row_indexer,col_indexer] = value instead\n",
      "\n",
      "See the caveats in the documentation: https://pandas.pydata.org/pandas-docs/stable/user_guide/indexing.html#returning-a-view-versus-a-copy\n",
      "  df.loc[:, col + '_' + t] = df[col].apply(lambda x: 1 if t in str(x) else 0)\n",
      "/var/folders/zh/mnvg84rj3_7413ycjzpn5y8r0000gp/T/ipykernel_75787/128475807.py:22: SettingWithCopyWarning: \n",
      "A value is trying to be set on a copy of a slice from a DataFrame.\n",
      "Try using .loc[row_indexer,col_indexer] = value instead\n",
      "\n",
      "See the caveats in the documentation: https://pandas.pydata.org/pandas-docs/stable/user_guide/indexing.html#returning-a-view-versus-a-copy\n",
      "  df.loc[:, col + '_' + t] = df[col].apply(lambda x: 1 if t in str(x) else 0)\n",
      "/var/folders/zh/mnvg84rj3_7413ycjzpn5y8r0000gp/T/ipykernel_75787/128475807.py:22: SettingWithCopyWarning: \n",
      "A value is trying to be set on a copy of a slice from a DataFrame.\n",
      "Try using .loc[row_indexer,col_indexer] = value instead\n",
      "\n",
      "See the caveats in the documentation: https://pandas.pydata.org/pandas-docs/stable/user_guide/indexing.html#returning-a-view-versus-a-copy\n",
      "  df.loc[:, col + '_' + t] = df[col].apply(lambda x: 1 if t in str(x) else 0)\n",
      "/var/folders/zh/mnvg84rj3_7413ycjzpn5y8r0000gp/T/ipykernel_75787/128475807.py:22: SettingWithCopyWarning: \n",
      "A value is trying to be set on a copy of a slice from a DataFrame.\n",
      "Try using .loc[row_indexer,col_indexer] = value instead\n",
      "\n",
      "See the caveats in the documentation: https://pandas.pydata.org/pandas-docs/stable/user_guide/indexing.html#returning-a-view-versus-a-copy\n",
      "  df.loc[:, col + '_' + t] = df[col].apply(lambda x: 1 if t in str(x) else 0)\n",
      "/var/folders/zh/mnvg84rj3_7413ycjzpn5y8r0000gp/T/ipykernel_75787/128475807.py:22: SettingWithCopyWarning: \n",
      "A value is trying to be set on a copy of a slice from a DataFrame.\n",
      "Try using .loc[row_indexer,col_indexer] = value instead\n",
      "\n",
      "See the caveats in the documentation: https://pandas.pydata.org/pandas-docs/stable/user_guide/indexing.html#returning-a-view-versus-a-copy\n",
      "  df.loc[:, col + '_' + t] = df[col].apply(lambda x: 1 if t in str(x) else 0)\n",
      "/var/folders/zh/mnvg84rj3_7413ycjzpn5y8r0000gp/T/ipykernel_75787/128475807.py:22: SettingWithCopyWarning: \n",
      "A value is trying to be set on a copy of a slice from a DataFrame.\n",
      "Try using .loc[row_indexer,col_indexer] = value instead\n",
      "\n",
      "See the caveats in the documentation: https://pandas.pydata.org/pandas-docs/stable/user_guide/indexing.html#returning-a-view-versus-a-copy\n",
      "  df.loc[:, col + '_' + t] = df[col].apply(lambda x: 1 if t in str(x) else 0)\n",
      "/var/folders/zh/mnvg84rj3_7413ycjzpn5y8r0000gp/T/ipykernel_75787/128475807.py:22: SettingWithCopyWarning: \n",
      "A value is trying to be set on a copy of a slice from a DataFrame.\n",
      "Try using .loc[row_indexer,col_indexer] = value instead\n",
      "\n",
      "See the caveats in the documentation: https://pandas.pydata.org/pandas-docs/stable/user_guide/indexing.html#returning-a-view-versus-a-copy\n",
      "  df.loc[:, col + '_' + t] = df[col].apply(lambda x: 1 if t in str(x) else 0)\n",
      "/var/folders/zh/mnvg84rj3_7413ycjzpn5y8r0000gp/T/ipykernel_75787/128475807.py:22: SettingWithCopyWarning: \n",
      "A value is trying to be set on a copy of a slice from a DataFrame.\n",
      "Try using .loc[row_indexer,col_indexer] = value instead\n",
      "\n",
      "See the caveats in the documentation: https://pandas.pydata.org/pandas-docs/stable/user_guide/indexing.html#returning-a-view-versus-a-copy\n",
      "  df.loc[:, col + '_' + t] = df[col].apply(lambda x: 1 if t in str(x) else 0)\n",
      "/var/folders/zh/mnvg84rj3_7413ycjzpn5y8r0000gp/T/ipykernel_75787/128475807.py:22: SettingWithCopyWarning: \n",
      "A value is trying to be set on a copy of a slice from a DataFrame.\n",
      "Try using .loc[row_indexer,col_indexer] = value instead\n",
      "\n",
      "See the caveats in the documentation: https://pandas.pydata.org/pandas-docs/stable/user_guide/indexing.html#returning-a-view-versus-a-copy\n",
      "  df.loc[:, col + '_' + t] = df[col].apply(lambda x: 1 if t in str(x) else 0)\n",
      "/var/folders/zh/mnvg84rj3_7413ycjzpn5y8r0000gp/T/ipykernel_75787/128475807.py:22: SettingWithCopyWarning: \n",
      "A value is trying to be set on a copy of a slice from a DataFrame.\n",
      "Try using .loc[row_indexer,col_indexer] = value instead\n",
      "\n",
      "See the caveats in the documentation: https://pandas.pydata.org/pandas-docs/stable/user_guide/indexing.html#returning-a-view-versus-a-copy\n",
      "  df.loc[:, col + '_' + t] = df[col].apply(lambda x: 1 if t in str(x) else 0)\n",
      "/var/folders/zh/mnvg84rj3_7413ycjzpn5y8r0000gp/T/ipykernel_75787/128475807.py:22: SettingWithCopyWarning: \n",
      "A value is trying to be set on a copy of a slice from a DataFrame.\n",
      "Try using .loc[row_indexer,col_indexer] = value instead\n",
      "\n",
      "See the caveats in the documentation: https://pandas.pydata.org/pandas-docs/stable/user_guide/indexing.html#returning-a-view-versus-a-copy\n",
      "  df.loc[:, col + '_' + t] = df[col].apply(lambda x: 1 if t in str(x) else 0)\n"
     ]
    },
    {
     "name": "stdout",
     "output_type": "stream",
     "text": [
      "There are no significant differences\n",
      "\n",
      "\n",
      "============================\n",
      "========  BULGARIA  ========\n",
      "============================\n",
      "There are no significant differences\n",
      "\n",
      "\n",
      "===========================\n",
      "========  ROMANIA  ========\n",
      "===========================\n",
      "There are no significant differences\n"
     ]
    },
    {
     "name": "stderr",
     "output_type": "stream",
     "text": [
      "/var/folders/zh/mnvg84rj3_7413ycjzpn5y8r0000gp/T/ipykernel_75787/128475807.py:22: SettingWithCopyWarning: \n",
      "A value is trying to be set on a copy of a slice from a DataFrame.\n",
      "Try using .loc[row_indexer,col_indexer] = value instead\n",
      "\n",
      "See the caveats in the documentation: https://pandas.pydata.org/pandas-docs/stable/user_guide/indexing.html#returning-a-view-versus-a-copy\n",
      "  df.loc[:, col + '_' + t] = df[col].apply(lambda x: 1 if t in str(x) else 0)\n",
      "/var/folders/zh/mnvg84rj3_7413ycjzpn5y8r0000gp/T/ipykernel_75787/128475807.py:22: SettingWithCopyWarning: \n",
      "A value is trying to be set on a copy of a slice from a DataFrame.\n",
      "Try using .loc[row_indexer,col_indexer] = value instead\n",
      "\n",
      "See the caveats in the documentation: https://pandas.pydata.org/pandas-docs/stable/user_guide/indexing.html#returning-a-view-versus-a-copy\n",
      "  df.loc[:, col + '_' + t] = df[col].apply(lambda x: 1 if t in str(x) else 0)\n",
      "/var/folders/zh/mnvg84rj3_7413ycjzpn5y8r0000gp/T/ipykernel_75787/128475807.py:22: SettingWithCopyWarning: \n",
      "A value is trying to be set on a copy of a slice from a DataFrame.\n",
      "Try using .loc[row_indexer,col_indexer] = value instead\n",
      "\n",
      "See the caveats in the documentation: https://pandas.pydata.org/pandas-docs/stable/user_guide/indexing.html#returning-a-view-versus-a-copy\n",
      "  df.loc[:, col + '_' + t] = df[col].apply(lambda x: 1 if t in str(x) else 0)\n",
      "/var/folders/zh/mnvg84rj3_7413ycjzpn5y8r0000gp/T/ipykernel_75787/128475807.py:22: SettingWithCopyWarning: \n",
      "A value is trying to be set on a copy of a slice from a DataFrame.\n",
      "Try using .loc[row_indexer,col_indexer] = value instead\n",
      "\n",
      "See the caveats in the documentation: https://pandas.pydata.org/pandas-docs/stable/user_guide/indexing.html#returning-a-view-versus-a-copy\n",
      "  df.loc[:, col + '_' + t] = df[col].apply(lambda x: 1 if t in str(x) else 0)\n",
      "/var/folders/zh/mnvg84rj3_7413ycjzpn5y8r0000gp/T/ipykernel_75787/128475807.py:22: SettingWithCopyWarning: \n",
      "A value is trying to be set on a copy of a slice from a DataFrame.\n",
      "Try using .loc[row_indexer,col_indexer] = value instead\n",
      "\n",
      "See the caveats in the documentation: https://pandas.pydata.org/pandas-docs/stable/user_guide/indexing.html#returning-a-view-versus-a-copy\n",
      "  df.loc[:, col + '_' + t] = df[col].apply(lambda x: 1 if t in str(x) else 0)\n"
     ]
    }
   ],
   "source": [
    "feature_prefixes = ['price_level_', 'meals_', 'special_diets_', 'cuisines_']\n",
    "group_size_threshold = 0.05\n",
    "rating_diff_threshold = 0.05\n",
    "\n",
    "for country in list(base_rest_df2['country'].unique()):\n",
    "    print()\n",
    "    print()\n",
    "    print('==========' + '='*len(country) + '==========')\n",
    "    print('========  ' + str.upper(country) + '  ========')\n",
    "    print('==========' + '='*len(country) + '==========')\n",
    "    significance_flg = print_significant_groups2(\n",
    "        features_to_flags(base_rest_df2[base_rest_df2['country'] == country], ['cuisines', 'features'], 0.05), \n",
    "        feature_prefixes\n",
    "        , group_size_threshold, rating_diff_threshold\n",
    "    )\n",
    "    if significance_flg == 0:\n",
    "        print('There are no significant differences')"
   ]
  },
  {
   "cell_type": "markdown",
   "id": "7f908016",
   "metadata": {},
   "source": [
    "=========================\n",
    "========  SPAIN  ========\n",
    "=========================\n",
    "\n",
    "cuisines_Spanish\n",
    "              restaurant_link  total_avg_rating\n",
    "cuisine_type                                   \n",
    "no                       7823          4.123258\n",
    "one of                  15505          4.002390\n",
    "only                     7303          3.716782\n",
    "Ratio of the smallest group:\t0.238\n",
    "Variation (??):\t\t\t0.109\t= 10.9%\n",
    "The featured group is WORSE\n",
    "\n",
    "\n",
    "==================================\n",
    "========  UNITED KINGDOM  ========\n",
    "==================================\n",
    "\n",
    "price_level_Cheap Eats\n",
    "              restaurant_link  total_avg_rating\n",
    "feature_type                                   \n",
    "no                      23002          4.197097\n",
    "only                    12533          3.909030\n",
    "Ratio of the smallest group:\t0.353\n",
    "Variation (??):\t\t\t0.074\t= 7.4%\n",
    "The featured group is WORSE"
   ]
  },
  {
   "cell_type": "code",
   "execution_count": null,
   "id": "707052e0",
   "metadata": {},
   "outputs": [],
   "source": []
  },
  {
   "cell_type": "markdown",
   "id": "d4bf9207",
   "metadata": {},
   "source": [
    "<a id=\"conclusions\"></a>\n",
    "\n",
    "# 3. Conclusions"
   ]
  },
  {
   "cell_type": "code",
   "execution_count": null,
   "id": "f615982e",
   "metadata": {},
   "outputs": [],
   "source": []
  },
  {
   "cell_type": "code",
   "execution_count": null,
   "id": "01fe3dbf",
   "metadata": {},
   "outputs": [],
   "source": []
  },
  {
   "cell_type": "code",
   "execution_count": null,
   "id": "ec432a27",
   "metadata": {},
   "outputs": [],
   "source": []
  },
  {
   "cell_type": "markdown",
   "id": "423f5b1c",
   "metadata": {},
   "source": [
    "# =========================== OLD:"
   ]
  },
  {
   "cell_type": "code",
   "execution_count": null,
   "id": "54ec9da8",
   "metadata": {},
   "outputs": [],
   "source": []
  },
  {
   "cell_type": "code",
   "execution_count": null,
   "id": "ecf2a125",
   "metadata": {},
   "outputs": [],
   "source": [
    "'''\n",
    "IDEALLY: if I compare by 1 feature, other features must be the same\n",
    "\n",
    "BUT: restaurants with 'special_diets' are BETTER almost always\n",
    "'''"
   ]
  },
  {
   "cell_type": "code",
   "execution_count": 164,
   "id": "e0a19427",
   "metadata": {},
   "outputs": [],
   "source": []
  },
  {
   "cell_type": "code",
   "execution_count": null,
   "id": "bb722e3d",
   "metadata": {},
   "outputs": [],
   "source": []
  },
  {
   "cell_type": "code",
   "execution_count": null,
   "id": "e31269aa",
   "metadata": {},
   "outputs": [],
   "source": []
  },
  {
   "cell_type": "code",
   "execution_count": null,
   "id": "2ed6ab9c",
   "metadata": {},
   "outputs": [],
   "source": []
  },
  {
   "cell_type": "code",
   "execution_count": 52,
   "id": "d0549cb4",
   "metadata": {},
   "outputs": [],
   "source": [
    "# import seaborn as sns\n",
    "# import matplotlib.pyplot as plt"
   ]
  },
  {
   "cell_type": "code",
   "execution_count": 72,
   "id": "79a26c91",
   "metadata": {},
   "outputs": [],
   "source": [
    "# sns.histplot(data=bavaria_df[bavaria_df['total_reviews_count'] >= 20], x='total_reviews_count', bins=200)\n",
    "# plt.xlim([20, 2000])\n",
    "# plt.ylim([0, 1000])\n",
    "# plt.show()"
   ]
  },
  {
   "cell_type": "code",
   "execution_count": null,
   "id": "aea48a2a",
   "metadata": {},
   "outputs": [],
   "source": []
  },
  {
   "cell_type": "code",
   "execution_count": null,
   "id": "a2f48f5d",
   "metadata": {},
   "outputs": [],
   "source": []
  },
  {
   "cell_type": "code",
   "execution_count": null,
   "id": "46bd642a",
   "metadata": {},
   "outputs": [],
   "source": []
  }
 ],
 "metadata": {
  "kernelspec": {
   "display_name": "Python 3 (ipykernel)",
   "language": "python",
   "name": "python3"
  },
  "language_info": {
   "codemirror_mode": {
    "name": "ipython",
    "version": 3
   },
   "file_extension": ".py",
   "mimetype": "text/x-python",
   "name": "python",
   "nbconvert_exporter": "python",
   "pygments_lexer": "ipython3",
   "version": "3.11.1"
  }
 },
 "nbformat": 4,
 "nbformat_minor": 5
}
