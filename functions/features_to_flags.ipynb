{
 "cells": [
  {
   "cell_type": "code",
   "execution_count": 1,
   "id": "a86127ce",
   "metadata": {},
   "outputs": [],
   "source": [
    "import pandas as pd"
   ]
  },
  {
   "cell_type": "code",
   "execution_count": 2,
   "id": "5b2576f4",
   "metadata": {},
   "outputs": [],
   "source": [
    "# dummies without not popular options of feature columns\n",
    "\n",
    "def features_to_flags(df, feature_col_list, threshold):\n",
    "    for col in feature_col_list:\n",
    "        top_tags = [f[0] for f in rating_of_column_values(df, col, separator=', ') if f[1] >= threshold * len(df)]\n",
    "        for t in top_tags:\n",
    "            df.loc[:, col + '_' + t] = df[col].apply(lambda x: 1 if t in str(x) else 0)\n",
    "        df = df.drop(col, axis=1)\n",
    "    return df\n"
   ]
  },
  {
   "cell_type": "code",
   "execution_count": null,
   "id": "fa0541fc",
   "metadata": {},
   "outputs": [],
   "source": []
  }
 ],
 "metadata": {
  "kernelspec": {
   "display_name": "Python 3 (ipykernel)",
   "language": "python",
   "name": "python3"
  },
  "language_info": {
   "codemirror_mode": {
    "name": "ipython",
    "version": 3
   },
   "file_extension": ".py",
   "mimetype": "text/x-python",
   "name": "python",
   "nbconvert_exporter": "python",
   "pygments_lexer": "ipython3",
   "version": "3.11.1"
  }
 },
 "nbformat": 4,
 "nbformat_minor": 5
}
