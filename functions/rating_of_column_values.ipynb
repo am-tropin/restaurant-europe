{
 "cells": [
  {
   "cell_type": "code",
   "execution_count": 1,
   "id": "db94d568",
   "metadata": {},
   "outputs": [],
   "source": [
    "import pandas as pd"
   ]
  },
  {
   "cell_type": "code",
   "execution_count": 2,
   "id": "b85dada0",
   "metadata": {},
   "outputs": [],
   "source": [
    "# rating of values in the column\n",
    "\n",
    "def rating_of_column_values(df, column, separator=', '):\n",
    "    df2 = df[list(df)]\n",
    "    df2['column_2'] = df2[column].str.split(separator)\n",
    "    tags_list = list(set().union(*df2['column_2'].dropna()))\n",
    "\n",
    "    tags_list_2 = []\n",
    "    for tag in tags_list:\n",
    "        tags_list_2.append([tag, df2['column_2'].dropna().map(set([tag]).issubset).fillna(False).value_counts()[True]])\n",
    "\n",
    "    tags_list_2 = sorted(tags_list_2, key=lambda x: x[1], reverse=True)\n",
    "    df2 = df2.drop(['column_2'], axis=1)\n",
    "    return tags_list_2\n"
   ]
  },
  {
   "cell_type": "code",
   "execution_count": null,
   "id": "878f0ccc",
   "metadata": {},
   "outputs": [],
   "source": []
  }
 ],
 "metadata": {
  "kernelspec": {
   "display_name": "Python 3 (ipykernel)",
   "language": "python",
   "name": "python3"
  },
  "language_info": {
   "codemirror_mode": {
    "name": "ipython",
    "version": 3
   },
   "file_extension": ".py",
   "mimetype": "text/x-python",
   "name": "python",
   "nbconvert_exporter": "python",
   "pygments_lexer": "ipython3",
   "version": "3.11.1"
  }
 },
 "nbformat": 4,
 "nbformat_minor": 5
}
